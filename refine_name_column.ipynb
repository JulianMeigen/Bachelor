{
 "cells": [
  {
   "cell_type": "code",
   "execution_count": null,
   "metadata": {},
   "outputs": [],
   "source": [
    "import pybedtools\n",
    "import pandas as pd\n",
    "import numpy as np\n",
    "import matplotlib.pyplot as plt"
   ]
  },
  {
   "cell_type": "code",
   "execution_count": null,
   "metadata": {},
   "outputs": [],
   "source": [
    "reduce_tfbs = pybedtools.BedTool(\"/sybig/projects/GeneRegulation/data/jme/Bachelorarbeit/data/tfbs/tfbs_intersect_promotors_wa.bed\")"
   ]
  },
  {
   "cell_type": "code",
   "execution_count": null,
   "metadata": {},
   "outputs": [],
   "source": [
    "# refine name with DataFrame\n",
    "\n",
    "df_tfbs_raw = reduce_tfbs.to_dataframe()\n",
    "raw_name = df_tfbs_raw.name.to_numpy()\n",
    "\n",
    "chipseq_id = np.array([i.split(\"_\")[0] for i in raw_name])\n",
    "tissue = np.array([i.split(\"_\")[1] for i in raw_name])\n",
    "tf_name = np.array([i.split(\"_\")[2] for i in raw_name])\n",
    "jaspar_id = np.array([i.split(\"_\")[3] for i in raw_name])\n",
    "\n",
    "df_tfbs = df_tfbs_raw.copy()\n",
    "df_tfbs[\"name\"] = tf_name\n",
    "df_tfbs[\"thickStart\"] = chipseq_id\n",
    "df_tfbs[\"thickEnd\"] = tissue\n",
    "df_tfbs[\"itemRgb\"] = jaspar_id\n",
    "df_tfbs"
   ]
  },
  {
   "cell_type": "code",
   "execution_count": null,
   "metadata": {},
   "outputs": [],
   "source": []
  }
 ],
 "metadata": {
  "language_info": {
   "name": "python"
  }
 },
 "nbformat": 4,
 "nbformat_minor": 2
}
