{
 "cells": [
  {
   "cell_type": "code",
   "execution_count": 3,
   "id": "253aaf14-47cc-43d1-8dfd-57c2316c061e",
   "metadata": {},
   "outputs": [],
   "source": [
    "from PIL import Image\n",
    "import math\n",
    "\n",
    "def split_image_for_latex(image_folder, image_name, output_folder, page_height_points):\n",
    "    # Lade das Bild\n",
    "    image = Image.open(f\"{image_folder}/{image_name}.png\")\n",
    "    width, height = image.size\n",
    "    \n",
    "    # Berechne die Höhe jedes Teils basierend auf der LaTeX-Seitenhöhe\n",
    "    dpi = image.info.get('dpi', (72, 72))[1]  # Annahme: 72 DPI, falls nicht angegeben\n",
    "    page_height_pixels = page_height_points * dpi / 72\n",
    "    \n",
    "    # Berechne die Anzahl der Teile\n",
    "    parts = math.ceil(height / page_height_pixels)\n",
    "    \n",
    "    for i in range(parts):\n",
    "        # Bestimme die obere und untere Grenze jedes Teils\n",
    "        top = int(i * page_height_pixels)\n",
    "        bottom = int((i + 1) * page_height_pixels) if i < parts - 1 else height\n",
    "        \n",
    "        # Schneide den Teil aus dem Bild\n",
    "        part = image.crop((0, top, width, bottom))\n",
    "        \n",
    "        # Speichere den Teil als neues Bild\n",
    "        part.save(f\"{output_folder}/{image_name}_{i + 1}.png\")\n",
    "\n"
   ]
  },
  {
   "cell_type": "code",
   "execution_count": 9,
   "id": "f19daa2e-fbc1-408a-b278-577d58aa7790",
   "metadata": {},
   "outputs": [],
   "source": [
    "image_folder = r\"C:\\Users\\julia\\MyPython\\BA\\Bachelor\\E_Single_TFBS\\images_BA\"\n",
    "output_folder = r\"C:\\Users\\julia\\MyPython\\BA\\Bachelor\\E_Single_TFBS\\images_BA\\longfigures\""
   ]
  },
  {
   "cell_type": "code",
   "execution_count": 28,
   "id": "330e486c-140b-4bb5-ba1c-388729680142",
   "metadata": {},
   "outputs": [
    {
     "data": {
      "text/plain": [
       "1169.4421055555554"
      ]
     },
     "execution_count": 28,
     "metadata": {},
     "output_type": "execute_result"
    }
   ],
   "source": [
    "# Mean Gene Expression Flat\n",
    "page_height_points = 842  # Höhe einer A4-Seite in Punkten\n",
    "split_image_for_latex(image_folder=image_folder, image_name=\"Mean_GeneExpr_Flat\", output_folder=output_folder,  page_height_points=page_height_points)"
   ]
  },
  {
   "cell_type": "code",
   "execution_count": 38,
   "id": "b3072d6a-9569-43a6-b417-6c1e5af5bf8c",
   "metadata": {},
   "outputs": [],
   "source": [
    "# Heatmap target_gene_heatmap\n",
    "page_height_points = 842  # Höhe einer A4-Seite in Punkten\n",
    "split_image_for_latex(image_folder=image_folder, image_name=\"target_gene_heatmap\", output_folder=output_folder,  page_height_points=page_height_points)"
   ]
  },
  {
   "cell_type": "code",
   "execution_count": 5,
   "id": "f067becc-40bf-4654-89d3-0205cecaf665",
   "metadata": {},
   "outputs": [],
   "source": [
    "def split_image_with_overlap(image_folder, image_name, output_folder, page_height_points, overlap_points):\n",
    "    # Lade das Bild\n",
    "    image = Image.open(f\"{image_folder}/{image_name}.png\")\n",
    "    width, height = image.size\n",
    "    \n",
    "    # Berechne die Höhe jedes Teils basierend auf der LaTeX-Seitenhöhe\n",
    "    dpi = image.info.get('dpi', (72, 72))[1]  # Annahme: 72 DPI, falls nicht angegeben\n",
    "    page_height_pixels = page_height_points * dpi / 72\n",
    "    overlap_pixels = overlap_points * dpi / 72\n",
    "    \n",
    "    # Berechne die Anzahl der Teile\n",
    "    parts = math.ceil((height - overlap_pixels) / (page_height_pixels - overlap_pixels))\n",
    "    \n",
    "    for i in range(parts):\n",
    "        # Bestimme die obere und untere Grenze jedes Teils\n",
    "        top = int(i * (page_height_pixels - overlap_pixels))\n",
    "        bottom = int(top + page_height_pixels)\n",
    "        if bottom > height:\n",
    "            bottom = height\n",
    "        \n",
    "        # Schneide den Teil aus dem Bild\n",
    "        part = image.crop((0, top, width, bottom))\n",
    "        \n",
    "        # Speichere den Teil als neues Bild\n",
    "        part.save(f\"{output_folder}/{image_name}_{i + 1}.png\")"
   ]
  },
  {
   "cell_type": "code",
   "execution_count": 46,
   "id": "f47eb246-741d-49b4-b6de-438b249ec53e",
   "metadata": {},
   "outputs": [],
   "source": [
    "# Mean Gene Expression Flat\n",
    "page_height_points = 842  # Höhe einer A4-Seite in Punkten\n",
    "overlap_points = 15 # Überlappung in Punkten\n",
    "split_image_with_overlap(image_folder=image_folder, image_name=\"Mean_GeneExpr_Flat\", output_folder=output_folder,  page_height_points=page_height_points, overlap_points=overlap_points)"
   ]
  },
  {
   "cell_type": "code",
   "execution_count": 14,
   "id": "c08d113c-52e9-4d85-91ae-1528ec7b0ca6",
   "metadata": {},
   "outputs": [],
   "source": [
    "# Heatmap target_gene_heatmap\n",
    "page_height_points = 842  # Höhe einer A4-Seite in Punkten\n",
    "overlap_points = 15 # Überlappung in Punkten\n",
    "split_image_with_overlap(image_folder=image_folder, image_name=\"target_gene_heatmap\", output_folder=output_folder,  page_height_points=page_height_points, overlap_points=overlap_points)"
   ]
  }
 ],
 "metadata": {
  "kernelspec": {
   "display_name": "Python 3 (ipykernel)",
   "language": "python",
   "name": "python3"
  },
  "language_info": {
   "codemirror_mode": {
    "name": "ipython",
    "version": 3
   },
   "file_extension": ".py",
   "mimetype": "text/x-python",
   "name": "python",
   "nbconvert_exporter": "python",
   "pygments_lexer": "ipython3",
   "version": "3.9.19"
  }
 },
 "nbformat": 4,
 "nbformat_minor": 5
}
