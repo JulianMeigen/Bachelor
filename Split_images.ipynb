{
 "cells": [
  {
   "cell_type": "code",
   "execution_count": 81,
   "id": "253aaf14-47cc-43d1-8dfd-57c2316c061e",
   "metadata": {},
   "outputs": [],
   "source": [
    "from PIL import Image\n",
    "import math\n",
    "\n",
    "def split_image_for_latex(image_folder, image_name, output_folder, page_height_points):\n",
    "    # Lade das Bild\n",
    "    image = Image.open(f\"{image_folder}/{image_name}.png\")\n",
    "    width, height = image.size\n",
    "    \n",
    "    # Berechne die Höhe jedes Teils basierend auf der LaTeX-Seitenhöhe\n",
    "    dpi = image.info.get('dpi', (72, 72))[1]  # Annahme: 72 DPI, falls nicht angegeben\n",
    "    page_height_pixels = page_height_points * dpi / 72\n",
    "    \n",
    "    # Berechne die Anzahl der Teile\n",
    "    parts = math.ceil(height / page_height_pixels)\n",
    "    \n",
    "    for i in range(parts):\n",
    "        # Bestimme die obere und untere Grenze jedes Teils\n",
    "        top = int(i * page_height_pixels)\n",
    "        bottom = int((i + 1) * page_height_pixels) if i < parts - 1 else height\n",
    "        \n",
    "        # Schneide den Teil aus dem Bild\n",
    "        part = image.crop((0, top, width, bottom))\n",
    "        \n",
    "        # Speichere den Teil als neues Bild\n",
    "        part.save(f\"{output_folder}/{image_name}_{i + 1}.png\")\n",
    "\n"
   ]
  },
  {
   "cell_type": "code",
   "execution_count": 83,
   "id": "f19daa2e-fbc1-408a-b278-577d58aa7790",
   "metadata": {},
   "outputs": [],
   "source": [
    "image_folder = r\"C:\\Users\\julia\\MyPython\\BA\\Bachelor\\E_Single_TFBS\\images_BA\"\n",
    "output_folder = r\"C:\\Users\\julia\\MyPython\\BA\\Bachelor\\E_Single_TFBS\\images_BA\\longfigures\""
   ]
  },
  {
   "cell_type": "code",
   "execution_count": 91,
   "id": "330e486c-140b-4bb5-ba1c-388729680142",
   "metadata": {},
   "outputs": [],
   "source": [
    "# Mean Gene Expression Flat\n",
    "page_height_points = 842  # Höhe einer A4-Seite in Punkten\n",
    "split_image_for_latex(image_folder=image_folder, image_name=\"Mean_GeneExpr_Flat\", output_folder=output_folder,  page_height_points=page_height_points)"
   ]
  }
 ],
 "metadata": {
  "kernelspec": {
   "display_name": "Python 3 (ipykernel)",
   "language": "python",
   "name": "python3"
  },
  "language_info": {
   "codemirror_mode": {
    "name": "ipython",
    "version": 3
   },
   "file_extension": ".py",
   "mimetype": "text/x-python",
   "name": "python",
   "nbconvert_exporter": "python",
   "pygments_lexer": "ipython3",
   "version": "3.9.19"
  }
 },
 "nbformat": 4,
 "nbformat_minor": 5
}
