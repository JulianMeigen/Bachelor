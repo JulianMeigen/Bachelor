{
 "cells": [
  {
   "cell_type": "markdown",
   "metadata": {},
   "source": [
    "# Processing and Combining Preprocessed Datasets (Beginning)"
   ]
  },
  {
   "cell_type": "code",
   "execution_count": 2,
   "metadata": {},
   "outputs": [],
   "source": [
    "import pybedtools\n",
    "import pandas as pd\n",
    "import numpy as np\n",
    "import matplotlib.pyplot as plt"
   ]
  },
  {
   "cell_type": "markdown",
   "metadata": {},
   "source": [
    "## Processing UniBind TFBS"
   ]
  },
  {
   "cell_type": "code",
   "execution_count": 20,
   "metadata": {},
   "outputs": [],
   "source": [
    "reduce_tfbs = pybedtools.BedTool(\"/sybig/projects/GeneRegulation/data/jme/Bachelorarbeit/data/tfbs_intersect_promotors_wa.bed\")\n",
    "df_tfbs_raw = reduce_tfbs.to_dataframe()"
   ]
  },
  {
   "cell_type": "markdown",
   "metadata": {},
   "source": [
    "### Refining the Dataset and chaning columns"
   ]
  },
  {
   "cell_type": "markdown",
   "metadata": {},
   "source": [
    "The name coloumn of the tfbs dataframe contains many information in the Format ”ChipSeq-ID_Zelllinie_TF-name_JASPAR-ID”.\n",
    "\n",
    "In order to adress these data more easily, it should be seperated and replace the in our case useless, thickStart, thickEnd and itemRgb column."
   ]
  },
  {
   "cell_type": "code",
   "execution_count": 21,
   "metadata": {},
   "outputs": [
    {
     "data": {
      "text/plain": [
       "array(['EXP038397_NGP--neuroblastoma-_MYCN_MA0104.4',\n",
       "       'EXP036801_HUES64--embryonic-stem-cells-_OTX2_MA0712.2',\n",
       "       'EXP039511_HEK293--embryonic-kidney-_EGR2_MA0472.2', ...,\n",
       "       'EXP047817_THP-1--acute-monocytic-leukemia-_SPI1_MA0080.5',\n",
       "       'EXP047818_THP-1--acute-monocytic-leukemia-_SPI1_MA0080.5',\n",
       "       'EXP049121_THP-1--acute-monocytic-leukemia-_SPI1_MA0080.5'],\n",
       "      dtype=object)"
      ]
     },
     "execution_count": 21,
     "metadata": {},
     "output_type": "execute_result"
    }
   ],
   "source": [
    "raw_name = df_tfbs_raw.name.to_numpy()\n",
    "raw_name"
   ]
  },
  {
   "cell_type": "code",
   "execution_count": 22,
   "metadata": {},
   "outputs": [
    {
     "data": {
      "text/plain": [
       "['EXP038397', 'NGP--neuroblastoma-', 'MYCN', 'MA0104.4']"
      ]
     },
     "execution_count": 22,
     "metadata": {},
     "output_type": "execute_result"
    }
   ],
   "source": [
    "raw_name[0].split(\"_\")"
   ]
  },
  {
   "cell_type": "code",
   "execution_count": 13,
   "metadata": {},
   "outputs": [],
   "source": [
    "chipseq_id = np.array([i.split(\"_\")[0] for i in raw_name])\n",
    "tissue = np.array([i.split(\"_\")[1] for i in raw_name])\n",
    "tf_name = np.array([i.split(\"_\")[2] for i in raw_name])\n",
    "jaspar_id = np.array([i.split(\"_\")[3] for i in raw_name])\n"
   ]
  },
  {
   "cell_type": "code",
   "execution_count": 26,
   "metadata": {},
   "outputs": [
    {
     "data": {
      "text/html": [
       "<div>\n",
       "<style scoped>\n",
       "    .dataframe tbody tr th:only-of-type {\n",
       "        vertical-align: middle;\n",
       "    }\n",
       "\n",
       "    .dataframe tbody tr th {\n",
       "        vertical-align: top;\n",
       "    }\n",
       "\n",
       "    .dataframe thead th {\n",
       "        text-align: right;\n",
       "    }\n",
       "</style>\n",
       "<table border=\"1\" class=\"dataframe\">\n",
       "  <thead>\n",
       "    <tr style=\"text-align: right;\">\n",
       "      <th></th>\n",
       "      <th>chrom</th>\n",
       "      <th>start</th>\n",
       "      <th>end</th>\n",
       "      <th>name</th>\n",
       "      <th>score</th>\n",
       "      <th>strand</th>\n",
       "      <th>thickStart</th>\n",
       "      <th>thickEnd</th>\n",
       "      <th>itemRgb</th>\n",
       "    </tr>\n",
       "  </thead>\n",
       "  <tbody>\n",
       "    <tr>\n",
       "      <th>0</th>\n",
       "      <td>chr1</td>\n",
       "      <td>17510</td>\n",
       "      <td>17522</td>\n",
       "      <td>MYCN</td>\n",
       "      <td>0</td>\n",
       "      <td>-</td>\n",
       "      <td>EXP038397</td>\n",
       "      <td>NGP--neuroblastoma-</td>\n",
       "      <td>MA0104.4</td>\n",
       "    </tr>\n",
       "    <tr>\n",
       "      <th>1</th>\n",
       "      <td>chr1</td>\n",
       "      <td>629638</td>\n",
       "      <td>629650</td>\n",
       "      <td>OTX2</td>\n",
       "      <td>0</td>\n",
       "      <td>-</td>\n",
       "      <td>EXP036801</td>\n",
       "      <td>HUES64--embryonic-stem-cells-</td>\n",
       "      <td>MA0712.2</td>\n",
       "    </tr>\n",
       "    <tr>\n",
       "      <th>2</th>\n",
       "      <td>chr1</td>\n",
       "      <td>634195</td>\n",
       "      <td>634206</td>\n",
       "      <td>EGR2</td>\n",
       "      <td>0</td>\n",
       "      <td>+</td>\n",
       "      <td>EXP039511</td>\n",
       "      <td>HEK293--embryonic-kidney-</td>\n",
       "      <td>MA0472.2</td>\n",
       "    </tr>\n",
       "    <tr>\n",
       "      <th>3</th>\n",
       "      <td>chr1</td>\n",
       "      <td>758332</td>\n",
       "      <td>758344</td>\n",
       "      <td>JUN</td>\n",
       "      <td>0</td>\n",
       "      <td>+</td>\n",
       "      <td>EXP038043</td>\n",
       "      <td>HAEC--human-aortic-endothelial-cells-</td>\n",
       "      <td>MA1130.1</td>\n",
       "    </tr>\n",
       "    <tr>\n",
       "      <th>4</th>\n",
       "      <td>chr1</td>\n",
       "      <td>758332</td>\n",
       "      <td>758345</td>\n",
       "      <td>JUN</td>\n",
       "      <td>0</td>\n",
       "      <td>-</td>\n",
       "      <td>EXP038043</td>\n",
       "      <td>HAEC--human-aortic-endothelial-cells-</td>\n",
       "      <td>MA1128.1</td>\n",
       "    </tr>\n",
       "    <tr>\n",
       "      <th>...</th>\n",
       "      <td>...</td>\n",
       "      <td>...</td>\n",
       "      <td>...</td>\n",
       "      <td>...</td>\n",
       "      <td>...</td>\n",
       "      <td>...</td>\n",
       "      <td>...</td>\n",
       "      <td>...</td>\n",
       "      <td>...</td>\n",
       "    </tr>\n",
       "    <tr>\n",
       "      <th>3667829</th>\n",
       "      <td>chrY</td>\n",
       "      <td>24570023</td>\n",
       "      <td>24570035</td>\n",
       "      <td>FOXA1</td>\n",
       "      <td>0</td>\n",
       "      <td>-</td>\n",
       "      <td>EXP038436</td>\n",
       "      <td>VCaP--prostate-carcinoma-</td>\n",
       "      <td>MA0148.4</td>\n",
       "    </tr>\n",
       "    <tr>\n",
       "      <th>3667830</th>\n",
       "      <td>chrY</td>\n",
       "      <td>26360803</td>\n",
       "      <td>26360816</td>\n",
       "      <td>NEUROD1</td>\n",
       "      <td>0</td>\n",
       "      <td>-</td>\n",
       "      <td>EXP038206</td>\n",
       "      <td>D341-Med--medulloblastoma-</td>\n",
       "      <td>MA1109.1</td>\n",
       "    </tr>\n",
       "    <tr>\n",
       "      <th>3667831</th>\n",
       "      <td>chrY</td>\n",
       "      <td>26453785</td>\n",
       "      <td>26453805</td>\n",
       "      <td>SPI1</td>\n",
       "      <td>0</td>\n",
       "      <td>-</td>\n",
       "      <td>EXP047817</td>\n",
       "      <td>THP-1--acute-monocytic-leukemia-</td>\n",
       "      <td>MA0080.5</td>\n",
       "    </tr>\n",
       "    <tr>\n",
       "      <th>3667832</th>\n",
       "      <td>chrY</td>\n",
       "      <td>26453785</td>\n",
       "      <td>26453805</td>\n",
       "      <td>SPI1</td>\n",
       "      <td>0</td>\n",
       "      <td>-</td>\n",
       "      <td>EXP047818</td>\n",
       "      <td>THP-1--acute-monocytic-leukemia-</td>\n",
       "      <td>MA0080.5</td>\n",
       "    </tr>\n",
       "    <tr>\n",
       "      <th>3667833</th>\n",
       "      <td>chrY</td>\n",
       "      <td>26453785</td>\n",
       "      <td>26453805</td>\n",
       "      <td>SPI1</td>\n",
       "      <td>0</td>\n",
       "      <td>-</td>\n",
       "      <td>EXP049121</td>\n",
       "      <td>THP-1--acute-monocytic-leukemia-</td>\n",
       "      <td>MA0080.5</td>\n",
       "    </tr>\n",
       "  </tbody>\n",
       "</table>\n",
       "<p>3667834 rows × 9 columns</p>\n",
       "</div>"
      ],
      "text/plain": [
       "        chrom     start       end     name  score strand thickStart  \\\n",
       "0        chr1     17510     17522     MYCN      0      -  EXP038397   \n",
       "1        chr1    629638    629650     OTX2      0      -  EXP036801   \n",
       "2        chr1    634195    634206     EGR2      0      +  EXP039511   \n",
       "3        chr1    758332    758344      JUN      0      +  EXP038043   \n",
       "4        chr1    758332    758345      JUN      0      -  EXP038043   \n",
       "...       ...       ...       ...      ...    ...    ...        ...   \n",
       "3667829  chrY  24570023  24570035    FOXA1      0      -  EXP038436   \n",
       "3667830  chrY  26360803  26360816  NEUROD1      0      -  EXP038206   \n",
       "3667831  chrY  26453785  26453805     SPI1      0      -  EXP047817   \n",
       "3667832  chrY  26453785  26453805     SPI1      0      -  EXP047818   \n",
       "3667833  chrY  26453785  26453805     SPI1      0      -  EXP049121   \n",
       "\n",
       "                                      thickEnd   itemRgb  \n",
       "0                          NGP--neuroblastoma-  MA0104.4  \n",
       "1                HUES64--embryonic-stem-cells-  MA0712.2  \n",
       "2                    HEK293--embryonic-kidney-  MA0472.2  \n",
       "3        HAEC--human-aortic-endothelial-cells-  MA1130.1  \n",
       "4        HAEC--human-aortic-endothelial-cells-  MA1128.1  \n",
       "...                                        ...       ...  \n",
       "3667829              VCaP--prostate-carcinoma-  MA0148.4  \n",
       "3667830             D341-Med--medulloblastoma-  MA1109.1  \n",
       "3667831       THP-1--acute-monocytic-leukemia-  MA0080.5  \n",
       "3667832       THP-1--acute-monocytic-leukemia-  MA0080.5  \n",
       "3667833       THP-1--acute-monocytic-leukemia-  MA0080.5  \n",
       "\n",
       "[3667834 rows x 9 columns]"
      ]
     },
     "execution_count": 26,
     "metadata": {},
     "output_type": "execute_result"
    }
   ],
   "source": [
    "df_tfbs = df_tfbs_raw.copy()\n",
    "df_tfbs[\"name\"] = tf_name\n",
    "df_tfbs[\"thickStart\"] = chipseq_id\n",
    "df_tfbs[\"thickEnd\"] = tissue\n",
    "df_tfbs[\"itemRgb\"] = jaspar_id\n",
    "df_tfbs"
   ]
  },
  {
   "cell_type": "code",
   "execution_count": 28,
   "metadata": {},
   "outputs": [],
   "source": [
    "#tfbs_new = pybedtools.BedTool.from_dataframe(df_tfbs).saveas(\"/sybig/projects/GeneRegulation/data/jme/Bachelorarbeit/data//tfbs/tfbs_reduced_pro.bed\")\n"
   ]
  },
  {
   "cell_type": "markdown",
   "metadata": {},
   "source": [
    "### Delete/summarize repetitive Entrys\n",
    "\n",
    "Some TFBS occur more then once in the data, because the data came from diffrent experiments or cell tissues. Sometimes the binding sites also differs just by one nucleotide. However, since only one TFBS can bind to the same location, it makes more sense to reduce these entries to one entry in order not to falsify the significance of the data."
   ]
  },
  {
   "cell_type": "code",
   "execution_count": 41,
   "metadata": {},
   "outputs": [
    {
     "name": "stdout",
     "output_type": "stream",
     "text": [
      "chr1\t17510\t17522\tMYCN\t0\t-\tEXP038397\tNGP--neuroblastoma-\tMA0104.4\n",
      " chr1\t629638\t629650\tOTX2\t0\t-\tEXP036801\tHUES64--embryonic-stem-cells-\tMA0712.2\n",
      " chr1\t634195\t634206\tEGR2\t0\t+\tEXP039511\tHEK293--embryonic-kidney-\tMA0472.2\n",
      " chr1\t758332\t758344\tJUN\t0\t+\tEXP038043\tHAEC--human-aortic-endothelial-cells-\tMA1130.1\n",
      " chr1\t758332\t758345\tJUN\t0\t-\tEXP038043\tHAEC--human-aortic-endothelial-cells-\tMA1128.1\n",
      " chr1\t758333\t758344\tJUN\t0\t-\tEXP038043\tHAEC--human-aortic-endothelial-cells-\tMA0462.2\n",
      " chr1\t758333\t758344\tJUN\t0\t-\tEXP038043\tHAEC--human-aortic-endothelial-cells-\tMA1127.1\n",
      " chr1\t758333\t758346\tJUN\t0\t-\tEXP038043\tHAEC--human-aortic-endothelial-cells-\tMA0488.1\n",
      " chr1\t758334\t758344\tJUN\t0\t+\tEXP038043\tHAEC--human-aortic-endothelial-cells-\tMA0099.3\n",
      " chr1\t758334\t758344\tJUN\t0\t-\tEXP038043\tHAEC--human-aortic-endothelial-cells-\tMA1132.1\n",
      " chr1\t758334\t758348\tJUN\t0\t-\tEXP038043\tHAEC--human-aortic-endothelial-cells-\tMA0489.1\n",
      " chr1\t758509\t758526\tAR\t0\t+\tEXP049391\t22RV1--prostate-carcinoma-\tMA0007.3\n",
      " "
     ]
    }
   ],
   "source": [
    "tfbs_new = pybedtools.BedTool(\"/sybig/projects/GeneRegulation/data/jme/Bachelorarbeit/data/tfbs/tfbs_reduced_pro.bed\")\n",
    "tfbs_new.head(12)"
   ]
  },
  {
   "cell_type": "code",
   "execution_count": 45,
   "metadata": {},
   "outputs": [
    {
     "data": {
      "text/plain": [
       "array(['MYCN', 'OTX2', 'EGR2', ..., 'SPI1', 'SPI1', 'SPI1'], dtype='<U9')"
      ]
     },
     "execution_count": 45,
     "metadata": {},
     "output_type": "execute_result"
    }
   ],
   "source": [
    "tfbs_new[0].fields\n",
    "tf_name"
   ]
  },
  {
   "cell_type": "code",
   "execution_count": 47,
   "metadata": {},
   "outputs": [],
   "source": [
    "tfbs_JUN = tfbs_new.filter(lambda x: x.name == \"JUN\").merge(s=True, c=[4,5,6,7,8,9], o=[\"distinct\",\"sum\",\"distinct\",\"distinct\", \"distinct\", \"distinct\" ]).saveas(\"JUN.bed\")"
   ]
  },
  {
   "cell_type": "code",
   "execution_count": 57,
   "metadata": {},
   "outputs": [
    {
     "name": "stdout",
     "output_type": "stream",
     "text": [
      "chr1\t17510\t17522\tMYCN\t0\t-\tEXP038397\tNGP--neuroblastoma-\tMA0104.4\n",
      " chr1\t629638\t629650\tOTX2\t0\t-\tEXP036801\tHUES64--embryonic-stem-cells-\tMA0712.2\n",
      " chr1\t634195\t634206\tEGR2\t0\t+\tEXP039511\tHEK293--embryonic-kidney-\tMA0472.2\n",
      " chr1\t758332\t758344\tJUN\t0\t+\tEXP038043\tHAEC--human-aortic-endothelial-cells-\tMA1130.1\n",
      " chr1\t758332\t758345\tJUN\t0\t-\tEXP038043\tHAEC--human-aortic-endothelial-cells-\tMA1128.1\n",
      " chr1\t758333\t758344\tJUN\t0\t-\tEXP038043\tHAEC--human-aortic-endothelial-cells-\tMA0462.2\n",
      " chr1\t758333\t758344\tJUN\t0\t-\tEXP038043\tHAEC--human-aortic-endothelial-cells-\tMA1127.1\n",
      " chr1\t758333\t758346\tJUN\t0\t-\tEXP038043\tHAEC--human-aortic-endothelial-cells-\tMA0488.1\n",
      " chr1\t758334\t758344\tJUN\t0\t+\tEXP038043\tHAEC--human-aortic-endothelial-cells-\tMA0099.3\n",
      " chr1\t758334\t758344\tJUN\t0\t-\tEXP038043\tHAEC--human-aortic-endothelial-cells-\tMA1132.1\n",
      " chr1\t758334\t758348\tJUN\t0\t-\tEXP038043\tHAEC--human-aortic-endothelial-cells-\tMA0489.1\n",
      " chr1\t758509\t758526\tAR\t0\t+\tEXP049391\t22RV1--prostate-carcinoma-\tMA0007.3\n",
      " "
     ]
    }
   ],
   "source": [
    "tfbs_new.head(12)"
   ]
  },
  {
   "cell_type": "code",
   "execution_count": 49,
   "metadata": {},
   "outputs": [
    {
     "name": "stdout",
     "output_type": "stream",
     "text": [
      "chr1\t758332\t758344\tJUN\t0\t+\tEXP038043\tHAEC--human-aortic-endothelial-cells-\tMA0099.3,MA1130.1\n",
      " chr1\t758332\t758348\tJUN\t0\t-\tEXP038043\tHAEC--human-aortic-endothelial-cells-\tMA0462.2,MA0488.1,MA0489.1,MA1127.1,MA1128.1,MA1132.1\n",
      " chr1\t778608\t778621\tJUN\t0\t+\tEXP039507\tA549--lung-carcinoma-\tMA0488.1\n",
      " chr1\t778681\t778700\tJUN\t0\t+\tENCSR000EEK,ENCSR000FAH,EXP000309,EXP037742,EXP038042,EXP038043,EXP039416,EXP039496,EXP040248,EXP040263,EXP040320,EXP040322,EXP047660,EXP047661,EXP048210,EXP057912,EXP057919,EXP058065,EXP058211\t786-O--renal-carcinoma-,A549--lung-carcinoma-,HAEC--human-aortic-endothelial-cells-,HUVEC-C--HUVEC--umbilical-vein-endothelial-cells-,HepG2,K562,K562--myelogenous-leukemia-,Kasumi-1--acute-myeloblastic-leukemia-,MCF7--Invasive-ductal-breast-carcinoma-,MDA-MB-231p27CK-DD--breast-cancer-cells--phosphimimetic-p27-cell-line-,definitive-endoderm-from-HUES8\tMA0462.2,MA0488.1,MA0489.1,MA1127.1,MA1128.1\n",
      " chr1\t778685\t778697\tJUN\t0\t-\tEXP039869,EXP058211\tA549--lung-carcinoma-,Kasumi-1--acute-myeloblastic-leukemia-\tMA1130.1\n",
      " chr1\t778711\t778724\tJUN\t0\t-\tEXP040263,EXP040265,EXP040320,EXP058211\tA549--lung-carcinoma-,Kasumi-1--acute-myeloblastic-leukemia-\tMA0488.1\n",
      " chr1\t817362\t817377\tJUN\t0\t-\tENCSR000EFS,EXP000309,EXP058065\tK562,K562--myelogenous-leukemia-,MDA-MB-231p27CK-DD--breast-cancer-cells--phosphimimetic-p27-cell-line-\tMA0488.1,MA0489.1,MA1127.1\n",
      " chr1\t904735\t904748\tJUN\t0\t+\tEXP039416,EXP039496\tA549--lung-carcinoma-\tMA0488.1,MA1127.1\n",
      " chr1\t904795\t904810\tJUN\t0\t+\tEXP040265\tA549--lung-carcinoma-\tMA0488.1,MA0489.1\n",
      " chr1\t911308\t911324\tJUN\t0\t+\tENCSR000EFS,ENCSR000FAH,EXP000309,EXP037742,EXP040248,EXP040265,EXP040322,EXP048572\t786-O--renal-carcinoma-,A549--lung-carcinoma-,K562,K562--myelogenous-leukemia-,MCF10A-ER-Src\tMA0462.2,MA0488.1,MA0489.1,MA1127.1,MA1128.1,MA1132.1\n",
      " "
     ]
    }
   ],
   "source": [
    "tfbs_JUN.head()"
   ]
  },
  {
   "cell_type": "code",
   "execution_count": null,
   "metadata": {},
   "outputs": [],
   "source": []
  },
  {
   "cell_type": "markdown",
   "metadata": {},
   "source": [
    "Ziel: Die TFBS mit dem selbem TF Name zusammen mergen! \n",
    "Wahrscheinlich bester ansatz: Die 268 einzelnen TFs filtern und dann direkt mergen und als Date abspeichern. Dann hat man zwar 268 einzelne TFBS datein, aber die kann man dann wieder zusammenführen und sortieren.\n",
    "Ist für den Arbeitsprozess auch nicht schlecht, wenn man einzelne TFs anschauen will und nicht immer die große BED file einlesen will.\n",
    "ABER: Ist später für den automatisier-Fall doof, da so immer viele Datein zwischengespeichert und generiert werden und wenn man den Promotorbereich vergrößert, führt dass ggfls zu nicht handlebaren File-Größen."
   ]
  }
 ],
 "metadata": {
  "kernelspec": {
   "display_name": ".venv",
   "language": "python",
   "name": "python3"
  },
  "language_info": {
   "codemirror_mode": {
    "name": "ipython",
    "version": 3
   },
   "file_extension": ".py",
   "mimetype": "text/x-python",
   "name": "python",
   "nbconvert_exporter": "python",
   "pygments_lexer": "ipython3",
   "version": "3.8.10"
  }
 },
 "nbformat": 4,
 "nbformat_minor": 2
}
