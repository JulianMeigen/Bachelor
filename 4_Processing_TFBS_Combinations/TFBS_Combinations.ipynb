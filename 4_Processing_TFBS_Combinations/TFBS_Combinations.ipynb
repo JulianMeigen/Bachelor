{
 "cells": [
  {
   "cell_type": "code",
   "execution_count": 1,
   "metadata": {},
   "outputs": [],
   "source": [
    "import pybedtools\n",
    "import pandas as pd\n",
    "import numpy as np\n",
    "import matplotlib.pyplot as plt"
   ]
  },
  {
   "cell_type": "markdown",
   "metadata": {},
   "source": [
    "# TFBS Combinations"
   ]
  },
  {
   "cell_type": "markdown",
   "metadata": {},
   "source": [
    "## Extract GTEx Genexpression"
   ]
  },
  {
   "cell_type": "code",
   "execution_count": 2,
   "metadata": {},
   "outputs": [],
   "source": [
    "GTEx_with_tfbs = pybedtools.BedTool(\"/sybig/projects/GeneRegulation/data/jme/Bachelorarbeit/data/Promotor_with_TFBS/All_GTEx_Prom_with_TFBS.bed\")"
   ]
  },
  {
   "cell_type": "code",
   "execution_count": 4,
   "metadata": {},
   "outputs": [],
   "source": [
    "first = GTEx_with_tfbs[0]"
   ]
  },
  {
   "cell_type": "code",
   "execution_count": 10,
   "metadata": {},
   "outputs": [
    {
     "data": {
      "text/plain": [
       "['chr1',\n",
       " '17436',\n",
       " '17636',\n",
       " 'ENSG00000278267.1',\n",
       " '0',\n",
       " '-',\n",
       " 'MYCN',\n",
       " '17510',\n",
       " '17522',\n",
       " '-',\n",
       " 'miRNA',\n",
       " '0,0,0,0,0,0,0,0,0,0,0,0,0,0,0,0,0,0,0,0,0,0,0,0,0,0,0,0,0,0,0,0,0,0,0,0,0,0,0,0,0,0,0,0,0,0,0,0,0,0,0,0,0,0,']"
      ]
     },
     "execution_count": 10,
     "metadata": {},
     "output_type": "execute_result"
    }
   ],
   "source": [
    "first.fields"
   ]
  },
  {
   "cell_type": "code",
   "execution_count": 15,
   "metadata": {},
   "outputs": [],
   "source": [
    "# with open(\"write_csv.csv\", \"w\") as f:\n",
    "#     for i in GTEx_with_tfbs[0:100]:\n",
    "#         f.write(f\"{i.name},{i.fields[11][:-1]}\\n\")"
   ]
  },
  {
   "cell_type": "code",
   "execution_count": 16,
   "metadata": {},
   "outputs": [],
   "source": [
    "df = pd.read_csv(\"write_csv.csv\")"
   ]
  },
  {
   "cell_type": "code",
   "execution_count": 19,
   "metadata": {},
   "outputs": [],
   "source": [
    "test = pd.read_csv(\"/sybig/projects/GeneRegulation/data/jme/Bachelorarbeit/raw_data/gtex/GTEx_Analysis_2017-06-05_v8_RNASeQCv1.1.9_gene_median_tpm.gct\", sep=\"\\t\", skiprows=2)"
   ]
  },
  {
   "cell_type": "code",
   "execution_count": 26,
   "metadata": {},
   "outputs": [
    {
     "name": "stdout",
     "output_type": "stream",
     "text": [
      "Name,Description,Adipose - Subcutaneous,Adipose - Visceral (Omentum),Adrenal Gland,Artery - Aorta,Artery - Coronary,Artery - Tibial,Bladder,Brain - Amygdala,Brain - Anterior cingulate cortex (BA24),Brain - Caudate (basal ganglia),Brain - Cerebellar Hemisphere,Brain - Cerebellum,Brain - Cortex,Brain - Frontal Cortex (BA9),Brain - Hippocampus,Brain - Hypothalamus,Brain - Nucleus accumbens (basal ganglia),Brain - Putamen (basal ganglia),Brain - Spinal cord (cervical c-1),Brain - Substantia nigra,Breast - Mammary Tissue,Cells - Cultured fibroblasts,Cells - EBV-transformed lymphocytes,Cervix - Ectocervix,Cervix - Endocervix,Colon - Sigmoid,Colon - Transverse,Esophagus - Gastroesophageal Junction,Esophagus - Mucosa,Esophagus - Muscularis,Fallopian Tube,Heart - Atrial Appendage,Heart - Left Ventricle,Kidney - Cortex,Kidney - Medulla,Liver,Lung,Minor Salivary Gland,Muscle - Skeletal,Nerve - Tibial,Ovary,Pancreas,Pituitary,Prostate,Skin - Not Sun Exposed (Suprapubic),Skin - Sun Exposed (Lower leg),Small Intestine - Terminal Ileum,Spleen,Stomach,Testis,Thyroid,Uterus,Vagina,Whole Blood\n"
     ]
    }
   ],
   "source": [
    "csv_string = \",\".join(test.columns)\n",
    "print(csv_string)"
   ]
  },
  {
   "cell_type": "markdown",
   "metadata": {},
   "source": [
    "## Filter for TFBS or TFBS combinations"
   ]
  },
  {
   "cell_type": "code",
   "execution_count": 4,
   "metadata": {},
   "outputs": [],
   "source": [
    "data = pybedtools.BedTool(\"/sybig/projects/GeneRegulation/data/jme/Bachelorarbeit/data/Promotor_with_TFBS/All_GTEx_Prom_with_TFBS.bed\")"
   ]
  },
  {
   "cell_type": "code",
   "execution_count": 5,
   "metadata": {},
   "outputs": [
    {
     "name": "stdout",
     "output_type": "stream",
     "text": [
      "chr1\t17436\t17636\tENSG00000278267.1\t0\t-\tMYCN\t74\t86\t-\tmiRNA\t0,0,0,0,0,0,0,0,0,0,0,0,0,0,0,0,0,0,0,0,0,0,0,0,0,0,0,0,0,0,0,0,0,0,0,0,0,0,0,0,0,0,0,0,0,0,0,0,0,0,0,0,0,0,\n",
      " chr1\t629439\t629639\tENSG00000225630.1\t730\t+\tOTX2\t-11\t1\t-\tunprocessed_pseudogene\t961.4,1024,949.35,328.1,497.15,363.6,518.8,1182,1160,1568,638.6,851.2,1275,990.9,1320,1213.5,1315,1591,1228,1440,902.9,207.95,180.7,370.8,427.8,826.4,777.5,814.1,335.2,798.7,510.5,1157,1283.5,1149,864.8,754.9,447.2,484.3,760.1,602.9,385.65,320.05,541.9,772.4,604.95,573.3,748.9,342.4,887.1,562,559,441.2,394.05,53.19,\n",
      " chr1\t634176\t634376\tENSG00000198744.5\t483\t+\tEGR2\t170\t181\t+\tunprocessed_pseudogene\t19.46,17.82,28.275,9.633,12.73,13.52,11.34,40.195,36.9,30.34,21.63,23.05,29.58,32.36,49.13,36.375,37.295,31.25,22.06,32.93,18.46,11.145,8.255,8.538,9.101,16.43,22.555,18.51,12.34,18.61,10.82,35.74,48.98,40.82,18.575,21.435,12.21,14.485,25.13,14,10.052,6.905,14.03,17.25,18.495,19.47,20.65,10.04,19.89,19.92,19.29,10.595,11.63,4.395,\n",
      " chr1\t758336\t758536\tENSG00000223181.1\t0\t-\tJUN,JUN,AR\t-4,-4,173\t12,8,190\t-,+,+\tsnRNA\t0,0,0,0,0,0,0,0,0,0,0,0,0,0,0,0,0,0,0,0,0,0,0,0,0,0,0,0,0,0,0,0,0,0,0,0,0,0,0,0,0,0,0,0,0,0,0,0,0,0,0,0,0,0,\n",
      " chr1\t778569\t778769\tENSG00000237491.8\t262\t+\tREST,KLF9,SRF,SRF,USF2,KLF11,KLF15,KLF5,KLF1,E2F1,KLF4,KLF12,SP3,RXRA,USF1,JUN,JUND,TFE3,CREM,ATF7,ATF2,JUND,CREB1,NFE2L2,ATF3,JUN,PAX5,CREM,TCF7L2,TFAP2C,TFAP2C,PPARG,YY1,YY2,E2F1,NFE2L2,JUN,EGR1,TCF3,EGR2,BHLHE40,GRHL2,RFX3,PPARG,RFX5,RXRB,NEUROD1,MYB,MAFF,NFKB2,SP2,RELA,SP1,SP4,NFYC,THAP11,PKNOX1,RXRA,PBX2,EGR3,EGR1,EGR2,MLX,POU5F1,IRF3,NFYB,FOS,TP53,FOS,ELF1,NFYA,MYC,MYC,MNT,MAX,MAX,GLIS1,RUNX1,RUNX2,ZNF143,OSR2,HAND2,RUNX1,RELA,GABPA,SP1,TEAD3,THAP11,RELA,CTCF,CTCFL,JUND,CREM,NFIL3,ATF7,CREB1,CEBPA,ATF3,REL,RELB,NFKB1,RFX5,ESR1,ESR1,RXRA,JUN,JUND,ATF3,E2F1,E2F1,CREB1\t69,80,74,74,76,83,83,84,84,83,83,80,82,63,76,69,72,78,70,71,72,72,71,69,72,72,69,120,191,169,170,154,161,160,158,147,148,133,135,134,134,84,116,109,113,114,114,115,89,88,81,88,82,80,16,27,30,27,30,26,27,28,26,24,11,17,15,9,16,64,16,7,6,7,7,6,0,5,5,-8,-7,-6,-8,37,64,59,66,55,63,51,56,47,45,47,46,47,45,47,37,37,35,38,39,39,40,45,46,47,47,47,46\t90,96,90,90,90,94,94,94,95,95,95,95,95,80,90,88,87,86,86,85,85,85,84,84,84,84,81,136,205,184,182,174,173,171,170,162,161,147,146,145,144,96,130,129,129,128,127,125,105,101,98,98,97,97,27,46,45,44,43,41,41,39,36,35,32,29,28,27,27,78,27,18,18,17,17,17,16,16,14,8,5,4,4,47,78,74,74,74,73,70,68,62,61,60,60,60,60,59,47,48,48,54,56,56,57,58,59,59,59,59,59\t-,+,-,+,+,+,+,+,+,+,+,+,+,+,+,+,+,+,+,-,+,-,-,-,+,-,-,-,-,-,+,+,+,+,+,+,+,+,+,+,+,-,+,+,+,+,-,+,+,-,+,-,+,+,+,+,-,-,+,+,+,+,+,+,+,-,+,-,-,+,+,+,-,+,+,-,-,+,-,-,-,-,+,+,-,+,-,+,-,-,-,+,+,-,+,+,+,+,+,-,+,+,+,-,+,-,-,-,-,+,-\tlincRNA\t0.593,0.395,0.359,0.759,0.754,0.771,0.642,0.372,0.428,0.501,2.547,2.607,0.573,0.572,0.429,0.534,0.594,0.434,0.487,0.34,0.576,1.097,0.527,0.856,1.466,0.7,0.766,0.568,0.496,0.54,0.823,0.287,0.243,0.347,0.761,0.389,0.687,0.782,0.263,1.511,1.05,0.265,2.336,0.918,0.812,0.936,0.764,0.885,0.5,4.036,1.173,1.148,0.793,0.109,\n",
      " chr1\t778626\t778826\tENSG00000228327.3\t327\t-\tEGR1,GABPA,TFDP1,AR,ESR1,RXRA,REST,USF1,JUN,JUND,TFE3,CREM,ATF7,ATF2,JUND,CREB1,NFE2L2,ATF3,JUN,PAX5,SRF,GABPA,ELF1,SP1,TEAD3,THAP11,RELA,CTCF,CTCFL,JUND,CREM,NFIL3,ATF7,CREB1,CEBPA,RELA,E2F1,TCF3,EGR2,BHLHE40,CREM,RFX3,PPARG,RFX5,RXRB,NEUROD1,MYB,MAFF,NFKB2,SP2,E2F6,SP1,SP4,GRHL2,KLF9,SP3,KLF12,KLF4,E2F1,KLF1,KLF5,KLF15,KLF11,USF2,SRF,E2F1,MYC,MYC,MNT,MAX,MAX,GLIS1,RUNX1,RUNX2,ZNF143,OSR2,HAND2,RUNX1,STAT3,PPARG,ATF3,MYC,E2F1,MYC,MAX,MAX,NRF1,TP53,GABPA,AR,NR3C1,CTCF,CTCFL,USF2,CREB1,NFYC,NFYA,E2F1,E2F1,ATF3,JUND,JUN,RXRA,ESR1,ESR1,RFX5,NFKB1,RELB,RELA,REL,PKNOX1,FOS,TP53,FOS,NFYB,IRF3,POU5F1,MLX,EGR2,EGR1,EGR3,PBX2,RXRA,THAP11\t-4,192,192,190,190,63,53,53,55,56,57,57,58,58,58,59,59,59,59,62,53,65,65,69,69,69,70,73,75,81,82,83,83,83,83,45,190,-3,-2,-1,7,13,14,14,15,16,18,38,42,45,190,46,46,47,47,48,48,48,48,48,49,49,49,53,53,155,125,125,126,126,126,127,127,129,135,138,139,139,150,151,84,155,155,156,156,156,160,162,166,169,169,171,173,173,84,116,116,84,84,84,84,85,86,87,87,89,95,95,96,96,98,116,116,115,114,111,108,107,104,102,102,100,99,97\t10,206,203,207,207,80,74,67,74,71,65,73,72,71,71,72,74,71,71,74,69,79,79,84,77,88,80,92,87,96,98,96,97,96,98,55,202,8,9,9,23,27,34,30,29,29,28,54,55,62,203,61,63,59,63,61,63,60,60,59,59,60,60,67,69,167,136,137,136,136,137,143,138,138,151,150,149,151,161,166,96,167,167,169,166,166,171,180,180,186,186,193,185,187,97,127,127,96,96,96,97,98,103,104,104,105,108,106,106,106,113,127,134,128,126,132,119,117,115,116,117,113,116,116\t+,-,+,+,-,+,-,+,+,+,+,+,-,+,-,-,-,+,-,-,-,-,+,+,-,+,-,-,-,+,+,-,+,+,+,-,-,+,+,+,-,+,+,+,+,-,+,+,-,+,+,+,+,-,+,+,+,+,+,+,+,+,+,+,+,+,+,-,+,+,-,-,+,-,-,-,-,+,-,+,+,+,-,-,+,-,-,-,-,+,-,-,-,-,-,+,+,+,-,-,-,-,+,-,+,+,+,-,+,+,-,-,-,+,-,+,+,+,+,+,+,+,-,+\ttranscribed_unprocessed_pseudogene\t2.838,1.902,1.766,1.978,2.034,2.061,2.813,0.451,0.453,0.574,1.785,2.215,0.767,0.622,0.535,0.683,0.597,0.464,0.867,0.581,2.704,2.644,1.834,2.159,3.04,2.482,1.816,2.261,1.759,2.216,2.4,0.964,0.547,1.211,1.818,1.115,2.465,2.029,0.697,3.899,4.093,1.06,3.589,3.447,2.907,3.243,2.346,2.805,1.718,11.98,4.274,3.127,2.489,1.939,\n",
      " chr1\t817170\t817370\tENSG00000177757.2\t247\t+\tJUN,XBP1,RUNX1,RELA,FLI1,PPARG,SPI1,E2F1,CREB1,CREM,PRDM1,AR,CEBPB,SOX2,RARA\t-7,-3,22,25,28,24,16,48,48,46,63,71,81,114,30\t8,11,33,35,38,39,43,60,61,62,74,88,91,125,47\t-,+,-,-,+,+,+,-,+,-,+,+,+,+,+\tlincRNA\t1.92,0.871,1.25,1.252,0.98,1.871,0.834,0.232,0.219,0.241,1.266,1.635,0.239,0.227,0.211,0.333,0.278,0.22,0.286,0.214,0.951,0.513,0.927,0.89,0.833,0.615,0.512,0.668,0.321,0.49,0.959,0.369,0.195,0.264,0.191,0.138,0.566,0.595,0.245,1.243,0.784,0.149,0.725,0.715,0.723,0.955,0.496,0.315,0.389,1.527,0.897,0.819,0.721,0.075,\n",
      " chr1\t827522\t827722\tENSG00000225880.5\t386\t-\tESR1,KLF1,KLF1,SP1,SP1,SP2,KLF12,SP4,ARNT,HIF1A,MNT,BHLHE40,NRF1,MAX,HIF1A,AR,EGR3,EGR1,GLIS1,EGR2,E2F1,E2F1,MYC,MYC,NRF1,E2F6,MYCN,MYC,MYC,MAX,MAX,E2F1,KLF11,RXRA,NR2F6,NR2C2,RFX3,NR2F1,STAT5A,STAT3,NR2F2,NR2C1,RXRA,NR2F1,AR,FOXP1,FOXA3,FOXA2,SOX13,KLF15,SP3,SP1,SP2,KLF9,TFE3,MNT,MLX,KLF5,MYCN,E2F1,E2F6,CREM,FOXA1\t104,19,80,78,57,56,55,55,32,31,30,30,28,26,25,20,119,119,120,121,130,130,130,130,131,168,171,171,171,171,172,9,18,-16,-14,-14,-13,-13,-11,-10,-8,-7,-6,-6,-5,-5,-5,-5,-1,18,17,17,16,15,10,10,10,19,9,9,8,2,-5\t121,30,91,93,72,73,70,72,38,41,40,40,39,36,35,37,134,133,136,132,142,142,142,142,142,181,183,183,182,182,182,21,29,9,1,14,1,5,2,1,3,2,9,9,12,6,6,6,10,29,30,32,33,31,18,20,20,29,21,21,21,18,7\t+,-,-,-,-,-,-,-,+,+,+,+,-,-,-,-,+,+,+,+,+,-,+,-,-,-,-,-,+,+,-,-,-,+,+,+,+,+,-,-,+,+,-,-,+,+,+,+,+,-,-,-,-,-,-,-,-,-,+,+,-,-,+\tlincRNA\t4.49,3.425,2.752,6.226,5.935,7.817,7.573,1.454,1.423,2.043,11.1,10.96,2.051,1.739,1.866,1.99,2.046,1.525,3.332,1.85,4.099,3.921,3.334,9.637,10.475,5.755,4.147,4.791,3.824,4.378,5.094,2.752,1.464,3.572,5.979,2.851,6.654,4.872,1.817,11.39,12.04,0.979,9.092,12.84,4.155,4.325,4.028,5.879,2.775,7.369,9.106,9.471,9.455,1.251,\n",
      " chr1\t873091\t873291\tENSG00000234711.1\t129\t+\tCTCF,USF2,USF1\t108,80,80\t127,94,94\t-,+,+\tunprocessed_pseudogene\t0.058,0.063,0.072,0.057,0.06,0.057,0.099,0.135,0.156,0.129,0.115,0.125,0.186,0.159,0.127,0.157,0.156,0.117,0.092,0.079,0.091,0.051,0.038,0.064,0.074,0.08,0.106,0.066,0.078,0.062,0.083,0.124,0.145,0.101,0.033,0.066,0.075,0.049,0.114,0.058,0.068,0.037,0.223,0.09,0.243,0.172,0.155,0.077,0.08,0.376,0.073,0.062,0.123,0.035,\n",
      " chr1\t876754\t876954\tENSG00000230368.2\t129\t-\tCTCF\t-8\t11\t-\tlincRNA\t0.064,0.056,0.053,0.045,0.053,0.055,0.058,0.091,0.124,0.099,0.476,0.557,0.158,0.138,0.09,0.116,0.118,0.087,0.072,0.068,0.075,0.037,0.031,0,0.056,0.064,0.061,0.061,0.054,0.052,0.051,0.092,0.117,0.073,0.039,0.048,0.073,0.035,0.219,0.066,0.065,0.028,0.19,0.082,0.339,0.215,0.076,0.031,0.065,0.214,0.073,0.073,0.168,0.02,\n",
      " "
     ]
    }
   ],
   "source": [
    "data.head()"
   ]
  },
  {
   "cell_type": "markdown",
   "metadata": {},
   "source": [
    "Genereating Subsets based on TFBS or TFBS pair in data."
   ]
  },
  {
   "cell_type": "code",
   "execution_count": 69,
   "metadata": {},
   "outputs": [],
   "source": [
    "def func_for_tfbs_subset(BedTool_Interval, tfbs_lst):\n",
    "    \"\"\"\n",
    "    Function that returns TRUE, if all of the tfbs in tfbs_lst are in Interval.fields[6]\n",
    "    It also checks if tfbs in tfbs_lst occur more often then tfbs in Interval.fields[6]. \n",
    "    Therefore if tfbs_lst contains the same tfbs twice, it will only return True if Interval.fields[6] also contains the tfbs at least twice. \n",
    "    \"\"\"\n",
    "\n",
    "    # Processing tfbs_lst --> unique with counts\n",
    "    input_tfbs_unique, input_tfbs_counts = np.unique(np.array(tfbs_lst), return_counts=True)\n",
    "    input_tfbs_dict = dict(zip(input_tfbs_unique, input_tfbs_counts))\n",
    "    \n",
    "    # Processing tfbs in interval --> split tfbs, distance, strand into lists\n",
    "    tfbs_arr = np.array(BedTool_Interval.fields[6].split(\",\"))\n",
    "\n",
    "    # get unique tfbs and counts and save in dict\n",
    "    tfbs_unique, tfbs_counts = np.unique(tfbs_arr, return_counts=True)\n",
    "    tfbs_dict = dict(zip(tfbs_unique, tfbs_counts))\n",
    "\n",
    "    # Compare unique values and counts (equal or more (?))\n",
    "\n",
    "    # Checks if all unique TFBS in tfbs_lst occur in tfbs_unique.\n",
    "    if np.all(np.isin(input_tfbs_unique, tfbs_unique)):\n",
    "        \n",
    "        # Checks how often tfbs occur in input list, compared to interval tfbs. If tfbs count in input list is higher then in interval it will return False.\n",
    "        bool_lst = []\n",
    "        for tfbs, input_count in input_tfbs_dict.items():\n",
    "            tfbs_count = tfbs_dict[tfbs]\n",
    "            if input_count > tfbs_count:\n",
    "                bool_lst.append(False)\n",
    "            else:\n",
    "                bool_lst.append(True)\n",
    "        if np.all(bool_lst):\n",
    "            return True\n",
    "        else:\n",
    "            return False\n",
    "        \n",
    "        \n",
    "    else:\n",
    "        return False\n",
    "    \n",
    "\n",
    "\n",
    "\n"
   ]
  },
  {
   "cell_type": "code",
   "execution_count": 74,
   "metadata": {},
   "outputs": [
    {
     "data": {
      "text/plain": [
       "True"
      ]
     },
     "execution_count": 74,
     "metadata": {},
     "output_type": "execute_result"
    }
   ],
   "source": [
    "func_for_tfbs_subset(data[3], tfbs_lst=[\"JUN\", \"AR\"])"
   ]
  },
  {
   "cell_type": "code",
   "execution_count": 39,
   "metadata": {},
   "outputs": [],
   "source": [
    "# Minimal Example:\n",
    "test_int = data[3]\n",
    "tfbs = test_int.fields[6]\n",
    "tfbs_arr = np.array(tfbs.split(\",\"))\n",
    "tfbs_unique, counts = np.unique(tfbs_arr, return_counts=True)\n",
    "tfbs_dict = dict(zip(tfbs_unique, counts))"
   ]
  },
  {
   "cell_type": "code",
   "execution_count": 68,
   "metadata": {},
   "outputs": [
    {
     "ename": "KeyError",
     "evalue": "'A'",
     "output_type": "error",
     "traceback": [
      "\u001b[0;31m---------------------------------------------------------------------------\u001b[0m",
      "\u001b[0;31mKeyError\u001b[0m                                  Traceback (most recent call last)",
      "Cell \u001b[0;32mIn[68], line 9\u001b[0m\n\u001b[1;32m      7\u001b[0m bool_lst \u001b[38;5;241m=\u001b[39m []\n\u001b[1;32m      8\u001b[0m \u001b[38;5;28;01mfor\u001b[39;00m tfbs, input_count \u001b[38;5;129;01min\u001b[39;00m input_tfbs_dict\u001b[38;5;241m.\u001b[39mitems():\n\u001b[0;32m----> 9\u001b[0m     tfbs_count \u001b[38;5;241m=\u001b[39m \u001b[43mtfbs_dict\u001b[49m\u001b[43m[\u001b[49m\u001b[43mtfbs\u001b[49m\u001b[43m]\u001b[49m\n\u001b[1;32m     10\u001b[0m     \u001b[38;5;28;01mif\u001b[39;00m input_count \u001b[38;5;241m>\u001b[39m tfbs_count:\n\u001b[1;32m     11\u001b[0m         bool_lst\u001b[38;5;241m.\u001b[39mappend(\u001b[38;5;28;01mFalse\u001b[39;00m)\n",
      "\u001b[0;31mKeyError\u001b[0m: 'A'"
     ]
    }
   ],
   "source": [
    "tfbs_test = np.array([\"JUN\", \"JUN\", \"A\"])\n",
    "input_tfbs_unique, input_tfbs_counts = np.unique(np.array(tfbs_test), return_counts=True)\n",
    "input_tfbs_dict = dict(zip(input_tfbs_unique, input_tfbs_counts))\n",
    "\n",
    "np.all(np.isin(tfbs_test, tfbs_unique))\n",
    "\n",
    "bool_lst = []\n",
    "for tfbs, input_count in input_tfbs_dict.items():\n",
    "    tfbs_count = tfbs_dict[tfbs]\n",
    "    if input_count > tfbs_count:\n",
    "        bool_lst.append(False)\n",
    "    else:\n",
    "        bool_lst.append(True)\n",
    "bool_lst"
   ]
  }
 ],
 "metadata": {
  "kernelspec": {
   "display_name": ".venv",
   "language": "python",
   "name": "python3"
  },
  "language_info": {
   "codemirror_mode": {
    "name": "ipython",
    "version": 3
   },
   "file_extension": ".py",
   "mimetype": "text/x-python",
   "name": "python",
   "nbconvert_exporter": "python",
   "pygments_lexer": "ipython3",
   "version": "3.8.10"
  }
 },
 "nbformat": 4,
 "nbformat_minor": 2
}
