{
 "cells": [
  {
   "cell_type": "markdown",
   "metadata": {},
   "source": [
    "# Assign UniBind to GTEx Transcripts"
   ]
  },
  {
   "cell_type": "markdown",
   "metadata": {},
   "source": []
  },
  {
   "cell_type": "code",
   "execution_count": 2,
   "metadata": {},
   "outputs": [],
   "source": [
    "import pybedtools\n",
    "import pandas as pd\n",
    "import numpy as np\n",
    "import matplotlib.pyplot as plt"
   ]
  },
  {
   "cell_type": "code",
   "execution_count": 14,
   "metadata": {},
   "outputs": [],
   "source": [
    "tfbs_all = pybedtools.BedTool(\"/sybig/projects/GeneRegulation/data/jme/Bachelorarbeit/data/tfbs/GTEx_prom_200bp_with_all_TFBS/output_data.bed\")\n",
    "gtex_prom = pybedtools.BedTool(\"/sybig/projects/GeneRegulation/data/jme/Bachelorarbeit/data/GTEx_Promotors.bed\")\n",
    "#gtex = pybedtools.BedTool(\"/sybig/projects/GeneRegulation/data/jme/Bachelorarbeit/raw_data/gtex/gtexGeneV8.txt\")"
   ]
  },
  {
   "cell_type": "code",
   "execution_count": 6,
   "metadata": {},
   "outputs": [],
   "source": [
    "intersect = gtex_prom.intersect(tfbs_all, wa=True, wb=True).sort()"
   ]
  },
  {
   "cell_type": "code",
   "execution_count": 12,
   "metadata": {},
   "outputs": [
    {
     "data": {
      "text/plain": [
       "56200"
      ]
     },
     "execution_count": 12,
     "metadata": {},
     "output_type": "execute_result"
    }
   ],
   "source": [
    "gtex_prom.count()"
   ]
  },
  {
   "cell_type": "code",
   "execution_count": 15,
   "metadata": {},
   "outputs": [
    {
     "name": "stdout",
     "output_type": "stream",
     "text": [
      "chr1\t17436\t17636\tMIR6859-1\t0\t-\tENSG00000278267.1\tmiRNA\t54\t0,0,0,0,0,0,0,0,0,0,0,0,0,0,0,0,0,0,0,0,0,0,0,0,0,0,0,0,0,0,0,0,0,0,0,0,0,0,0,0,0,0,0,0,0,0,0,0,0,0,0,0,0,0,\tchr1\t17510\t17522\tMYCN\t0\t-\tEXP038397\tNGP--neuroblastoma-\tMA0104.4\t1\n",
      " chr1\t629439\t629639\tMTND2P28\t730\t+\tENSG00000225630.1\tunprocessed_pseudogene\t54\t961.4,1024,949.35,328.1,497.15,363.6,518.8,1182,1160,1568,638.6,851.2,1275,990.9,1320,1213.5,1315,1591,1228,1440,902.9,207.95,180.7,370.8,427.8,826.4,777.5,814.1,335.2,798.7,510.5,1157,1283.5,1149,864.8,754.9,447.2,484.3,760.1,602.9,385.65,320.05,541.9,772.4,604.95,573.3,748.9,342.4,887.1,562,559,441.2,394.05,53.19,\tchr1\t629638\t629650\tOTX2\t0\t-\tEXP036801\tHUES64--embryonic-stem-cells-\tMA0712.2\t1\n",
      " chr1\t634176\t634376\tMTCO3P12\t483\t+\tENSG00000198744.5\tunprocessed_pseudogene\t54\t19.46,17.82,28.275,9.633,12.73,13.52,11.34,40.195,36.9,30.34,21.63,23.05,29.58,32.36,49.13,36.375,37.295,31.25,22.06,32.93,18.46,11.145,8.255,8.538,9.101,16.43,22.555,18.51,12.34,18.61,10.82,35.74,48.98,40.82,18.575,21.435,12.21,14.485,25.13,14,10.052,6.905,14.03,17.25,18.495,19.47,20.65,10.04,19.89,19.92,19.29,10.595,11.63,4.395,\tchr1\t634195\t634206\tEGR2\t0\t+\tEXP039511\tHEK293--embryonic-kidney-\tMA0472.2\t1\n",
      " chr1\t758336\t758536\tRNU6-1199P\t0\t-\tENSG00000223181.1\tsnRNA\t54\t0,0,0,0,0,0,0,0,0,0,0,0,0,0,0,0,0,0,0,0,0,0,0,0,0,0,0,0,0,0,0,0,0,0,0,0,0,0,0,0,0,0,0,0,0,0,0,0,0,0,0,0,0,0,\tchr1\t758332\t758348\tJUN\t0\t-\tEXP038043\tHAEC--human-aortic-endothelial-cells-\tMA0462.2,MA0488.1,MA0489.1,MA1127.1,MA1128.1,MA1132.1\t6\n",
      " chr1\t758336\t758536\tRNU6-1199P\t0\t-\tENSG00000223181.1\tsnRNA\t54\t0,0,0,0,0,0,0,0,0,0,0,0,0,0,0,0,0,0,0,0,0,0,0,0,0,0,0,0,0,0,0,0,0,0,0,0,0,0,0,0,0,0,0,0,0,0,0,0,0,0,0,0,0,0,\tchr1\t758332\t758344\tJUN\t0\t+\tEXP038043\tHAEC--human-aortic-endothelial-cells-\tMA0099.3,MA1130.1\t2\n",
      " chr1\t758336\t758536\tRNU6-1199P\t0\t-\tENSG00000223181.1\tsnRNA\t54\t0,0,0,0,0,0,0,0,0,0,0,0,0,0,0,0,0,0,0,0,0,0,0,0,0,0,0,0,0,0,0,0,0,0,0,0,0,0,0,0,0,0,0,0,0,0,0,0,0,0,0,0,0,0,\tchr1\t758509\t758526\tAR\t0\t+\tEXP049391,EXP049392\t22RV1--prostate-carcinoma-\tMA0007.3\t2\n",
      " chr1\t778569\t778769\tRP11-206L10.9\t262\t+\tENSG00000237491.8\tlincRNA\t54\t0.593,0.395,0.359,0.759,0.754,0.771,0.642,0.372,0.428,0.501,2.547,2.607,0.573,0.572,0.429,0.534,0.594,0.434,0.487,0.34,0.576,1.097,0.527,0.856,1.466,0.7,0.766,0.568,0.496,0.54,0.823,0.287,0.243,0.347,0.761,0.389,0.687,0.782,0.263,1.511,1.05,0.265,2.336,0.918,0.812,0.936,0.764,0.885,0.5,4.036,1.173,1.148,0.793,0.109,\tchr1\t778679\t778700\tREST\t0\t-\tEXP036864\tA549--lung-carcinoma-\tMA0138.2\t2\n",
      " chr1\t778569\t778769\tRP11-206L10.9\t262\t+\tENSG00000237491.8\tlincRNA\t54\t0.593,0.395,0.359,0.759,0.754,0.771,0.642,0.372,0.428,0.501,2.547,2.607,0.573,0.572,0.429,0.534,0.594,0.434,0.487,0.34,0.576,1.097,0.527,0.856,1.466,0.7,0.766,0.568,0.496,0.54,0.823,0.287,0.243,0.347,0.761,0.389,0.687,0.782,0.263,1.511,1.05,0.265,2.336,0.918,0.812,0.936,0.764,0.885,0.5,4.036,1.173,1.148,0.793,0.109,\tchr1\t778673\t778689\tKLF9\t0\t+\tGSE62211\tgbm1a\tMA1107.2\t2\n",
      " chr1\t778569\t778769\tRP11-206L10.9\t262\t+\tENSG00000237491.8\tlincRNA\t54\t0.593,0.395,0.359,0.759,0.754,0.771,0.642,0.372,0.428,0.501,2.547,2.607,0.573,0.572,0.429,0.534,0.594,0.434,0.487,0.34,0.576,1.097,0.527,0.856,1.466,0.7,0.766,0.568,0.496,0.54,0.823,0.287,0.243,0.347,0.761,0.389,0.687,0.782,0.263,1.511,1.05,0.265,2.336,0.918,0.812,0.936,0.764,0.885,0.5,4.036,1.173,1.148,0.793,0.109,\tchr1\t778679\t778695\tSRF\t0\t-\tENCSR000BTD\tIshikawa\tMA0083.3\t2\n",
      " chr1\t778569\t778769\tRP11-206L10.9\t262\t+\tENSG00000237491.8\tlincRNA\t54\t0.593,0.395,0.359,0.759,0.754,0.771,0.642,0.372,0.428,0.501,2.547,2.607,0.573,0.572,0.429,0.534,0.594,0.434,0.487,0.34,0.576,1.097,0.527,0.856,1.466,0.7,0.766,0.568,0.496,0.54,0.823,0.287,0.243,0.347,0.761,0.389,0.687,0.782,0.263,1.511,1.05,0.265,2.336,0.918,0.812,0.936,0.764,0.885,0.5,4.036,1.173,1.148,0.793,0.109,\tchr1\t778679\t778695\tSRF\t0\t+\tENCSR000BIV,ENCSR000BLK\tH1-hESC,K562\tMA0083.3\t4\n",
      " "
     ]
    }
   ],
   "source": [
    "intersect.head()"
   ]
  }
 ],
 "metadata": {
  "kernelspec": {
   "display_name": ".venv",
   "language": "python",
   "name": "python3"
  },
  "language_info": {
   "codemirror_mode": {
    "name": "ipython",
    "version": 3
   },
   "file_extension": ".py",
   "mimetype": "text/x-python",
   "name": "python",
   "nbconvert_exporter": "python",
   "pygments_lexer": "ipython3",
   "version": "3.8.10"
  }
 },
 "nbformat": 4,
 "nbformat_minor": 2
}
