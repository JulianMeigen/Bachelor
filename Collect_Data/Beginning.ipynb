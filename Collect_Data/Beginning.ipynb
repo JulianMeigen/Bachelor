{
 "cells": [
  {
   "cell_type": "markdown",
   "metadata": {},
   "source": [
    "# Woring with BED files"
   ]
  },
  {
   "cell_type": "markdown",
   "metadata": {},
   "source": [
    "## Beginning"
   ]
  },
  {
   "cell_type": "markdown",
   "metadata": {},
   "source": [
    "One effective method to process BED files is to use **BEDTools**, which offers tools for a wide-range of genomics analysis tasks. \n",
    "These can be installed as a pre-compiled binary from their website and be used to process BEDfiles in the Terminal.\n",
    "(https://bedtools.readthedocs.io/en/latest/)\n",
    "\n",
    "To use the BEDTools commands in python the **pybedtools** Python package can be used to transform the Terminal commands into python functions and therefore more complexe pipelines and scripts can be generated. (https://daler.github.io/pybedtools/index.html)"
   ]
  },
  {
   "cell_type": "code",
   "execution_count": 1,
   "metadata": {},
   "outputs": [],
   "source": [
    "import pybedtools\n",
    "import pandas as pd\n",
    "import numpy as np\n",
    "import matplotlib.pyplot as plt"
   ]
  },
  {
   "cell_type": "code",
   "execution_count": 7,
   "metadata": {},
   "outputs": [
    {
     "name": "stdout",
     "output_type": "stream",
     "text": [
      "\n",
      "ARNT.bed\n",
      "chr1\t827391\t827499\t.\t0\t+\n",
      " chr1\t827504\t827610\t.\t0\t+\n",
      " \n",
      "ASCL1.bed\n",
      "chr1\t633900\t634013\t.\t0\t+\n",
      " chr1\t858778\t858888\t.\t0\t+\n",
      " \n",
      "Intersect\n",
      "chr1\t910768\t910824\t.\t0\t+\n",
      " chr1\t913807\t913855\t.\t0\t+\n",
      " "
     ]
    }
   ],
   "source": [
    "path_01 = \"/sybig/home/jme/Bachelorarbeit/Collect_Data/Test_BED_files/ARNT.bed\"\n",
    "path_02 = \"/sybig/home/jme/Bachelorarbeit/Collect_Data/Test_BED_files/ASCL1.bed\"\n",
    "\n",
    "a = pybedtools.BedTool(path_01)\n",
    "b = pybedtools.BedTool(path_02)\n",
    "\n",
    "a_and_b = a.intersect(b)\n",
    "\n",
    "print(\"\\nARNT.bed\")\n",
    "a.head(2)\n",
    "\n",
    "print(\"\\nASCL1.bed\")\n",
    "b.head(2)\n",
    "\n",
    "print(\"\\nIntersect\")\n",
    "a_and_b.head(2)\n",
    "\n"
   ]
  },
  {
   "cell_type": "code",
   "execution_count": 16,
   "metadata": {},
   "outputs": [
    {
     "data": {
      "text/plain": [
       "array(['chr1', 'chr10', 'chr11', 'chr12', 'chr13', 'chr14',\n",
       "       'chr14_GL000225v1_random', 'chr14_KI270722v1_random', 'chr15',\n",
       "       'chr16', 'chr17', 'chr17_GL000205v2_random',\n",
       "       'chr17_KI270729v1_random', 'chr18', 'chr19',\n",
       "       'chr1_KI270713v1_random', 'chr2', 'chr20', 'chr21', 'chr22',\n",
       "       'chr22_KI270732v1_random', 'chr22_KI270733v1_random',\n",
       "       'chr22_KI270736v1_random', 'chr3', 'chr4',\n",
       "       'chr4_GL000008v2_random', 'chr5', 'chr6', 'chr7', 'chr8', 'chr9',\n",
       "       'chr9_KI270718v1_random', 'chrM', 'chrUn_GL000195v1',\n",
       "       'chrUn_GL000214v1', 'chrUn_GL000216v2', 'chrUn_GL000219v1',\n",
       "       'chrUn_GL000220v1', 'chrUn_GL000224v1', 'chrUn_KI270303v1',\n",
       "       'chrUn_KI270304v1', 'chrUn_KI270411v1', 'chrUn_KI270435v1',\n",
       "       'chrUn_KI270438v1', 'chrUn_KI270442v1', 'chrUn_KI270465v1',\n",
       "       'chrUn_KI270467v1', 'chrUn_KI270507v1', 'chrUn_KI270510v1',\n",
       "       'chrUn_KI270515v1', 'chrUn_KI270538v1', 'chrUn_KI270744v1',\n",
       "       'chrUn_KI270746v1', 'chrUn_KI270751v1', 'chrUn_KI270754v1',\n",
       "       'chrUn_KI270757v1', 'chrX', 'chrY'], dtype=object)"
      ]
     },
     "execution_count": 16,
     "metadata": {},
     "output_type": "execute_result"
    }
   ],
   "source": [
    "df = a.to_dataframe()\n",
    "df[\"chrom\"].unique()"
   ]
  },
  {
   "cell_type": "code",
   "execution_count": 19,
   "metadata": {},
   "outputs": [
    {
     "data": {
      "text/plain": [
       "97146"
      ]
     },
     "execution_count": 19,
     "metadata": {},
     "output_type": "execute_result"
    }
   ],
   "source": [
    "test = pybedtools.BedTool(\"/sybig/home/jme/Bachelorarbeit/Collect_Data/Test_BED_files/ARNT_test.bed\")\n",
    "test.count()"
   ]
  },
  {
   "cell_type": "code",
   "execution_count": 14,
   "metadata": {},
   "outputs": [],
   "source": [
    "chr_ordered = np.array([\"chr1\", \"chr2\", \"chr3\", \"chr4\",\"chr5\",\"chr6\",\"chr7\",\"chr8\", \"chr9\",\"chr10\",\"chr11\",\"chr12\",\"chr13\",\"chr14\",\"chr15\",\"chr16\",\"chr17\",\"chr18\",\"chr19\", \"chr20\",\"chr21\",\"chr22\",\"chrX\",\"chrY\"])\n",
    "c = a.filter(lambda x: np.isin(x.chrom, chr_ordered)).saveas(\"ARNT_filtered.bed\")\n"
   ]
  },
  {
   "cell_type": "code",
   "execution_count": 119,
   "metadata": {},
   "outputs": [
    {
     "data": {
      "text/html": [
       "<div>\n",
       "<style scoped>\n",
       "    .dataframe tbody tr th:only-of-type {\n",
       "        vertical-align: middle;\n",
       "    }\n",
       "\n",
       "    .dataframe tbody tr th {\n",
       "        vertical-align: top;\n",
       "    }\n",
       "\n",
       "    .dataframe thead th {\n",
       "        text-align: right;\n",
       "    }\n",
       "</style>\n",
       "<table border=\"1\" class=\"dataframe\">\n",
       "  <thead>\n",
       "    <tr style=\"text-align: right;\">\n",
       "      <th></th>\n",
       "      <th>chrom</th>\n",
       "      <th>start</th>\n",
       "      <th>end</th>\n",
       "      <th>name</th>\n",
       "      <th>score</th>\n",
       "      <th>strand</th>\n",
       "    </tr>\n",
       "  </thead>\n",
       "  <tbody>\n",
       "    <tr>\n",
       "      <th>0</th>\n",
       "      <td>chr1</td>\n",
       "      <td>827391</td>\n",
       "      <td>827499</td>\n",
       "      <td>.</td>\n",
       "      <td>0</td>\n",
       "      <td>+</td>\n",
       "    </tr>\n",
       "    <tr>\n",
       "      <th>1</th>\n",
       "      <td>chr1</td>\n",
       "      <td>827504</td>\n",
       "      <td>827610</td>\n",
       "      <td>.</td>\n",
       "      <td>0</td>\n",
       "      <td>+</td>\n",
       "    </tr>\n",
       "    <tr>\n",
       "      <th>2</th>\n",
       "      <td>chr1</td>\n",
       "      <td>865784</td>\n",
       "      <td>865892</td>\n",
       "      <td>.</td>\n",
       "      <td>0</td>\n",
       "      <td>+</td>\n",
       "    </tr>\n",
       "    <tr>\n",
       "      <th>3</th>\n",
       "      <td>chr1</td>\n",
       "      <td>869795</td>\n",
       "      <td>869901</td>\n",
       "      <td>.</td>\n",
       "      <td>0</td>\n",
       "      <td>+</td>\n",
       "    </tr>\n",
       "    <tr>\n",
       "      <th>4</th>\n",
       "      <td>chr1</td>\n",
       "      <td>904640</td>\n",
       "      <td>904746</td>\n",
       "      <td>.</td>\n",
       "      <td>0</td>\n",
       "      <td>+</td>\n",
       "    </tr>\n",
       "    <tr>\n",
       "      <th>...</th>\n",
       "      <td>...</td>\n",
       "      <td>...</td>\n",
       "      <td>...</td>\n",
       "      <td>...</td>\n",
       "      <td>...</td>\n",
       "      <td>...</td>\n",
       "    </tr>\n",
       "    <tr>\n",
       "      <th>97141</th>\n",
       "      <td>chrY</td>\n",
       "      <td>16646113</td>\n",
       "      <td>16646219</td>\n",
       "      <td>.</td>\n",
       "      <td>0</td>\n",
       "      <td>-</td>\n",
       "    </tr>\n",
       "    <tr>\n",
       "      <th>97142</th>\n",
       "      <td>chrY</td>\n",
       "      <td>16831575</td>\n",
       "      <td>16831683</td>\n",
       "      <td>.</td>\n",
       "      <td>0</td>\n",
       "      <td>-</td>\n",
       "    </tr>\n",
       "    <tr>\n",
       "      <th>97143</th>\n",
       "      <td>chrY</td>\n",
       "      <td>56697203</td>\n",
       "      <td>56697309</td>\n",
       "      <td>.</td>\n",
       "      <td>0</td>\n",
       "      <td>-</td>\n",
       "    </tr>\n",
       "    <tr>\n",
       "      <th>97144</th>\n",
       "      <td>chrY</td>\n",
       "      <td>56707185</td>\n",
       "      <td>56707291</td>\n",
       "      <td>.</td>\n",
       "      <td>0</td>\n",
       "      <td>-</td>\n",
       "    </tr>\n",
       "    <tr>\n",
       "      <th>97145</th>\n",
       "      <td>chrY</td>\n",
       "      <td>56734672</td>\n",
       "      <td>56734780</td>\n",
       "      <td>.</td>\n",
       "      <td>0</td>\n",
       "      <td>-</td>\n",
       "    </tr>\n",
       "  </tbody>\n",
       "</table>\n",
       "<p>97146 rows × 6 columns</p>\n",
       "</div>"
      ],
      "text/plain": [
       "      chrom     start       end name  score strand\n",
       "0      chr1    827391    827499    .      0      +\n",
       "1      chr1    827504    827610    .      0      +\n",
       "2      chr1    865784    865892    .      0      +\n",
       "3      chr1    869795    869901    .      0      +\n",
       "4      chr1    904640    904746    .      0      +\n",
       "...     ...       ...       ...  ...    ...    ...\n",
       "97141  chrY  16646113  16646219    .      0      -\n",
       "97142  chrY  16831575  16831683    .      0      -\n",
       "97143  chrY  56697203  56697309    .      0      -\n",
       "97144  chrY  56707185  56707291    .      0      -\n",
       "97145  chrY  56734672  56734780    .      0      -\n",
       "\n",
       "[97146 rows x 6 columns]"
      ]
     },
     "execution_count": 119,
     "metadata": {},
     "output_type": "execute_result"
    }
   ],
   "source": [
    "ARNT_filter_path = \"/sybig/home/jme/Bachelorarbeit/Collect_Data/ARNT_filtered.bed\"\n",
    "c.to_dataframe()"
   ]
  },
  {
   "cell_type": "markdown",
   "metadata": {},
   "source": [
    "## Processing UniBind Data"
   ]
  },
  {
   "cell_type": "markdown",
   "metadata": {},
   "source": [
    "The genomic Locations of all direct TFBS in the human genome of the robust collection are dowloanded from the UniBind Database."
   ]
  },
  {
   "cell_type": "code",
   "execution_count": 2,
   "metadata": {},
   "outputs": [
    {
     "ename": "FileNotFoundError",
     "evalue": "File \"/sybig/projects/GeneRegulation/data/jme/Bachelorarbeit/raw_data/hg38_UniBind_allTFBSs.bed\" does not exist",
     "output_type": "error",
     "traceback": [
      "\u001b[0;31m---------------------------------------------------------------------------\u001b[0m",
      "\u001b[0;31mFileNotFoundError\u001b[0m                         Traceback (most recent call last)",
      "Cell \u001b[0;32mIn[2], line 5\u001b[0m\n\u001b[1;32m      1\u001b[0m \u001b[38;5;28;01mimport\u001b[39;00m \u001b[38;5;21;01mpybedtools\u001b[39;00m\n\u001b[1;32m      3\u001b[0m raw_UniBind_path \u001b[38;5;241m=\u001b[39m \u001b[38;5;124m\"\u001b[39m\u001b[38;5;124m/sybig/projects/GeneRegulation/data/jme/Bachelorarbeit/raw_data/hg38_UniBind_allTFBSs.bed\u001b[39m\u001b[38;5;124m\"\u001b[39m\n\u001b[0;32m----> 5\u001b[0m raw_UniBind \u001b[38;5;241m=\u001b[39m \u001b[43mpybedtools\u001b[49m\u001b[38;5;241;43m.\u001b[39;49m\u001b[43mBedTool\u001b[49m\u001b[43m(\u001b[49m\u001b[43mraw_UniBind_path\u001b[49m\u001b[43m)\u001b[49m\n\u001b[1;32m      7\u001b[0m \u001b[38;5;66;03m#count entrys of raw data needs ca 8 minutes. --> 97492844\u001b[39;00m\n\u001b[1;32m      8\u001b[0m \u001b[38;5;66;03m#raw_UniBind.count()\u001b[39;00m\n",
      "File \u001b[0;32m~/Bachelorarbeit/.venv/lib/python3.8/site-packages/pybedtools/bedtool.py:514\u001b[0m, in \u001b[0;36mBedTool.__init__\u001b[0;34m(self, fn, from_string, remote)\u001b[0m\n\u001b[1;32m    512\u001b[0m         \u001b[38;5;28;01mif\u001b[39;00m six\u001b[38;5;241m.\u001b[39mPY2:\n\u001b[1;32m    513\u001b[0m             \u001b[38;5;28;01mraise\u001b[39;00m \u001b[38;5;167;01mValueError\u001b[39;00m(msg)\n\u001b[0;32m--> 514\u001b[0m         \u001b[38;5;28;01mraise\u001b[39;00m \u001b[38;5;167;01mFileNotFoundError\u001b[39;00m(msg)\n\u001b[1;32m    515\u001b[0m     \u001b[38;5;28mself\u001b[39m\u001b[38;5;241m.\u001b[39m_isbam \u001b[38;5;241m=\u001b[39m isBAM(fn)\n\u001b[1;32m    517\u001b[0m \u001b[38;5;66;03m# TODO: we dont' really need this, but it's added here for\u001b[39;00m\n\u001b[1;32m    518\u001b[0m \u001b[38;5;66;03m# compatibility with existing tests\u001b[39;00m\n",
      "\u001b[0;31mFileNotFoundError\u001b[0m: File \"/sybig/projects/GeneRegulation/data/jme/Bachelorarbeit/raw_data/hg38_UniBind_allTFBSs.bed\" does not exist"
     ]
    }
   ],
   "source": [
    "import pybedtools\n",
    "\n",
    "raw_UniBind_path = \"/sybig/projects/GeneRegulation/data/jme/Bachelorarbeit/raw_data/hg38_UniBind_allTFBSs.bed\"\n",
    "\n",
    "raw_UniBind = pybedtools.BedTool(raw_UniBind_path)\n",
    "\n",
    "#count entrys of raw data needs ca 8 minutes. --> 97492844\n",
    "#raw_UniBind.count()\n"
   ]
  },
  {
   "cell_type": "markdown",
   "metadata": {},
   "source": [
    "This data contains 97.492.844 genomic locations from chr1-chr22 and chrX and chrY, but unfortunaly also many locations which could not be assigned to any chromosome and will be refered as ChrUn or ChrN_random. Therefore the raw data will be filtered and saved in a new BED file."
   ]
  },
  {
   "cell_type": "code",
   "execution_count": 82,
   "metadata": {},
   "outputs": [],
   "source": [
    "# Filter the raw data and only save chr1-22 and chrX and chrY in BED file\n",
    "\n",
    "chr_ordered = np.array([\"chr1\", \"chr2\", \"chr3\", \"chr4\",\"chr5\",\"chr6\",\"chr7\",\"chr8\", \"chr9\",\"chr10\",\"chr11\",\"chr12\",\"chr13\",\"chr14\",\"chr15\",\"chr16\",\"chr17\",\"chr18\",\"chr19\", \"chr20\",\"chr21\",\"chr22\",\"chrX\",\"chrY\"])\n",
    "output = \"/sybig/projects/GeneRegulation/data/jme/Bachelorarbeit/raw_data/UniBind_allTFBS_filtered.bed\"\n",
    "\n",
    "data_unibind = raw_UniBind.filter(lambda x: np.isin(x.chrom, chr_ordered)).saveas(output)"
   ]
  },
  {
   "cell_type": "code",
   "execution_count": 107,
   "metadata": {},
   "outputs": [],
   "source": [
    "path = \"/sybig/projects/GeneRegulation/data/jme/Bachelorarbeit/raw_data/UniBind_TFBSs.bed\"\n",
    "data = pybedtools.BedTool(path)\n"
   ]
  },
  {
   "cell_type": "code",
   "execution_count": 118,
   "metadata": {},
   "outputs": [
    {
     "name": "stdout",
     "output_type": "stream",
     "text": [
      "['chr1', '16243', '16262', 'EXP000597_HeLa-S3--cervical-adenocarcinoma-_CTCF_MA0139.1', '0', '+', '16243', '16262', '3,22,250']\n"
     ]
    }
   ],
   "source": [
    "tfbs = data[4]\n",
    "print(tfbs.fields)"
   ]
  },
  {
   "cell_type": "markdown",
   "metadata": {},
   "source": [
    "## Processing RefSeq Data"
   ]
  },
  {
   "cell_type": "markdown",
   "metadata": {},
   "source": [
    "### NCBI RefSeq"
   ]
  },
  {
   "cell_type": "markdown",
   "metadata": {},
   "source": [
    "The RefSeq database includes genomic regions for all known genes in the human genome. \n",
    "These files are in GFF format and not in BED format, which means that it has completly different annotations (e.g. NC_000001.11 instead of chr1). \n",
    "\n",
    "But BedTools can also work with GFF files but it maybe more complicated in the future. "
   ]
  },
  {
   "cell_type": "code",
   "execution_count": 2,
   "metadata": {},
   "outputs": [
    {
     "name": "stdout",
     "output_type": "stream",
     "text": [
      "NC_000001.11\tBestRefSeq\ttranscript\t11874\t14409\t.\t+\t.\tID=rna-NR_046018.2;Parent=gene-DDX11L1;Dbxref=GeneID:100287102,GenBank:NR_046018.2,HGNC:HGNC:37102;Name=NR_046018.2;gbkey=misc_RNA;gene=DDX11L1;product=DEAD/H-box helicase 11 like 1 (pseudogene);pseudo=true;transcript_id=NR_046018.2\n",
      "\n"
     ]
    },
    {
     "data": {
      "text/plain": [
       "4900135"
      ]
     },
     "execution_count": 2,
     "metadata": {},
     "output_type": "execute_result"
    }
   ],
   "source": [
    "refseq_path = \"/sybig/projects/GeneRegulation/data/jme/Bachelorarbeit/raw_data/ncbi_dataset/data/GCF_000001405.40/genomic.gff\"\n",
    "refseq = pybedtools.BedTool(refseq_path)\n",
    "\n",
    "print(refseq[2])\n",
    "refseq.count()"
   ]
  },
  {
   "cell_type": "markdown",
   "metadata": {},
   "source": [
    "To process these data and have an insight its nice to use a dataframe"
   ]
  },
  {
   "cell_type": "code",
   "execution_count": 10,
   "metadata": {},
   "outputs": [
    {
     "data": {
      "text/plain": [
       "array([nan, 'region', 'pseudogene', 'transcript', 'exon', 'gene',\n",
       "       'primary_transcript', 'miRNA', 'enhancer', 'biological_region',\n",
       "       'lnc_RNA', 'mRNA', 'CDS', 'snRNA', 'silencer',\n",
       "       'transcriptional_cis_regulatory_region',\n",
       "       'meiotic_recombination_region', 'repeat_instability_region',\n",
       "       'nucleotide_motif', 'tandem_repeat', 'snoRNA', 'CAGE_cluster',\n",
       "       'DNaseI_hypersensitive_site', 'epigenetically_modified_region',\n",
       "       'ncRNA', 'antisense_RNA',\n",
       "       'non_allelic_homologous_recombination_region', 'tRNA', 'promoter',\n",
       "       'conserved_region', 'enhancer_blocking_element',\n",
       "       'mobile_genetic_element', 'minisatellite', 'protein_binding_site',\n",
       "       'locus_control_region', 'centromere', 'V_gene_segment',\n",
       "       'response_element', 'TATA_box', 'sequence_comparison', 'rRNA',\n",
       "       'sequence_feature', 'sequence_alteration', 'match', 'cDNA_match',\n",
       "       'insulator', 'matrix_attachment_site', 'repeat_region',\n",
       "       'regulatory_region', 'sequence_secondary_structure',\n",
       "       'C_gene_segment', 'J_gene_segment', 'origin_of_replication',\n",
       "       'mitotic_recombination_region', 'telomerase_RNA', 'CAAT_signal',\n",
       "       'dispersed_repeat', 'recombination_feature', 'vault_RNA',\n",
       "       'GC_rich_promoter_region', 'D_gene_segment', 'Y_RNA',\n",
       "       'replication_regulatory_region', 'RNase_MRP_RNA',\n",
       "       'sequence_alteration_artifact', 'microsatellite',\n",
       "       'imprinting_control_region', 'direct_repeat',\n",
       "       'chromosome_breakpoint', 'scRNA', 'RNase_P_RNA',\n",
       "       'replication_start_site', 'nucleotide_cleavage_site', 'D_loop'],\n",
       "      dtype=object)"
      ]
     },
     "execution_count": 10,
     "metadata": {},
     "output_type": "execute_result"
    }
   ],
   "source": [
    "df_ncbi = refseq.to_dataframe()\n",
    "df_ncbi.feature.unique()"
   ]
  },
  {
   "cell_type": "code",
   "execution_count": 6,
   "metadata": {},
   "outputs": [],
   "source": [
    "ncbi_transcripts_path = \"/sybig/projects/GeneRegulation/data/jme/Bachelorarbeit/raw_data/ncbi_dataset/ncbi_transcripts.gff\"\n",
    "ncbi_promotors_path = \"/sybig/projects/GeneRegulation/data/jme/Bachelorarbeit/raw_data/ncbi_dataset/ncbi_promotors.gff\"\n",
    "ncbi_CDS_path = \"/sybig/projects/GeneRegulation/data/jme/Bachelorarbeit/raw_data/ncbi_dataset/ncbi_CDS.gff\"\n",
    "ncbi_gene_path = \"/sybig/projects/GeneRegulation/data/jme/Bachelorarbeit/raw_data/ncbi_dataset/ncbi_gene.gff\"\n"
   ]
  },
  {
   "cell_type": "code",
   "execution_count": 9,
   "metadata": {},
   "outputs": [
    {
     "data": {
      "text/plain": [
       "<BedTool(/sybig/projects/GeneRegulation/data/jme/Bachelorarbeit/raw_data/ncbi_dataset/ncbi_gene.gff)>"
      ]
     },
     "execution_count": 9,
     "metadata": {},
     "output_type": "execute_result"
    }
   ],
   "source": [
    "# Reducing refseq to transcripts:\n",
    "refseq.filter(lambda x: x.fields[2] == \"gene\").saveas(ncbi_gene_path)"
   ]
  },
  {
   "cell_type": "code",
   "execution_count": 11,
   "metadata": {},
   "outputs": [
    {
     "data": {
      "text/plain": [
       "48104"
      ]
     },
     "execution_count": 11,
     "metadata": {},
     "output_type": "execute_result"
    }
   ],
   "source": [
    "ncbi_gene = pybedtools.BedTool(ncbi_gene_path)\n",
    "ncbi_gene.count()"
   ]
  },
  {
   "cell_type": "markdown",
   "metadata": {},
   "source": [
    "The Dataset contains 4.900.135 entrys containing genomic locations for a wide range of diffrent sequence-labels. It contains 14.974 diffrent transcripts and 48.104 diffrent genes. (Also 438 promotor and 1.838.180 CDS) "
   ]
  },
  {
   "cell_type": "markdown",
   "metadata": {},
   "source": [
    "### UCSC RefGene"
   ]
  },
  {
   "cell_type": "markdown",
   "metadata": {},
   "source": [
    "Maybe its simpler to use the UCSC RefGene Files, which are stored in a GTF format and only contains the curated genes. \n",
    "\n",
    "(In the end it has with 84.787 genomic locations, more gene entrys then ncbi (?))"
   ]
  },
  {
   "cell_type": "code",
   "execution_count": 13,
   "metadata": {},
   "outputs": [
    {
     "name": "stdout",
     "output_type": "stream",
     "text": [
      "['chr1', 'refGene', 'transcript', '11874', '14409', '.', '+', '.', 'gene_id \"DDX11L1\"; transcript_id \"NR_046018\";  gene_name \"DDX11L1\";']\n"
     ]
    }
   ],
   "source": [
    "ucsc_refseq_path = \"/sybig/projects/GeneRegulation/data/jme/Bachelorarbeit/raw_data/hg38.refGene.gtf\"\n",
    "ucsc_refseq = pybedtools.BedTool(ucsc_refseq_path)\n",
    "\n",
    "interval = ucsc_refseq[0]\n",
    "print(interval.fields)\n"
   ]
  },
  {
   "cell_type": "code",
   "execution_count": 36,
   "metadata": {},
   "outputs": [
    {
     "data": {
      "text/plain": [
       "1893860"
      ]
     },
     "execution_count": 36,
     "metadata": {},
     "output_type": "execute_result"
    }
   ],
   "source": [
    "ucsc_refseq.count()"
   ]
  },
  {
   "cell_type": "markdown",
   "metadata": {},
   "source": [
    "To generate Promotors to each gene the exons are not necessary and the dataset can be reduced to the whole transcripts."
   ]
  },
  {
   "cell_type": "code",
   "execution_count": 14,
   "metadata": {},
   "outputs": [],
   "source": [
    "transcript = ucsc_refseq.filter(lambda x: x.fields[2] == \"transcript\").saveas(\"/sybig/projects/GeneRegulation/data/jme/Bachelorarbeit/raw_data/refGene_transcripts.gtf\")"
   ]
  },
  {
   "cell_type": "code",
   "execution_count": 18,
   "metadata": {},
   "outputs": [
    {
     "data": {
      "text/plain": [
       "84787"
      ]
     },
     "execution_count": 18,
     "metadata": {},
     "output_type": "execute_result"
    }
   ],
   "source": [
    "transcript_path = \"/sybig/projects/GeneRegulation/data/jme/Bachelorarbeit/raw_data/refGene_transcripts.gtf\"\n",
    "transcripts = pybedtools.BedTool(transcript_path)\n",
    "transcripts.count()"
   ]
  },
  {
   "cell_type": "code",
   "execution_count": 16,
   "metadata": {},
   "outputs": [
    {
     "data": {
      "text/plain": [
       "array(['transcript', 'exon', '5UTR', 'CDS', '3UTR', 'start_codon',\n",
       "       'stop_codon'], dtype=object)"
      ]
     },
     "execution_count": 16,
     "metadata": {},
     "output_type": "execute_result"
    }
   ],
   "source": [
    "df = ucsc_refseq.to_dataframe()\n",
    "df.feature.unique()"
   ]
  },
  {
   "cell_type": "markdown",
   "metadata": {},
   "source": [
    "### Generating Promotors"
   ]
  },
  {
   "cell_type": "markdown",
   "metadata": {},
   "source": [
    "The transcripts were filtered by chromosomes and only chr1-22 and X and Y remain. This was achieved using filter_BED_chrom.py"
   ]
  },
  {
   "cell_type": "code",
   "execution_count": 51,
   "metadata": {},
   "outputs": [
    {
     "name": "stdout",
     "output_type": "stream",
     "text": [
      "chr1\trefGene\ttranscript\t11874\t14409\t.\t+\t.\tgene_id \"DDX11L1\"; transcript_id \"NR_046018\";  gene_name \"DDX11L1\";\n",
      "\n"
     ]
    }
   ],
   "source": [
    "transcript_filter_path = \"/sybig/projects/GeneRegulation/data/jme/Bachelorarbeit/raw_data/refGene_transcripts_filtered.gtf\"\n",
    "transcripts_filter = pybedtools.BedTool(transcript_filter_path)\n",
    "print(transcripts_filter[0])"
   ]
  },
  {
   "cell_type": "code",
   "execution_count": 52,
   "metadata": {},
   "outputs": [
    {
     "data": {
      "text/plain": [
       "array(['chr1', 'chr18', 'chr19', 'chr8', 'chr17', 'chr7', 'chr16',\n",
       "       'chr12', 'chrX', 'chr2', 'chr11', 'chr13', 'chr3', 'chr5', 'chr9',\n",
       "       'chr22', 'chr4', 'chr6', 'chr14', 'chr21', 'chr10', 'chr15',\n",
       "       'chr20', 'chrY'], dtype=object)"
      ]
     },
     "execution_count": 52,
     "metadata": {},
     "output_type": "execute_result"
    }
   ],
   "source": [
    "df_trans = transcripts_filter.to_dataframe()\n",
    "df_trans.seqname.unique()"
   ]
  },
  {
   "cell_type": "markdown",
   "metadata": {},
   "source": [
    "To define a promotor to each gene the flank method of bedtools can be used. This method extracts to each gene a 200bp region.\n",
    "\n",
    " With s=True it differs between the + and - strand. For a gene on the + strand it will take 200 bp upstream (left) and for an gene on the - strand it will take 200bp downstream (right)."
   ]
  },
  {
   "cell_type": "code",
   "execution_count": 65,
   "metadata": {},
   "outputs": [],
   "source": [
    "flank_transcripts = transcripts_filter.flank(genome= \"hg38\", l=200, r=0, s=True).saveas(\"/sybig/projects/GeneRegulation/data/jme/Bachelorarbeit/data/ucsc_promotor_regions.gtf\")"
   ]
  },
  {
   "cell_type": "code",
   "execution_count": 66,
   "metadata": {},
   "outputs": [
    {
     "name": "stdout",
     "output_type": "stream",
     "text": [
      "chr1\trefGene\ttranscript\t11874\t14409\t.\t+\t.\tgene_id \"DDX11L1\"; transcript_id \"NR_046018\";  gene_name \"DDX11L1\";\n",
      "\n",
      "chr1\trefGene\ttranscript\t14362\t29370\t.\t-\t.\tgene_id \"WASH7P\"; transcript_id \"NR_024540\";  gene_name \"WASH7P\";\n",
      "\n",
      "chr1\trefGene\ttranscript\t17369\t17436\t.\t-\t.\tgene_id \"MIR6859-1\"; transcript_id \"NR_106918\";  gene_name \"MIR6859-1\";\n",
      "\n"
     ]
    }
   ],
   "source": [
    "print(transcripts_filter[0])\n",
    "print(transcripts_filter[1])\n",
    "print(transcripts_filter[2])\n"
   ]
  },
  {
   "cell_type": "code",
   "execution_count": 67,
   "metadata": {},
   "outputs": [
    {
     "name": "stdout",
     "output_type": "stream",
     "text": [
      "chr1\trefGene\ttranscript\t11674\t11873\t.\t+\t.\tgene_id \"DDX11L1\"; transcript_id \"NR_046018\";  gene_name \"DDX11L1\";\n",
      "\n",
      "chr1\trefGene\ttranscript\t29371\t29570\t.\t-\t.\tgene_id \"WASH7P\"; transcript_id \"NR_024540\";  gene_name \"WASH7P\";\n",
      "\n",
      "chr1\trefGene\ttranscript\t17437\t17636\t.\t-\t.\tgene_id \"MIR6859-1\"; transcript_id \"NR_106918\";  gene_name \"MIR6859-1\";\n",
      "\n"
     ]
    }
   ],
   "source": [
    "print(flank_transcripts[0])\n",
    "print(flank_transcripts[1])\n",
    "print(flank_transcripts[2])"
   ]
  },
  {
   "cell_type": "code",
   "execution_count": null,
   "metadata": {},
   "outputs": [],
   "source": [
    "promotor = pybedtools.BedTool(\"/sybig/projects/GeneRegulation/data/jme/Bachelorarbeit/data/ucsc_promotor_regions.gtf\")\n",
    "print(promotor[0])"
   ]
  },
  {
   "cell_type": "markdown",
   "metadata": {},
   "source": [
    "## Combining Promotors and TFBS"
   ]
  },
  {
   "cell_type": "markdown",
   "metadata": {},
   "source": [
    "The next step is to define to each promotor the TFBSs that intersect with the promotor region."
   ]
  },
  {
   "cell_type": "markdown",
   "metadata": {},
   "source": [
    "### Testing with ARNT.bed"
   ]
  },
  {
   "cell_type": "code",
   "execution_count": 116,
   "metadata": {},
   "outputs": [
    {
     "data": {
      "text/plain": [
       "74537"
      ]
     },
     "execution_count": 116,
     "metadata": {},
     "output_type": "execute_result"
    }
   ],
   "source": [
    "promotor.count()"
   ]
  },
  {
   "cell_type": "code",
   "execution_count": 76,
   "metadata": {},
   "outputs": [],
   "source": [
    "test_tfbs = pybedtools.BedTool(\"/sybig/home/jme/Bachelorarbeit/Collect_Data/Test_BED_files/ARNT.bed\")"
   ]
  },
  {
   "cell_type": "code",
   "execution_count": 89,
   "metadata": {},
   "outputs": [
    {
     "name": "stdout",
     "output_type": "stream",
     "text": [
      "chr1\trefGene\ttranscript\t827523\t827722\t.\t-\t.\tgene_id \"LINC00115\"; transcript_id \"NR_024321\";  gene_name \"LINC00115\";\n",
      "\n",
      "chr1\t827391\t827499\t.\t0\t+\n",
      "\n"
     ]
    }
   ],
   "source": [
    "print(promotor[29])\n",
    "print(test_tfbs[0])"
   ]
  },
  {
   "cell_type": "code",
   "execution_count": 93,
   "metadata": {},
   "outputs": [],
   "source": [
    "intersect = promotor.intersect(test_tfbs, wa=True, wb=True)"
   ]
  },
  {
   "cell_type": "code",
   "execution_count": 113,
   "metadata": {},
   "outputs": [
    {
     "name": "stdout",
     "output_type": "stream",
     "text": [
      "chr18\trefGene\ttranscript\t3449507\t3449706\t.\t+\t.\tgene_id \"TGIF1\"; transcript_id \"NM_173208\";  gene_name \"TGIF1\";\tchr18\t3449572\t3449678\t.\t0\t-\n",
      "\n",
      "3449506\n"
     ]
    }
   ],
   "source": [
    "print(intersect[0])\n",
    "print(intersect[0].start)"
   ]
  },
  {
   "cell_type": "code",
   "execution_count": 166,
   "metadata": {},
   "outputs": [
    {
     "name": "stdout",
     "output_type": "stream",
     "text": [
      "['chr18', 'refGene', 'transcript', '3449507', '3449706', '.', '+', '.', 'gene_id \"TGIF1\"; transcript_id \"NM_173208\";  gene_name \"TGIF1\";']\n"
     ]
    }
   ],
   "source": [
    "test = promotor.filter(lambda x: x.chrom == \"chr18\" and x.start == 3449506).saveas(\"test.gtf\")\n",
    "print(test[0].fields)\n"
   ]
  },
  {
   "cell_type": "code",
   "execution_count": 167,
   "metadata": {},
   "outputs": [
    {
     "name": "stdout",
     "output_type": "stream",
     "text": [
      "['chr18', '3449506', '3449706', '+', 'gene_id \"TGIF1\"; transcript_id \"NM_001278684\";  gene_name \"TGIF1\";,gene_id \"TGIF1\"; transcript_id \"NM_173208\";  gene_name \"TGIF1\";,gene_id \"TGIF1\"; transcript_id \"NM_173209\";  gene_name \"TGIF1\";']\n"
     ]
    }
   ],
   "source": [
    "test_merge = test.merge(s=True, c=[7,9] , o=\"distinct\")\n",
    "print(test_merge[0].fields)"
   ]
  },
  {
   "cell_type": "code",
   "execution_count": 183,
   "metadata": {},
   "outputs": [
    {
     "name": "stdout",
     "output_type": "stream",
     "text": [
      "dict_keys(['gene_id', 'transcript_id', 'gene_name'])\n"
     ]
    }
   ],
   "source": [
    "print(promotor[0].attrs.keys())"
   ]
  },
  {
   "cell_type": "markdown",
   "metadata": {},
   "source": [
    "# Processing Genexpression Data"
   ]
  },
  {
   "cell_type": "markdown",
   "metadata": {},
   "source": []
  },
  {
   "cell_type": "code",
   "execution_count": 184,
   "metadata": {},
   "outputs": [],
   "source": [
    "gen_expr_path = \"/sybig/projects/GeneRegulation/data/jme/Bachelorarbeit/data/RNA_seq.csv\"\n",
    "gene_expr = pd.read_csv(gen_expr_path)"
   ]
  },
  {
   "cell_type": "code",
   "execution_count": 193,
   "metadata": {},
   "outputs": [
    {
     "data": {
      "text/html": [
       "<div>\n",
       "<style scoped>\n",
       "    .dataframe tbody tr th:only-of-type {\n",
       "        vertical-align: middle;\n",
       "    }\n",
       "\n",
       "    .dataframe tbody tr th {\n",
       "        vertical-align: top;\n",
       "    }\n",
       "\n",
       "    .dataframe thead th {\n",
       "        text-align: right;\n",
       "    }\n",
       "</style>\n",
       "<table border=\"1\" class=\"dataframe\">\n",
       "  <thead>\n",
       "    <tr style=\"text-align: right;\">\n",
       "      <th></th>\n",
       "      <th>Unnamed: 0</th>\n",
       "      <th>E003</th>\n",
       "      <th>E004</th>\n",
       "      <th>E005</th>\n",
       "      <th>E006</th>\n",
       "      <th>E007</th>\n",
       "      <th>E011</th>\n",
       "      <th>E012</th>\n",
       "      <th>E013</th>\n",
       "      <th>E016</th>\n",
       "      <th>...</th>\n",
       "      <th>E114</th>\n",
       "      <th>E116</th>\n",
       "      <th>E117</th>\n",
       "      <th>E118</th>\n",
       "      <th>E119</th>\n",
       "      <th>E120</th>\n",
       "      <th>E122</th>\n",
       "      <th>E123</th>\n",
       "      <th>E127</th>\n",
       "      <th>E128</th>\n",
       "    </tr>\n",
       "  </thead>\n",
       "  <tbody>\n",
       "    <tr>\n",
       "      <th>0</th>\n",
       "      <td>ENSG00000000003</td>\n",
       "      <td>43.985</td>\n",
       "      <td>37.413</td>\n",
       "      <td>29.459</td>\n",
       "      <td>21.864</td>\n",
       "      <td>55.649</td>\n",
       "      <td>52.940</td>\n",
       "      <td>71.629</td>\n",
       "      <td>61.292</td>\n",
       "      <td>44.280</td>\n",
       "      <td>...</td>\n",
       "      <td>37.989</td>\n",
       "      <td>0.038</td>\n",
       "      <td>42.639</td>\n",
       "      <td>49.983</td>\n",
       "      <td>11.554</td>\n",
       "      <td>11.847</td>\n",
       "      <td>43.723</td>\n",
       "      <td>0.267</td>\n",
       "      <td>13.758</td>\n",
       "      <td>15.818</td>\n",
       "    </tr>\n",
       "    <tr>\n",
       "      <th>1</th>\n",
       "      <td>ENSG00000000005</td>\n",
       "      <td>1.642</td>\n",
       "      <td>6.498</td>\n",
       "      <td>0.000</td>\n",
       "      <td>0.157</td>\n",
       "      <td>0.003</td>\n",
       "      <td>0.115</td>\n",
       "      <td>0.087</td>\n",
       "      <td>0.055</td>\n",
       "      <td>1.577</td>\n",
       "      <td>...</td>\n",
       "      <td>0.000</td>\n",
       "      <td>0.000</td>\n",
       "      <td>0.000</td>\n",
       "      <td>0.000</td>\n",
       "      <td>0.000</td>\n",
       "      <td>0.018</td>\n",
       "      <td>0.000</td>\n",
       "      <td>0.006</td>\n",
       "      <td>0.000</td>\n",
       "      <td>0.000</td>\n",
       "    </tr>\n",
       "    <tr>\n",
       "      <th>2</th>\n",
       "      <td>ENSG00000000419</td>\n",
       "      <td>35.259</td>\n",
       "      <td>58.308</td>\n",
       "      <td>48.208</td>\n",
       "      <td>37.477</td>\n",
       "      <td>45.923</td>\n",
       "      <td>44.959</td>\n",
       "      <td>40.438</td>\n",
       "      <td>41.970</td>\n",
       "      <td>51.515</td>\n",
       "      <td>...</td>\n",
       "      <td>52.215</td>\n",
       "      <td>79.197</td>\n",
       "      <td>107.098</td>\n",
       "      <td>62.811</td>\n",
       "      <td>42.386</td>\n",
       "      <td>54.869</td>\n",
       "      <td>16.652</td>\n",
       "      <td>73.719</td>\n",
       "      <td>56.578</td>\n",
       "      <td>56.371</td>\n",
       "    </tr>\n",
       "    <tr>\n",
       "      <th>3</th>\n",
       "      <td>ENSG00000000457</td>\n",
       "      <td>2.596</td>\n",
       "      <td>2.345</td>\n",
       "      <td>8.775</td>\n",
       "      <td>2.723</td>\n",
       "      <td>3.700</td>\n",
       "      <td>3.912</td>\n",
       "      <td>5.011</td>\n",
       "      <td>4.158</td>\n",
       "      <td>3.292</td>\n",
       "      <td>...</td>\n",
       "      <td>4.829</td>\n",
       "      <td>11.082</td>\n",
       "      <td>8.814</td>\n",
       "      <td>2.646</td>\n",
       "      <td>2.483</td>\n",
       "      <td>2.527</td>\n",
       "      <td>2.549</td>\n",
       "      <td>7.651</td>\n",
       "      <td>4.967</td>\n",
       "      <td>3.714</td>\n",
       "    </tr>\n",
       "    <tr>\n",
       "      <th>4</th>\n",
       "      <td>ENSG00000000460</td>\n",
       "      <td>6.649</td>\n",
       "      <td>7.838</td>\n",
       "      <td>7.324</td>\n",
       "      <td>0.830</td>\n",
       "      <td>5.354</td>\n",
       "      <td>5.940</td>\n",
       "      <td>5.704</td>\n",
       "      <td>6.213</td>\n",
       "      <td>7.551</td>\n",
       "      <td>...</td>\n",
       "      <td>8.001</td>\n",
       "      <td>13.743</td>\n",
       "      <td>25.369</td>\n",
       "      <td>3.373</td>\n",
       "      <td>4.646</td>\n",
       "      <td>2.179</td>\n",
       "      <td>4.099</td>\n",
       "      <td>22.103</td>\n",
       "      <td>3.290</td>\n",
       "      <td>2.491</td>\n",
       "    </tr>\n",
       "    <tr>\n",
       "      <th>...</th>\n",
       "      <td>...</td>\n",
       "      <td>...</td>\n",
       "      <td>...</td>\n",
       "      <td>...</td>\n",
       "      <td>...</td>\n",
       "      <td>...</td>\n",
       "      <td>...</td>\n",
       "      <td>...</td>\n",
       "      <td>...</td>\n",
       "      <td>...</td>\n",
       "      <td>...</td>\n",
       "      <td>...</td>\n",
       "      <td>...</td>\n",
       "      <td>...</td>\n",
       "      <td>...</td>\n",
       "      <td>...</td>\n",
       "      <td>...</td>\n",
       "      <td>...</td>\n",
       "      <td>...</td>\n",
       "      <td>...</td>\n",
       "      <td>...</td>\n",
       "    </tr>\n",
       "    <tr>\n",
       "      <th>19790</th>\n",
       "      <td>ENSG00000259718</td>\n",
       "      <td>0.000</td>\n",
       "      <td>0.000</td>\n",
       "      <td>0.000</td>\n",
       "      <td>0.000</td>\n",
       "      <td>0.000</td>\n",
       "      <td>0.000</td>\n",
       "      <td>0.000</td>\n",
       "      <td>0.000</td>\n",
       "      <td>0.000</td>\n",
       "      <td>...</td>\n",
       "      <td>0.000</td>\n",
       "      <td>0.000</td>\n",
       "      <td>0.000</td>\n",
       "      <td>0.000</td>\n",
       "      <td>0.000</td>\n",
       "      <td>0.000</td>\n",
       "      <td>0.000</td>\n",
       "      <td>0.000</td>\n",
       "      <td>0.000</td>\n",
       "      <td>0.000</td>\n",
       "    </tr>\n",
       "    <tr>\n",
       "      <th>19791</th>\n",
       "      <td>ENSG00000259741</td>\n",
       "      <td>10.639</td>\n",
       "      <td>22.017</td>\n",
       "      <td>19.103</td>\n",
       "      <td>26.684</td>\n",
       "      <td>21.748</td>\n",
       "      <td>23.737</td>\n",
       "      <td>24.791</td>\n",
       "      <td>23.581</td>\n",
       "      <td>18.816</td>\n",
       "      <td>...</td>\n",
       "      <td>74.923</td>\n",
       "      <td>22.036</td>\n",
       "      <td>23.527</td>\n",
       "      <td>16.770</td>\n",
       "      <td>25.595</td>\n",
       "      <td>57.260</td>\n",
       "      <td>15.039</td>\n",
       "      <td>8.164</td>\n",
       "      <td>31.558</td>\n",
       "      <td>57.093</td>\n",
       "    </tr>\n",
       "    <tr>\n",
       "      <th>19792</th>\n",
       "      <td>ENSG00000259752</td>\n",
       "      <td>0.032</td>\n",
       "      <td>0.008</td>\n",
       "      <td>0.042</td>\n",
       "      <td>0.015</td>\n",
       "      <td>0.067</td>\n",
       "      <td>0.033</td>\n",
       "      <td>0.078</td>\n",
       "      <td>0.047</td>\n",
       "      <td>0.000</td>\n",
       "      <td>...</td>\n",
       "      <td>0.014</td>\n",
       "      <td>0.091</td>\n",
       "      <td>0.028</td>\n",
       "      <td>0.072</td>\n",
       "      <td>0.012</td>\n",
       "      <td>0.046</td>\n",
       "      <td>0.017</td>\n",
       "      <td>0.066</td>\n",
       "      <td>0.040</td>\n",
       "      <td>0.000</td>\n",
       "    </tr>\n",
       "    <tr>\n",
       "      <th>19793</th>\n",
       "      <td>ENSG00000259765</td>\n",
       "      <td>0.000</td>\n",
       "      <td>0.000</td>\n",
       "      <td>0.000</td>\n",
       "      <td>0.000</td>\n",
       "      <td>0.000</td>\n",
       "      <td>0.000</td>\n",
       "      <td>0.000</td>\n",
       "      <td>0.000</td>\n",
       "      <td>0.000</td>\n",
       "      <td>...</td>\n",
       "      <td>0.000</td>\n",
       "      <td>0.000</td>\n",
       "      <td>0.000</td>\n",
       "      <td>0.000</td>\n",
       "      <td>0.000</td>\n",
       "      <td>0.000</td>\n",
       "      <td>0.000</td>\n",
       "      <td>0.000</td>\n",
       "      <td>0.000</td>\n",
       "      <td>0.000</td>\n",
       "    </tr>\n",
       "    <tr>\n",
       "      <th>19794</th>\n",
       "      <td>ENSG00000259766</td>\n",
       "      <td>0.000</td>\n",
       "      <td>0.000</td>\n",
       "      <td>0.000</td>\n",
       "      <td>0.000</td>\n",
       "      <td>0.000</td>\n",
       "      <td>0.000</td>\n",
       "      <td>0.000</td>\n",
       "      <td>0.000</td>\n",
       "      <td>0.000</td>\n",
       "      <td>...</td>\n",
       "      <td>0.000</td>\n",
       "      <td>0.000</td>\n",
       "      <td>0.000</td>\n",
       "      <td>0.000</td>\n",
       "      <td>0.000</td>\n",
       "      <td>0.000</td>\n",
       "      <td>0.000</td>\n",
       "      <td>0.000</td>\n",
       "      <td>0.000</td>\n",
       "      <td>0.000</td>\n",
       "    </tr>\n",
       "  </tbody>\n",
       "</table>\n",
       "<p>19795 rows × 57 columns</p>\n",
       "</div>"
      ],
      "text/plain": [
       "            Unnamed: 0    E003    E004    E005    E006    E007    E011  \\\n",
       "0      ENSG00000000003  43.985  37.413  29.459  21.864  55.649  52.940   \n",
       "1      ENSG00000000005   1.642   6.498   0.000   0.157   0.003   0.115   \n",
       "2      ENSG00000000419  35.259  58.308  48.208  37.477  45.923  44.959   \n",
       "3      ENSG00000000457   2.596   2.345   8.775   2.723   3.700   3.912   \n",
       "4      ENSG00000000460   6.649   7.838   7.324   0.830   5.354   5.940   \n",
       "...                ...     ...     ...     ...     ...     ...     ...   \n",
       "19790  ENSG00000259718   0.000   0.000   0.000   0.000   0.000   0.000   \n",
       "19791  ENSG00000259741  10.639  22.017  19.103  26.684  21.748  23.737   \n",
       "19792  ENSG00000259752   0.032   0.008   0.042   0.015   0.067   0.033   \n",
       "19793  ENSG00000259765   0.000   0.000   0.000   0.000   0.000   0.000   \n",
       "19794  ENSG00000259766   0.000   0.000   0.000   0.000   0.000   0.000   \n",
       "\n",
       "         E012    E013    E016  ...    E114    E116     E117    E118    E119  \\\n",
       "0      71.629  61.292  44.280  ...  37.989   0.038   42.639  49.983  11.554   \n",
       "1       0.087   0.055   1.577  ...   0.000   0.000    0.000   0.000   0.000   \n",
       "2      40.438  41.970  51.515  ...  52.215  79.197  107.098  62.811  42.386   \n",
       "3       5.011   4.158   3.292  ...   4.829  11.082    8.814   2.646   2.483   \n",
       "4       5.704   6.213   7.551  ...   8.001  13.743   25.369   3.373   4.646   \n",
       "...       ...     ...     ...  ...     ...     ...      ...     ...     ...   \n",
       "19790   0.000   0.000   0.000  ...   0.000   0.000    0.000   0.000   0.000   \n",
       "19791  24.791  23.581  18.816  ...  74.923  22.036   23.527  16.770  25.595   \n",
       "19792   0.078   0.047   0.000  ...   0.014   0.091    0.028   0.072   0.012   \n",
       "19793   0.000   0.000   0.000  ...   0.000   0.000    0.000   0.000   0.000   \n",
       "19794   0.000   0.000   0.000  ...   0.000   0.000    0.000   0.000   0.000   \n",
       "\n",
       "         E120    E122    E123    E127    E128  \n",
       "0      11.847  43.723   0.267  13.758  15.818  \n",
       "1       0.018   0.000   0.006   0.000   0.000  \n",
       "2      54.869  16.652  73.719  56.578  56.371  \n",
       "3       2.527   2.549   7.651   4.967   3.714  \n",
       "4       2.179   4.099  22.103   3.290   2.491  \n",
       "...       ...     ...     ...     ...     ...  \n",
       "19790   0.000   0.000   0.000   0.000   0.000  \n",
       "19791  57.260  15.039   8.164  31.558  57.093  \n",
       "19792   0.046   0.017   0.066   0.040   0.000  \n",
       "19793   0.000   0.000   0.000   0.000   0.000  \n",
       "19794   0.000   0.000   0.000   0.000   0.000  \n",
       "\n",
       "[19795 rows x 57 columns]"
      ]
     },
     "execution_count": 193,
     "metadata": {},
     "output_type": "execute_result"
    }
   ],
   "source": [
    "gene_expr"
   ]
  }
 ],
 "metadata": {
  "kernelspec": {
   "display_name": "Python 3",
   "language": "python",
   "name": "python3"
  },
  "language_info": {
   "codemirror_mode": {
    "name": "ipython",
    "version": 3
   },
   "file_extension": ".py",
   "mimetype": "text/x-python",
   "name": "python",
   "nbconvert_exporter": "python",
   "pygments_lexer": "ipython3",
   "version": "3.8.10"
  }
 },
 "nbformat": 4,
 "nbformat_minor": 2
}
