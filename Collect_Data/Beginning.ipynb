{
 "cells": [
  {
   "cell_type": "markdown",
   "metadata": {},
   "source": [
    "# Woring with BED files"
   ]
  },
  {
   "cell_type": "markdown",
   "metadata": {},
   "source": [
    "## Beginning"
   ]
  },
  {
   "cell_type": "markdown",
   "metadata": {},
   "source": [
    "One effective method to process BED files is to use **BEDTools**, which offers tools for a wide-range of genomics analysis tasks. \n",
    "These can be installed as a pre-compiled binary from their website and be used to process BEDfiles in the Terminal.\n",
    "(https://bedtools.readthedocs.io/en/latest/)\n",
    "\n",
    "To use the BEDTools commands in python the **pybedtools** Python package can be used to transform the Terminal commands into python functions and therefore more complexe pipelines and scripts can be generated. (https://daler.github.io/pybedtools/index.html)"
   ]
  },
  {
   "cell_type": "code",
   "execution_count": 2,
   "metadata": {},
   "outputs": [],
   "source": [
    "import pybedtools\n",
    "import pandas as pd\n",
    "import numpy as np\n",
    "import matplotlib.pyplot as plt"
   ]
  },
  {
   "cell_type": "code",
   "execution_count": 7,
   "metadata": {},
   "outputs": [
    {
     "name": "stdout",
     "output_type": "stream",
     "text": [
      "\n",
      "ARNT.bed\n",
      "chr1\t827391\t827499\t.\t0\t+\n",
      " chr1\t827504\t827610\t.\t0\t+\n",
      " \n",
      "ASCL1.bed\n",
      "chr1\t633900\t634013\t.\t0\t+\n",
      " chr1\t858778\t858888\t.\t0\t+\n",
      " \n",
      "Intersect\n",
      "chr1\t910768\t910824\t.\t0\t+\n",
      " chr1\t913807\t913855\t.\t0\t+\n",
      " "
     ]
    }
   ],
   "source": [
    "path_01 = \"/sybig/home/jme/Bachelorarbeit/Collect_Data/Test_BED_files/ARNT.bed\"\n",
    "path_02 = \"/sybig/home/jme/Bachelorarbeit/Collect_Data/Test_BED_files/ASCL1.bed\"\n",
    "\n",
    "a = pybedtools.BedTool(path_01)\n",
    "b = pybedtools.BedTool(path_02)\n",
    "\n",
    "a_and_b = a.intersect(b)\n",
    "\n",
    "print(\"\\nARNT.bed\")\n",
    "a.head(2)\n",
    "\n",
    "print(\"\\nASCL1.bed\")\n",
    "b.head(2)\n",
    "\n",
    "print(\"\\nIntersect\")\n",
    "a_and_b.head(2)\n",
    "\n"
   ]
  },
  {
   "cell_type": "code",
   "execution_count": 16,
   "metadata": {},
   "outputs": [
    {
     "data": {
      "text/plain": [
       "array(['chr1', 'chr10', 'chr11', 'chr12', 'chr13', 'chr14',\n",
       "       'chr14_GL000225v1_random', 'chr14_KI270722v1_random', 'chr15',\n",
       "       'chr16', 'chr17', 'chr17_GL000205v2_random',\n",
       "       'chr17_KI270729v1_random', 'chr18', 'chr19',\n",
       "       'chr1_KI270713v1_random', 'chr2', 'chr20', 'chr21', 'chr22',\n",
       "       'chr22_KI270732v1_random', 'chr22_KI270733v1_random',\n",
       "       'chr22_KI270736v1_random', 'chr3', 'chr4',\n",
       "       'chr4_GL000008v2_random', 'chr5', 'chr6', 'chr7', 'chr8', 'chr9',\n",
       "       'chr9_KI270718v1_random', 'chrM', 'chrUn_GL000195v1',\n",
       "       'chrUn_GL000214v1', 'chrUn_GL000216v2', 'chrUn_GL000219v1',\n",
       "       'chrUn_GL000220v1', 'chrUn_GL000224v1', 'chrUn_KI270303v1',\n",
       "       'chrUn_KI270304v1', 'chrUn_KI270411v1', 'chrUn_KI270435v1',\n",
       "       'chrUn_KI270438v1', 'chrUn_KI270442v1', 'chrUn_KI270465v1',\n",
       "       'chrUn_KI270467v1', 'chrUn_KI270507v1', 'chrUn_KI270510v1',\n",
       "       'chrUn_KI270515v1', 'chrUn_KI270538v1', 'chrUn_KI270744v1',\n",
       "       'chrUn_KI270746v1', 'chrUn_KI270751v1', 'chrUn_KI270754v1',\n",
       "       'chrUn_KI270757v1', 'chrX', 'chrY'], dtype=object)"
      ]
     },
     "execution_count": 16,
     "metadata": {},
     "output_type": "execute_result"
    }
   ],
   "source": [
    "df = a.to_dataframe()\n",
    "df[\"chrom\"].unique()"
   ]
  },
  {
   "cell_type": "code",
   "execution_count": 19,
   "metadata": {},
   "outputs": [
    {
     "data": {
      "text/plain": [
       "97146"
      ]
     },
     "execution_count": 19,
     "metadata": {},
     "output_type": "execute_result"
    }
   ],
   "source": [
    "test = pybedtools.BedTool(\"/sybig/home/jme/Bachelorarbeit/Collect_Data/Test_BED_files/ARNT_test.bed\")\n",
    "test.count()"
   ]
  },
  {
   "cell_type": "code",
   "execution_count": 13,
   "metadata": {},
   "outputs": [
    {
     "data": {
      "text/plain": [
       "array(True)"
      ]
     },
     "execution_count": 13,
     "metadata": {},
     "output_type": "execute_result"
    }
   ],
   "source": [
    "test = \"ha\"\n",
    "array = np.array([\"ha\", \"hi\"])\n",
    "np.isin(test, array)"
   ]
  },
  {
   "cell_type": "code",
   "execution_count": 14,
   "metadata": {},
   "outputs": [],
   "source": [
    "chr_ordered = np.array([\"chr1\", \"chr2\", \"chr3\", \"chr4\",\"chr5\",\"chr6\",\"chr7\",\"chr8\", \"chr9\",\"chr10\",\"chr11\",\"chr12\",\"chr13\",\"chr14\",\"chr15\",\"chr16\",\"chr17\",\"chr18\",\"chr19\", \"chr20\",\"chr21\",\"chr22\",\"chrX\",\"chrY\"])\n",
    "c = a.filter(lambda x: np.isin(x.chrom, chr_ordered)).saveas(\"ARNT_filtered.bed\")\n"
   ]
  },
  {
   "cell_type": "code",
   "execution_count": 119,
   "metadata": {},
   "outputs": [
    {
     "data": {
      "text/html": [
       "<div>\n",
       "<style scoped>\n",
       "    .dataframe tbody tr th:only-of-type {\n",
       "        vertical-align: middle;\n",
       "    }\n",
       "\n",
       "    .dataframe tbody tr th {\n",
       "        vertical-align: top;\n",
       "    }\n",
       "\n",
       "    .dataframe thead th {\n",
       "        text-align: right;\n",
       "    }\n",
       "</style>\n",
       "<table border=\"1\" class=\"dataframe\">\n",
       "  <thead>\n",
       "    <tr style=\"text-align: right;\">\n",
       "      <th></th>\n",
       "      <th>chrom</th>\n",
       "      <th>start</th>\n",
       "      <th>end</th>\n",
       "      <th>name</th>\n",
       "      <th>score</th>\n",
       "      <th>strand</th>\n",
       "    </tr>\n",
       "  </thead>\n",
       "  <tbody>\n",
       "    <tr>\n",
       "      <th>0</th>\n",
       "      <td>chr1</td>\n",
       "      <td>827391</td>\n",
       "      <td>827499</td>\n",
       "      <td>.</td>\n",
       "      <td>0</td>\n",
       "      <td>+</td>\n",
       "    </tr>\n",
       "    <tr>\n",
       "      <th>1</th>\n",
       "      <td>chr1</td>\n",
       "      <td>827504</td>\n",
       "      <td>827610</td>\n",
       "      <td>.</td>\n",
       "      <td>0</td>\n",
       "      <td>+</td>\n",
       "    </tr>\n",
       "    <tr>\n",
       "      <th>2</th>\n",
       "      <td>chr1</td>\n",
       "      <td>865784</td>\n",
       "      <td>865892</td>\n",
       "      <td>.</td>\n",
       "      <td>0</td>\n",
       "      <td>+</td>\n",
       "    </tr>\n",
       "    <tr>\n",
       "      <th>3</th>\n",
       "      <td>chr1</td>\n",
       "      <td>869795</td>\n",
       "      <td>869901</td>\n",
       "      <td>.</td>\n",
       "      <td>0</td>\n",
       "      <td>+</td>\n",
       "    </tr>\n",
       "    <tr>\n",
       "      <th>4</th>\n",
       "      <td>chr1</td>\n",
       "      <td>904640</td>\n",
       "      <td>904746</td>\n",
       "      <td>.</td>\n",
       "      <td>0</td>\n",
       "      <td>+</td>\n",
       "    </tr>\n",
       "    <tr>\n",
       "      <th>...</th>\n",
       "      <td>...</td>\n",
       "      <td>...</td>\n",
       "      <td>...</td>\n",
       "      <td>...</td>\n",
       "      <td>...</td>\n",
       "      <td>...</td>\n",
       "    </tr>\n",
       "    <tr>\n",
       "      <th>97141</th>\n",
       "      <td>chrY</td>\n",
       "      <td>16646113</td>\n",
       "      <td>16646219</td>\n",
       "      <td>.</td>\n",
       "      <td>0</td>\n",
       "      <td>-</td>\n",
       "    </tr>\n",
       "    <tr>\n",
       "      <th>97142</th>\n",
       "      <td>chrY</td>\n",
       "      <td>16831575</td>\n",
       "      <td>16831683</td>\n",
       "      <td>.</td>\n",
       "      <td>0</td>\n",
       "      <td>-</td>\n",
       "    </tr>\n",
       "    <tr>\n",
       "      <th>97143</th>\n",
       "      <td>chrY</td>\n",
       "      <td>56697203</td>\n",
       "      <td>56697309</td>\n",
       "      <td>.</td>\n",
       "      <td>0</td>\n",
       "      <td>-</td>\n",
       "    </tr>\n",
       "    <tr>\n",
       "      <th>97144</th>\n",
       "      <td>chrY</td>\n",
       "      <td>56707185</td>\n",
       "      <td>56707291</td>\n",
       "      <td>.</td>\n",
       "      <td>0</td>\n",
       "      <td>-</td>\n",
       "    </tr>\n",
       "    <tr>\n",
       "      <th>97145</th>\n",
       "      <td>chrY</td>\n",
       "      <td>56734672</td>\n",
       "      <td>56734780</td>\n",
       "      <td>.</td>\n",
       "      <td>0</td>\n",
       "      <td>-</td>\n",
       "    </tr>\n",
       "  </tbody>\n",
       "</table>\n",
       "<p>97146 rows × 6 columns</p>\n",
       "</div>"
      ],
      "text/plain": [
       "      chrom     start       end name  score strand\n",
       "0      chr1    827391    827499    .      0      +\n",
       "1      chr1    827504    827610    .      0      +\n",
       "2      chr1    865784    865892    .      0      +\n",
       "3      chr1    869795    869901    .      0      +\n",
       "4      chr1    904640    904746    .      0      +\n",
       "...     ...       ...       ...  ...    ...    ...\n",
       "97141  chrY  16646113  16646219    .      0      -\n",
       "97142  chrY  16831575  16831683    .      0      -\n",
       "97143  chrY  56697203  56697309    .      0      -\n",
       "97144  chrY  56707185  56707291    .      0      -\n",
       "97145  chrY  56734672  56734780    .      0      -\n",
       "\n",
       "[97146 rows x 6 columns]"
      ]
     },
     "execution_count": 119,
     "metadata": {},
     "output_type": "execute_result"
    }
   ],
   "source": [
    "ARNT_filter_path = \"/sybig/home/jme/Bachelorarbeit/Collect_Data/ARNT_filtered.bed\"\n",
    "c.to_dataframe()"
   ]
  },
  {
   "cell_type": "markdown",
   "metadata": {},
   "source": [
    "## Processing UniBind Data"
   ]
  },
  {
   "cell_type": "markdown",
   "metadata": {},
   "source": [
    "The genomic Locations of all direct TFBS in the human genome of the robust collection are dowloanded from the UniBind Database."
   ]
  },
  {
   "cell_type": "code",
   "execution_count": 47,
   "metadata": {},
   "outputs": [
    {
     "data": {
      "text/plain": [
       "97492844"
      ]
     },
     "execution_count": 47,
     "metadata": {},
     "output_type": "execute_result"
    }
   ],
   "source": [
    "import pybedtools\n",
    "\n",
    "raw_UniBind_path = \"/sybig/projects/GeneRegulation/data/jme/Bachelorarbeit/raw_data/hg38_UniBind_allTFBSs.bed\"\n",
    "\n",
    "raw_UniBind = pybedtools.BedTool(raw_UniBind_path)\n",
    "\n",
    "#count entrys of raw data needs ca 8 minutes. --> 97492844\n",
    "#raw_UniBind.count()\n"
   ]
  },
  {
   "cell_type": "markdown",
   "metadata": {},
   "source": [
    "This data contains 97.492.844 genomic locations from chr1-chr22 and chrX and chrY, but unfortunaly also many locations which could not be assigned to any chromosome and will be refered as ChrUn or ChrN_random. Therefore the raw data will be filtered and saved in a new BED file."
   ]
  },
  {
   "cell_type": "code",
   "execution_count": 82,
   "metadata": {},
   "outputs": [],
   "source": [
    "# Filter the raw data and only save chr1-22 and chrX and chrY in BED file\n",
    "\n",
    "chr_ordered = np.array([\"chr1\", \"chr2\", \"chr3\", \"chr4\",\"chr5\",\"chr6\",\"chr7\",\"chr8\", \"chr9\",\"chr10\",\"chr11\",\"chr12\",\"chr13\",\"chr14\",\"chr15\",\"chr16\",\"chr17\",\"chr18\",\"chr19\", \"chr20\",\"chr21\",\"chr22\",\"chrX\",\"chrY\"])\n",
    "output = \"/sybig/projects/GeneRegulation/data/jme/Bachelorarbeit/raw_data/UniBind_allTFBS_filtered.bed\"\n",
    "\n",
    "data_unibind = raw_UniBind.filter(lambda x: np.isin(x.chrom, chr_ordered)).saveas(output)"
   ]
  },
  {
   "cell_type": "code",
   "execution_count": 107,
   "metadata": {},
   "outputs": [],
   "source": [
    "path = \"/sybig/projects/GeneRegulation/data/jme/Bachelorarbeit/raw_data/UniBind_TFBSs.bed\"\n",
    "data = pybedtools.BedTool(path)\n"
   ]
  },
  {
   "cell_type": "code",
   "execution_count": 118,
   "metadata": {},
   "outputs": [
    {
     "name": "stdout",
     "output_type": "stream",
     "text": [
      "['chr1', '16243', '16262', 'EXP000597_HeLa-S3--cervical-adenocarcinoma-_CTCF_MA0139.1', '0', '+', '16243', '16262', '3,22,250']\n"
     ]
    }
   ],
   "source": [
    "tfbs = data[4]\n",
    "print(tfbs.fields)"
   ]
  },
  {
   "cell_type": "markdown",
   "metadata": {},
   "source": [
    "## Processing RefSeq Data"
   ]
  },
  {
   "cell_type": "markdown",
   "metadata": {},
   "source": [
    "The RefSeq database includes genomic regions for all known genes in the human genome. \n",
    "These files are in GFF format and not in BED format, which means that it has completly different annotations (e.g. NC_000001.11 instead of chr1). \n",
    "\n",
    "But BedTools can also work with GFF files but it maybe more complicated in the future. "
   ]
  },
  {
   "cell_type": "code",
   "execution_count": 78,
   "metadata": {},
   "outputs": [
    {
     "name": "stdout",
     "output_type": "stream",
     "text": [
      "NC_000001.11\tBestRefSeq\ttranscript\t11874\t14409\t.\t+\t.\tID=rna-NR_046018.2;Parent=gene-DDX11L1;Dbxref=GeneID:100287102,GenBank:NR_046018.2,HGNC:HGNC:37102;Name=NR_046018.2;gbkey=misc_RNA;gene=DDX11L1;product=DEAD/H-box helicase 11 like 1 (pseudogene);pseudo=true;transcript_id=NR_046018.2\n",
      "\n"
     ]
    }
   ],
   "source": [
    "refseq_path = \"/sybig/projects/GeneRegulation/data/jme/Bachelorarbeit/raw_data/ncbi_dataset/data/GCF_000001405.40/genomic.gff\"\n",
    "refseq = pybedtools.BedTool(refseq_path)\n",
    "\n",
    "print(refseq[2])"
   ]
  },
  {
   "cell_type": "markdown",
   "metadata": {},
   "source": [
    "Maybe its simpler to use the UCSC RefGene Files, which are stored in a GTF format and only contains the curated genes."
   ]
  },
  {
   "cell_type": "code",
   "execution_count": 114,
   "metadata": {},
   "outputs": [
    {
     "name": "stdout",
     "output_type": "stream",
     "text": [
      "['chr1', 'refGene', 'transcript', '11874', '14409', '.', '+', '.', 'gene_id \"DDX11L1\"; transcript_id \"NR_046018\";  gene_name \"DDX11L1\";']\n"
     ]
    }
   ],
   "source": [
    "ucsc_refseq_path = \"/sybig/projects/GeneRegulation/data/jme/Bachelorarbeit/raw_data/hg38.refGene.gtf\"\n",
    "ucsc_refseq = pybedtools.BedTool(ucsc_refseq_path)\n",
    "\n",
    "interval = ucsc_refseq[0]\n",
    "print(interval.fields)\n"
   ]
  },
  {
   "cell_type": "markdown",
   "metadata": {},
   "source": [
    "To generate Promotors to each gene the exons are not necessary and the dataset can be reduced to the whole transcripts."
   ]
  },
  {
   "cell_type": "code",
   "execution_count": 88,
   "metadata": {},
   "outputs": [],
   "source": [
    "df_genes = ucsc_refseq.to_dataframe()\n",
    "df_transcripts = df_genes[df_genes[\"feature\"]==\"transcript\"]\n"
   ]
  },
  {
   "cell_type": "code",
   "execution_count": 93,
   "metadata": {},
   "outputs": [
    {
     "data": {
      "text/html": [
       "<div>\n",
       "<style scoped>\n",
       "    .dataframe tbody tr th:only-of-type {\n",
       "        vertical-align: middle;\n",
       "    }\n",
       "\n",
       "    .dataframe tbody tr th {\n",
       "        vertical-align: top;\n",
       "    }\n",
       "\n",
       "    .dataframe thead th {\n",
       "        text-align: right;\n",
       "    }\n",
       "</style>\n",
       "<table border=\"1\" class=\"dataframe\">\n",
       "  <thead>\n",
       "    <tr style=\"text-align: right;\">\n",
       "      <th></th>\n",
       "      <th>seqname</th>\n",
       "      <th>source</th>\n",
       "      <th>feature</th>\n",
       "      <th>start</th>\n",
       "      <th>end</th>\n",
       "      <th>score</th>\n",
       "      <th>strand</th>\n",
       "      <th>frame</th>\n",
       "      <th>attributes</th>\n",
       "    </tr>\n",
       "  </thead>\n",
       "  <tbody>\n",
       "    <tr>\n",
       "      <th>0</th>\n",
       "      <td>chr1</td>\n",
       "      <td>refGene</td>\n",
       "      <td>transcript</td>\n",
       "      <td>11874</td>\n",
       "      <td>14409</td>\n",
       "      <td>.</td>\n",
       "      <td>+</td>\n",
       "      <td>.</td>\n",
       "      <td>gene_id \"DDX11L1\"; transcript_id \"NR_046018\"; ...</td>\n",
       "    </tr>\n",
       "    <tr>\n",
       "      <th>4</th>\n",
       "      <td>chr1</td>\n",
       "      <td>refGene</td>\n",
       "      <td>transcript</td>\n",
       "      <td>14362</td>\n",
       "      <td>29370</td>\n",
       "      <td>.</td>\n",
       "      <td>-</td>\n",
       "      <td>.</td>\n",
       "      <td>gene_id \"WASH7P\"; transcript_id \"NR_024540\";  ...</td>\n",
       "    </tr>\n",
       "    <tr>\n",
       "      <th>16</th>\n",
       "      <td>chr1</td>\n",
       "      <td>refGene</td>\n",
       "      <td>transcript</td>\n",
       "      <td>17369</td>\n",
       "      <td>17436</td>\n",
       "      <td>.</td>\n",
       "      <td>-</td>\n",
       "      <td>.</td>\n",
       "      <td>gene_id \"MIR6859-1\"; transcript_id \"NR_106918\"...</td>\n",
       "    </tr>\n",
       "    <tr>\n",
       "      <th>18</th>\n",
       "      <td>chr1</td>\n",
       "      <td>refGene</td>\n",
       "      <td>transcript</td>\n",
       "      <td>17369</td>\n",
       "      <td>17436</td>\n",
       "      <td>.</td>\n",
       "      <td>-</td>\n",
       "      <td>.</td>\n",
       "      <td>gene_id \"MIR6859-2\"; transcript_id \"NR_107062\"...</td>\n",
       "    </tr>\n",
       "    <tr>\n",
       "      <th>20</th>\n",
       "      <td>chr1</td>\n",
       "      <td>refGene</td>\n",
       "      <td>transcript</td>\n",
       "      <td>17369</td>\n",
       "      <td>17436</td>\n",
       "      <td>.</td>\n",
       "      <td>-</td>\n",
       "      <td>.</td>\n",
       "      <td>gene_id \"MIR6859-3\"; transcript_id \"NR_107063\"...</td>\n",
       "    </tr>\n",
       "    <tr>\n",
       "      <th>...</th>\n",
       "      <td>...</td>\n",
       "      <td>...</td>\n",
       "      <td>...</td>\n",
       "      <td>...</td>\n",
       "      <td>...</td>\n",
       "      <td>...</td>\n",
       "      <td>...</td>\n",
       "      <td>...</td>\n",
       "      <td>...</td>\n",
       "    </tr>\n",
       "    <tr>\n",
       "      <th>1893688</th>\n",
       "      <td>chr6</td>\n",
       "      <td>refGene</td>\n",
       "      <td>transcript</td>\n",
       "      <td>158536640</td>\n",
       "      <td>158635429</td>\n",
       "      <td>.</td>\n",
       "      <td>+</td>\n",
       "      <td>.</td>\n",
       "      <td>gene_id \"TMEM181\"; transcript_id \"NM_020823\"; ...</td>\n",
       "    </tr>\n",
       "    <tr>\n",
       "      <th>1893727</th>\n",
       "      <td>chr6</td>\n",
       "      <td>refGene</td>\n",
       "      <td>transcript</td>\n",
       "      <td>158560091</td>\n",
       "      <td>158635429</td>\n",
       "      <td>.</td>\n",
       "      <td>+</td>\n",
       "      <td>.</td>\n",
       "      <td>gene_id \"TMEM181\"; transcript_id \"NM_001376850...</td>\n",
       "    </tr>\n",
       "    <tr>\n",
       "      <th>1893766</th>\n",
       "      <td>chr6</td>\n",
       "      <td>refGene</td>\n",
       "      <td>transcript</td>\n",
       "      <td>158560091</td>\n",
       "      <td>158635429</td>\n",
       "      <td>.</td>\n",
       "      <td>+</td>\n",
       "      <td>.</td>\n",
       "      <td>gene_id \"TMEM181\"; transcript_id \"NM_001376852...</td>\n",
       "    </tr>\n",
       "    <tr>\n",
       "      <th>1893805</th>\n",
       "      <td>chr6</td>\n",
       "      <td>refGene</td>\n",
       "      <td>transcript</td>\n",
       "      <td>158560091</td>\n",
       "      <td>158635429</td>\n",
       "      <td>.</td>\n",
       "      <td>+</td>\n",
       "      <td>.</td>\n",
       "      <td>gene_id \"TMEM181\"; transcript_id \"NM_001376854...</td>\n",
       "    </tr>\n",
       "    <tr>\n",
       "      <th>1893842</th>\n",
       "      <td>chr6</td>\n",
       "      <td>refGene</td>\n",
       "      <td>transcript</td>\n",
       "      <td>158560091</td>\n",
       "      <td>158635429</td>\n",
       "      <td>.</td>\n",
       "      <td>+</td>\n",
       "      <td>.</td>\n",
       "      <td>gene_id \"TMEM181\"; transcript_id \"NR_164859\"; ...</td>\n",
       "    </tr>\n",
       "  </tbody>\n",
       "</table>\n",
       "<p>84787 rows × 9 columns</p>\n",
       "</div>"
      ],
      "text/plain": [
       "        seqname   source     feature      start        end score strand frame  \\\n",
       "0          chr1  refGene  transcript      11874      14409     .      +     .   \n",
       "4          chr1  refGene  transcript      14362      29370     .      -     .   \n",
       "16         chr1  refGene  transcript      17369      17436     .      -     .   \n",
       "18         chr1  refGene  transcript      17369      17436     .      -     .   \n",
       "20         chr1  refGene  transcript      17369      17436     .      -     .   \n",
       "...         ...      ...         ...        ...        ...   ...    ...   ...   \n",
       "1893688    chr6  refGene  transcript  158536640  158635429     .      +     .   \n",
       "1893727    chr6  refGene  transcript  158560091  158635429     .      +     .   \n",
       "1893766    chr6  refGene  transcript  158560091  158635429     .      +     .   \n",
       "1893805    chr6  refGene  transcript  158560091  158635429     .      +     .   \n",
       "1893842    chr6  refGene  transcript  158560091  158635429     .      +     .   \n",
       "\n",
       "                                                attributes  \n",
       "0        gene_id \"DDX11L1\"; transcript_id \"NR_046018\"; ...  \n",
       "4        gene_id \"WASH7P\"; transcript_id \"NR_024540\";  ...  \n",
       "16       gene_id \"MIR6859-1\"; transcript_id \"NR_106918\"...  \n",
       "18       gene_id \"MIR6859-2\"; transcript_id \"NR_107062\"...  \n",
       "20       gene_id \"MIR6859-3\"; transcript_id \"NR_107063\"...  \n",
       "...                                                    ...  \n",
       "1893688  gene_id \"TMEM181\"; transcript_id \"NM_020823\"; ...  \n",
       "1893727  gene_id \"TMEM181\"; transcript_id \"NM_001376850...  \n",
       "1893766  gene_id \"TMEM181\"; transcript_id \"NM_001376852...  \n",
       "1893805  gene_id \"TMEM181\"; transcript_id \"NM_001376854...  \n",
       "1893842  gene_id \"TMEM181\"; transcript_id \"NR_164859\"; ...  \n",
       "\n",
       "[84787 rows x 9 columns]"
      ]
     },
     "execution_count": 93,
     "metadata": {},
     "output_type": "execute_result"
    }
   ],
   "source": [
    "df_transcripts"
   ]
  },
  {
   "cell_type": "markdown",
   "metadata": {},
   "source": [
    "Ziel: Entweder durch dataframe oder besser noch durch .fields[2] die datei nach allen transcripts filtern. Vielleicht sogar Gleichzeitig den Promotor definieren. Zunächst als 200bp upstream. Diese dann in neuer BED oder GTF file speichern.\n",
    "Wichtige Atribute die zuordbar sein müssen ist: Strang des Gens und gene_id \n",
    "Viellecht ist es ja sogar möglich genau die selben daten wie oben (in attributes) zu behalten und in \"name\" von bed file zu speichern.\n",
    "Oder man lässt sie lieber so als gff file und hat dann in .name den gen namen und in .strand den strang, was für weitere analysen reichen sollte."
   ]
  }
 ],
 "metadata": {
  "kernelspec": {
   "display_name": "Python 3",
   "language": "python",
   "name": "python3"
  },
  "language_info": {
   "codemirror_mode": {
    "name": "ipython",
    "version": 3
   },
   "file_extension": ".py",
   "mimetype": "text/x-python",
   "name": "python",
   "nbconvert_exporter": "python",
   "pygments_lexer": "ipython3",
   "version": "3.8.10"
  }
 },
 "nbformat": 4,
 "nbformat_minor": 2
}
