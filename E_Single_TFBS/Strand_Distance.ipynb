{
 "cells": [
  {
   "cell_type": "code",
   "execution_count": 1,
   "metadata": {},
   "outputs": [],
   "source": [
    "#import pybedtools\n",
    "\n",
    "import numpy as np\n",
    "import pandas as pd\n",
    "\n",
    "#import matplotlib as mpl\n",
    "import matplotlib.pyplot as plt\n",
    "\n",
    "import seaborn as sns\n",
    "#import seaborn.objects as so\n",
    "\n",
    "from scipy.stats import pearsonr, spearmanr\n",
    "#import glob"
   ]
  },
  {
   "cell_type": "code",
   "execution_count": 12,
   "metadata": {},
   "outputs": [],
   "source": [
    "# path = \"/sybig/projects/GeneRegulation/data/jme/Bachelorarbeit/data/Single_TFBS/All_TFBS.csv\"\n",
    "path = r\"C:\\Users\\julia\\MyPython\\BA\\All_TFBS.csv\"\n",
    "df_combined = pd.read_csv(path)\n",
    "df_combined = df_combined[df_combined[\"chr\"] != \"chrM\"]"
   ]
  },
  {
   "cell_type": "code",
   "execution_count": 13,
   "metadata": {},
   "outputs": [],
   "source": [
    "def add_strand_orientation_pct(df):\n",
    "    \"\"\"\n",
    "    Calculates the fraction for TFBS occurences for each TFBS and adds a new column at the end of the DataFrame.\n",
    "    1 = all non-Template Strand \n",
    "    -1 =  all Template strand\n",
    "    \"\"\"\n",
    "    df_change = df.copy()\n",
    "    df_change[\"strand_orientation\"] = np.array([1 if i == \"nT\" else -1 for i in df[\"strand_orientation\"]])\n",
    "    mean_orientation_arr = df_change.groupby(by=[\"tf\", \"geneID\", \"homotypic_count\"])[\"strand_orientation\"].transform(\"mean\")\n",
    "    df_new = df.copy().insert(loc=6, column=\"homotypic_strand_orientation\", value=mean_orientation_arr)\n",
    "    return df_new"
   ]
  },
  {
   "cell_type": "code",
   "execution_count": 14,
   "metadata": {},
   "outputs": [],
   "source": [
    "df_new = add_strand_orientation_pct(df_combined)\n",
    "df_new "
   ]
  },
  {
   "cell_type": "code",
   "execution_count": 15,
   "metadata": {},
   "outputs": [
    {
     "name": "stdout",
     "output_type": "stream",
     "text": [
      "None\n"
     ]
    }
   ],
   "source": [
    "print(df_new)"
   ]
  },
  {
   "cell_type": "code",
   "execution_count": null,
   "metadata": {},
   "outputs": [],
   "source": []
  }
 ],
 "metadata": {
  "kernelspec": {
   "display_name": "base",
   "language": "python",
   "name": "python3"
  },
  "language_info": {
   "codemirror_mode": {
    "name": "ipython",
    "version": 3
   },
   "file_extension": ".py",
   "mimetype": "text/x-python",
   "name": "python",
   "nbconvert_exporter": "python",
   "pygments_lexer": "ipython3",
   "version": "3.11.9"
  }
 },
 "nbformat": 4,
 "nbformat_minor": 2
}
