{
 "cells": [
  {
   "cell_type": "code",
   "execution_count": 4,
   "metadata": {},
   "outputs": [],
   "source": [
    "import pybedtools\n",
    "\n",
    "import numpy as np\n",
    "import pandas as pd\n",
    "\n",
    "import matplotlib as mpl\n",
    "import matplotlib.pyplot as plt\n",
    "\n",
    "import seaborn as sns\n",
    "import seaborn.objects as so\n",
    "\n",
    "from scipy.stats import pearsonr, spearmanr\n",
    "import glob\n",
    "\n",
    "\n"
   ]
  },
  {
   "cell_type": "markdown",
   "metadata": {},
   "source": [
    "# 1. Analysis of homotypic TFBSs\n",
    "    e.g ESR1\n",
    "    - From TFBS-BED get, GeneID, TSS_dist, homotypic_count for each ESR1 in the region \n",
    "    - Split data in 4 bins, so that ESR1 is (0-50, 50-100, 100-150, 150-200)bp away from the TSS\n",
    "    - Generate Table per bin with number of TFBS in col_1 and Genexpresion in col_2. Every Tissue can be a seperate row."
   ]
  },
  {
   "cell_type": "code",
   "execution_count": null,
   "metadata": {},
   "outputs": [],
   "source": [
    "data = pybedtools.BedTool(\"/sybig/projects/GeneRegulation/data/jme/Bachelorarbeit/data/Promotor_with_TFBS/New_TFBS_BED/Prom_with_TFBSs.bed\")\n",
    "gtex_df = pd.read_csv(\"/sybig/projects/GeneRegulation/data/jme/Bachelorarbeit/data/GTEx_GenExpr_ucsc.csv\", sep=\",\")\n",
    "gtex_df.columns"
   ]
  },
  {
   "cell_type": "markdown",
   "metadata": {},
   "source": [
    "## Using single_tfbs_to_csv.py"
   ]
  },
  {
   "cell_type": "markdown",
   "metadata": {},
   "source": [
    "The script generates for every TF a own csv file with all important information. \n",
    "\n",
    "python single_tfbs_to_csv.py -f /sybig/projects/GeneRegulation/data/jme/Bachelorarbeit/data/Promotor_with_TFBS/New_TFBS_BED/Prom_with_TFBSs.bed -out /sybig/projects/GeneRegulation/data/jme/Bachelorarbeit/data/Single_TFBS/Protein_Region_single_tfbs -geneType \"protein_coding\"\n",
    "\n",
    "This will lead to a folder with all important csv files."
   ]
  },
  {
   "cell_type": "code",
   "execution_count": null,
   "metadata": {},
   "outputs": [],
   "source": [
    "csv_folder = \"/sybig/projects/GeneRegulation/data/jme/Bachelorarbeit/data/Single_TFBS/Protein_Region_single_TFBS_with_GTEx\"\n",
    "tf_name = \"ESR1\"\n",
    "csv_file = f\"{csv_folder}/{tf_name}.csv\""
   ]
  },
  {
   "cell_type": "code",
   "execution_count": null,
   "metadata": {},
   "outputs": [],
   "source": [
    "def get_df_for_single_tfbs(csv_file):\n",
    "    # Specify column names\n",
    "    columns_01 = [\"chr\",\"geneID\",\"tf\",\"close_tss\",\"dist_tss\",\"strand_orientation\",\"homotypic_count\",\"all_tfbs_count\",\"all_tfbs_unique_count\"]\n",
    "    columns_02 = ['Adipose - Subcutaneous', 'Adipose - Visceral (Omentum)',\n",
    "       'Adrenal Gland', 'Artery - Aorta', 'Artery - Coronary',\n",
    "       'Artery - Tibial', 'Bladder', 'Brain - Amygdala',\n",
    "       'Brain - Anterior cingulate cortex (BA24)',\n",
    "       'Brain - Caudate (basal ganglia)', 'Brain - Cerebellar Hemisphere',\n",
    "       'Brain - Cerebellum', 'Brain - Cortex', 'Brain - Frontal Cortex (BA9)',\n",
    "       'Brain - Hippocampus', 'Brain - Hypothalamus',\n",
    "       'Brain - Nucleus accumbens (basal ganglia)',\n",
    "       'Brain - Putamen (basal ganglia)', 'Brain - Spinal cord (cervical c-1)',\n",
    "       'Brain - Substantia nigra', 'Breast - Mammary Tissue',\n",
    "       'Cells - Cultured fibroblasts', 'Cells - EBV-transformed lymphocytes',\n",
    "       'Cervix - Ectocervix', 'Cervix - Endocervix', 'Colon - Sigmoid',\n",
    "       'Colon - Transverse', 'Esophagus - Gastroesophageal Junction',\n",
    "       'Esophagus - Mucosa', 'Esophagus - Muscularis', 'Fallopian Tube',\n",
    "       'Heart - Atrial Appendage', 'Heart - Left Ventricle', 'Kidney - Cortex',\n",
    "       'Kidney - Medulla', 'Liver', 'Lung', 'Minor Salivary Gland',\n",
    "       'Muscle - Skeletal', 'Nerve - Tibial', 'Ovary', 'Pancreas', 'Pituitary',\n",
    "       'Prostate', 'Skin - Not Sun Exposed (Suprapubic)',\n",
    "       'Skin - Sun Exposed (Lower leg)', 'Small Intestine - Terminal Ileum',\n",
    "       'Spleen', 'Stomach', 'Testis', 'Thyroid', 'Uterus', 'Vagina',\n",
    "       'Whole Blood']\n",
    "    columns = columns_01 + list(columns_02)\n",
    "    # Read single csv file\n",
    "    tfbs_df = pd.read_csv(csv_file, names=columns)\n",
    "    return tfbs_df"
   ]
  },
  {
   "cell_type": "code",
   "execution_count": null,
   "metadata": {},
   "outputs": [],
   "source": [
    "tfbs = get_df_for_single_tfbs(csv_file)\n",
    "tfbs"
   ]
  },
  {
   "cell_type": "code",
   "execution_count": null,
   "metadata": {},
   "outputs": [],
   "source": [
    "geneexpr = tfbs.iloc[:,9:]\n",
    "tfbs"
   ]
  },
  {
   "cell_type": "markdown",
   "metadata": {},
   "source": [
    "In Order to calculate all tissues as independend Datapoint, it is necessary to generate for each geneexpr value a own row."
   ]
  },
  {
   "cell_type": "code",
   "execution_count": null,
   "metadata": {},
   "outputs": [],
   "source": [
    "def flatten_tissues_expand_df(tfbs_df):\n",
    "    tfbs_part_repeat = tfbs_df.iloc[:,:9]\n",
    "    tfbs_part_flatten = tfbs_df.iloc[:,9:]\n",
    "    \n",
    "    repeat_df =  pd.DataFrame(np.repeat(tfbs_part_repeat, len(tfbs_part_flatten.columns), axis=0))\n",
    "    flatten_arr = tfbs_part_flatten.to_numpy().flatten()\n",
    "    \n",
    "    repeat_df.columns = tfbs_part_repeat.columns\n",
    "    repeat_df[\"All_tissues\"] = flatten_arr\n",
    "\n",
    "    return repeat_df\n",
    "\n",
    "#tfbs_exp_df = flatten_tissues_expand_df(tfbs)"
   ]
  },
  {
   "cell_type": "markdown",
   "metadata": {},
   "source": [
    "Now The Spearman Correlation can be measured for each tfbs"
   ]
  },
  {
   "cell_type": "code",
   "execution_count": null,
   "metadata": {},
   "outputs": [],
   "source": [
    "def homotyic_pearson(tfbs_df):\n",
    "    # First the Dataframe will be exoanded to include every tissue.\n",
    "    expand_df = flatten_tissues_expand_df(tfbs_df)\n",
    "\n",
    "    homotyic_count = expand_df.homotypic_count.to_numpy()\n",
    "    geneexpr = expand_df.All_tissues.to_numpy()\n",
    "\n",
    "    r,p_value = pearsonr(geneexpr, homotyic_count)\n",
    "\n",
    "    return r,p_value\n",
    "#r,p_value = homotyic_pearson(tfbs)\n"
   ]
  },
  {
   "cell_type": "code",
   "execution_count": null,
   "metadata": {},
   "outputs": [],
   "source": [
    "r,p_value\n"
   ]
  },
  {
   "cell_type": "markdown",
   "metadata": {},
   "source": [
    "### Plot Genexpr for homotypic count"
   ]
  },
  {
   "cell_type": "code",
   "execution_count": null,
   "metadata": {},
   "outputs": [],
   "source": [
    "def plot_homotypic_count_to_expr(tfbs_df, output):\n",
    "    _# first the Dataframe will be exoanded to include every tissue.\n",
    "    expand_df = flatten_tissues_expand_df(tfbs_df)\n",
    "\n",
    "    homotyic_count = expand_df.homotypic_count.to_numpy()\n",
    "    geneexpr = expand_df.All_tissues.to_numpy()\n",
    "\n",
    "    # Split expr values according to homotypic count\n",
    "    unique_count = np.unique(homotyic_count)\n",
    "    geneexpr_2d_lst = []\n",
    "    sample_sizes = []\n",
    "    for i in unique_count:\n",
    "        i_exp = geneexpr[homotyic_count == i]\n",
    "        # log2 of i_exp:\n",
    "        i_exp_non_zero = i_exp[i_exp!=0]\n",
    "        i_exp_log = np.log2(i_exp_non_zero)\n",
    "\n",
    "        geneexpr_2d_lst.append(list(i_exp_log))\n",
    "        sample_sizes.append(len(i_exp_non_zero))\n",
    "    \n",
    "    fig, ax1 = plt.subplots()\n",
    "    bp1 = ax1.boxplot(geneexpr_2d_lst, patch_artist=True,  labels=[f\"{count}\\n(n={size})\" for count, size in zip(unique_count, sample_sizes)])\n",
    "    ax1.set_xlabel(\"homotypic count\")\n",
    "    ax1.set_ylabel(\"log2(Expr)\")\n",
    "    ax1.set_xticklabels(unique_count)\n",
    "    ax1.set_xlim(0, len(unique_count)+0.5)\n",
    "    ax1.set_ylim(min([min(box) for box in geneexpr_2d_lst])- 4, max([max(box) for box in geneexpr_2d_lst])+ 4)\n",
    "     # Add labels on top of each boxplot\n",
    "    for i, box in enumerate(bp1['boxes']):\n",
    "        # Get the x and y coordinates of the box\n",
    "        xpos = i+1\n",
    "        ypos = max(geneexpr_2d_lst[i])+1\n",
    "        \n",
    "        # Add label\n",
    "        ax1.text(xpos, ypos, f\"n={sample_sizes[i]}\", ha='center', va='bottom', color='black', fontsize=\"x-small\")\n",
    "\n",
    "    plt.title(\"\")\n",
    "    fig.savefig(output)\n",
    "    plt.show()\n",
    "\n",
    "    return "
   ]
  },
  {
   "cell_type": "code",
   "execution_count": null,
   "metadata": {},
   "outputs": [],
   "source": [
    "output = \"/sybig/projects/GeneRegulation/data/jme/Bachelorarbeit/data/Single_TFBS/Boxplot/ESR1_GeneExpr_by_count.png\"\n",
    "plot_homotypic_count_to_expr(tfbs, output)"
   ]
  },
  {
   "cell_type": "markdown",
   "metadata": {},
   "source": [
    "# Calculate Pearson (Spearman) Coeffizient for all TFBSs"
   ]
  },
  {
   "cell_type": "code",
   "execution_count": null,
   "metadata": {},
   "outputs": [],
   "source": [
    "csv_folder = \"/sybig/projects/GeneRegulation/data/jme/Bachelorarbeit/data/Single_TFBS/Protein_Region_single_TFBS_with_GTEx\"\n"
   ]
  },
  {
   "cell_type": "markdown",
   "metadata": {},
   "source": [
    "Calculate pearson coff and plot it"
   ]
  },
  {
   "cell_type": "code",
   "execution_count": null,
   "metadata": {},
   "outputs": [],
   "source": [
    "def get_pearson_for_single_tf(csv_file):\n",
    "    tfbs_df = get_df_for_single_tfbs(csv_file)\n",
    "    tf_name = tfbs_df.tf.unique()[0]\n",
    "    tfbs_df_flatten = flatten_tissues_expand_df(tfbs_df)\n",
    "    r, p_value = homotyic_pearson(tfbs_df_flatten)\n",
    "    return tf_name, r, p_value\n",
    "    "
   ]
  },
  {
   "cell_type": "code",
   "execution_count": null,
   "metadata": {},
   "outputs": [],
   "source": [
    "def get_pearson_for_all_tf(csv_folder):\n",
    "    tf_paths = glob.glob(f\"{csv_folder}/*.csv\")\n",
    "\n",
    "    tf_dict = dict()\n",
    "    #p_value_dict = dict()\n",
    "    for tf_path in tf_paths:\n",
    "        tf_name, r, p_value = get_pearson_for_single_tf(tf_path)\n",
    "        tf_dict[tf_name] = r, p_value\n",
    "        # p_value_dict[tf_name] = p_value\n",
    "    return tf_dict\n",
    "        \n",
    "    "
   ]
  },
  {
   "cell_type": "code",
   "execution_count": null,
   "metadata": {},
   "outputs": [],
   "source": [
    "tf_dict = get_pearson_for_all_tf(csv_folder)\n",
    "tf_dict"
   ]
  },
  {
   "cell_type": "code",
   "execution_count": null,
   "metadata": {},
   "outputs": [],
   "source": []
  },
  {
   "cell_type": "code",
   "execution_count": null,
   "metadata": {},
   "outputs": [],
   "source": [
    "tf_names = [i[0] for i in tf_dict.items()]\n",
    "r_values = [i[1][0] for i in tf_dict.items()]\n",
    "p_values_log = [-np.log10(i[1][1]) for i in tf_dict.items()]\n",
    "\n",
    "# Sort TF by log p_value and filter put NaN\n",
    "df = pd.DataFrame({\"TFs\":tf_names, \"r\":r_values, \"p_values\": p_values_log})\n",
    "df = df.sort_values(by=\"p_values\", ascending=False)\n",
    "df = df[df.r.notnull()]\n",
    "df\n"
   ]
  },
  {
   "cell_type": "code",
   "execution_count": null,
   "metadata": {},
   "outputs": [],
   "source": [
    "# inf in df change for spearman\n",
    "# max_value = np.nanmax(df.p_values[df.p_values != np.inf])\n",
    "# df.p_values.replace([np.inf], max_value+30, inplace=True)\n",
    "# df\n",
    "\n",
    "# Change df \n",
    "\n",
    "#best 30 p_val\n",
    "df = df.iloc[:70] \n",
    "\n",
    "# p_value over -log(0.05)\n",
    "#df = df[df.p_values > -np.log10(0.05)]\n",
    "\n",
    "\n"
   ]
  },
  {
   "cell_type": "code",
   "execution_count": null,
   "metadata": {},
   "outputs": [],
   "source": [
    "x = df.TFs.to_numpy()\n",
    "p_value = df.p_values.to_numpy()\n",
    "r_value = df.r.to_numpy()\n",
    "\n",
    "min_r = min(r_value)\n",
    "max_r = max(r_value)\n",
    "\n",
    "# Create color map for bars based on r_value\n",
    "colors = plt.cm.viridis(r_value / r_value.max())  # Normalize r_value to range 0-1\n",
    "\n",
    "fig, ax = plt.subplots(figsize=(6,15))\n",
    "\n",
    "ax.barh(x, p_value, label=\"\", color= colors,  align='center')\n",
    "ax.invert_yaxis()\n",
    "\n",
    "# Add color bar\n",
    "cbar = plt.colorbar(plt.cm.ScalarMappable(cmap='viridis'),ax=ax,  orientation=\"horizontal\", location=\"top\")\n",
    "# fraction=0.009, pad=-0.03\n",
    "cbar.set_label('Pearson Correlation')\n",
    "cbar.set_ticklabels(np.round(np.arange(min_r, max_r, (max_r - min_r)/6),4))\n",
    "\n",
    "#ax.set_yticks(np.arange(len(x)), x)\n",
    "ax.set_xlabel(\"-log10(p-value)\")\n",
    "ax.set_ylabel(\"TFBSs\")\n",
    "ax.grid()\n",
    "fig.savefig(\"/sybig/projects/GeneRegulation/data/jme/Bachelorarbeit/data/Single_TFBS/Boxplot/Spearman_best_70_TFBS.png\")\n",
    "\n"
   ]
  },
  {
   "cell_type": "code",
   "execution_count": null,
   "metadata": {},
   "outputs": [],
   "source": [
    "df"
   ]
  },
  {
   "cell_type": "code",
   "execution_count": null,
   "metadata": {},
   "outputs": [],
   "source": []
  },
  {
   "cell_type": "markdown",
   "metadata": {},
   "source": [
    "## Extract Genexpression"
   ]
  },
  {
   "cell_type": "code",
   "execution_count": null,
   "metadata": {},
   "outputs": [],
   "source": [
    "def get_GeneExpr_for_geneIds(gtex_df, geneIds):\n",
    "    gene_expr = np.empty((0,len(gtex_df.columns)-1))\n",
    "    for id in geneIds:\n",
    "        red_df = gtex_df[gtex_df.Name == id]\n",
    "        if len(red_df) > 0 :\n",
    "         expr = red_df.to_numpy()[0][1:]\n",
    "        else:\n",
    "            print(f\"For {id} was no Expression Data found.\")\n",
    "            expr = np.zeros((1,len(gtex_df.columns)-1))\n",
    "\n",
    "        gene_expr = np.vstack((gene_expr , expr))    \n",
    "    return gene_expr\n"
   ]
  },
  {
   "cell_type": "code",
   "execution_count": null,
   "metadata": {},
   "outputs": [],
   "source": [
    "def get_GeneExpr_for_geneId(gtex_df, geneId):\n",
    "        \n",
    "    red_df = gtex_df[gtex_df.Name == geneId]\n",
    "    if len(red_df) > 0 :\n",
    "        expr = red_df.to_numpy()[0][1:]\n",
    "    else:\n",
    "        print(f\"For {geneId} was no Expression Data found.\")\n",
    "        expr = np.empty((1,len(gtex_df.columns)-1))\n",
    "        expr[:] = np.nan  \n",
    "    return expr"
   ]
  },
  {
   "cell_type": "markdown",
   "metadata": {},
   "source": [
    "# Calculate Genexpression for all TFBS"
   ]
  },
  {
   "cell_type": "code",
   "execution_count": 8,
   "metadata": {},
   "outputs": [],
   "source": [
    "csv_folder = \"/sybig/projects/GeneRegulation/data/jme/Bachelorarbeit/data/Single_TFBS/Protein_Region_single_TFBS_with_GTEx\"\n"
   ]
  },
  {
   "cell_type": "code",
   "execution_count": null,
   "metadata": {},
   "outputs": [],
   "source": [
    "def get_flat_Expr_for_single_tfbs(csv_file):\n",
    "    tfbs_df = get_df_for_single_tfbs(csv_file)\n",
    "    tf_name = tfbs_df.tf.unique()[0]\n",
    "    tfbs_df_flatten = flatten_tissues_expand_df(tfbs_df)\n",
    "\n",
    "    expr = tfbs_df_flatten.All_tissues.to_numpy()\n",
    "    \n",
    "    return tf_name, expr"
   ]
  },
  {
   "cell_type": "code",
   "execution_count": null,
   "metadata": {},
   "outputs": [],
   "source": [
    "get_flat_Expr_for_single_tfbs(f\"{csv_folder}/ESR1.csv\")"
   ]
  },
  {
   "cell_type": "code",
   "execution_count": null,
   "metadata": {},
   "outputs": [],
   "source": [
    "def get_flat_Expr_all_tfbs(csv_folder):\n",
    "    tf_paths = glob.glob(f\"{csv_folder}/*.csv\")\n",
    "\n",
    "    tf_dict = dict()\n",
    "    for tf_path in tf_paths:\n",
    "        tf_name, expr = get_flat_Expr_for_single_tfbs(tf_path)\n",
    "        tf_dict[tf_name] = expr\n",
    "    return tf_dict"
   ]
  },
  {
   "cell_type": "code",
   "execution_count": null,
   "metadata": {},
   "outputs": [],
   "source": [
    "expr_all_tf_dict = get_flat_Expr_all_tfbs(csv_folder)"
   ]
  },
  {
   "cell_type": "code",
   "execution_count": null,
   "metadata": {},
   "outputs": [],
   "source": [
    "import seaborn as sns\n",
    "\n",
    "tfbs_df = get_df_for_single_tfbs(csv_file)\n",
    "tfbs_df_flatten = flatten_tissues_expand_df(tfbs_df)\n",
    "tfbs_df_flatten"
   ]
  },
  {
   "cell_type": "code",
   "execution_count": null,
   "metadata": {},
   "outputs": [],
   "source": [
    "new_df = pd.concat(tfbs_df_flatten, tfbs_df_flatten, ignore_index=True)"
   ]
  },
  {
   "cell_type": "code",
   "execution_count": null,
   "metadata": {},
   "outputs": [],
   "source": [
    "def plot_expr_all_tf(expr_dict):\n",
    "\n",
    "    expr_dict_sort = dict(sorted(expr_dict.items(), key=lambda x: np.median(np.log2(x[1]))))\n",
    "\n",
    "    labels, data = [*zip(*expr_dict_sort.items())]\n",
    "\n",
    "    #log2 from data, note, that all 0 expr will be removed\n",
    "    data_log = tuple([np.log2(i) for i in data])\n",
    "\n",
    "    fig, ax = plt.subplots(figsize=(10,48))\n",
    "    ax.boxplot(data_log, len(labels)+1, labels=labels, vert=False)\n",
    "    ax.grid()\n",
    "\n",
    "    return"
   ]
  },
  {
   "cell_type": "code",
   "execution_count": null,
   "metadata": {},
   "outputs": [],
   "source": [
    "plot_expr_all_tf(expr_all_tf_dict)"
   ]
  },
  {
   "cell_type": "code",
   "execution_count": null,
   "metadata": {},
   "outputs": [],
   "source": [
    "data"
   ]
  },
  {
   "cell_type": "code",
   "execution_count": 7,
   "metadata": {},
   "outputs": [],
   "source": [
    "def get_df_for_all_tfbs(csv_folder):\n",
    "    # Specify column names\n",
    "    columns_01 = [\"chr\",\"geneID\",\"tf\",\"close_tss\",\"dist_tss\",\"strand_orientation\",\"homotypic_count\",\"all_tfbs_count\",\"all_tfbs_unique_count\"]\n",
    "    columns_02 = ['Adipose - Subcutaneous', 'Adipose - Visceral (Omentum)',\n",
    "       'Adrenal Gland', 'Artery - Aorta', 'Artery - Coronary',\n",
    "       'Artery - Tibial', 'Bladder', 'Brain - Amygdala',\n",
    "       'Brain - Anterior cingulate cortex (BA24)',\n",
    "       'Brain - Caudate (basal ganglia)', 'Brain - Cerebellar Hemisphere',\n",
    "       'Brain - Cerebellum', 'Brain - Cortex', 'Brain - Frontal Cortex (BA9)',\n",
    "       'Brain - Hippocampus', 'Brain - Hypothalamus',\n",
    "       'Brain - Nucleus accumbens (basal ganglia)',\n",
    "       'Brain - Putamen (basal ganglia)', 'Brain - Spinal cord (cervical c-1)',\n",
    "       'Brain - Substantia nigra', 'Breast - Mammary Tissue',\n",
    "       'Cells - Cultured fibroblasts', 'Cells - EBV-transformed lymphocytes',\n",
    "       'Cervix - Ectocervix', 'Cervix - Endocervix', 'Colon - Sigmoid',\n",
    "       'Colon - Transverse', 'Esophagus - Gastroesophageal Junction',\n",
    "       'Esophagus - Mucosa', 'Esophagus - Muscularis', 'Fallopian Tube',\n",
    "       'Heart - Atrial Appendage', 'Heart - Left Ventricle', 'Kidney - Cortex',\n",
    "       'Kidney - Medulla', 'Liver', 'Lung', 'Minor Salivary Gland',\n",
    "       'Muscle - Skeletal', 'Nerve - Tibial', 'Ovary', 'Pancreas', 'Pituitary',\n",
    "       'Prostate', 'Skin - Not Sun Exposed (Suprapubic)',\n",
    "       'Skin - Sun Exposed (Lower leg)', 'Small Intestine - Terminal Ileum',\n",
    "       'Spleen', 'Stomach', 'Testis', 'Thyroid', 'Uterus', 'Vagina',\n",
    "       'Whole Blood']\n",
    "    columns = columns_01 + list(columns_02)\n",
    "\n",
    "    # Get a list of all CSV files in a directory\n",
    "    csv_files = glob.glob(f\"{csv_folder}/*.csv\")\n",
    "\n",
    "    # Create an empty dataframe to store the combined data\n",
    "    combined_df = pd.DataFrame()\n",
    "\n",
    "    # Loop through each CSV file and append its contents to the combined dataframe\n",
    "    for csv_file in csv_files:\n",
    "        df = pd.read_csv(csv_file)\n",
    "        df.columns = columns\n",
    "        combined_df = pd.concat([combined_df, df])\n",
    "    combined_df.columns = columns\n",
    "    return combined_df\n",
    "\n",
    "        "
   ]
  },
  {
   "cell_type": "code",
   "execution_count": 6,
   "metadata": {},
   "outputs": [
    {
     "ename": "NameError",
     "evalue": "name 'csv_folder' is not defined",
     "output_type": "error",
     "traceback": [
      "\u001b[0;31m---------------------------------------------------------------------------\u001b[0m",
      "\u001b[0;31mNameError\u001b[0m                                 Traceback (most recent call last)",
      "Cell \u001b[0;32mIn[6], line 26\u001b[0m\n\u001b[1;32m      2\u001b[0m columns_02 \u001b[38;5;241m=\u001b[39m [\u001b[38;5;124m'\u001b[39m\u001b[38;5;124mAdipose - Subcutaneous\u001b[39m\u001b[38;5;124m'\u001b[39m, \u001b[38;5;124m'\u001b[39m\u001b[38;5;124mAdipose - Visceral (Omentum)\u001b[39m\u001b[38;5;124m'\u001b[39m,\n\u001b[1;32m      3\u001b[0m     \u001b[38;5;124m'\u001b[39m\u001b[38;5;124mAdrenal Gland\u001b[39m\u001b[38;5;124m'\u001b[39m, \u001b[38;5;124m'\u001b[39m\u001b[38;5;124mArtery - Aorta\u001b[39m\u001b[38;5;124m'\u001b[39m, \u001b[38;5;124m'\u001b[39m\u001b[38;5;124mArtery - Coronary\u001b[39m\u001b[38;5;124m'\u001b[39m,\n\u001b[1;32m      4\u001b[0m     \u001b[38;5;124m'\u001b[39m\u001b[38;5;124mArtery - Tibial\u001b[39m\u001b[38;5;124m'\u001b[39m, \u001b[38;5;124m'\u001b[39m\u001b[38;5;124mBladder\u001b[39m\u001b[38;5;124m'\u001b[39m, \u001b[38;5;124m'\u001b[39m\u001b[38;5;124mBrain - Amygdala\u001b[39m\u001b[38;5;124m'\u001b[39m,\n\u001b[0;32m   (...)\u001b[0m\n\u001b[1;32m     21\u001b[0m     \u001b[38;5;124m'\u001b[39m\u001b[38;5;124mSpleen\u001b[39m\u001b[38;5;124m'\u001b[39m, \u001b[38;5;124m'\u001b[39m\u001b[38;5;124mStomach\u001b[39m\u001b[38;5;124m'\u001b[39m, \u001b[38;5;124m'\u001b[39m\u001b[38;5;124mTestis\u001b[39m\u001b[38;5;124m'\u001b[39m, \u001b[38;5;124m'\u001b[39m\u001b[38;5;124mThyroid\u001b[39m\u001b[38;5;124m'\u001b[39m, \u001b[38;5;124m'\u001b[39m\u001b[38;5;124mUterus\u001b[39m\u001b[38;5;124m'\u001b[39m, \u001b[38;5;124m'\u001b[39m\u001b[38;5;124mVagina\u001b[39m\u001b[38;5;124m'\u001b[39m,\n\u001b[1;32m     22\u001b[0m     \u001b[38;5;124m'\u001b[39m\u001b[38;5;124mWhole Blood\u001b[39m\u001b[38;5;124m'\u001b[39m]\n\u001b[1;32m     23\u001b[0m columns \u001b[38;5;241m=\u001b[39m columns_01 \u001b[38;5;241m+\u001b[39m \u001b[38;5;28mlist\u001b[39m(columns_02)\n\u001b[0;32m---> 26\u001b[0m csv_files \u001b[38;5;241m=\u001b[39m glob\u001b[38;5;241m.\u001b[39mglob(\u001b[38;5;124mf\u001b[39m\u001b[38;5;124m\"\u001b[39m\u001b[38;5;132;01m{\u001b[39;00mcsv_folder\u001b[38;5;132;01m}\u001b[39;00m\u001b[38;5;124m/*.csv\u001b[39m\u001b[38;5;124m\"\u001b[39m)\n\u001b[1;32m     27\u001b[0m test_files \u001b[38;5;241m=\u001b[39m csv_files[:\u001b[38;5;241m2\u001b[39m]\n\u001b[1;32m     28\u001b[0m c_df \u001b[38;5;241m=\u001b[39m pd\u001b[38;5;241m.\u001b[39mDataFrame()\n",
      "\u001b[0;31mNameError\u001b[0m: name 'csv_folder' is not defined"
     ]
    }
   ],
   "source": [
    "columns_01 = [\"chr\",\"geneID\",\"tf\",\"close_tss\",\"dist_tss\",\"strand_orientation\",\"homotypic_count\",\"all_tfbs_count\",\"all_tfbs_unique_count\"]\n",
    "columns_02 = ['Adipose - Subcutaneous', 'Adipose - Visceral (Omentum)',\n",
    "    'Adrenal Gland', 'Artery - Aorta', 'Artery - Coronary',\n",
    "    'Artery - Tibial', 'Bladder', 'Brain - Amygdala',\n",
    "    'Brain - Anterior cingulate cortex (BA24)',\n",
    "    'Brain - Caudate (basal ganglia)', 'Brain - Cerebellar Hemisphere',\n",
    "    'Brain - Cerebellum', 'Brain - Cortex', 'Brain - Frontal Cortex (BA9)',\n",
    "    'Brain - Hippocampus', 'Brain - Hypothalamus',\n",
    "    'Brain - Nucleus accumbens (basal ganglia)',\n",
    "    'Brain - Putamen (basal ganglia)', 'Brain - Spinal cord (cervical c-1)',\n",
    "    'Brain - Substantia nigra', 'Breast - Mammary Tissue',\n",
    "    'Cells - Cultured fibroblasts', 'Cells - EBV-transformed lymphocytes',\n",
    "    'Cervix - Ectocervix', 'Cervix - Endocervix', 'Colon - Sigmoid',\n",
    "    'Colon - Transverse', 'Esophagus - Gastroesophageal Junction',\n",
    "    'Esophagus - Mucosa', 'Esophagus - Muscularis', 'Fallopian Tube',\n",
    "    'Heart - Atrial Appendage', 'Heart - Left Ventricle', 'Kidney - Cortex',\n",
    "    'Kidney - Medulla', 'Liver', 'Lung', 'Minor Salivary Gland',\n",
    "    'Muscle - Skeletal', 'Nerve - Tibial', 'Ovary', 'Pancreas', 'Pituitary',\n",
    "    'Prostate', 'Skin - Not Sun Exposed (Suprapubic)',\n",
    "    'Skin - Sun Exposed (Lower leg)', 'Small Intestine - Terminal Ileum',\n",
    "    'Spleen', 'Stomach', 'Testis', 'Thyroid', 'Uterus', 'Vagina',\n",
    "    'Whole Blood']\n",
    "columns = columns_01 + list(columns_02)\n",
    "\n",
    "\n",
    "csv_files = glob.glob(f\"{csv_folder}/*.csv\")\n",
    "test_files = csv_files[:2]\n",
    "c_df = pd.DataFrame()\n",
    "for file in test_files:\n",
    "    df = pd.read_csv(file)\n",
    "    df.columns = columns\n",
    "    c_df = pd.concat([c_df,df])\n"
   ]
  },
  {
   "cell_type": "code",
   "execution_count": 10,
   "metadata": {},
   "outputs": [],
   "source": [
    "combined_df = get_df_for_all_tfbs(csv_folder)"
   ]
  },
  {
   "cell_type": "code",
   "execution_count": null,
   "metadata": {},
   "outputs": [],
   "source": [
    "combined_df"
   ]
  },
  {
   "cell_type": "code",
   "execution_count": 5,
   "metadata": {},
   "outputs": [
    {
     "ename": "NameError",
     "evalue": "name 'combined_df' is not defined",
     "output_type": "error",
     "traceback": [
      "\u001b[0;31m---------------------------------------------------------------------------\u001b[0m",
      "\u001b[0;31mNameError\u001b[0m                                 Traceback (most recent call last)",
      "Cell \u001b[0;32mIn[5], line 1\u001b[0m\n\u001b[0;32m----> 1\u001b[0m sns\u001b[38;5;241m.\u001b[39mboxplot(\u001b[43mcombined_df\u001b[49m\u001b[38;5;241m.\u001b[39mtf, combined_df\u001b[38;5;241m.\u001b[39mVagina)\n",
      "\u001b[0;31mNameError\u001b[0m: name 'combined_df' is not defined"
     ]
    }
   ],
   "source": [
    "sns.boxplot(combined_df.tf, combined_df.Vagina)"
   ]
  }
 ],
 "metadata": {
  "kernelspec": {
   "display_name": ".venv",
   "language": "python",
   "name": "python3"
  },
  "language_info": {
   "codemirror_mode": {
    "name": "ipython",
    "version": 3
   },
   "file_extension": ".py",
   "mimetype": "text/x-python",
   "name": "python",
   "nbconvert_exporter": "python",
   "pygments_lexer": "ipython3",
   "version": "3.8.10"
  }
 },
 "nbformat": 4,
 "nbformat_minor": 2
}
