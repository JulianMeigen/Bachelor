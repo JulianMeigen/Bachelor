{
 "cells": [
  {
   "cell_type": "code",
   "execution_count": 1,
   "metadata": {},
   "outputs": [],
   "source": [
    "import pybedtools\n",
    "import pandas as pd\n",
    "import numpy as np\n",
    "import matplotlib.pyplot as plt"
   ]
  },
  {
   "cell_type": "markdown",
   "metadata": {},
   "source": [
    "# 1. Analysis of homotypic TFBSs\n",
    "    e.g ESR1\n",
    "    - From TFBS-BED get, GeneID, TSS_dist, homotypic_count for each ESR1 in the region \n",
    "    - Split data in 4 bins, so that ESR1 is (0-50, 50-100, 100-150, 150-200)bp away from the TSS\n",
    "    - Generate Table per bin with number of TFBS in col_1 and Genexpresion in col_2. Every Tissue can be a seperate row."
   ]
  },
  {
   "cell_type": "code",
   "execution_count": 24,
   "metadata": {},
   "outputs": [],
   "source": [
    "data = pybedtools.BedTool(\"/sybig/projects/GeneRegulation/data/jme/Bachelorarbeit/data/Promotor_with_TFBS/All_GTEx_Prom_with_TFBS.bed\")\n",
    "gtex_df = pd.read_csv(\"/sybig/projects/GeneRegulation/data/jme/Bachelorarbeit/data/GTEx_GenExpr_ucsc.csv\", sep=\",\")"
   ]
  },
  {
   "cell_type": "markdown",
   "metadata": {},
   "source": [
    "## Filter for TF"
   ]
  },
  {
   "cell_type": "code",
   "execution_count": 27,
   "metadata": {},
   "outputs": [],
   "source": [
    "#Function to filter BED file for specific \n",
    "def func_for_tfbs_subset(BedTool_Interval, tfbs_lst):\n",
    "    \"\"\"\n",
    "    Function that returns TRUE, if all of the tfbs in tfbs_lst are in Interval.fields[6]\n",
    "    It also checks if tfbs in tfbs_lst occur more often then tfbs in Interval.fields[6]. \n",
    "    Therefore if tfbs_lst contains the same tfbs twice, it will only return True if Interval.fields[6] also contains the tfbs at least twice. \n",
    "    \"\"\"\n",
    "\n",
    "    # Processing tfbs_lst --> unique with counts\n",
    "    input_tfbs_unique, input_tfbs_counts = np.unique(np.array(tfbs_lst), return_counts=True)\n",
    "    input_tfbs_dict = dict(zip(input_tfbs_unique, input_tfbs_counts))\n",
    "    \n",
    "    # Processing tfbs in interval --> split tfbs, distance, strand into lists\n",
    "    tfbs_arr = np.array(BedTool_Interval.fields[6].split(\",\"))\n",
    "\n",
    "    # get unique tfbs and counts and save in dict\n",
    "    tfbs_unique, tfbs_counts = np.unique(tfbs_arr, return_counts=True)\n",
    "    tfbs_dict = dict(zip(tfbs_unique, tfbs_counts))\n",
    "\n",
    "    # Compare unique values and counts (equal or more (?))\n",
    "\n",
    "    # Checks if all unique TFBS in tfbs_lst occur in tfbs_unique.\n",
    "    if np.all(np.isin(input_tfbs_unique, tfbs_unique)):\n",
    "        \n",
    "        # Checks how often tfbs occur in input list, compared to interval tfbs. If tfbs count in input list is higher then in interval it will return False.\n",
    "        bool_lst = []\n",
    "        for tfbs, input_count in input_tfbs_dict.items():\n",
    "            tfbs_count = tfbs_dict[tfbs]\n",
    "            if input_count > tfbs_count:\n",
    "                bool_lst.append(False)\n",
    "            else:\n",
    "                bool_lst.append(True)\n",
    "        if np.all(bool_lst):\n",
    "            return True\n",
    "        else:\n",
    "            return False\n",
    "        \n",
    "        \n",
    "    else:\n",
    "        return False\n",
    " \n",
    "def get_tfbs_subset(BedTool, tfbs_lst):\n",
    "    \"\"\"\n",
    "    Filtering BedTool, so that only Promotors/GeneIDs remain, that contain every TFBS in tfbs_lst at least once.\n",
    "    \"\"\"\n",
    "    return BedTool.filter(func_for_tfbs_subset, tfbs_lst)"
   ]
  },
  {
   "cell_type": "code",
   "execution_count": 30,
   "metadata": {},
   "outputs": [],
   "source": [
    "esr1 = get_tfbs_subset(data, [\"ESR1\"]).saveas()"
   ]
  },
  {
   "cell_type": "code",
   "execution_count": 31,
   "metadata": {},
   "outputs": [
    {
     "name": "stdout",
     "output_type": "stream",
     "text": [
      "chr1\t778569\t778769\tENSG00000237491.8\t262\t+\tREST,KLF9,SRF,SRF,USF2,KLF11,KLF15,KLF5,KLF1,E2F1,KLF4,KLF12,SP3,RXRA,USF1,JUN,JUND,TFE3,CREM,ATF7,ATF2,JUND,CREB1,NFE2L2,ATF3,JUN,PAX5,CREM,TCF7L2,TFAP2C,TFAP2C,PPARG,YY1,YY2,E2F1,NFE2L2,JUN,EGR1,TCF3,EGR2,BHLHE40,GRHL2,RFX3,PPARG,RFX5,RXRB,NEUROD1,MYB,MAFF,NFKB2,SP2,RELA,SP1,SP4,NFYC,THAP11,PKNOX1,RXRA,PBX2,EGR3,EGR1,EGR2,MLX,POU5F1,IRF3,NFYB,FOS,TP53,FOS,ELF1,NFYA,MYC,MYC,MNT,MAX,MAX,GLIS1,RUNX1,RUNX2,ZNF143,OSR2,HAND2,RUNX1,RELA,GABPA,SP1,TEAD3,THAP11,RELA,CTCF,CTCFL,JUND,CREM,NFIL3,ATF7,CREB1,CEBPA,ATF3,REL,RELB,NFKB1,RFX5,ESR1,ESR1,RXRA,JUN,JUND,ATF3,E2F1,E2F1,CREB1\t69,80,74,74,76,83,83,84,84,83,83,80,82,63,76,69,72,78,70,71,72,72,71,69,72,72,69,120,191,169,170,154,161,160,158,147,148,133,135,134,134,84,116,109,113,114,114,115,89,88,81,88,82,80,16,27,30,27,30,26,27,28,26,24,11,17,15,9,16,64,16,7,6,7,7,6,0,5,5,-8,-7,-6,-8,37,64,59,66,55,63,51,56,47,45,47,46,47,45,47,37,37,35,38,39,39,40,45,46,47,47,47,46\t90,96,90,90,90,94,94,94,95,95,95,95,95,80,90,88,87,86,86,85,85,85,84,84,84,84,81,136,205,184,182,174,173,171,170,162,161,147,146,145,144,96,130,129,129,128,127,125,105,101,98,98,97,97,27,46,45,44,43,41,41,39,36,35,32,29,28,27,27,78,27,18,18,17,17,17,16,16,14,8,5,4,4,47,78,74,74,74,73,70,68,62,61,60,60,60,60,59,47,48,48,54,56,56,57,58,59,59,59,59,59\t-,+,-,+,+,+,+,+,+,+,+,+,+,+,+,+,+,+,+,-,+,-,-,-,+,-,-,-,-,-,+,+,+,+,+,+,+,+,+,+,+,-,+,+,+,+,-,+,+,-,+,-,+,+,+,+,-,-,+,+,+,+,+,+,+,-,+,-,-,+,+,+,-,+,+,-,-,+,-,-,-,-,+,+,-,+,-,+,-,-,-,+,+,-,+,+,+,+,+,-,+,+,+,-,+,-,-,-,-,+,-\tlincRNA\t0.593,0.395,0.359,0.759,0.754,0.771,0.642,0.372,0.428,0.501,2.547,2.607,0.573,0.572,0.429,0.534,0.594,0.434,0.487,0.34,0.576,1.097,0.527,0.856,1.466,0.7,0.766,0.568,0.496,0.54,0.823,0.287,0.243,0.347,0.761,0.389,0.687,0.782,0.263,1.511,1.05,0.265,2.336,0.918,0.812,0.936,0.764,0.885,0.5,4.036,1.173,1.148,0.793,0.109,\n",
      " chr1\t778626\t778826\tENSG00000228327.3\t327\t-\tEGR1,GABPA,TFDP1,AR,ESR1,RXRA,REST,USF1,JUN,JUND,TFE3,CREM,ATF7,ATF2,JUND,CREB1,NFE2L2,ATF3,JUN,PAX5,SRF,GABPA,ELF1,SP1,TEAD3,THAP11,RELA,CTCF,CTCFL,JUND,CREM,NFIL3,ATF7,CREB1,CEBPA,RELA,E2F1,TCF3,EGR2,BHLHE40,CREM,RFX3,PPARG,RFX5,RXRB,NEUROD1,MYB,MAFF,NFKB2,SP2,E2F6,SP1,SP4,GRHL2,KLF9,SP3,KLF12,KLF4,E2F1,KLF1,KLF5,KLF15,KLF11,USF2,SRF,E2F1,MYC,MYC,MNT,MAX,MAX,GLIS1,RUNX1,RUNX2,ZNF143,OSR2,HAND2,RUNX1,STAT3,PPARG,ATF3,MYC,E2F1,MYC,MAX,MAX,NRF1,TP53,GABPA,AR,NR3C1,CTCF,CTCFL,USF2,CREB1,NFYC,NFYA,E2F1,E2F1,ATF3,JUND,JUN,RXRA,ESR1,ESR1,RFX5,NFKB1,RELB,RELA,REL,PKNOX1,FOS,TP53,FOS,NFYB,IRF3,POU5F1,MLX,EGR2,EGR1,EGR3,PBX2,RXRA,THAP11\t-4,192,192,190,190,63,53,53,55,56,57,57,58,58,58,59,59,59,59,62,53,65,65,69,69,69,70,73,75,81,82,83,83,83,83,45,190,-3,-2,-1,7,13,14,14,15,16,18,38,42,45,190,46,46,47,47,48,48,48,48,48,49,49,49,53,53,155,125,125,126,126,126,127,127,129,135,138,139,139,150,151,84,155,155,156,156,156,160,162,166,169,169,171,173,173,84,116,116,84,84,84,84,85,86,87,87,89,95,95,96,96,98,116,116,115,114,111,108,107,104,102,102,100,99,97\t10,206,203,207,207,80,74,67,74,71,65,73,72,71,71,72,74,71,71,74,69,79,79,84,77,88,80,92,87,96,98,96,97,96,98,55,202,8,9,9,23,27,34,30,29,29,28,54,55,62,203,61,63,59,63,61,63,60,60,59,59,60,60,67,69,167,136,137,136,136,137,143,138,138,151,150,149,151,161,166,96,167,167,169,166,166,171,180,180,186,186,193,185,187,97,127,127,96,96,96,97,98,103,104,104,105,108,106,106,106,113,127,134,128,126,132,119,117,115,116,117,113,116,116\t+,-,+,+,-,+,-,+,+,+,+,+,-,+,-,-,-,+,-,-,-,-,+,+,-,+,-,-,-,+,+,-,+,+,+,-,-,+,+,+,-,+,+,+,+,-,+,+,-,+,+,+,+,-,+,+,+,+,+,+,+,+,+,+,+,+,+,-,+,+,-,-,+,-,-,-,-,+,-,+,+,+,-,-,+,-,-,-,-,+,-,-,-,-,-,+,+,+,-,-,-,-,+,-,+,+,+,-,+,+,-,-,-,+,-,+,+,+,+,+,+,+,-,+\ttranscribed_unprocessed_pseudogene\t2.838,1.902,1.766,1.978,2.034,2.061,2.813,0.451,0.453,0.574,1.785,2.215,0.767,0.622,0.535,0.683,0.597,0.464,0.867,0.581,2.704,2.644,1.834,2.159,3.04,2.482,1.816,2.261,1.759,2.216,2.4,0.964,0.547,1.211,1.818,1.115,2.465,2.029,0.697,3.899,4.093,1.06,3.589,3.447,2.907,3.243,2.346,2.805,1.718,11.98,4.274,3.127,2.489,1.939,\n",
      " chr1\t827522\t827722\tENSG00000225880.5\t386\t-\tESR1,KLF1,KLF1,SP1,SP1,SP2,KLF12,SP4,ARNT,HIF1A,MNT,BHLHE40,NRF1,MAX,HIF1A,AR,EGR3,EGR1,GLIS1,EGR2,E2F1,E2F1,MYC,MYC,NRF1,E2F6,MYCN,MYC,MYC,MAX,MAX,E2F1,KLF11,RXRA,NR2F6,NR2C2,RFX3,NR2F1,STAT5A,STAT3,NR2F2,NR2C1,RXRA,NR2F1,AR,FOXP1,FOXA3,FOXA2,SOX13,KLF15,SP3,SP1,SP2,KLF9,TFE3,MNT,MLX,KLF5,MYCN,E2F1,E2F6,CREM,FOXA1\t104,19,80,78,57,56,55,55,32,31,30,30,28,26,25,20,119,119,120,121,130,130,130,130,131,168,171,171,171,171,172,9,18,-16,-14,-14,-13,-13,-11,-10,-8,-7,-6,-6,-5,-5,-5,-5,-1,18,17,17,16,15,10,10,10,19,9,9,8,2,-5\t121,30,91,93,72,73,70,72,38,41,40,40,39,36,35,37,134,133,136,132,142,142,142,142,142,181,183,183,182,182,182,21,29,9,1,14,1,5,2,1,3,2,9,9,12,6,6,6,10,29,30,32,33,31,18,20,20,29,21,21,21,18,7\t+,-,-,-,-,-,-,-,+,+,+,+,-,-,-,-,+,+,+,+,+,-,+,-,-,-,-,-,+,+,-,-,-,+,+,+,+,+,-,-,+,+,-,-,+,+,+,+,+,-,-,-,-,-,-,-,-,-,+,+,-,-,+\tlincRNA\t4.49,3.425,2.752,6.226,5.935,7.817,7.573,1.454,1.423,2.043,11.1,10.96,2.051,1.739,1.866,1.99,2.046,1.525,3.332,1.85,4.099,3.921,3.334,9.637,10.475,5.755,4.147,4.791,3.824,4.378,5.094,2.752,1.464,3.572,5.979,2.851,6.654,4.872,1.817,11.39,12.04,0.979,9.092,12.84,4.155,4.325,4.028,5.879,2.775,7.369,9.106,9.471,9.455,1.251,\n",
      " chr1\t904633\t904833\tENSG00000272438.1\t228\t+\tSP1,E2F1,HIF1A,ESR1,TBX21,E2F1,KLF16,SP1,CREB1,KLF9,YY1,TCF12,CTCFL,MYC,MYC,MAX,USF2,GLIS3,RXRA,GLIS1,EBF1,ESR1,THAP11,NRF1,E2F6,PAX5,MAX,MAX,MYC,MYC,MYCN,MYCN,JUND,SOX13,AR,FOXA2,FOXA1,FOXA3,ELF3,RUNX1,E2F6,JUN,NRF1,YY1,RXRA,EGR1,RARA,SRF,HIF1A,YY1,MYC,MYC,EGR1,ARNT,TFE3,RUNX2,MYC,MYC,MYCN,USF1,EGR1,WT1,ZNF263,NFE2L2,AR,CTCF,RELA,FOXO1,AR,AR,NR3C1,KLF5,WT1,CEBPA,ERG,CEBPA,ELK1,ETS1,ERF,SPI1,ETV1,GABPA,ELF1,JUN,ETV5,FLI1,ETV4\t23,30,32,30,46,45,46,43,45,44,48,50,49,51,50,51,49,50,48,49,50,-4,43,-3,-4,-3,0,0,-1,-1,-1,-1,24,8,6,14,13,14,13,11,17,23,28,132,86,92,92,95,120,116,118,119,124,137,135,67,134,135,134,133,162,165,168,170,173,47,90,68,65,65,65,80,190,82,87,83,87,87,87,82,85,85,85,85,87,87,87\t41,42,42,47,56,57,57,58,58,60,60,61,61,62,62,62,63,64,65,65,65,13,62,8,9,9,10,10,11,11,11,11,39,19,25,25,25,25,27,28,30,38,39,144,103,106,110,111,128,128,130,130,138,143,143,76,146,146,146,147,176,179,180,185,190,66,100,79,82,82,82,90,204,94,97,97,97,97,97,102,99,99,99,98,98,97,97\t+,-,-,-,+,-,-,-,+,-,+,+,+,+,-,+,+,-,+,-,+,-,-,-,+,+,-,+,+,-,-,+,+,+,+,+,+,+,-,-,-,+,-,+,-,-,-,+,+,+,-,+,+,+,+,+,-,+,-,+,+,+,-,-,+,+,+,-,-,+,+,+,+,+,-,-,-,-,-,-,-,+,-,+,+,-,-\tlincRNA\t0.091,0.159,0.38,0.327,0.225,0.309,0.755,0.275,0.356,0.408,0.077,0.096,0.408,0.315,0.385,0.397,0.511,0.332,0.491,0.227,0.174,0.534,0.766,0.374,0.631,0.273,0.252,0.272,0.24,0.293,1.171,0.49,0.074,1.298,2.92,0.157,0.331,0.086,0,0.303,0.129,0.042,1.792,1.404,0.348,0.32,0.323,1.533,0.276,1.832,0.479,0.434,0.439,0,\n",
      " chr1\t923727\t923927\tENSG00000187634.11\t386\t+\tPBX2,GLIS3,ARNT,BHLHE40,MYC,HIF1A,MYC,KLF9,RELB,PAX5,SP1,CREB1,RXRA,RXRA,TFAP2C,TFAP2A,TFAP2A,FOXA2,RUNX2,EGR1,JUN,ATF3,REST,CREB1,FOXO1,NFIC,TFAP2A,MYB,TCF7L2,YY1,CTCFL,E2F1,NRF1,E2F1,TFAP2A,TEAD4,NFE2,JUN,JUND,SMAD3,NFE2L2,JUN,ESR1,ESR1,ERG,BACH1,MAX,MYCN,MYC,E2F1,MYC,KLF5,FLI1,TFAP2C,TFAP2A,TCF12,ETS1,NEUROD1,GABPA,ETV1,MYC,CTCF,CTCF,THAP11,TFAP4,REST,SP1,RUNX1,TFAP2A\t74,64,76,74,73,75,73,70,91,75,72,78,79,76,86,86,87,29,123,-2,0,2,-7,2,9,19,64,31,27,31,48,54,55,52,62,167,149,145,148,148,148,148,151,151,95,174,182,181,181,181,182,184,95,126,126,94,95,93,93,93,94,91,93,97,108,104,112,121,126\t87,78,82,84,84,85,85,86,102,87,87,91,94,95,99,99,99,40,132,12,13,14,14,15,20,30,76,41,41,43,60,66,66,74,76,179,160,160,161,162,163,164,168,168,105,189,192,193,193,193,193,194,105,138,140,105,105,106,107,107,109,110,112,116,118,125,127,132,138\t+,+,-,-,-,-,+,+,+,-,+,+,-,+,-,-,+,-,+,-,-,+,-,+,+,-,+,-,-,-,-,+,+,-,-,+,+,-,+,+,+,+,+,-,+,-,-,-,-,-,+,+,+,+,+,+,+,+,-,+,+,+,-,+,+,-,+,-,-\tprotein_coding\t0.476,2.931,3.785,5.717,3.104,7.932,19.06,0.533,0.466,2.218,0.426,0.624,0.832,0.502,0.906,3.641,1.063,1.393,2.443,1.184,1.704,0.085,1.628,6.077,9.004,4.419,4.035,5.286,1.32,5.469,24.38,6.885,0.453,7.537,16.455,1.632,3.584,0.702,0.282,5.292,1.8,0.734,33.27,15.92,0.531,0.794,4.91,17.48,3.423,6.864,5.414,11.29,6.696,0.046,\n",
      " chr1\t959309\t959509\tENSG00000188976.10\t547\t-\tTFAP2C,TFAP2A,TFAP2C,TFAP2A,AR,NFE2,E2F1,FOXP1,MYC,MYCN,MYC,TFE3,RELA,GLIS1,ESR1,JUND,RUNX2,PAX5,SPI1,SP2,SP1,SP4,KLF9,SP3,KLF11,KLF5,SP1,KLF1,KLF5,RUNX1,KLF15\t76,76,77,78,88,25,91,96,99,99,100,100,116,121,167,174,62,63,-18,-1,0,0,1,2,3,3,23,29,30,62,3\t90,90,90,90,105,36,103,107,111,111,111,108,126,137,184,187,71,75,2,16,15,17,17,15,14,13,38,40,40,73,14\t-,+,+,-,-,-,-,-,+,+,-,-,-,-,-,+,+,+,-,+,+,+,+,+,+,+,-,+,+,-,+\tprotein_coding\t52.86,48.19,37.17,55.495,51.9,62.56,71.87,18.345,27.56,25.095,82.57,77.12,40.79,45.14,22.64,28.535,26.835,21.24,27.8,20.96,58.94,94.205,95.02,67.47,78.605,54.33,45.825,55.96,76.51,54.7,75.63,29.43,23.84,29.39,44.965,27.06,55.21,49.15,59.3,69.76,64.865,28.81,56.97,63.03,83.105,90.32,49.57,56.15,42.38,98.67,66.79,77.39,71.255,14.99,\n",
      " chr1\t1000172\t1000372\tENSG00000188290.10\t492\t-\tBHLHE40,E2F1,SP1,EGR1,REST,PLAG1,MAX,TEAD3,TEAD4,SOX17,SOX13,SOX2,KLF16,CTCF,WT1,KLF5,CTCFL,EBF1,GLIS1,SP1,ESR1,ESR1,SP2,E2F1,TCF3,MYC,MYCN,HIF1A,TP63,CTCF,KLF5,MYCN,E2F6,EGR1,KLF11,KLF5,MXI1,MXI1,MYC,KLF9,PAX5,TFAP2C,NFYC,NFYA,CTCF,NFYB,NFIC,RUNX1,KLF4,EGR2,EGR3,KLF5,HIF1A,SP1,PAX5,JUN,FOS,RBPJ,PBX2,SMAD3,PKNOX1,JUN,PBX3,MEIS2\t106,64,105,103,95,92,91,90,88,85,84,84,79,68,66,65,111,124,124,131,137,137,145,148,164,179,179,181,182,185,189,90,19,29,28,28,23,23,22,21,20,58,11,11,10,9,9,-5,64,31,29,50,49,47,47,46,44,-7,43,42,41,41,40,43\t116,76,120,117,116,106,101,98,100,94,95,95,90,87,80,75,123,139,140,146,154,160,162,160,175,191,191,191,200,204,199,102,32,43,39,38,33,33,34,37,32,71,22,22,29,21,20,6,76,42,44,60,59,62,59,60,57,3,56,55,56,56,57,51\t+,-,+,+,+,-,+,-,-,-,+,+,-,-,+,-,-,-,-,-,+,-,+,+,-,+,+,+,+,+,-,+,-,+,+,+,-,+,+,+,-,+,+,+,+,-,-,-,-,+,+,+,-,+,-,-,+,-,+,-,-,+,-,-\tprotein_coding\t21.79,24.19,2.914,46.63,64.61,98.39,33.05,16.74,20.635,31.46,6.396,8.305,21.86,20.25,11.31,23.965,32.54,28.41,7.749,15.65,28.58,8.01,1.228,34.37,38.23,29.52,16.27,34.79,16.09,32.37,57.41,29.1,17.28,11.66,20.675,3.213,30.49,21.7,4.935,36.23,10.115,7.908,32.66,47.24,21.69,17.95,9.046,16.31,9.41,10,23.28,39.535,32.07,1.205,\n",
      " chr1\t1000937\t1001137\tENSG00000187608.8\t527\t+\tMYOD1,MAFF,VDR,MAFK,NFE2L2,TFAP2C,RARA,NR2F1,TFAP4,TFAP4,ESR2,TCF12,RXRA,RXRA,PPARG,CEBPA,CEBPA,RUNX1,RUNX3,GABPA,FOXA1,FOXA2,ESR1,RELA,ELF3,RXRA,RXRA,TP63,TP53,AR,ESR1,CTCF,MYC,MYCN,MYCN,MAX,MYC,ARNT,ARNT,HIF1A,MNT,MNT,MLX,MXI1,MXI1,MAX\t154,154,164,159,161,169,165,174,179,179,177,155,117,117,100,90,87,74,73,64,59,59,21,186,182,193,191,189,189,188,176,184,188,188,188,189,188,191,191,188,189,189,189,189,189,188\t167,170,172,174,176,182,183,187,189,189,192,166,132,132,115,102,101,85,85,78,71,70,38,196,196,210,210,207,207,205,205,203,200,200,200,199,199,197,197,198,199,199,199,199,199,199\t-,+,-,+,+,-,-,-,+,-,-,-,-,+,+,-,+,+,-,+,-,-,-,+,+,-,+,-,+,-,+,-,+,-,+,+,-,+,-,+,-,+,-,+,-,-\tprotein_coding\t36.6,35.01,13.455,50.76,43.74,50.38,32.98,43.61,25.54,27.365,8.322,8.131,25.62,31.22,28.44,40.82,22.525,31.56,29.8,29.01,29.17,611.45,40.4,46.48,38.81,43.82,28.5,34.35,10.92,34.39,23.51,17.72,13.65,21.64,44.345,28.935,66.87,11.655,6.408,38.92,16.305,5.409,29.53,30.65,10.43,11.54,32.84,57.44,17.27,11.61,34.25,36.285,27.035,28.8,\n",
      " chr1\t1013193\t1013393\tENSG00000224969.1\t215\t-\tTFAP2A,TEAD3,HIF1A,TP53,EGR1,ETS1,ETV6,ERG,FLI1,ETV5,ETV1,GABPA,EHF,ELF1,ELF3,RELA,SPI1,SOX13,FLI1,PAX5,GABPA,RUNX3,RELA,MYB,IRF2,STAT2,TBX5,IRF4,TFAP2A,IRF1,RUNX1,SPI1,STAT1,ESR1,RXRA,PPARG,RARA,NR3C1,RELA,E2F6,TEAD4,TEAD1,HSF1,ETS1,ERG,AR,AR,ESR1,MEIS2,chrf28811,MEIS1,MAX,USF2,PBX2,IRF4,VDR,FOXK2,NFKB2,RXRA,RXRA,NR2F2,STAT1,POU5F1,PRDM1,E2F1,SP1,RELA,PPARG,REST,ATF7,CTCF,PPARG,KLF5\t181,179,177,168,163,160,160,160,160,159,158,158,158,158,157,157,155,151,192,198,197,196,195,195,195,195,14,194,182,191,190,188,188,187,185,184,183,23,61,48,42,41,36,26,26,23,23,142,13,13,13,4,3,-3,-14,143,62,61,142,142,140,130,122,120,112,110,108,94,92,91,91,85,84\t194,187,187,186,177,170,170,170,170,170,172,172,173,172,171,167,175,162,202,210,211,208,205,205,213,210,22,209,194,212,208,208,210,204,202,199,200,40,71,61,54,54,49,36,36,40,40,159,21,20,20,15,17,10,1,158,73,74,157,157,151,141,138,131,124,125,118,109,120,105,110,105,94\t+,+,+,+,+,-,-,-,-,+,-,+,+,-,+,+,-,-,+,+,-,+,-,+,+,-,-,+,-,-,-,+,-,+,+,+,+,-,+,+,-,-,-,-,-,+,-,-,+,+,+,+,+,+,+,+,-,+,-,+,+,-,-,+,+,+,-,-,-,-,-,+,-\tantisense\t0.295,0.228,0.087,0.507,0.452,0.618,0.347,0.339,0.466,0.455,0.094,0.132,0.605,0.511,0.247,0.607,0.729,0.366,0.114,0.255,0.489,0.423,0.095,1.518,1.111,0.341,0.185,0.326,0.17,0.299,1.12,0.241,0.247,0.206,0.53,0.122,0.426,0.205,0.133,0.533,0.242,0.071,0.647,0.879,0.536,0.543,0.175,0.221,0.163,0.585,0.386,0.834,0.564,0,\n",
      " chr1\t1074307\t1074507\tENSG00000237330.2\t295\t-\tE2F4,ESR1,E2F1,NFYB,NFYA,TFAP2C,KLF1,KLF5,KLF4,TFAP2C,FOXA1,AR,KLF5\t87,146,88,64,63,56,43,43,42,55,20,15,-1\t101,163,100,76,74,69,54,53,54,69,32,32,9\t-,-,-,+,-,+,-,-,-,-,-,-,-\tprotein_coding\t0.051,0.047,0.047,0.039,0.039,0.04,1.118,0.07,0.074,0.058,0.066,0.066,0.083,0.073,0.071,0.082,0.065,0.061,0.054,0.055,0.514,0.161,0.057,0.238,0.162,0.062,1.462,0.067,33.18,0.068,0.054,0.06,0.062,0.379,1.14,0.052,0.782,2.849,0.051,0.049,0.044,0.097,0.113,0.643,3.871,5.375,0.159,0.05,2.63,0.291,0.084,0.057,14.635,0.019,\n",
      " "
     ]
    }
   ],
   "source": [
    "esr1.head()"
   ]
  }
 ],
 "metadata": {
  "kernelspec": {
   "display_name": ".venv",
   "language": "python",
   "name": "python3"
  },
  "language_info": {
   "codemirror_mode": {
    "name": "ipython",
    "version": 3
   },
   "file_extension": ".py",
   "mimetype": "text/x-python",
   "name": "python",
   "nbconvert_exporter": "python",
   "pygments_lexer": "ipython3",
   "version": "3.8.10"
  }
 },
 "nbformat": 4,
 "nbformat_minor": 2
}
