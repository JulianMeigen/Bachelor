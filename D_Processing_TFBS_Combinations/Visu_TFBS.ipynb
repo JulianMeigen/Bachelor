{
 "cells": [
  {
   "cell_type": "code",
   "execution_count": 1,
   "metadata": {},
   "outputs": [],
   "source": [
    "import pybedtools\n",
    "import pandas as pd\n",
    "import numpy as np\n",
    "import matplotlib.pyplot as plt"
   ]
  },
  {
   "cell_type": "code",
   "execution_count": 29,
   "metadata": {},
   "outputs": [],
   "source": [
    "data = pybedtools.BedTool(\"/sybig/projects/GeneRegulation/data/jme/Bachelorarbeit/data/Promotor_with_TFBS/All_GTEx_Prom_with_TFBS.bed\")"
   ]
  },
  {
   "cell_type": "markdown",
   "metadata": {},
   "source": [
    "# Visu von einzelnen TFBS um Überblick zu geben\n",
    "- Häufigkeit TFBS unique im gesamten Datensatz\n",
    "- Häufigkeit der Vorkommen jedes TFBS pro Promotor"
   ]
  },
  {
   "cell_type": "code",
   "execution_count": 42,
   "metadata": {},
   "outputs": [],
   "source": [
    "from get_TFBS_pair import get_tfbs_subset, get_information_for_singel_tfbs_set\n",
    "\n",
    "tfbs = get_tfbs_subset(data, [\"SMAD3\"]).saveas()"
   ]
  },
  {
   "cell_type": "code",
   "execution_count": 27,
   "metadata": {},
   "outputs": [],
   "source": [
    "def get_orientation_for_single_tfbs_in_pct(tfbs_name, tfbs_arr, tfbs_orientation):\n",
    "    \"\"\"\n",
    "    Calculates the percentage of nT Orientation for a specific tfbs.\n",
    "    \"\"\"\n",
    "    # get List of orientation of tfbs\n",
    "    tfbs_orientation_per_prom = []\n",
    "    for idx, orientation in enumerate(tfbs_orientation): \n",
    "        if tfbs_arr[idx] == tfbs_name:\n",
    "            tfbs_orientation_per_prom.append(orientation)\n",
    "    # Calculate percentage of nT in Orientation List. \n",
    "    pct_nT = np.sum(np.array(tfbs_orientation_per_prom)==\"nT\")/len(np.array(tfbs_orientation_per_prom))\n",
    "\n",
    "    return pct_nT"
   ]
  },
  {
   "cell_type": "code",
   "execution_count": 52,
   "metadata": {},
   "outputs": [],
   "source": [
    "def get_count_of_single_tfbs(data, tfbs):\n",
    "\n",
    "    tfbs_BedTool = get_tfbs_subset(data, [tfbs]).saveas()\n",
    "    count_prom = tfbs_BedTool.count()\n",
    "\n",
    "    count_tfbs = np.array([])\n",
    "    nT_percent = np.array([])\n",
    "    for BedTool_Interval in tfbs_BedTool:\n",
    "        chr, geneID, tfbs_arr, tfbs_close_tss_arr, tfbs_dist_tss_arr, tfbs_orientation, tfbs_count, tfbs_unique_count = get_information_for_singel_tfbs_set(BedTool_Interval)\n",
    "        # get array for tfbs count per region\n",
    "        count_tfbs_per_prom = np.sum(tfbs_arr == tfbs)\n",
    "        count_tfbs = np.append(count_tfbs, count_tfbs_per_prom)\n",
    "        # get percentage of nT Orienation per region\n",
    "        nT_pct = get_orientation_for_single_tfbs_in_pct(tfbs, tfbs_arr, tfbs_orientation)\n",
    "        nT_percent = np.append(nT_percent, nT_pct)\n",
    "\n",
    "    return count_prom, count_tfbs, nT_percent"
   ]
  },
  {
   "cell_type": "code",
   "execution_count": 53,
   "metadata": {},
   "outputs": [],
   "source": [
    "count_prom, count_tfbs, nT_percent = get_count_of_single_tfbs(data, \"SMAD3\")"
   ]
  }
 ],
 "metadata": {
  "kernelspec": {
   "display_name": ".venv",
   "language": "python",
   "name": "python3"
  },
  "language_info": {
   "codemirror_mode": {
    "name": "ipython",
    "version": 3
   },
   "file_extension": ".py",
   "mimetype": "text/x-python",
   "name": "python",
   "nbconvert_exporter": "python",
   "pygments_lexer": "ipython3",
   "version": "3.8.10"
  }
 },
 "nbformat": 4,
 "nbformat_minor": 2
}
