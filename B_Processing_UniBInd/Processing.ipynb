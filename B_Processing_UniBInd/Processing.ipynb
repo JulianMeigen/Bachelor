{
 "cells": [
  {
   "cell_type": "markdown",
   "metadata": {},
   "source": [
    "# Processing and Combining Preprocessed Datasets (Beginning)"
   ]
  },
  {
   "cell_type": "code",
   "execution_count": 1,
   "metadata": {},
   "outputs": [],
   "source": [
    "import pybedtools\n",
    "import pandas as pd\n",
    "import numpy as np\n",
    "import matplotlib.pyplot as plt"
   ]
  },
  {
   "cell_type": "markdown",
   "metadata": {},
   "source": [
    "## Processing UniBind TFBS"
   ]
  },
  {
   "cell_type": "code",
   "execution_count": 2,
   "metadata": {},
   "outputs": [],
   "source": [
    "reduce_tfbs = pybedtools.BedTool(\"/sybig/projects/GeneRegulation/data/jme/Bachelorarbeit/data/tfbs/tfbs_intersect_promotors_wa.bed\")\n",
    "df_tfbs_raw = reduce_tfbs.to_dataframe()"
   ]
  },
  {
   "cell_type": "markdown",
   "metadata": {},
   "source": [
    "### Refining the Dataset and chaning columns"
   ]
  },
  {
   "cell_type": "markdown",
   "metadata": {},
   "source": [
    "The name coloumn of the tfbs dataframe contains many information in the Format ”ChipSeq-ID_Zelllinie_TF-name_JASPAR-ID”.\n",
    "\n",
    "In order to adress these data more easily, it should be seperated and replace the in our case useless, thickStart, thickEnd and itemRgb column."
   ]
  },
  {
   "cell_type": "code",
   "execution_count": 4,
   "metadata": {},
   "outputs": [
    {
     "data": {
      "text/plain": [
       "array(['EXP038397_NGP--neuroblastoma-_MYCN_MA0104.4',\n",
       "       'EXP036801_HUES64--embryonic-stem-cells-_OTX2_MA0712.2',\n",
       "       'EXP039511_HEK293--embryonic-kidney-_EGR2_MA0472.2', ...,\n",
       "       'EXP047817_THP-1--acute-monocytic-leukemia-_SPI1_MA0080.5',\n",
       "       'EXP047818_THP-1--acute-monocytic-leukemia-_SPI1_MA0080.5',\n",
       "       'EXP049121_THP-1--acute-monocytic-leukemia-_SPI1_MA0080.5'],\n",
       "      dtype=object)"
      ]
     },
     "execution_count": 4,
     "metadata": {},
     "output_type": "execute_result"
    }
   ],
   "source": [
    "raw_name = df_tfbs_raw.name.to_numpy()\n",
    "raw_name"
   ]
  },
  {
   "cell_type": "code",
   "execution_count": 5,
   "metadata": {},
   "outputs": [
    {
     "data": {
      "text/plain": [
       "['EXP038397', 'NGP--neuroblastoma-', 'MYCN', 'MA0104.4']"
      ]
     },
     "execution_count": 5,
     "metadata": {},
     "output_type": "execute_result"
    }
   ],
   "source": [
    "raw_name[0].split(\"_\")"
   ]
  },
  {
   "cell_type": "code",
   "execution_count": 6,
   "metadata": {},
   "outputs": [],
   "source": [
    "chipseq_id = np.array([i.split(\"_\")[0] for i in raw_name])\n",
    "tissue = np.array([i.split(\"_\")[1] for i in raw_name])\n",
    "tf_name = np.array([i.split(\"_\")[2] for i in raw_name])\n",
    "jaspar_id = np.array([i.split(\"_\")[3] for i in raw_name])\n"
   ]
  },
  {
   "cell_type": "code",
   "execution_count": 7,
   "metadata": {},
   "outputs": [
    {
     "data": {
      "text/html": [
       "<div>\n",
       "<style scoped>\n",
       "    .dataframe tbody tr th:only-of-type {\n",
       "        vertical-align: middle;\n",
       "    }\n",
       "\n",
       "    .dataframe tbody tr th {\n",
       "        vertical-align: top;\n",
       "    }\n",
       "\n",
       "    .dataframe thead th {\n",
       "        text-align: right;\n",
       "    }\n",
       "</style>\n",
       "<table border=\"1\" class=\"dataframe\">\n",
       "  <thead>\n",
       "    <tr style=\"text-align: right;\">\n",
       "      <th></th>\n",
       "      <th>chrom</th>\n",
       "      <th>start</th>\n",
       "      <th>end</th>\n",
       "      <th>name</th>\n",
       "      <th>score</th>\n",
       "      <th>strand</th>\n",
       "      <th>thickStart</th>\n",
       "      <th>thickEnd</th>\n",
       "      <th>itemRgb</th>\n",
       "    </tr>\n",
       "  </thead>\n",
       "  <tbody>\n",
       "    <tr>\n",
       "      <th>0</th>\n",
       "      <td>chr1</td>\n",
       "      <td>17510</td>\n",
       "      <td>17522</td>\n",
       "      <td>MYCN</td>\n",
       "      <td>0</td>\n",
       "      <td>-</td>\n",
       "      <td>EXP038397</td>\n",
       "      <td>NGP--neuroblastoma-</td>\n",
       "      <td>MA0104.4</td>\n",
       "    </tr>\n",
       "    <tr>\n",
       "      <th>1</th>\n",
       "      <td>chr1</td>\n",
       "      <td>629638</td>\n",
       "      <td>629650</td>\n",
       "      <td>OTX2</td>\n",
       "      <td>0</td>\n",
       "      <td>-</td>\n",
       "      <td>EXP036801</td>\n",
       "      <td>HUES64--embryonic-stem-cells-</td>\n",
       "      <td>MA0712.2</td>\n",
       "    </tr>\n",
       "    <tr>\n",
       "      <th>2</th>\n",
       "      <td>chr1</td>\n",
       "      <td>634195</td>\n",
       "      <td>634206</td>\n",
       "      <td>EGR2</td>\n",
       "      <td>0</td>\n",
       "      <td>+</td>\n",
       "      <td>EXP039511</td>\n",
       "      <td>HEK293--embryonic-kidney-</td>\n",
       "      <td>MA0472.2</td>\n",
       "    </tr>\n",
       "    <tr>\n",
       "      <th>3</th>\n",
       "      <td>chr1</td>\n",
       "      <td>758332</td>\n",
       "      <td>758344</td>\n",
       "      <td>JUN</td>\n",
       "      <td>0</td>\n",
       "      <td>+</td>\n",
       "      <td>EXP038043</td>\n",
       "      <td>HAEC--human-aortic-endothelial-cells-</td>\n",
       "      <td>MA1130.1</td>\n",
       "    </tr>\n",
       "    <tr>\n",
       "      <th>4</th>\n",
       "      <td>chr1</td>\n",
       "      <td>758332</td>\n",
       "      <td>758345</td>\n",
       "      <td>JUN</td>\n",
       "      <td>0</td>\n",
       "      <td>-</td>\n",
       "      <td>EXP038043</td>\n",
       "      <td>HAEC--human-aortic-endothelial-cells-</td>\n",
       "      <td>MA1128.1</td>\n",
       "    </tr>\n",
       "    <tr>\n",
       "      <th>...</th>\n",
       "      <td>...</td>\n",
       "      <td>...</td>\n",
       "      <td>...</td>\n",
       "      <td>...</td>\n",
       "      <td>...</td>\n",
       "      <td>...</td>\n",
       "      <td>...</td>\n",
       "      <td>...</td>\n",
       "      <td>...</td>\n",
       "    </tr>\n",
       "    <tr>\n",
       "      <th>3667829</th>\n",
       "      <td>chrY</td>\n",
       "      <td>24570023</td>\n",
       "      <td>24570035</td>\n",
       "      <td>FOXA1</td>\n",
       "      <td>0</td>\n",
       "      <td>-</td>\n",
       "      <td>EXP038436</td>\n",
       "      <td>VCaP--prostate-carcinoma-</td>\n",
       "      <td>MA0148.4</td>\n",
       "    </tr>\n",
       "    <tr>\n",
       "      <th>3667830</th>\n",
       "      <td>chrY</td>\n",
       "      <td>26360803</td>\n",
       "      <td>26360816</td>\n",
       "      <td>NEUROD1</td>\n",
       "      <td>0</td>\n",
       "      <td>-</td>\n",
       "      <td>EXP038206</td>\n",
       "      <td>D341-Med--medulloblastoma-</td>\n",
       "      <td>MA1109.1</td>\n",
       "    </tr>\n",
       "    <tr>\n",
       "      <th>3667831</th>\n",
       "      <td>chrY</td>\n",
       "      <td>26453785</td>\n",
       "      <td>26453805</td>\n",
       "      <td>SPI1</td>\n",
       "      <td>0</td>\n",
       "      <td>-</td>\n",
       "      <td>EXP047817</td>\n",
       "      <td>THP-1--acute-monocytic-leukemia-</td>\n",
       "      <td>MA0080.5</td>\n",
       "    </tr>\n",
       "    <tr>\n",
       "      <th>3667832</th>\n",
       "      <td>chrY</td>\n",
       "      <td>26453785</td>\n",
       "      <td>26453805</td>\n",
       "      <td>SPI1</td>\n",
       "      <td>0</td>\n",
       "      <td>-</td>\n",
       "      <td>EXP047818</td>\n",
       "      <td>THP-1--acute-monocytic-leukemia-</td>\n",
       "      <td>MA0080.5</td>\n",
       "    </tr>\n",
       "    <tr>\n",
       "      <th>3667833</th>\n",
       "      <td>chrY</td>\n",
       "      <td>26453785</td>\n",
       "      <td>26453805</td>\n",
       "      <td>SPI1</td>\n",
       "      <td>0</td>\n",
       "      <td>-</td>\n",
       "      <td>EXP049121</td>\n",
       "      <td>THP-1--acute-monocytic-leukemia-</td>\n",
       "      <td>MA0080.5</td>\n",
       "    </tr>\n",
       "  </tbody>\n",
       "</table>\n",
       "<p>3667834 rows × 9 columns</p>\n",
       "</div>"
      ],
      "text/plain": [
       "        chrom     start       end     name  score strand thickStart  \\\n",
       "0        chr1     17510     17522     MYCN      0      -  EXP038397   \n",
       "1        chr1    629638    629650     OTX2      0      -  EXP036801   \n",
       "2        chr1    634195    634206     EGR2      0      +  EXP039511   \n",
       "3        chr1    758332    758344      JUN      0      +  EXP038043   \n",
       "4        chr1    758332    758345      JUN      0      -  EXP038043   \n",
       "...       ...       ...       ...      ...    ...    ...        ...   \n",
       "3667829  chrY  24570023  24570035    FOXA1      0      -  EXP038436   \n",
       "3667830  chrY  26360803  26360816  NEUROD1      0      -  EXP038206   \n",
       "3667831  chrY  26453785  26453805     SPI1      0      -  EXP047817   \n",
       "3667832  chrY  26453785  26453805     SPI1      0      -  EXP047818   \n",
       "3667833  chrY  26453785  26453805     SPI1      0      -  EXP049121   \n",
       "\n",
       "                                      thickEnd   itemRgb  \n",
       "0                          NGP--neuroblastoma-  MA0104.4  \n",
       "1                HUES64--embryonic-stem-cells-  MA0712.2  \n",
       "2                    HEK293--embryonic-kidney-  MA0472.2  \n",
       "3        HAEC--human-aortic-endothelial-cells-  MA1130.1  \n",
       "4        HAEC--human-aortic-endothelial-cells-  MA1128.1  \n",
       "...                                        ...       ...  \n",
       "3667829              VCaP--prostate-carcinoma-  MA0148.4  \n",
       "3667830             D341-Med--medulloblastoma-  MA1109.1  \n",
       "3667831       THP-1--acute-monocytic-leukemia-  MA0080.5  \n",
       "3667832       THP-1--acute-monocytic-leukemia-  MA0080.5  \n",
       "3667833       THP-1--acute-monocytic-leukemia-  MA0080.5  \n",
       "\n",
       "[3667834 rows x 9 columns]"
      ]
     },
     "execution_count": 7,
     "metadata": {},
     "output_type": "execute_result"
    }
   ],
   "source": [
    "df_tfbs = df_tfbs_raw.copy()\n",
    "df_tfbs[\"name\"] = tf_name\n",
    "df_tfbs[\"thickStart\"] = chipseq_id\n",
    "df_tfbs[\"thickEnd\"] = tissue\n",
    "df_tfbs[\"itemRgb\"] = jaspar_id\n",
    "df_tfbs"
   ]
  },
  {
   "cell_type": "code",
   "execution_count": 28,
   "metadata": {},
   "outputs": [],
   "source": [
    "#tfbs_new = pybedtools.BedTool.from_dataframe(df_tfbs).saveas(\"/sybig/projects/GeneRegulation/data/jme/Bachelorarbeit/data//tfbs/tfbs_reduced_pro.bed\")\n"
   ]
  },
  {
   "cell_type": "markdown",
   "metadata": {},
   "source": [
    "### Delete/summarize repetitive Entrys\n",
    "\n",
    "Some TFBS occur more then once in the data, because the data came from diffrent experiments or cell tissues. Sometimes the binding sites also differs just by one nucleotide. However, since only one TFBS can bind to the same location, it makes more sense to reduce these entries to one entry in order not to falsify the significance of the data."
   ]
  },
  {
   "cell_type": "code",
   "execution_count": 8,
   "metadata": {},
   "outputs": [
    {
     "name": "stdout",
     "output_type": "stream",
     "text": [
      "chr1\t17510\t17522\tMYCN\t0\t-\tEXP038397\tNGP--neuroblastoma-\tMA0104.4\n",
      " chr1\t629638\t629650\tOTX2\t0\t-\tEXP036801\tHUES64--embryonic-stem-cells-\tMA0712.2\n",
      " chr1\t634195\t634206\tEGR2\t0\t+\tEXP039511\tHEK293--embryonic-kidney-\tMA0472.2\n",
      " chr1\t758332\t758344\tJUN\t0\t+\tEXP038043\tHAEC--human-aortic-endothelial-cells-\tMA1130.1\n",
      " chr1\t758332\t758345\tJUN\t0\t-\tEXP038043\tHAEC--human-aortic-endothelial-cells-\tMA1128.1\n",
      " chr1\t758333\t758344\tJUN\t0\t-\tEXP038043\tHAEC--human-aortic-endothelial-cells-\tMA0462.2\n",
      " chr1\t758333\t758344\tJUN\t0\t-\tEXP038043\tHAEC--human-aortic-endothelial-cells-\tMA1127.1\n",
      " chr1\t758333\t758346\tJUN\t0\t-\tEXP038043\tHAEC--human-aortic-endothelial-cells-\tMA0488.1\n",
      " chr1\t758334\t758344\tJUN\t0\t+\tEXP038043\tHAEC--human-aortic-endothelial-cells-\tMA0099.3\n",
      " chr1\t758334\t758344\tJUN\t0\t-\tEXP038043\tHAEC--human-aortic-endothelial-cells-\tMA1132.1\n",
      " chr1\t758334\t758348\tJUN\t0\t-\tEXP038043\tHAEC--human-aortic-endothelial-cells-\tMA0489.1\n",
      " chr1\t758509\t758526\tAR\t0\t+\tEXP049391\t22RV1--prostate-carcinoma-\tMA0007.3\n",
      " "
     ]
    }
   ],
   "source": [
    "tfbs_new = pybedtools.BedTool(\"/sybig/projects/GeneRegulation/data/jme/Bachelorarbeit/data/tfbs/tfbs_reduced_pro.bed\")\n",
    "tfbs_new.head(12)"
   ]
  },
  {
   "cell_type": "code",
   "execution_count": 14,
   "metadata": {},
   "outputs": [
    {
     "data": {
      "text/plain": [
       "269"
      ]
     },
     "execution_count": 14,
     "metadata": {},
     "output_type": "execute_result"
    }
   ],
   "source": [
    "tfbs_new[0].fields\n",
    "tf_name\n",
    "tf_name_unique = np.unique(tf_name)\n",
    "len(tf_name_unique)"
   ]
  },
  {
   "cell_type": "code",
   "execution_count": 20,
   "metadata": {},
   "outputs": [],
   "source": [
    "tfbs_JUN = tfbs_new.filter(lambda x: x.name == \"JUN\").merge(s=True, c=[4,5,6,7,8,9], o=[\"distinct\",\"sum\",\"distinct\",\"distinct\", \"distinct\", \"distinct\" ]).saveas(\"JUN.bed\")"
   ]
  },
  {
   "cell_type": "code",
   "execution_count": 24,
   "metadata": {},
   "outputs": [
    {
     "name": "stdout",
     "output_type": "stream",
     "text": [
      "chr1\t758332\t758344\tJUN\t0\t+\tEXP038043\tHAEC--human-aortic-endothelial-cells-\tMA0099.3,MA1130.1\n",
      " chr1\t758332\t758348\tJUN\t0\t-\tEXP038043\tHAEC--human-aortic-endothelial-cells-\tMA0462.2,MA0488.1,MA0489.1,MA1127.1,MA1128.1,MA1132.1\n",
      " chr1\t778608\t778621\tJUN\t0\t+\tEXP039507\tA549--lung-carcinoma-\tMA0488.1\n",
      " chr1\t778681\t778700\tJUN\t0\t+\tENCSR000EEK,ENCSR000FAH,EXP000309,EXP037742,EXP038042,EXP038043,EXP039416,EXP039496,EXP040248,EXP040263,EXP040320,EXP040322,EXP047660,EXP047661,EXP048210,EXP057912,EXP057919,EXP058065,EXP058211\t786-O--renal-carcinoma-,A549--lung-carcinoma-,HAEC--human-aortic-endothelial-cells-,HUVEC-C--HUVEC--umbilical-vein-endothelial-cells-,HepG2,K562,K562--myelogenous-leukemia-,Kasumi-1--acute-myeloblastic-leukemia-,MCF7--Invasive-ductal-breast-carcinoma-,MDA-MB-231p27CK-DD--breast-cancer-cells--phosphimimetic-p27-cell-line-,definitive-endoderm-from-HUES8\tMA0462.2,MA0488.1,MA0489.1,MA1127.1,MA1128.1\n",
      " chr1\t778685\t778697\tJUN\t0\t-\tEXP039869,EXP058211\tA549--lung-carcinoma-,Kasumi-1--acute-myeloblastic-leukemia-\tMA1130.1\n",
      " chr1\t778711\t778724\tJUN\t0\t-\tEXP040263,EXP040265,EXP040320,EXP058211\tA549--lung-carcinoma-,Kasumi-1--acute-myeloblastic-leukemia-\tMA0488.1\n",
      " chr1\t817362\t817377\tJUN\t0\t-\tENCSR000EFS,EXP000309,EXP058065\tK562,K562--myelogenous-leukemia-,MDA-MB-231p27CK-DD--breast-cancer-cells--phosphimimetic-p27-cell-line-\tMA0488.1,MA0489.1,MA1127.1\n",
      " chr1\t904735\t904748\tJUN\t0\t+\tEXP039416,EXP039496\tA549--lung-carcinoma-\tMA0488.1,MA1127.1\n",
      " chr1\t904795\t904810\tJUN\t0\t+\tEXP040265\tA549--lung-carcinoma-\tMA0488.1,MA0489.1\n",
      " chr1\t911308\t911324\tJUN\t0\t+\tENCSR000EFS,ENCSR000FAH,EXP000309,EXP037742,EXP040248,EXP040265,EXP040322,EXP048572\t786-O--renal-carcinoma-,A549--lung-carcinoma-,K562,K562--myelogenous-leukemia-,MCF10A-ER-Src\tMA0462.2,MA0488.1,MA0489.1,MA1127.1,MA1128.1,MA1132.1\n",
      " "
     ]
    }
   ],
   "source": [
    "tfbs_JUN.head()"
   ]
  },
  {
   "cell_type": "code",
   "execution_count": 30,
   "metadata": {},
   "outputs": [
    {
     "data": {
      "text/plain": [
       "array(['AR', 'ARNT'], dtype='<U9')"
      ]
     },
     "execution_count": 30,
     "metadata": {},
     "output_type": "execute_result"
    }
   ],
   "source": [
    "tf_test = tf_name_unique[:2]\n",
    "tf_test"
   ]
  },
  {
   "cell_type": "code",
   "execution_count": 40,
   "metadata": {},
   "outputs": [],
   "source": [
    "\n",
    "merged_tfbs_tmp = pybedtools.BedTool(())\n",
    "for tfbs_name in tf_name_unique:\n",
    "    single_tfbs_merged = tfbs_new.filter(lambda x: x.name == tfbs_name).merge(s=True, c=[4,5,6,7,8,9,1], o=[\"distinct\",\"sum\",\"distinct\",\"distinct\", \"distinct\", \"distinct\",\"count\"])\n",
    "    merged_tfbs_tmp = merged_tfbs_tmp.cat(single_tfbs_merged, postmerge=False)\n",
    "\n",
    "# merged_tfbs = merged_tfbs_tmp.sort().saveas(\"/sybig/projects/GeneRegulation/data/jme/Bachelorarbeit/data/tfbs/tfbs_reduced_pro_merged.bed\")"
   ]
  },
  {
   "cell_type": "code",
   "execution_count": 43,
   "metadata": {},
   "outputs": [
    {
     "name": "stdout",
     "output_type": "stream",
     "text": [
      "chr1\t17510\t17522\tMYCN\t0\t-\tEXP038397\tNGP--neuroblastoma-\tMA0104.4\t1\n",
      " chr1\t629638\t629650\tOTX2\t0\t-\tEXP036801\tHUES64--embryonic-stem-cells-\tMA0712.2\t1\n",
      " chr1\t634195\t634206\tEGR2\t0\t+\tEXP039511\tHEK293--embryonic-kidney-\tMA0472.2\t1\n",
      " chr1\t758332\t758348\tJUN\t0\t-\tEXP038043\tHAEC--human-aortic-endothelial-cells-\tMA0462.2,MA0488.1,MA0489.1,MA1127.1,MA1128.1,MA1132.1\t6\n",
      " chr1\t758332\t758344\tJUN\t0\t+\tEXP038043\tHAEC--human-aortic-endothelial-cells-\tMA0099.3,MA1130.1\t2\n",
      " chr1\t758509\t758526\tAR\t0\t+\tEXP049391,EXP049392\t22RV1--prostate-carcinoma-\tMA0007.3\t2\n",
      " chr1\t778564\t778578\tTCF7L2\t0\t-\tENCSR000EXL\tPanc1\tMA0523.1\t1\n",
      " chr1\t778585\t778600\tTFAP2C\t0\t-\tEXP047542,GSE36351\tUCLA1-hESCs,bt474,mdamb453,skbr3\tMA0524.2,MA0814.2,MA0815.1\t9\n",
      " chr1\t778587\t778599\tTFAP2C\t0\t+\tEXP047542\tUCLA1-hESCs\tMA0524.2\t1\n",
      " chr1\t778595\t778615\tPPARG\t0\t+\tEXP034422\tsubcutaneous-white-adipose-tissue\tMA0066.1\t1\n",
      " "
     ]
    }
   ],
   "source": [
    "merged_tfbs = pybedtools.BedTool(\"/sybig/projects/GeneRegulation/data/jme/Bachelorarbeit/data/tfbs/tfbs_reduced_pro_merged.bed\")\n",
    "merged_tfbs.head()"
   ]
  },
  {
   "cell_type": "code",
   "execution_count": 48,
   "metadata": {},
   "outputs": [
    {
     "ename": "NameError",
     "evalue": "name 'merged_tfbs' is not defined",
     "output_type": "error",
     "traceback": [
      "\u001b[0;31m---------------------------------------------------------------------------\u001b[0m",
      "\u001b[0;31mNameError\u001b[0m                                 Traceback (most recent call last)",
      "Cell \u001b[0;32mIn[48], line 1\u001b[0m\n\u001b[0;32m----> 1\u001b[0m \u001b[43mmerged_tfbs\u001b[49m\u001b[38;5;241m.\u001b[39mcount()\n",
      "\u001b[0;31mNameError\u001b[0m: name 'merged_tfbs' is not defined"
     ]
    }
   ],
   "source": [
    "merged_tfbs.count()"
   ]
  },
  {
   "cell_type": "markdown",
   "metadata": {},
   "source": []
  },
  {
   "cell_type": "markdown",
   "metadata": {},
   "source": [
    "# Test"
   ]
  },
  {
   "cell_type": "code",
   "execution_count": 7,
   "metadata": {},
   "outputs": [
    {
     "name": "stdout",
     "output_type": "stream",
     "text": [
      "chr1\t17510\t17522\tEXP038397_NGP--neuroblastoma-_MYCN_MA0104.4\t0\t-\t17510\t17522\t126,46,9\n",
      " chr1\t629638\t629650\tEXP036801_HUES64--embryonic-stem-cells-_OTX2_MA0712.2\t0\t-\t629638\t629650\t207,77,229\n",
      " chr1\t634195\t634206\tEXP039511_HEK293--embryonic-kidney-_EGR2_MA0472.2\t0\t+\t634195\t634206\t124,130,29\n",
      " chr1\t758332\t758344\tEXP038043_HAEC--human-aortic-endothelial-cells-_JUN_MA1130.1\t0\t+\t758332\t758344\t161,131,62\n",
      " chr1\t758332\t758345\tEXP038043_HAEC--human-aortic-endothelial-cells-_JUN_MA1128.1\t0\t-\t758332\t758345\t161,131,62\n",
      " chr1\t758333\t758344\tEXP038043_HAEC--human-aortic-endothelial-cells-_JUN_MA0462.2\t0\t-\t758333\t758344\t161,131,62\n",
      " chr1\t758333\t758344\tEXP038043_HAEC--human-aortic-endothelial-cells-_JUN_MA1127.1\t0\t-\t758333\t758344\t161,131,62\n",
      " chr1\t758333\t758346\tEXP038043_HAEC--human-aortic-endothelial-cells-_JUN_MA0488.1\t0\t-\t758333\t758346\t161,131,62\n",
      " chr1\t758334\t758344\tEXP038043_HAEC--human-aortic-endothelial-cells-_JUN_MA0099.3\t0\t+\t758334\t758344\t161,131,62\n",
      " chr1\t758334\t758344\tEXP038043_HAEC--human-aortic-endothelial-cells-_JUN_MA1132.1\t0\t-\t758334\t758344\t161,131,62\n",
      " "
     ]
    }
   ],
   "source": [
    "reduce_tfbs.head()"
   ]
  },
  {
   "cell_type": "code",
   "execution_count": 5,
   "metadata": {},
   "outputs": [],
   "source": [
    "def refine_BedTool_intervall(BedTool_intervall):\n",
    "    \"\"\"\n",
    "    function that processes single entry and rename columns (fields)  based on ”ChipSeq-ID_Zelllinie_TF-name_JASPAR-ID” information from UniBind column.\n",
    "    \"\"\"\n",
    "    # split name\n",
    "    split_name = BedTool_intervall.fields[3].split(\"_\")\n",
    "    chipseq_id = split_name[0]\n",
    "    tissue = split_name[1]\n",
    "    tf_name = split_name[2]\n",
    "    jaspar_id = split_name[3]\n",
    "\n",
    "    # rename columns (fields)\n",
    "    BedTool_intervall[3] = tf_name\n",
    "    BedTool_intervall[6] = chipseq_id\n",
    "    BedTool_intervall[7] = tissue\n",
    "    BedTool_intervall[8] = jaspar_id\n",
    "\n",
    "    return BedTool_intervall"
   ]
  },
  {
   "cell_type": "code",
   "execution_count": 15,
   "metadata": {},
   "outputs": [],
   "source": [
    "new_bed = reduce_tfbs.each(refine_BedTool_intervall).saveas()"
   ]
  },
  {
   "cell_type": "code",
   "execution_count": 35,
   "metadata": {},
   "outputs": [],
   "source": [
    "mycn = new_bed[0]\n",
    "chr_bed = new_bed.filter(lambda x: x.chrom == \"chr1\").saveas()\n",
    "# mycn.chrom"
   ]
  },
  {
   "cell_type": "code",
   "execution_count": 36,
   "metadata": {},
   "outputs": [
    {
     "name": "stdout",
     "output_type": "stream",
     "text": [
      "chr1\t17510\t17522\tMYCN\t0\t-\tEXP038397\tNGP--neuroblastoma-\tMA0104.4\n",
      " chr1\t629638\t629650\tOTX2\t0\t-\tEXP036801\tHUES64--embryonic-stem-cells-\tMA0712.2\n",
      " chr1\t634195\t634206\tEGR2\t0\t+\tEXP039511\tHEK293--embryonic-kidney-\tMA0472.2\n",
      " chr1\t758332\t758344\tJUN\t0\t+\tEXP038043\tHAEC--human-aortic-endothelial-cells-\tMA1130.1\n",
      " chr1\t758332\t758345\tJUN\t0\t-\tEXP038043\tHAEC--human-aortic-endothelial-cells-\tMA1128.1\n",
      " chr1\t758333\t758344\tJUN\t0\t-\tEXP038043\tHAEC--human-aortic-endothelial-cells-\tMA0462.2\n",
      " chr1\t758333\t758344\tJUN\t0\t-\tEXP038043\tHAEC--human-aortic-endothelial-cells-\tMA1127.1\n",
      " chr1\t758333\t758346\tJUN\t0\t-\tEXP038043\tHAEC--human-aortic-endothelial-cells-\tMA0488.1\n",
      " chr1\t758334\t758344\tJUN\t0\t+\tEXP038043\tHAEC--human-aortic-endothelial-cells-\tMA0099.3\n",
      " chr1\t758334\t758344\tJUN\t0\t-\tEXP038043\tHAEC--human-aortic-endothelial-cells-\tMA1132.1\n",
      " "
     ]
    }
   ],
   "source": [
    "chr_bed.head()"
   ]
  },
  {
   "cell_type": "code",
   "execution_count": 40,
   "metadata": {},
   "outputs": [],
   "source": [
    "tfbs_chr1 = np.unique(list(map(lambda x: x.name, chr_bed)))"
   ]
  },
  {
   "cell_type": "code",
   "execution_count": 70,
   "metadata": {},
   "outputs": [],
   "source": [
    "tfbs_lst = list(tfbs_chr1)"
   ]
  },
  {
   "cell_type": "code",
   "execution_count": 71,
   "metadata": {},
   "outputs": [],
   "source": [
    "def filter_interval_for_tfbs(interval, tfbs_lst):\n",
    "    if interval.name in tfbs_lst:\n",
    "        tfbs_lst.remove(interval.name)\n",
    "        return True\n",
    "    else:\n",
    "        return False"
   ]
  },
  {
   "cell_type": "code",
   "execution_count": 73,
   "metadata": {},
   "outputs": [],
   "source": [
    "chr_bed_filter= chr_bed.filter(filter_interval_for_tfbs, tfbs_lst=list(np.unique(list(map(lambda x: x.name, chr_bed))))).saveas()"
   ]
  },
  {
   "cell_type": "code",
   "execution_count": 134,
   "metadata": {},
   "outputs": [
    {
     "data": {
      "text/plain": [
       "'>chr1:17510-17522\\nGCCTATGTGCTG\\n>chr1:629638-629650\\nAATTAATCCCCT\\n>chr1:634195-634206\\nCCACCTACTCA\\n>chr1:758332-758344\\ngcaTGAGTAATT\\n>chr1:758509-758526\\nTGGAACATAATGTCTCC\\n>chr1:778564-778578\\nCCACTCTGATGAGA\\n>chr1:778585-778599\\nCCAGCTCCAGGCAC\\n>chr1:778595-778615\\nGCACCATGGCGCCCCAGTGA\\n>chr1:778596-778608\\nCACCATGGCGCC\\n>chr1:778598-778609\\nCCATGGCGCCC\\n>chr1:778599-778611\\nCATGGCGCCCCA\\n>chr1:778607-778622\\nCCCAGTGATGTAGCC\\n>chr1:778622-778636\\nGAACACCCGCGCCT\\n>chr1:778623-778634\\nAACACCCGCGC\\n>chr1:778625-778635\\nCACCCGCGCC\\n>chr1:778633-778649\\nCCTCTAACGTCGCCAA\\n>chr1:778639-778653\\nACGTCGCCAACGGC\\n>chr1:778640-778656\\nCGTCGCCAACGGCCCA\\n>chr1:778641-778655\\nGTCGCCAACGGCCC\\n>chr1:778642-778655\\nTCGCCAACGGCCC\\n>chr1:778644-778654\\nGCCAACGGCC\\n>chr1:778664-778680\\nGTGTCGGCGAAGACCC\\n>chr1:778668-778681\\nCGGCGAAGACCCG\\n>chr1:778671-778681\\nCGAAGACCCG\\n>chr1:778671-778688\\nCGAAGACCCGCCCTTGT\\n>chr1:778672-778687\\nGAAGACCCGCCCTTG\\n>chr1:778672-778689\\nGAAGACCCGCCCTTGTG\\n>chr1:778673-778685\\nAAGACCCGCCCT\\n>chr1:778673-778689\\nAAGACCCGCCCTTGTG\\n>chr1:778674-778685\\nAGACCCGCCCT\\n>chr1:778674-778686\\nAGACCCGCCCTT\\n>chr1:778674-778687\\nAGACCCGCCCTTG\\n>chr1:778674-778689\\nAGACCCGCCCTTGTG\\n>chr1:778675-778685\\nGACCCGCCCT\\n>chr1:778675-778686\\nGACCCGCCCTT\\n>chr1:778675-778686\\nGACCCGCCCTT\\n>chr1:778679-778693\\nCGCCCTTGTGACGT\\n>chr1:778679-778693\\nCGCCCTTGTGACGT\\n>chr1:778679-778695\\nCGCCCTTGTGACGTCA\\n>chr1:778679-778700\\nCGCCCTTGTGACGTCACGGAA\\n>chr1:778682-778697\\nCCTTGTGACGTCACG\\n>chr1:778683-778691\\nCTTGTGAC\\n>chr1:778684-778697\\nTTGTGACGTCACG\\n>chr1:778684-778698\\nTTGTGACGTCACGG\\n>chr1:778685-778697\\nTGTGACGTCACG\\n>chr1:778685-778698\\nTGTGACGTCACGG\\n>chr1:778688-778700\\nGACGTCACGGAA\\n>chr1:778689-778706\\nACGTCACGGAAGGCGCA\\n>chr1:778691-778705\\nGTCACGGAAGGCGC\\n>chr1:778691-778705\\nGTCACGGAAGGCGC\\n>chr1:778695-778703\\nCGGAAGGC\\n>chr1:778695-778714\\nCGGAAGGCGCACCCTTGTG\\n>chr1:778699-778718\\nAGGCGCACCCTTGTGACGT\\n>chr1:778701-778713\\nGCGCACCCTTGT\\n>chr1:778709-778722\\nTTGTGACGTCACA\\n>chr1:778709-778723\\nTTGTGACGTCACAG\\n>chr1:778713-778730\\nGACGTCACAGGGGACTA\\n>chr1:778721-778732\\nAGGGGACTACC\\n>chr1:778721-778734\\nAGGGGACTACCAC\\n>chr1:778722-778732\\nGGGGACTACC\\n>chr1:778724-778739\\nGGACTACCACTCACG\\n>chr1:778726-778739\\nACTACCACTCACG\\n>chr1:778728-778743\\nTACCACTCACGCAGA\\n>chr1:778733-778743\\nCTCACGCAGA\\n>chr1:778734-778745\\nTCACGCAGAGC\\n>chr1:778737-778758\\nCGCAGAGCCAATCAGAACTCG\\n>chr1:778740-778752\\nAGAGCCAATCAG\\n>chr1:778741-778754\\nGAGCCAATCAGAA\\n>chr1:778742-778753\\nAGCCAATCAGA\\n>chr1:778742-778753\\nAGCCAATCAGA\\n>chr1:778742-778760\\nAGCCAATCAGAACTCGCG\\n>chr1:778751-778762\\nGAACTCGCGGT\\n>chr1:778752-778762\\nAACTCGCGGT\\n>chr1:778752-778762\\nAACTCGCGGT\\n>chr1:778753-778764\\nACTCGCGGTGG\\n>chr1:778753-778769\\nACTCGCGGTGGGGGCT\\n>chr1:778755-778764\\nTCGCGGTGG\\n>chr1:778761-778777\\nTGGGGGCTGCTGGTTC\\n>chr1:778764-778776\\nGGGCTGCTGGTT\\n>chr1:778765-778775\\nGGCTGCTGGT\\n>chr1:778776-778787\\nCTTCCAGGAGC\\n>chr1:778786-778797\\nCGCGCATGAGC\\n>chr1:778795-778812\\nGCGGACGCTGCCTACTG\\n>chr1:778816-778829\\nCCGGGCGGGATGT\\n>chr1:778818-778829\\nGGGCGGGATGT\\n>chr1:817245-817256\\ntgacaaaggcc\\n>chr1:817279-817289\\ncttatgcaaA\\n>chr1:817296-817307\\nCACTTTCTGTC\\n>chr1:817323-817340\\nAGAGAATAGAAAGGAAA\\n>chr1:817327-817347\\nAATAGAAAGGAAAAGGGAAG\\n>chr1:817332-817342\\nAAAGGAAAAG\\n>chr1:817359-817373\\nAAAGACACGTCACC\\n>chr1:827508-827523\\nTCCGTTTCCGGGTCA\\n>chr1:827508-827523\\nTCCGTTTCCGGGTCA\\n>chr1:827509-827524\\nCCGTTTCCGGGTCAA\\n>chr1:827511-827523\\nGTTTCCGGGTCA\\n>chr1:827514-827525\\nTCCGGGTCAAC\\n>chr1:827515-827524\\nCCGGGTCAA\\n>chr1:827517-827528\\nGGGTCAACAAA\\n>chr1:827517-827528\\nGGGTCAACAAA\\n>chr1:827517-827528\\nGGGTCAACAAA\\n>chr1:827517-827529\\nGGGTCAACAAAA\\n>chr1:827521-827532\\nCAACAAAAAAC\\n>chr1:827547-827557\\ngggcgcgtac\\n>chr1:827554-827560\\ntacgtg\\n>chr1:877228-877241\\nCCCCACCTGGAGC\\n>chr1:877238-877251\\nAGCACAGCTGTGG\\n>chr1:877277-877289\\nAAGAGGAGGAGG\\n>chr1:904629-904643\\nGGCCGCCGCCTCCT\\n>chr1:904734-904748\\nGCCGCTTCCGCAGC\\n>chr1:904735-904746\\nCCGCTTCCGCA\\n>chr1:904736-904746\\nCGCTTCCGCA\\n>chr1:904736-904746\\nCGCTTCCGCA\\n>chr1:904736-904746\\nCGCTTCCGCA\\n>chr1:904736-904746\\nCGCTTCCGCA\\n>chr1:904736-904746\\nCGCTTCCGCA\\n>chr1:904754-904765\\nCGCAGGCCGCA\\n>chr1:904768-904783\\nCGCCACCAGGGGGCG\\n>chr1:904769-904783\\nGCCACCAGGGGGCG\\n>chr1:904772-904783\\nACCAGGGGGCG\\n>chr1:904776-904787\\nGGGGGCGCCAC\\n>chr1:904777-904787\\nGGGGCGCCAC\\n>chr1:904806-904820\\nTCCCGCAAACACAA\\n>chr1:911280-911290\\nTCATCTATCA\\n>chr1:911311-911323\\nAAATTACTCATC\\n>chr1:911311-911324\\nAAATTACTCATCC\\n>chr1:911312-911322\\nAATTACTCAT\\n>chr1:911331-911339\\nGTGATAAA\\n>chr1:911331-911341\\nGTGATAAATG\\n>chr1:911361-911375\\nCGCGGCAGGGGGTG\\n>chr1:911397-911415\\nAGGCCTGGGCCAGATAAA\\n>chr1:911406-911418\\nCCAGATAAACCT\\n>chr1:923738-923753\\ngcGCGGAGTCCTGGA\\n>chr1:923748-923760\\nCTGGATTCCAGC\\n>chr1:923765-923779\\nGCAGTGACTCGGTA\\n>chr1:923767-923778\\nAGTGACTCGGT\\n>chr1:923787-923801\\nAGTGCCGGGGGCCG\\n>chr1:923809-923819\\nTCCCGCTGCC\\n>chr1:923897-923908\\nTGGGCCAAGTT\\n>chr1:960585-960602\\nGAGTGAGCGACACAGAG\\n>chr1:966309-966324\\nGGGCCAGAGGGGTGC\\n>chr1:966394-966408\\nCCTCTTCCAGAAAG\\n>chr1:1000165-1000175\\nCTTTCCCACA\\n>chr1:1000195-1000205\\nGCCGCGCTCC\\n>chr1:1000215-1000223\\nGCTGTCAG\\n>chr1:1000257-1000266\\nGACAATGGC\\n>chr1:1000264-1000278\\nGCATGCGGGGCCCC\\n>chr1:1000354-1000372\\nAACGCGCCGGGAGGGGCC\\n>chr1:1000945-1000960\\nGCTTCCAGGTGACCC\\n>chr1:1000963-1000978\\nGGCGAACTCAGCAGC\\n>chr1:1001052-1001064\\nGGCTGTGGTTAT\\n>chr1:1013179-1013194\\nTGGAAAATGAAACCA\\n>chr1:1013206-1013213\\nATGACAG\\n>chr1:1013206-1013213\\nATGACAG\\n>chr1:1013207-1013215\\nTGACAGCT\\n>chr1:1013229-1013242\\nGAAGGATCTGGAA\\n>chr1:1013234-1013247\\nATCTGGAATGCGC\\n>chr1:1013255-1013266\\nGGTGTTTCCAG\\n>chr1:1013323-1013334\\nTTTCCCTGTCT\\n>chr1:1013351-1013366\\nGTTTCTTCCGCTCAC\\n>chr1:1013353-1013363\\nTTCTTCCGCT\\n>chr1:1013384-1013405\\nAAAGGGAAACCGAAACTGAAG\\n>chr1:1013388-1013403\\nGGAAACCGAAACTGA\\n>chr1:1013388-1013406\\nGGAAACCGAAACTGAAGC\\n>chr1:1074394-1074408\\nCCTTGGCGGGCCAG\\n>chr1:1116372-1116382\\nTTGGCGTTGC\\n>chr1:1116375-1116389\\nGCGTTGCCGGGAGA\\n>chr1:1136974-1136984\\nGCCACCTGCC\\n>chr1:1168792-1168805\\nTGACCAGGTGGCT\\n>chr1:1179551-1179560\\nGGCTGGCAC\\n>chr1:1206787-1206800\\nCTATGCAAAGTCT\\n>chr1:1206832-1206844\\nGGCGTTTATAGC\\n>chr1:1232050-1232062\\nCGGGCGGAAGCG\\n>chr1:1232103-1232121\\nCGAGGCCACGTGACGGCC\\n>chr1:1274083-1274097\\nTGTGCCACGGCCCA\\n>chr1:1275126-1275142\\nGCACACCTGTGGGGGC\\n>chr1:1275144-1275154\\nTGCAGCTGGG\\n>chr1:1296365-1296381\\nGCCCACCTGTGGATGC\\n>chr1:1308031-1308044\\nGCCAAGGTCCGCC\\n>chr1:1308120-1308131\\nTCCGGAAGTGA\\n>chr1:1308555-1308568\\nggggggggggCGT\\n>chr1:1318833-1318846\\nTTTCACCTGTCAC\\n>chr1:1324576-1324592\\nTCACCCAAGGGCGTGA\\n>chr1:1324593-1324601\\nTCTGATCT\\n>chr1:1324648-1324658\\nGTGATGCACT\\n>chr1:1375523-1375539\\nGACTACGGAAGTGACG\\n>chr1:1399394-1399403\\nCCATTGGTT\\n>chr1:1399467-1399480\\nCGCCTAACGCCGA\\n>chr1:1399513-1399526\\nTACCCAGGGGACT\\n>chr1:1407305-1407320\\nCGCTTCCGGGTCAGC\\n>chr1:1407334-1407349\\nCGGGGCGAAGGTCGT\\n>chr1:1511960-1511976\\nCGTCCCTCGGGAATTT\\n>chr1:1511996-1512009\\nAGCCAGATGCTTC\\n>chr1:1512120-1512131\\nCTTCTATCGCC\\n>chr1:1659022-1659036\\nTGATGATATAATAG\\n>chr1:1659098-1659116\\nTCTGCGCGGGATGATAAC\\n>chr1:1659113-1659127\\nAACGCATAAAACAG\\n>chr1:1659180-1659191\\nACTTCGGCGCG\\n>chr1:1659189-1659203\\nCGGGCTGTGACGCA\\n>chr1:1659190-1659209\\nGGGCTGTGACGCAGGAATC\\n>chr1:1724331-1724345\\nCCTGTGTTGACGCC\\n>chr1:1724362-1724377\\nCCGACCTCTGGCCCA\\n>chr1:1724426-1724443\\nGCGGGATGATGACGCAT\\n>chr1:1724433-1724444\\nGATGACGCATA\\n>chr1:1780496-1780510\\nCTTCCCTGTTTCAG\\n>chr1:1780508-1780523\\nAGAGATGAGAAAACA\\n>chr1:1780530-1780542\\nGGCTGTGGTTTC\\n>chr1:1780553-1780566\\nAGGTTGTGCAATT\\n>chr1:1780585-1780598\\nTATGACCTTGAAG\\n>chr1:2004029-2004050\\nGGCCTGGCCCAGGGCCAAGGC\\n>chr1:2212883-2212895\\nCGTCTGCAAGCA\\n>chr1:2212890-2212898\\nAAGCACGC\\n>chr1:2391632-2391643\\nCAATCTCTGGA\\n>chr1:2391661-2391671\\nGGAGCCAGAG\\n>chr1:3624802-3624812\\nTGCGCGTGAC\\n>chr1:3796687-3796699\\ngggttatgaacc\\n>chr1:6520161-6520174\\nATGTCTGCCCAGC\\n>chr1:6520162-6520170\\nTGTCTGCC\\n>chr1:6520177-6520192\\nACTCTGCTGATTCGC\\n>chr1:6554566-6554578\\nTCCCAGCTGCCG\\n>chr1:6554573-6554588\\nTGCCGAAAAGAGGGG\\n>chr1:6784966-6784980\\nAGCACGCGGGAAAA\\n>chr1:7943334-7943344\\nTTTAACTAAA\\n>chr1:7954117-7954129\\nAGTGACCTTTAG\\n>chr1:8026328-8026343\\nccTCTATATATAGCA\\n>chr1:8750261-8750275\\natgtgttcaataaa\\n>chr1:8878165-8878176\\nGCCTGAGTGGC\\n>chr1:9503496-9503510\\nTCATGGCATCAGCC\\n>chr1:9576247-9576260\\nACAGATAAGATAA\\n>chr1:9588741-9588753\\nCCGCTACAAAGC\\n>chr1:10472576-10472586\\nACACGTGAGA\\n>chr1:10796697-10796709\\nTCTCGCCCGCTG\\n>chr1:10796817-10796828\\nTCCCGGATCCT\\n>chr1:11047275-11047286\\nCCAGTGACCTG\\n>chr1:11908068-11908080\\nGCTCTTTTGGGC\\n>chr1:11908116-11908127\\nGTTACCTGAGA\\n>chr1:11910006-11910021\\nGAGCTATTGACTTCT\\n>chr1:12063301-12063312\\nCCTGAGTCATC\\n>chr1:12791262-12791273\\nAAACTCAATCA\\n>chr1:13623453-13623468\\nGATTTAAAGGAACCA\\n>chr1:15736266-15736278\\nGAACAGCTGAGC\\n>chr1:16159199-16159212\\nTTTAATGACACAC\\n>chr1:18385618-18385634\\nGGCTTAAATGTCAGCA\\n>chr1:18480925-18480940\\nGGGCAATTATTAATC\\n>chr1:18480934-18480942\\nTTAATCAG\\n>chr1:19596825-19596840\\nAGCCCCAAGGTCAGG\\n>chr1:19819222-19819238\\nGTGAAATTGATCTCTT\\n>chr1:23019436-23019446\\nCTTTTTGTCC\\n>chr1:23044210-23044228\\nAACAAGAATCAACATGTA\\n>chr1:23344464-23344476\\nGAGCCAATCGAT\\n>chr1:23531296-23531308\\nTCTCCCGCGGAA\\n>chr1:25906461-25906471\\nGGCACGTGAC\\n>chr1:26602580-26602596\\nATTTAATTTAATTGCA\\n>chr1:27672292-27672303\\ntgcagtttcat\\n>chr1:27725768-27725782\\nCCCCCGCGTGACTG\\n>chr1:28508545-28508556\\nACTAATGAGCA\\n>chr1:34850624-34850633\\nagcacttgc\\n>chr1:42463281-42463297\\nGGTTGCTATGACGCCC\\n>chr1:43727413-43727424\\nCATTAATGGGG\\n>chr1:55580994-55581005\\nGGAACAGTGGG\\n>chr1:66924850-66924858\\nCTCAACAA\\n>chr1:78004614-78004624\\nGTTTAATGAC\\n>chr1:110963292-110963305\\nGAATCTTCCAGAA\\n>chr1:149812408-149812420\\nCGTATGCAAATG\\n>chr1:154628048-154628065\\nTGCGCTCTAGGAAATTA\\n'"
      ]
     },
     "execution_count": 134,
     "metadata": {},
     "output_type": "execute_result"
    }
   ],
   "source": [
    "complement = chr_bed_filter.complement(genome=\"hg38\")\n",
    "a = chr_bed_filter.sequence(fi=\"/sybig/projects/GeneRegulation/data/jme/Genome_FASTA/chr1.fa\")\n",
    "open(a.seqfn).read()"
   ]
  },
  {
   "cell_type": "code",
   "execution_count": 132,
   "metadata": {},
   "outputs": [
    {
     "data": {
      "text/plain": [
       "Interval(chr1:17510-17522)"
      ]
     },
     "execution_count": 132,
     "metadata": {},
     "output_type": "execute_result"
    }
   ],
   "source": [
    "a[0]"
   ]
  },
  {
   "cell_type": "code",
   "execution_count": 163,
   "metadata": {},
   "outputs": [
    {
     "data": {
      "text/plain": [
       "array(['GCCTATGTGCTG', 'AATTAATCCCCT', 'CCACCTACTCA', 'gcaTGAGTAATT',\n",
       "       'TGGAACATAATGTCTCC', 'CCACTCTGATGAGA', 'CCAGCTCCAGGCAC',\n",
       "       'GCACCATGGCGCCCCAGTGA', 'CACCATGGCGCC', 'CCATGGCGCCC',\n",
       "       'CATGGCGCCCCA', 'CCCAGTGATGTAGCC', 'GAACACCCGCGCCT', 'AACACCCGCGC',\n",
       "       'CACCCGCGCC', 'CCTCTAACGTCGCCAA', 'ACGTCGCCAACGGC',\n",
       "       'CGTCGCCAACGGCCCA', 'GTCGCCAACGGCCC', 'TCGCCAACGGCCC',\n",
       "       'GCCAACGGCC', 'GTGTCGGCGAAGACCC', 'CGGCGAAGACCCG', 'CGAAGACCCG',\n",
       "       'CGAAGACCCGCCCTTGT', 'GAAGACCCGCCCTTG', 'GAAGACCCGCCCTTGTG',\n",
       "       'AAGACCCGCCCT', 'AAGACCCGCCCTTGTG', 'AGACCCGCCCT', 'AGACCCGCCCTT',\n",
       "       'AGACCCGCCCTTG', 'AGACCCGCCCTTGTG', 'GACCCGCCCT', 'GACCCGCCCTT',\n",
       "       'GACCCGCCCTT', 'CGCCCTTGTGACGT', 'CGCCCTTGTGACGT',\n",
       "       'CGCCCTTGTGACGTCA', 'CGCCCTTGTGACGTCACGGAA', 'CCTTGTGACGTCACG',\n",
       "       'CTTGTGAC', 'TTGTGACGTCACG', 'TTGTGACGTCACGG', 'TGTGACGTCACG',\n",
       "       'TGTGACGTCACGG', 'GACGTCACGGAA', 'ACGTCACGGAAGGCGCA',\n",
       "       'GTCACGGAAGGCGC', 'GTCACGGAAGGCGC', 'CGGAAGGC',\n",
       "       'CGGAAGGCGCACCCTTGTG', 'AGGCGCACCCTTGTGACGT', 'GCGCACCCTTGT',\n",
       "       'TTGTGACGTCACA', 'TTGTGACGTCACAG', 'GACGTCACAGGGGACTA',\n",
       "       'AGGGGACTACC', 'AGGGGACTACCAC', 'GGGGACTACC', 'GGACTACCACTCACG',\n",
       "       'ACTACCACTCACG', 'TACCACTCACGCAGA', 'CTCACGCAGA', 'TCACGCAGAGC',\n",
       "       'CGCAGAGCCAATCAGAACTCG', 'AGAGCCAATCAG', 'GAGCCAATCAGAA',\n",
       "       'AGCCAATCAGA', 'AGCCAATCAGA', 'AGCCAATCAGAACTCGCG', 'GAACTCGCGGT',\n",
       "       'AACTCGCGGT', 'AACTCGCGGT', 'ACTCGCGGTGG', 'ACTCGCGGTGGGGGCT',\n",
       "       'TCGCGGTGG', 'TGGGGGCTGCTGGTTC', 'GGGCTGCTGGTT', 'GGCTGCTGGT',\n",
       "       'CTTCCAGGAGC', 'CGCGCATGAGC', 'GCGGACGCTGCCTACTG', 'CCGGGCGGGATGT',\n",
       "       'GGGCGGGATGT', 'tgacaaaggcc', 'cttatgcaaA', 'CACTTTCTGTC',\n",
       "       'AGAGAATAGAAAGGAAA', 'AATAGAAAGGAAAAGGGAAG', 'AAAGGAAAAG',\n",
       "       'AAAGACACGTCACC', 'TCCGTTTCCGGGTCA', 'TCCGTTTCCGGGTCA',\n",
       "       'CCGTTTCCGGGTCAA', 'GTTTCCGGGTCA', 'TCCGGGTCAAC', 'CCGGGTCAA',\n",
       "       'GGGTCAACAAA', 'GGGTCAACAAA', 'GGGTCAACAAA', 'GGGTCAACAAAA',\n",
       "       'CAACAAAAAAC', 'gggcgcgtac', 'tacgtg', 'CCCCACCTGGAGC',\n",
       "       'AGCACAGCTGTGG', 'AAGAGGAGGAGG', 'GGCCGCCGCCTCCT',\n",
       "       'GCCGCTTCCGCAGC', 'CCGCTTCCGCA', 'CGCTTCCGCA', 'CGCTTCCGCA',\n",
       "       'CGCTTCCGCA', 'CGCTTCCGCA', 'CGCTTCCGCA', 'CGCAGGCCGCA',\n",
       "       'CGCCACCAGGGGGCG', 'GCCACCAGGGGGCG', 'ACCAGGGGGCG', 'GGGGGCGCCAC',\n",
       "       'GGGGCGCCAC', 'TCCCGCAAACACAA', 'TCATCTATCA', 'AAATTACTCATC',\n",
       "       'AAATTACTCATCC', 'AATTACTCAT', 'GTGATAAA', 'GTGATAAATG',\n",
       "       'CGCGGCAGGGGGTG', 'AGGCCTGGGCCAGATAAA', 'CCAGATAAACCT',\n",
       "       'gcGCGGAGTCCTGGA', 'CTGGATTCCAGC', 'GCAGTGACTCGGTA', 'AGTGACTCGGT',\n",
       "       'AGTGCCGGGGGCCG', 'TCCCGCTGCC', 'TGGGCCAAGTT', 'GAGTGAGCGACACAGAG',\n",
       "       'GGGCCAGAGGGGTGC', 'CCTCTTCCAGAAAG', 'CTTTCCCACA', 'GCCGCGCTCC',\n",
       "       'GCTGTCAG', 'GACAATGGC', 'GCATGCGGGGCCCC', 'AACGCGCCGGGAGGGGCC',\n",
       "       'GCTTCCAGGTGACCC', 'GGCGAACTCAGCAGC', 'GGCTGTGGTTAT',\n",
       "       'TGGAAAATGAAACCA', 'ATGACAG', 'ATGACAG', 'TGACAGCT',\n",
       "       'GAAGGATCTGGAA', 'ATCTGGAATGCGC', 'GGTGTTTCCAG', 'TTTCCCTGTCT',\n",
       "       'GTTTCTTCCGCTCAC', 'TTCTTCCGCT', 'AAAGGGAAACCGAAACTGAAG',\n",
       "       'GGAAACCGAAACTGA', 'GGAAACCGAAACTGAAGC', 'CCTTGGCGGGCCAG',\n",
       "       'TTGGCGTTGC', 'GCGTTGCCGGGAGA', 'GCCACCTGCC', 'TGACCAGGTGGCT',\n",
       "       'GGCTGGCAC', 'CTATGCAAAGTCT', 'GGCGTTTATAGC', 'CGGGCGGAAGCG',\n",
       "       'CGAGGCCACGTGACGGCC', 'TGTGCCACGGCCCA', 'GCACACCTGTGGGGGC',\n",
       "       'TGCAGCTGGG', 'GCCCACCTGTGGATGC', 'GCCAAGGTCCGCC', 'TCCGGAAGTGA',\n",
       "       'ggggggggggCGT', 'TTTCACCTGTCAC', 'TCACCCAAGGGCGTGA', 'TCTGATCT',\n",
       "       'GTGATGCACT', 'GACTACGGAAGTGACG', 'CCATTGGTT', 'CGCCTAACGCCGA',\n",
       "       'TACCCAGGGGACT', 'CGCTTCCGGGTCAGC', 'CGGGGCGAAGGTCGT',\n",
       "       'CGTCCCTCGGGAATTT', 'AGCCAGATGCTTC', 'CTTCTATCGCC',\n",
       "       'TGATGATATAATAG', 'TCTGCGCGGGATGATAAC', 'AACGCATAAAACAG',\n",
       "       'ACTTCGGCGCG', 'CGGGCTGTGACGCA', 'GGGCTGTGACGCAGGAATC',\n",
       "       'CCTGTGTTGACGCC', 'CCGACCTCTGGCCCA', 'GCGGGATGATGACGCAT',\n",
       "       'GATGACGCATA', 'CTTCCCTGTTTCAG', 'AGAGATGAGAAAACA', 'GGCTGTGGTTTC',\n",
       "       'AGGTTGTGCAATT', 'TATGACCTTGAAG', 'GGCCTGGCCCAGGGCCAAGGC',\n",
       "       'CGTCTGCAAGCA', 'AAGCACGC', 'CAATCTCTGGA', 'GGAGCCAGAG',\n",
       "       'TGCGCGTGAC', 'gggttatgaacc', 'ATGTCTGCCCAGC', 'TGTCTGCC',\n",
       "       'ACTCTGCTGATTCGC', 'TCCCAGCTGCCG', 'TGCCGAAAAGAGGGG',\n",
       "       'AGCACGCGGGAAAA', 'TTTAACTAAA', 'AGTGACCTTTAG', 'ccTCTATATATAGCA',\n",
       "       'atgtgttcaataaa', 'GCCTGAGTGGC', 'TCATGGCATCAGCC', 'ACAGATAAGATAA',\n",
       "       'CCGCTACAAAGC', 'ACACGTGAGA', 'TCTCGCCCGCTG', 'TCCCGGATCCT',\n",
       "       'CCAGTGACCTG', 'GCTCTTTTGGGC', 'GTTACCTGAGA', 'GAGCTATTGACTTCT',\n",
       "       'CCTGAGTCATC', 'AAACTCAATCA', 'GATTTAAAGGAACCA', 'GAACAGCTGAGC',\n",
       "       'TTTAATGACACAC', 'GGCTTAAATGTCAGCA', 'GGGCAATTATTAATC', 'TTAATCAG',\n",
       "       'AGCCCCAAGGTCAGG', 'GTGAAATTGATCTCTT', 'CTTTTTGTCC',\n",
       "       'AACAAGAATCAACATGTA', 'GAGCCAATCGAT', 'TCTCCCGCGGAA', 'GGCACGTGAC',\n",
       "       'ATTTAATTTAATTGCA', 'tgcagtttcat', 'CCCCCGCGTGACTG', 'ACTAATGAGCA',\n",
       "       'agcacttgc', 'GGTTGCTATGACGCCC', 'CATTAATGGGG', 'GGAACAGTGGG',\n",
       "       'CTCAACAA', 'GTTTAATGAC', 'GAATCTTCCAGAA', 'CGTATGCAAATG',\n",
       "       'TGCGCTCTAGGAAATTA'], dtype='<U25')"
      ]
     },
     "execution_count": 163,
     "metadata": {},
     "output_type": "execute_result"
    }
   ],
   "source": [
    "bool_lst = np.array(list(map(lambda x: False if x[0] == \">\" else True, open(a.seqfn).readlines())))\n",
    "lst_all = np.array(list(map(lambda x: x.split()[0], open(a.seqfn).readlines())))\n",
    "seq_lst = lst_all[bool_lst]\n",
    "seq_lst"
   ]
  },
  {
   "cell_type": "code",
   "execution_count": 95,
   "metadata": {},
   "outputs": [],
   "source": [
    "def verify(sequence):\n",
    "    '''This code verifies if a sequence is a DNA or RNA'''\n",
    "     \n",
    "    # set the input sequence\n",
    "    seq = set(sequence)\n",
    "     \n",
    "    # confirm if its elements is equal to \n",
    "    # the set of valid DNA bases\n",
    "    # Use a union method to ensure the\n",
    "    # sequence is verified if does not\n",
    "    # contain all the bases\n",
    "    if seq == {\"A\", \"T\", \"C\", \"G\"}.union(seq):\n",
    "        return \"DNA\"\n",
    "    elif seq == {\"A\", \"U\", \"C\", \"G\"}.union(seq):\n",
    "        return \"RNA\"\n",
    "    else:\n",
    "        return \"Invalid sequence\"\n",
    " \n",
    " \n",
    "def rev_comp_if(seq):\n",
    "    comp = []\n",
    "    if verify(seq) == \"DNA\":\n",
    "        for base in seq:\n",
    "            if base == \"A\":\n",
    "                comp.append(\"T\")\n",
    "            elif base == \"G\":\n",
    "                comp.append(\"C\")\n",
    "            elif base == \"T\":\n",
    "                comp.append(\"A\")\n",
    "            elif base == \"C\":\n",
    "                comp.append(\"G\")\n",
    "    elif verify(seq) == \"RNA\":\n",
    "        for base in seq:\n",
    "            if base == \"U\":\n",
    "                comp.append(\"A\")\n",
    "            elif base == \"G\":\n",
    "                comp.append(\"C\")\n",
    "            elif base == \"A\":\n",
    "                comp.append(\"U\")\n",
    "            elif base == \"C\":\n",
    "                comp.append(\"G\")\n",
    "    else:\n",
    "        return \"Invalid Sequence\"\n",
    "       \n",
    "    # reverse the sequence\n",
    "    comp_rev = comp[::-1]\n",
    "     \n",
    "    # convert list to string\n",
    "    comp_rev = \"\".join(comp_rev)\n",
    "    return comp_rev"
   ]
  },
  {
   "cell_type": "code",
   "execution_count": 180,
   "metadata": {},
   "outputs": [],
   "source": [
    "seq_lst_upper = [i.upper() for i in seq_lst]\n",
    "seq_reveres = [rev_comp_if(seq) for seq in seq_lst_upper]\n",
    "is_palindrom = np.array([True if seq_lst_upper[i] == seq_reveres[i] else False for i in range(len(seq_reveres))])\n",
    "\n"
   ]
  },
  {
   "cell_type": "code",
   "execution_count": 182,
   "metadata": {},
   "outputs": [
    {
     "data": {
      "text/plain": [
       "array([], dtype='<U9')"
      ]
     },
     "execution_count": 182,
     "metadata": {},
     "output_type": "execute_result"
    }
   ],
   "source": [
    "tfbs = np.array(list(map(lambda x: x.name, a)))\n",
    "tfbs[is_palindrom]"
   ]
  }
 ],
 "metadata": {
  "kernelspec": {
   "display_name": ".venv",
   "language": "python",
   "name": "python3"
  },
  "language_info": {
   "codemirror_mode": {
    "name": "ipython",
    "version": 3
   },
   "file_extension": ".py",
   "mimetype": "text/x-python",
   "name": "python",
   "nbconvert_exporter": "python",
   "pygments_lexer": "ipython3",
   "version": "3.8.10"
  }
 },
 "nbformat": 4,
 "nbformat_minor": 2
}
