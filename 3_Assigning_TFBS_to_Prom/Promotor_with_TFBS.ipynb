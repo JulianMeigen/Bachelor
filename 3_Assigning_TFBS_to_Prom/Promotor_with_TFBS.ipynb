{
 "cells": [
  {
   "cell_type": "markdown",
   "metadata": {},
   "source": [
    "# Assign UniBind to GTEx Transcripts"
   ]
  },
  {
   "cell_type": "markdown",
   "metadata": {},
   "source": []
  },
  {
   "cell_type": "code",
   "execution_count": 3,
   "metadata": {},
   "outputs": [],
   "source": [
    "import pybedtools\n",
    "import pandas as pd\n",
    "import numpy as np\n",
    "import matplotlib.pyplot as plt"
   ]
  },
  {
   "cell_type": "code",
   "execution_count": 9,
   "metadata": {},
   "outputs": [],
   "source": [
    "tfbs_all = pybedtools.BedTool(\"/sybig/projects/GeneRegulation/data/jme/Bachelorarbeit/data/tfbs/GTEx_prom_200bp_with_all_TFBS/output_data.bed\")\n",
    "gtex_prom = pybedtools.BedTool(\"/sybig/projects/GeneRegulation/data/jme/Bachelorarbeit/data/GTEx_Promotors.bed\")\n",
    "#gtex = pybedtools.BedTool(\"/sybig/projects/GeneRegulation/data/jme/Bachelorarbeit/raw_data/gtex/gtexGeneV8.txt\")"
   ]
  },
  {
   "cell_type": "code",
   "execution_count": 10,
   "metadata": {},
   "outputs": [],
   "source": [
    "intersect = gtex_prom.intersect(tfbs_all, wa=True, wb=True).sort()"
   ]
  },
  {
   "cell_type": "code",
   "execution_count": 14,
   "metadata": {},
   "outputs": [
    {
     "name": "stdout",
     "output_type": "stream",
     "text": [
      "chr1\t17436\t17636\tMIR6859-1\t0\t-\tENSG00000278267.1\tmiRNA\t54\t0,0,0,0,0,0,0,0,0,0,0,0,0,0,0,0,0,0,0,0,0,0,0,0,0,0,0,0,0,0,0,0,0,0,0,0,0,0,0,0,0,0,0,0,0,0,0,0,0,0,0,0,0,0,\tchr1\t17510\t17522\tMYCN\t0\t-\tEXP038397\tNGP--neuroblastoma-\tMA0104.4\t1\n",
      " chr1\t629439\t629639\tMTND2P28\t730\t+\tENSG00000225630.1\tunprocessed_pseudogene\t54\t961.4,1024,949.35,328.1,497.15,363.6,518.8,1182,1160,1568,638.6,851.2,1275,990.9,1320,1213.5,1315,1591,1228,1440,902.9,207.95,180.7,370.8,427.8,826.4,777.5,814.1,335.2,798.7,510.5,1157,1283.5,1149,864.8,754.9,447.2,484.3,760.1,602.9,385.65,320.05,541.9,772.4,604.95,573.3,748.9,342.4,887.1,562,559,441.2,394.05,53.19,\tchr1\t629638\t629650\tOTX2\t0\t-\tEXP036801\tHUES64--embryonic-stem-cells-\tMA0712.2\t1\n",
      " chr1\t634176\t634376\tMTCO3P12\t483\t+\tENSG00000198744.5\tunprocessed_pseudogene\t54\t19.46,17.82,28.275,9.633,12.73,13.52,11.34,40.195,36.9,30.34,21.63,23.05,29.58,32.36,49.13,36.375,37.295,31.25,22.06,32.93,18.46,11.145,8.255,8.538,9.101,16.43,22.555,18.51,12.34,18.61,10.82,35.74,48.98,40.82,18.575,21.435,12.21,14.485,25.13,14,10.052,6.905,14.03,17.25,18.495,19.47,20.65,10.04,19.89,19.92,19.29,10.595,11.63,4.395,\tchr1\t634195\t634206\tEGR2\t0\t+\tEXP039511\tHEK293--embryonic-kidney-\tMA0472.2\t1\n",
      " chr1\t758336\t758536\tRNU6-1199P\t0\t-\tENSG00000223181.1\tsnRNA\t54\t0,0,0,0,0,0,0,0,0,0,0,0,0,0,0,0,0,0,0,0,0,0,0,0,0,0,0,0,0,0,0,0,0,0,0,0,0,0,0,0,0,0,0,0,0,0,0,0,0,0,0,0,0,0,\tchr1\t758332\t758348\tJUN\t0\t-\tEXP038043\tHAEC--human-aortic-endothelial-cells-\tMA0462.2,MA0488.1,MA0489.1,MA1127.1,MA1128.1,MA1132.1\t6\n",
      " chr1\t758336\t758536\tRNU6-1199P\t0\t-\tENSG00000223181.1\tsnRNA\t54\t0,0,0,0,0,0,0,0,0,0,0,0,0,0,0,0,0,0,0,0,0,0,0,0,0,0,0,0,0,0,0,0,0,0,0,0,0,0,0,0,0,0,0,0,0,0,0,0,0,0,0,0,0,0,\tchr1\t758332\t758344\tJUN\t0\t+\tEXP038043\tHAEC--human-aortic-endothelial-cells-\tMA0099.3,MA1130.1\t2\n",
      " chr1\t758336\t758536\tRNU6-1199P\t0\t-\tENSG00000223181.1\tsnRNA\t54\t0,0,0,0,0,0,0,0,0,0,0,0,0,0,0,0,0,0,0,0,0,0,0,0,0,0,0,0,0,0,0,0,0,0,0,0,0,0,0,0,0,0,0,0,0,0,0,0,0,0,0,0,0,0,\tchr1\t758509\t758526\tAR\t0\t+\tEXP049391,EXP049392\t22RV1--prostate-carcinoma-\tMA0007.3\t2\n",
      " chr1\t778569\t778769\tRP11-206L10.9\t262\t+\tENSG00000237491.8\tlincRNA\t54\t0.593,0.395,0.359,0.759,0.754,0.771,0.642,0.372,0.428,0.501,2.547,2.607,0.573,0.572,0.429,0.534,0.594,0.434,0.487,0.34,0.576,1.097,0.527,0.856,1.466,0.7,0.766,0.568,0.496,0.54,0.823,0.287,0.243,0.347,0.761,0.389,0.687,0.782,0.263,1.511,1.05,0.265,2.336,0.918,0.812,0.936,0.764,0.885,0.5,4.036,1.173,1.148,0.793,0.109,\tchr1\t778679\t778700\tREST\t0\t-\tEXP036864\tA549--lung-carcinoma-\tMA0138.2\t2\n",
      " chr1\t778569\t778769\tRP11-206L10.9\t262\t+\tENSG00000237491.8\tlincRNA\t54\t0.593,0.395,0.359,0.759,0.754,0.771,0.642,0.372,0.428,0.501,2.547,2.607,0.573,0.572,0.429,0.534,0.594,0.434,0.487,0.34,0.576,1.097,0.527,0.856,1.466,0.7,0.766,0.568,0.496,0.54,0.823,0.287,0.243,0.347,0.761,0.389,0.687,0.782,0.263,1.511,1.05,0.265,2.336,0.918,0.812,0.936,0.764,0.885,0.5,4.036,1.173,1.148,0.793,0.109,\tchr1\t778673\t778689\tKLF9\t0\t+\tGSE62211\tgbm1a\tMA1107.2\t2\n",
      " chr1\t778569\t778769\tRP11-206L10.9\t262\t+\tENSG00000237491.8\tlincRNA\t54\t0.593,0.395,0.359,0.759,0.754,0.771,0.642,0.372,0.428,0.501,2.547,2.607,0.573,0.572,0.429,0.534,0.594,0.434,0.487,0.34,0.576,1.097,0.527,0.856,1.466,0.7,0.766,0.568,0.496,0.54,0.823,0.287,0.243,0.347,0.761,0.389,0.687,0.782,0.263,1.511,1.05,0.265,2.336,0.918,0.812,0.936,0.764,0.885,0.5,4.036,1.173,1.148,0.793,0.109,\tchr1\t778679\t778695\tSRF\t0\t-\tENCSR000BTD\tIshikawa\tMA0083.3\t2\n",
      " chr1\t778569\t778769\tRP11-206L10.9\t262\t+\tENSG00000237491.8\tlincRNA\t54\t0.593,0.395,0.359,0.759,0.754,0.771,0.642,0.372,0.428,0.501,2.547,2.607,0.573,0.572,0.429,0.534,0.594,0.434,0.487,0.34,0.576,1.097,0.527,0.856,1.466,0.7,0.766,0.568,0.496,0.54,0.823,0.287,0.243,0.347,0.761,0.389,0.687,0.782,0.263,1.511,1.05,0.265,2.336,0.918,0.812,0.936,0.764,0.885,0.5,4.036,1.173,1.148,0.793,0.109,\tchr1\t778679\t778695\tSRF\t0\t+\tENCSR000BIV,ENCSR000BLK\tH1-hESC,K562\tMA0083.3\t4\n",
      " "
     ]
    }
   ],
   "source": [
    "intersect.head()"
   ]
  },
  {
   "cell_type": "code",
   "execution_count": 11,
   "metadata": {},
   "outputs": [
    {
     "name": "stderr",
     "output_type": "stream",
     "text": [
      "/sybig/home/jme/Bachelorarbeit/.venv/lib/python3.8/site-packages/pybedtools/bedtool.py:3691: UserWarning: Default names for filetype bed are:\n",
      "['chrom', 'start', 'end', 'name', 'score', 'strand', 'thickStart', 'thickEnd', 'itemRgb', 'blockCount', 'blockSizes', 'blockStarts']\n",
      "but file has 20 fields; you can supply custom names with the `names` kwarg\n",
      "  warn(\n"
     ]
    }
   ],
   "source": [
    "intersect_df = intersect.to_dataframe()"
   ]
  },
  {
   "cell_type": "code",
   "execution_count": 4,
   "metadata": {},
   "outputs": [],
   "source": [
    "prom_with_tfbs_02 = pybedtools.BedTool(\"/sybig/projects/GeneRegulation/data/jme/Bachelorarbeit/data/Promotor_with_TFBS/prom_with_tfbs_02.bed\")"
   ]
  },
  {
   "cell_type": "code",
   "execution_count": 5,
   "metadata": {},
   "outputs": [],
   "source": [
    "df_prom_all = prom_with_tfbs_02.to_dataframe(names = [\"chrom\", \"start\", 'end', 'name_gene', 'score_gene', 'strand_gene', \"geneID\", \"geneType\", \"expCount\", \"expScores\", \"tfbs\", \"start_tfbs\", \"end_tfbs\", \"strand_tfbs\",\"unibin_cell_lines\", \"tfbs_count\", \"tfbs_count_unique\"])"
   ]
  },
  {
   "cell_type": "code",
   "execution_count": 6,
   "metadata": {},
   "outputs": [
    {
     "data": {
      "text/plain": [
       "array(['miRNA', 'unprocessed_pseudogene', 'snRNA', 'lincRNA',\n",
       "       'transcribed_unprocessed_pseudogene', 'protein_coding',\n",
       "       'antisense', 'sense_intronic', 'processed_pseudogene',\n",
       "       'processed_transcript', 'transcribed_processed_pseudogene', 'TEC',\n",
       "       'transcribed_unitary_pseudogene', 'misc_RNA', 'snoRNA', 'scaRNA',\n",
       "       'rRNA', 'unitary_pseudogene', '3prime_overlapping_ncRNA',\n",
       "       'polymorphic_pseudogene', 'bidirectional_promoter_lncRNA',\n",
       "       'sense_overlapping', 'pseudogene', 'IG_V_pseudogene', 'ribozyme',\n",
       "       'sRNA', 'TR_V_gene', 'TR_V_pseudogene', 'TR_D_gene', 'TR_J_gene',\n",
       "       'TR_C_gene', 'TR_J_pseudogene', 'IG_C_gene', 'IG_C_pseudogene',\n",
       "       'IG_J_gene', 'IG_J_pseudogene', 'IG_D_gene', 'IG_V_gene', 'scRNA',\n",
       "       'vaultRNA', 'non_coding', 'Mt_tRNA', 'Mt_rRNA'], dtype=object)"
      ]
     },
     "execution_count": 6,
     "metadata": {},
     "output_type": "execute_result"
    }
   ],
   "source": [
    "df_prom_all.geneType.unique()\n"
   ]
  },
  {
   "cell_type": "code",
   "execution_count": 8,
   "metadata": {},
   "outputs": [
    {
     "data": {
      "text/plain": [
       "24"
      ]
     },
     "execution_count": 8,
     "metadata": {},
     "output_type": "execute_result"
    }
   ],
   "source": [
    "len(df_prom_all[df_prom_all.end - df_prom_all.start  != 200])"
   ]
  },
  {
   "cell_type": "markdown",
   "metadata": {},
   "source": [
    "## Filtering protein_coding genes and merging afterwards"
   ]
  },
  {
   "cell_type": "code",
   "execution_count": 33,
   "metadata": {},
   "outputs": [],
   "source": [
    "protein_coding = intersect.filter(lambda x: x.fields[7] == \"protein_coding\").saveas()\n"
   ]
  },
  {
   "cell_type": "code",
   "execution_count": 35,
   "metadata": {},
   "outputs": [
    {
     "data": {
      "text/plain": [
       "<BedTool(/sybig/projects/GeneRegulation/data/jme/Bachelorarbeit/data/Promotor_with_TFBS/tfbs_in_protein_prom.bed)>"
      ]
     },
     "execution_count": 35,
     "metadata": {},
     "output_type": "execute_result"
    }
   ],
   "source": [
    "tfbs_in_protein_prom = protein_coding.merge(s=True, c=[4,5,6,7,8,9,10,  14,12,13,16, 18, 14, 14], o=[\"distinct\",\"distinct\",\"distinct\",\"distinct\",\"distinct\",\"distinct\",\"distinct\",  \"collapse\",\"collapse\",\"collapse\",\"collapse\", \"distinct\", \"count\", \"count_distinct\"])\n",
    "\n",
    "#tfbs_in_protein_prom.saveas(\"/sybig/projects/GeneRegulation/data/jme/Bachelorarbeit/data/Promotor_with_TFBS/tfbs_in_protein_prom.bed\")"
   ]
  },
  {
   "cell_type": "code",
   "execution_count": 36,
   "metadata": {},
   "outputs": [],
   "source": [
    "tfbs_in_protein_prom = pybedtools.BedTool(\"/sybig/projects/GeneRegulation/data/jme/Bachelorarbeit/data/Promotor_with_TFBS/tfbs_in_protein_prom.bed\")"
   ]
  },
  {
   "cell_type": "code",
   "execution_count": 39,
   "metadata": {},
   "outputs": [],
   "source": [
    "df_prom = tfbs_in_protein_prom.to_dataframe(names = [\"chrom\", \"start\", 'end', 'name_gene', 'score_gene', 'strand_gene', \"geneID\", \"geneType\", \"expCount\", \"expScores\", \"tfbs\", \"start_tfbs\", \"end_tfbs\", \"strand_tfbs\",\"unibin_cell_lines\", \"tfbs_count\", \"tfbs_count_unique\"])"
   ]
  },
  {
   "cell_type": "code",
   "execution_count": 48,
   "metadata": {},
   "outputs": [
    {
     "data": {
      "text/html": [
       "<div>\n",
       "<style scoped>\n",
       "    .dataframe tbody tr th:only-of-type {\n",
       "        vertical-align: middle;\n",
       "    }\n",
       "\n",
       "    .dataframe tbody tr th {\n",
       "        vertical-align: top;\n",
       "    }\n",
       "\n",
       "    .dataframe thead th {\n",
       "        text-align: right;\n",
       "    }\n",
       "</style>\n",
       "<table border=\"1\" class=\"dataframe\">\n",
       "  <thead>\n",
       "    <tr style=\"text-align: right;\">\n",
       "      <th></th>\n",
       "      <th>chrom</th>\n",
       "      <th>start</th>\n",
       "      <th>end</th>\n",
       "      <th>name_gene</th>\n",
       "      <th>score_gene</th>\n",
       "      <th>strand_gene</th>\n",
       "      <th>geneID</th>\n",
       "      <th>geneType</th>\n",
       "      <th>expCount</th>\n",
       "      <th>expScores</th>\n",
       "      <th>tfbs</th>\n",
       "      <th>start_tfbs</th>\n",
       "      <th>end_tfbs</th>\n",
       "      <th>strand_tfbs</th>\n",
       "      <th>unibin_cell_lines</th>\n",
       "      <th>tfbs_count</th>\n",
       "      <th>tfbs_count_unique</th>\n",
       "    </tr>\n",
       "  </thead>\n",
       "  <tbody>\n",
       "    <tr>\n",
       "      <th>1523</th>\n",
       "      <td>chr1</td>\n",
       "      <td>203795453</td>\n",
       "      <td>203795794</td>\n",
       "      <td>ZBED6,ZC3H11A</td>\n",
       "      <td>298,312</td>\n",
       "      <td>+</td>\n",
       "      <td>ENSG00000058673.16,ENSG00000257315.2</td>\n",
       "      <td>protein_coding</td>\n",
       "      <td>54</td>\n",
       "      <td>1.806,1.846,1.143,1.939,1.786,1.806,1.575,0.28...</td>\n",
       "      <td>SRF,SRF,CREM,JUN,THAP11,SP1,JUN,CTCF,CTCF,SPI1...</td>\n",
       "      <td>203795531,203795531,203795537,203795538,203795...</td>\n",
       "      <td>203795547,203795547,203795553,203795552,203795...</td>\n",
       "      <td>-,+,-,-,+,+,+,-,+,+,+,-,-,+,-,-,+,+,+,-,-,+,+,...</td>\n",
       "      <td>501mel,K562,K562--myelogenous-leukemia-,melano...</td>\n",
       "      <td>162</td>\n",
       "      <td>83</td>\n",
       "    </tr>\n",
       "    <tr>\n",
       "      <th>2875</th>\n",
       "      <td>chr11</td>\n",
       "      <td>61429841</td>\n",
       "      <td>61430182</td>\n",
       "      <td>RP11-286N22.8,SDHAF2</td>\n",
       "      <td>165,490</td>\n",
       "      <td>+</td>\n",
       "      <td>ENSG00000167985.6,ENSG00000256591.5</td>\n",
       "      <td>protein_coding</td>\n",
       "      <td>54</td>\n",
       "      <td>0.092,0.129,0.135,0.242,0.193,0.129,0.166,0.11...</td>\n",
       "      <td>KLF15,NR3C1,AR,TFDP1,GRHL2,ESR1,TFAP2C,TFAP2A,...</td>\n",
       "      <td>61429982,61429957,61429957,61429957,61429962,6...</td>\n",
       "      <td>61429993,61429974,61429974,61429968,61429974,6...</td>\n",
       "      <td>+,+,+,+,+,+,-,+,+,+,-,+,+,+,+,+,+,+,-,+,-,-,-,...</td>\n",
       "      <td>786-O--renal-carcinoma-,786-O--renal-carcinoma...</td>\n",
       "      <td>266</td>\n",
       "      <td>99</td>\n",
       "    </tr>\n",
       "    <tr>\n",
       "      <th>14834</th>\n",
       "      <td>chr7</td>\n",
       "      <td>55951592</td>\n",
       "      <td>55951962</td>\n",
       "      <td>GBAS,MRPS17</td>\n",
       "      <td>460,549</td>\n",
       "      <td>+</td>\n",
       "      <td>ENSG00000146729.9,ENSG00000239789.5</td>\n",
       "      <td>protein_coding</td>\n",
       "      <td>54</td>\n",
       "      <td>13.07,13.09,17.185,13.37,15.315,13.57,17.47,10...</td>\n",
       "      <td>VDR,PAX5,USF2,EGR3,EGR1,EGR2,SP4,KLF9,SP2,SP1,...</td>\n",
       "      <td>55951740,55951750,55951751,55951771,55951772,5...</td>\n",
       "      <td>55951748,55951762,55951765,55951786,55951786,5...</td>\n",
       "      <td>-,-,+,-,-,-,-,-,-,-,-,-,-,-,-,+,-,-,+,+,-,-,+,...</td>\n",
       "      <td>22RV1--prostate-carcinoma-,A375--malignant-mel...</td>\n",
       "      <td>148</td>\n",
       "      <td>89</td>\n",
       "    </tr>\n",
       "  </tbody>\n",
       "</table>\n",
       "</div>"
      ],
      "text/plain": [
       "       chrom      start        end             name_gene score_gene  \\\n",
       "1523    chr1  203795453  203795794         ZBED6,ZC3H11A    298,312   \n",
       "2875   chr11   61429841   61430182  RP11-286N22.8,SDHAF2    165,490   \n",
       "14834   chr7   55951592   55951962           GBAS,MRPS17    460,549   \n",
       "\n",
       "      strand_gene                                geneID        geneType  \\\n",
       "1523            +  ENSG00000058673.16,ENSG00000257315.2  protein_coding   \n",
       "2875            +   ENSG00000167985.6,ENSG00000256591.5  protein_coding   \n",
       "14834           +   ENSG00000146729.9,ENSG00000239789.5  protein_coding   \n",
       "\n",
       "       expCount                                          expScores  \\\n",
       "1523         54  1.806,1.846,1.143,1.939,1.786,1.806,1.575,0.28...   \n",
       "2875         54  0.092,0.129,0.135,0.242,0.193,0.129,0.166,0.11...   \n",
       "14834        54  13.07,13.09,17.185,13.37,15.315,13.57,17.47,10...   \n",
       "\n",
       "                                                    tfbs  \\\n",
       "1523   SRF,SRF,CREM,JUN,THAP11,SP1,JUN,CTCF,CTCF,SPI1...   \n",
       "2875   KLF15,NR3C1,AR,TFDP1,GRHL2,ESR1,TFAP2C,TFAP2A,...   \n",
       "14834  VDR,PAX5,USF2,EGR3,EGR1,EGR2,SP4,KLF9,SP2,SP1,...   \n",
       "\n",
       "                                              start_tfbs  \\\n",
       "1523   203795531,203795531,203795537,203795538,203795...   \n",
       "2875   61429982,61429957,61429957,61429957,61429962,6...   \n",
       "14834  55951740,55951750,55951751,55951771,55951772,5...   \n",
       "\n",
       "                                                end_tfbs  \\\n",
       "1523   203795547,203795547,203795553,203795552,203795...   \n",
       "2875   61429993,61429974,61429974,61429968,61429974,6...   \n",
       "14834  55951748,55951762,55951765,55951786,55951786,5...   \n",
       "\n",
       "                                             strand_tfbs  \\\n",
       "1523   -,+,-,-,+,+,+,-,+,+,+,-,-,+,-,-,+,+,+,-,-,+,+,...   \n",
       "2875   +,+,+,+,+,+,-,+,+,+,-,+,+,+,+,+,+,+,-,+,-,-,-,...   \n",
       "14834  -,-,+,-,-,-,-,-,-,-,-,-,-,-,-,+,-,-,+,+,-,-,+,...   \n",
       "\n",
       "                                       unibin_cell_lines  tfbs_count  \\\n",
       "1523   501mel,K562,K562--myelogenous-leukemia-,melano...         162   \n",
       "2875   786-O--renal-carcinoma-,786-O--renal-carcinoma...         266   \n",
       "14834  22RV1--prostate-carcinoma-,A375--malignant-mel...         148   \n",
       "\n",
       "       tfbs_count_unique  \n",
       "1523                  83  \n",
       "2875                  99  \n",
       "14834                 89  "
      ]
     },
     "execution_count": 48,
     "metadata": {},
     "output_type": "execute_result"
    }
   ],
   "source": [
    "df_prom[df_prom.end - df_prom.start  != 200]"
   ]
  },
  {
   "cell_type": "markdown",
   "metadata": {},
   "source": [
    "## Visualisation of TFBS in Promotor regions"
   ]
  },
  {
   "cell_type": "code",
   "execution_count": null,
   "metadata": {},
   "outputs": [],
   "source": []
  }
 ],
 "metadata": {
  "kernelspec": {
   "display_name": ".venv",
   "language": "python",
   "name": "python3"
  },
  "language_info": {
   "codemirror_mode": {
    "name": "ipython",
    "version": 3
   },
   "file_extension": ".py",
   "mimetype": "text/x-python",
   "name": "python",
   "nbconvert_exporter": "python",
   "pygments_lexer": "ipython3",
   "version": "3.8.10"
  }
 },
 "nbformat": 4,
 "nbformat_minor": 2
}
