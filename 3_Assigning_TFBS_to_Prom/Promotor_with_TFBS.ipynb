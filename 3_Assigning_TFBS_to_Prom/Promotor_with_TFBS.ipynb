{
 "cells": [
  {
   "cell_type": "markdown",
   "metadata": {},
   "source": [
    "# Assign UniBind to GTEx Transcripts"
   ]
  },
  {
   "cell_type": "markdown",
   "metadata": {},
   "source": []
  },
  {
   "cell_type": "code",
   "execution_count": 7,
   "metadata": {},
   "outputs": [],
   "source": [
    "import pybedtools\n",
    "import pandas as pd\n",
    "import numpy as np\n",
    "import matplotlib.pyplot as plt"
   ]
  },
  {
   "cell_type": "code",
   "execution_count": 8,
   "metadata": {},
   "outputs": [],
   "source": [
    "tfbs_all = pybedtools.BedTool(\"/sybig/projects/GeneRegulation/data/jme/Bachelorarbeit/data/tfbs/GTEx_prom_200bp_with_all_TFBS/output_data.bed\")\n",
    "gtex_prom = pybedtools.BedTool(\"/sybig/projects/GeneRegulation/data/jme/Bachelorarbeit/data/GTEx_Promotors.bed\")\n",
    "#gtex = pybedtools.BedTool(\"/sybig/projects/GeneRegulation/data/jme/Bachelorarbeit/raw_data/gtex/gtexGeneV8.txt\")"
   ]
  },
  {
   "cell_type": "code",
   "execution_count": 26,
   "metadata": {},
   "outputs": [
    {
     "name": "stdout",
     "output_type": "stream",
     "text": [
      "chr1\t17436\t17636\tMIR6859-1\t0\t-\tENSG00000278267.1\tmiRNA\t54\t0,0,0,0,0,0,0,0,0,0,0,0,0,0,0,0,0,0,0,0,0,0,0,0,0,0,0,0,0,0,0,0,0,0,0,0,0,0,0,0,0,0,0,0,0,0,0,0,0,0,0,0,0,0,\tMYCN\t17510\t17522\t-\tNGP--neuroblastoma-\t1\t1\n",
      " chr1\t629439\t629639\tMTND2P28\t730\t+\tENSG00000225630.1\tunprocessed_pseudogene\t54\t961.4,1024,949.35,328.1,497.15,363.6,518.8,1182,1160,1568,638.6,851.2,1275,990.9,1320,1213.5,1315,1591,1228,1440,902.9,207.95,180.7,370.8,427.8,826.4,777.5,814.1,335.2,798.7,510.5,1157,1283.5,1149,864.8,754.9,447.2,484.3,760.1,602.9,385.65,320.05,541.9,772.4,604.95,573.3,748.9,342.4,887.1,562,559,441.2,394.05,53.19,\tOTX2\t629638\t629650\t-\tHUES64--embryonic-stem-cells-\t1\t1\n",
      " chr1\t634176\t634376\tMTCO3P12\t483\t+\tENSG00000198744.5\tunprocessed_pseudogene\t54\t19.46,17.82,28.275,9.633,12.73,13.52,11.34,40.195,36.9,30.34,21.63,23.05,29.58,32.36,49.13,36.375,37.295,31.25,22.06,32.93,18.46,11.145,8.255,8.538,9.101,16.43,22.555,18.51,12.34,18.61,10.82,35.74,48.98,40.82,18.575,21.435,12.21,14.485,25.13,14,10.052,6.905,14.03,17.25,18.495,19.47,20.65,10.04,19.89,19.92,19.29,10.595,11.63,4.395,\tEGR2\t634195\t634206\t+\tHEK293--embryonic-kidney-\t1\t1\n",
      " chr1\t758336\t758536\tRNU6-1199P\t0\t-\tENSG00000223181.1\tsnRNA\t54\t0,0,0,0,0,0,0,0,0,0,0,0,0,0,0,0,0,0,0,0,0,0,0,0,0,0,0,0,0,0,0,0,0,0,0,0,0,0,0,0,0,0,0,0,0,0,0,0,0,0,0,0,0,0,\tJUN,JUN,AR\t758332,758332,758509\t758348,758344,758526\t-,+,+\t22RV1--prostate-carcinoma-,HAEC--human-aortic-endothelial-cells-\t3\t2\n",
      " chr1\t778569\t778769\tRP11-206L10.9\t262\t+\tENSG00000237491.8\tlincRNA\t54\t0.593,0.395,0.359,0.759,0.754,0.771,0.642,0.372,0.428,0.501,2.547,2.607,0.573,0.572,0.429,0.534,0.594,0.434,0.487,0.34,0.576,1.097,0.527,0.856,1.466,0.7,0.766,0.568,0.496,0.54,0.823,0.287,0.243,0.347,0.761,0.389,0.687,0.782,0.263,1.511,1.05,0.265,2.336,0.918,0.812,0.936,0.764,0.885,0.5,4.036,1.173,1.148,0.793,0.109,\tREST,KLF9,SRF,SRF,USF2,KLF11,KLF15,KLF5,KLF1,E2F1,KLF4,KLF12,SP3,RXRA,USF1,JUN,JUND,TFE3,CREM,ATF7,ATF2,JUND,CREB1,NFE2L2,ATF3,JUN,PAX5,CREM,TCF7L2,TFAP2C,TFAP2C,PPARG,YY1,YY2,E2F1,NFE2L2,JUN,EGR1,TCF3,EGR2,BHLHE40,GRHL2,RFX3,PPARG,RFX5,RXRB,NEUROD1,MYB,MAFF,NFKB2,SP2,RELA,SP1,SP4,NFYC,THAP11,PKNOX1,RXRA,PBX2,EGR3,EGR1,EGR2,MLX,POU5F1,IRF3,NFYB,FOS,TP53,FOS,ELF1,NFYA,MYC,MYC,MNT,MAX,MAX,GLIS1,RUNX1,RUNX2,ZNF143,OSR2,HAND2,RUNX1,RELA,GABPA,SP1,TEAD3,THAP11,RELA,CTCF,CTCFL,JUND,CREM,NFIL3,ATF7,CREB1,CEBPA,ATF3,REL,RELB,NFKB1,RFX5,ESR1,ESR1,RXRA,JUN,JUND,ATF3,E2F1,E2F1,CREB1\t778679,778673,778679,778679,778679,778675,778675,778675,778674,778674,778674,778674,778674,778689,778679,778681,778682,778683,778683,778684,778684,778684,778685,778685,778685,778685,778688,778633,778564,778585,778587,778595,778596,778598,778599,778607,778608,778622,778623,778624,778625,778673,778639,778640,778640,778641,778642,778644,778664,778668,778671,778671,778672,778672,778742,778723,778724,778725,778726,778728,778728,778730,778733,778734,778737,778740,778741,778742,778742,778691,778742,778751,778751,778752,778752,778752,778753,778753,778755,778761,778764,778765,778765,778722,778691,778695,778695,778695,778696,778699,778701,778707,778708,778709,778709,778709,778709,778710,778722,778721,778721,778715,778713,778713,778712,778711,778710,778710,778710,778710,778710\t778700,778689,778695,778695,778693,778686,778686,778685,778685,778686,778686,778689,778687,778706,778693,778700,778697,778691,778699,778698,778697,778697,778698,778700,778697,778697,778700,778649,778578,778600,778599,778615,778608,778609,778611,778622,778621,778636,778634,778635,778635,778685,778653,778660,778656,778655,778655,778654,778680,778681,778688,778681,778687,778689,778753,778742,778739,778742,778739,778743,778742,778741,778743,778745,778758,778752,778754,778760,778753,778705,778753,778762,778763,778762,778762,778763,778769,778764,778764,778777,778776,778775,778777,778732,778705,778710,778703,778714,778706,778718,778713,778722,778724,778722,778723,778722,778724,778722,778732,778732,778734,778731,778730,778730,778729,778724,778723,778722,778722,778722,778723\t-,+,-,+,+,+,+,+,+,+,+,+,+,+,+,+,+,+,+,-,+,-,-,-,+,-,-,-,-,-,+,+,+,+,+,+,+,+,+,+,+,-,+,+,+,+,-,+,+,-,+,-,+,+,+,+,-,-,+,+,+,+,+,+,+,-,+,-,-,+,+,+,-,+,+,-,-,+,-,-,-,-,+,+,-,+,-,+,-,-,-,+,+,-,+,+,+,+,+,-,+,+,+,-,+,-,-,-,-,+,-\t786-O--renal-carcinoma-,786-O--renal-carcinoma-,A549--lung-carcinoma-,HAEC--human-aortic-endothelial-cells-,HUVEC-C--HUVEC--umbilical-vein-endothelial-cells-,HepG2,K562,K562--myelogenous-leukemia-,Kasumi-1--acute-myeloblastic-leukemia-,MCF7--Invasive-ductal-breast-carcinoma-,MDA-MB-231p27CK-DD--breast-cancer-cells--phosphimimetic-p27-cell-line-,definitive-endoderm-from-HUES8,A375--malignant-melanoma-,HCT-116--colon-carcinoma-,HUES64--embryonic-stem-cells-,K562,A549,A549,GM12878,GM12891,GM12892,H1-hESC,HCT116,HepG2,Ishikawa,K562,NT2,SK-N-SH,lymphoblastoid-cells,A549,GM12878,H1-hESC,HepG2,Ishikawa,MDA-MB-134--invasive-lobular-breast-carcinoma-,lncap,lncap-abl,A549,K562,kg1-xx65023,A549--lung-carcinoma-,A549--lung-carcinoma-,Kasumi-1--acute-myeloblastic-leukemia-,AML--monocytes-and-acute-myeloid-leukemia-,PF-382--childhood-T-acute-lymphoblastic-leukemia-,cd4-th1,BICR31-Tongue-squamous-cell-carcinoma-cell-,HEK293T--embryonic-kidney-,katoiii,BT168--glioblastoma-stem-cells-,G401--rhabdoid-tumor-of-the-kidney-,GEN2.2--blastic-plasmacytoid-dendritic-cell-neoplasm-,GM12878,GM12878--female-B-cells-,HCT-116--colon-carcinoma-,K562,Raji--Burkitt-lymphoma-,U2OS--osteosarcoma-,mm1s-dmso,BT168--glioblastoma-stem-cells-,G401--rhabdoid-tumor-of-the-kidney-,GM12878--female-B-cells-,HCT-116--colon-carcinoma-,MCF10A--breast-epithelial-cells-,P493-6--B-cell-lymphoma-,Raji--Burkitt-lymphoma-,U2OS--osteosarcoma-,CD34-CD133--hematopoietic-progenitors,vcap-r1881,D341-Med--medulloblastoma-,DND-41,HEK293,IMR-90,MCF-7,bcbl1,hepatocytes,pancreas,Detroit-562--Pharyngeal-squamous-cell-carcinoma-,MCF7--Invasive-ductal-breast-carcinoma-,GM12878,GM12878,H1-hESC,HepG2,K562,K562--myelogenous-leukemia-,GM12878,HeLa-S3,GM12878,HeLa-S3,K562,k562,GM12878,HepG2,K562,MCF-7,GM12878--female-B-cells-,GM12878--female-B-cells-,HEK293--embryonic-kidney-,HepG2--hepatoblastoma-,K562--myelogenous-leukemia-,GM12878--female-B-cells-,HepG2--hepatoblastoma-,IMR90--lung-fibroblasts-,GM12878--female-B-cells-,MCF7--Invasive-ductal-breast-carcinoma-,GM12878--female-B-cells-lymphoblastoid-cell-line-,GM12878--female-B-cells-lymphoblastoid-cell-line-,l1236,H1-hESC,H1-hESC,K562,HEK293--embryonic-kidney-,HUES64--embryonic-stem-cells-,HeLa--cervical-adenocarcinoma-,HeLa-S3,K562,HeLa-S3--cervical-adenocarcinoma-,HepG2,HepG2--hepatoblastoma-,HepG2--hepatoblastoma-,MCF7--Invasive-ductal-breast-carcinoma-,MDA-MB-134--invasive-lobular-breast-carcinoma-,HepG2--hepatoblastoma-,subcutaneous-white-adipose-tissue,IMR90--lung-fibroblasts-,Ishikawa,JMSU-1--Bladder-carcinoma-,K562,K562,K562--myelogenous-leukemia-,K562,htc116-camp,K562,ovcar8,K562--myelogenous-leukemia-,Kasumi-1--acute-myeloblastic-leukemia-,SKH1--chronic-myelogenous-leukemia--BCR-ABL1-positive-,Kelly--neuroblastoma-,L428--Hodgkin-lymphoma-,LNCaP--prostate-carcinoma-,LNCaP--prostate-carcinoma-,MCF7--Invasive-ductal-breast-carcinoma-,MCF7--Invasive-ductal-breast-carcinoma-,MCF7-WS8-cells,MDA-MB-231--breast-adenocarcinoma-,ME-1--acute-myeloid-leukemia--,cord-blood-CD34-cells,Panc1,SK-N-SH,SK-N-SH--neuroblastoma-,THP-1--acute-monocytic-leukemia-,cd34,UCLA1-hESCs,UCLA1-hESCs,bt474,mdamb453,skbr3,UPR9--hematopoietic-stem-cells-,bj-induced,keratinocyte-diff,gbm1a,hMADS-3--adipose-derived-stem-cells-,liver,lymphoblastoid-cells,mcf7,mcf7-e2,monocyte-derived-macrophages,subcutaneous-white-adipose-tissue\t111\t77\n",
      " chr1\t778626\t778826\tRP11-206L10.2\t327\t-\tENSG00000228327.3\ttranscribed_unprocessed_pseudogene\t54\t2.838,1.902,1.766,1.978,2.034,2.061,2.813,0.451,0.453,0.574,1.785,2.215,0.767,0.622,0.535,0.683,0.597,0.464,0.867,0.581,2.704,2.644,1.834,2.159,3.04,2.482,1.816,2.261,1.759,2.216,2.4,0.964,0.547,1.211,1.818,1.115,2.465,2.029,0.697,3.899,4.093,1.06,3.589,3.447,2.907,3.243,2.346,2.805,1.718,11.98,4.274,3.127,2.489,1.939,\tEGR1,GABPA,TFDP1,AR,ESR1,RXRA,REST,USF1,JUN,JUND,TFE3,CREM,ATF7,ATF2,JUND,CREB1,NFE2L2,ATF3,JUN,PAX5,SRF,GABPA,ELF1,SP1,TEAD3,THAP11,RELA,CTCF,CTCFL,JUND,CREM,NFIL3,ATF7,CREB1,CEBPA,RELA,E2F1,TCF3,EGR2,BHLHE40,CREM,RFX3,PPARG,RFX5,RXRB,NEUROD1,MYB,MAFF,NFKB2,SP2,E2F6,SP1,SP4,GRHL2,KLF9,SP3,KLF12,KLF4,E2F1,KLF1,KLF5,KLF15,KLF11,USF2,SRF,E2F1,MYC,MYC,MNT,MAX,MAX,GLIS1,RUNX1,RUNX2,ZNF143,OSR2,HAND2,RUNX1,STAT3,PPARG,ATF3,MYC,E2F1,MYC,MAX,MAX,NRF1,TP53,GABPA,AR,NR3C1,CTCF,CTCFL,USF2,CREB1,NFYC,NFYA,E2F1,E2F1,ATF3,JUND,JUN,RXRA,ESR1,ESR1,RFX5,NFKB1,RELB,RELA,REL,PKNOX1,FOS,TP53,FOS,NFYB,IRF3,POU5F1,MLX,EGR2,EGR1,EGR3,PBX2,RXRA,THAP11\t778622,778818,778818,778816,778816,778689,778679,778679,778681,778682,778683,778683,778684,778684,778684,778685,778685,778685,778685,778688,778679,778691,778691,778695,778695,778695,778696,778699,778701,778707,778708,778709,778709,778709,778709,778671,778816,778623,778624,778625,778633,778639,778640,778640,778641,778642,778644,778664,778668,778671,778816,778672,778672,778673,778673,778674,778674,778674,778674,778674,778675,778675,778675,778679,778679,778781,778751,778751,778752,778752,778752,778753,778753,778755,778761,778764,778765,778765,778776,778777,778710,778781,778781,778782,778782,778782,778786,778788,778792,778795,778795,778797,778799,778799,778710,778742,778742,778710,778710,778710,778710,778711,778712,778713,778713,778715,778721,778721,778722,778722,778724,778742,778742,778741,778740,778737,778734,778733,778730,778728,778728,778726,778725,778723\t778636,778832,778829,778833,778833,778706,778700,778693,778700,778697,778691,778699,778698,778697,778697,778698,778700,778697,778697,778700,778695,778705,778705,778710,778703,778714,778706,778718,778713,778722,778724,778722,778723,778722,778724,778681,778828,778634,778635,778635,778649,778653,778660,778656,778655,778655,778654,778680,778681,778688,778829,778687,778689,778685,778689,778687,778689,778686,778686,778685,778685,778686,778686,778693,778695,778793,778762,778763,778762,778762,778763,778769,778764,778764,778777,778776,778775,778777,778787,778792,778722,778793,778793,778795,778792,778792,778797,778806,778806,778812,778812,778819,778811,778813,778723,778753,778753,778722,778722,778722,778723,778724,778729,778730,778730,778731,778734,778732,778732,778732,778739,778753,778760,778754,778752,778758,778745,778743,778741,778742,778743,778739,778742,778742\t+,-,+,+,-,+,-,+,+,+,+,+,-,+,-,-,-,+,-,-,-,-,+,+,-,+,-,-,-,+,+,-,+,+,+,-,-,+,+,+,-,+,+,+,+,-,+,+,-,+,+,+,+,-,+,+,+,+,+,+,+,+,+,+,+,+,+,-,+,+,-,-,+,-,-,-,-,+,-,+,+,+,-,-,+,-,-,-,-,+,-,-,-,-,-,+,+,+,-,-,-,-,+,-,+,+,+,-,+,+,-,-,-,+,-,+,+,+,+,+,+,+,-,+\t22RV1--prostate-carcinoma-,786o-normoxia,A549--lung-carcinoma-,A673--Ewing-sarcoma-,BEAS-2B--bronchial-epithelium-,BJ,CD20-,CD34--stem-cells-derived-erythroblasts,COLO-829--melanoma-,DND41--acute-lymphoblastic-leukemia-,DOHH2,DOHH2--diffuse-large-B-cell-lymphoma-,E14-retina,E16-retina,E18-retina,E23-retina,FB8470--fibroblasts-,GM06990,GM10847--female-B-cells-Lymphoblastoid-Cell-Lines-,GM12864,GM12865,GM12866,GM12869,GM12873,GM12874,GM12875,GM12878--female-B-cells-,GM12878--female-B-cells-lymphoblastoid-cell-line-,GM12892,GM17942--lymphoblastoid-cell-,GM18486--Lymphoblastoid-Cell-Lines-,GM18505--female-B-cells-Lymphoblastoid-Cell-Lines-,GM18526--B-–-cells-Lymphoblastoid-Cell-Lines-,GM19099--female-B-cells-Lymphoblastoid-Cell-Lines-,GM19193--female-B-cells-Lymphoblastoid-Cell-Lines-,GM19238,GM19239,GM19240,H1-hESC,HAP1--chronic-myelogenous-leukemia-,HCT-116--colon-carcinoma-,HEK293--embryonic-kidney-,HEK293T--embryonic-kidney-,HL-60,HMEC--human-mammary-epithelial-cells-,HNEK--epidermal-keratinocytes-,HSMM--skeletal-muscle-myoblasts-,HSMM-dirived-skeletal-muscle-myotubes,HT1080--fibrosarcoma-,HUES64--embryonic-stem-cells-,HUVEC-C--HUVEC--umbilical-vein-endothelial-cells-,HeLa-Kyoto--cervical-adenocarcinoma-,HeLa-S3,HeLa-S3--cervical-adenocarcinoma-,HepG2,HepG2--hepatoblastoma-,ID00014--lymphoblastoid-cell--DiGeorge-syndrome-,ID00015--lymphoblastoid-cell-,IPSC-derived-bipolar-neuron,Jurkat--T-cells-,K562,K562--myelogenous-leukemia-,Karpas-422,LNCaP--prostate-carcinoma-,LUHMES--lund-human-mesencephalic-cells-,Loucy,MCF-7,MCF10A--breast-epithelial-cells-,MCF10AT1--breast-premetastatic-epithelial-cells-,MCF7--Invasive-ductal-breast-carcinoma-,MCF7L-P-immortalized-breast-epithelial-cell-line-,MCF7L-TamR-immortalized-breast-epithelial--tamoxifen-resistant-cell-line-,MDA-MB-157--triple-negative-breast-carcinoma-,MDM-monocyte-derived-macrophages-,MIA-PaCa-2--pancreatic-ductal-adenocarcinoma-,MM1.S--plasma-cell-myeloma-,MOLM-13-acute-monocytic-leukemia-AML---Homo-sapiens-,NA-A--astrocytes-,NHDF-Ad--adult-dermal-fibroblasts-,NHLF--lung-fibroblasts-,OCI-LY1--diffuse-large-B-cell-lymphoma-,OCI-LY7,OCI-LY7--diffuse-large-B-cell-lymphoma-,PANC1--pancreatic-ductal-adenocarcinoma-,PC3-bone-mets-prostate-adenocarcinoma-,PC9--lung-adenocarcinoma-,Peyer-s-patch,PrEC--prostate-cells-,RH4--alveolar-rhabdomyosarcoma-,RO01746--CD14--monocytes-,RWPE1--prostate-epithelial-cells-,RWPE2,SK-N-SH,SK-N-SH--neuroblastoma-,SUDHL6,SYO-1-Biphasic-synovial-sarcoma-,T47D--invasive-ductal-carcinoma-,THP-1--acute-monocytic-leukemia-,TTC-1240--Rhabdoid-tumor-of-the-kidney-,VCaP--prostate-carcinoma-,WA01--H1--human-embryonic-stem-cells-,WA09--embryonic-stem-cells-,adrenal-gland,ascending-aorta,bipolar-neuron,breast-epithelial-cells,coronary-artery,embryonic-stem-cells,epidermal-keratinocytes,esc-naive,esc-primed,esophagus-muscularis-mucosa,esophagus-squamous-epithelium,foreskin-keratinocyte,gastrocnemius-medialis,gastroesophageal-sphincter,h1-emb,h1-mesen,h1-mesen-stem,h1-neur,h1-trop,heart-left-ventricle,hepatocytes,hepg2,human-cardiac-myocytes,imr90,islet,k562,keratinocyte,lower-leg-skin,lymphoblastoid-cells,mammary-epithelial-cells,mcf7-e2,mcf7-hypoxia,mcf7-normoxia,mm1s,myotube,neural-progenitors,neutrophils,normal-epidermal-keratinocytes,normal-lung-fibroblasts,osteoblast,osteoblasts,ovary,ovcar8,pancreas,prostate-gland,retinoblastoma-xenograft,right-atrium-auricular-region,right-lobe-of-liver,sigmoid-colon,skeletal-muscles-and-myoblasts,sknsh,smooth-muscle-cell,spleen,stomach,testis,thoracic-aorta,thyroid-gland,tibial-artery,tibial-nerve,transverse-colon,upper-lobe-of-left-lung,uterus,vagina,22RV1--prostate-carcinoma-,VCS2--prostate-carcinoma-,786-O--renal-carcinoma-,786-O--renal-carcinoma-,A549--lung-carcinoma-,HAEC--human-aortic-endothelial-cells-,HUVEC-C--HUVEC--umbilical-vein-endothelial-cells-,HepG2,K562,K562--myelogenous-leukemia-,Kasumi-1--acute-myeloblastic-leukemia-,MCF7--Invasive-ductal-breast-carcinoma-,MDA-MB-231p27CK-DD--breast-cancer-cells--phosphimimetic-p27-cell-line-,definitive-endoderm-from-HUES8,A375--malignant-melanoma-,HCT-116--colon-carcinoma-,HUES64--embryonic-stem-cells-,K562,A549,A549,GM12878,H1-hESC,HepG2,Ishikawa,MDA-MB-134--invasive-lobular-breast-carcinoma-,lncap,lncap-abl,A549,K562,kg1-xx65023,A549--lung-carcinoma-,A549--lung-carcinoma-,Kasumi-1--acute-myeloblastic-leukemia-,AML--monocytes-and-acute-myeloid-leukemia-,PF-382--childhood-T-acute-lymphoblastic-leukemia-,cd4-th1,BEAS-2B--bronchial-epithelium-,BICR31-Tongue-squamous-cell-carcinoma-cell-,HEK293T--embryonic-kidney-,katoiii,BT168--glioblastoma-stem-cells-,G401--rhabdoid-tumor-of-the-kidney-,GEN2.2--blastic-plasmacytoid-dendritic-cell-neoplasm-,GM12878,GM12878--female-B-cells-,HCT-116--colon-carcinoma-,K562,Raji--Burkitt-lymphoma-,U2OS--osteosarcoma-,mm1s-dmso,BT168--glioblastoma-stem-cells-,G401--rhabdoid-tumor-of-the-kidney-,GM12878--female-B-cells-,HCT-116--colon-carcinoma-,MCF10A--breast-epithelial-cells-,P493-6--B-cell-lymphoma-,Raji--Burkitt-lymphoma-,U2OS--osteosarcoma-,CD34-CD133--hematopoietic-progenitors,vcap-r1881,CUTLL1--T-cell-lymphoblastic-lymphoma-1-,D341-Med--medulloblastoma-,DND-41,HEK293,IMR-90,MCF-7,bcbl1,hepatocytes,pancreas,Detroit-562--Pharyngeal-squamous-cell-carcinoma-,MCF7--Invasive-ductal-breast-carcinoma-,GM12878,GM12878,H1-hESC,HepG2,K562,K562--myelogenous-leukemia-,GM12878,HeLa-S3,GM12878,HeLa-S3,K562,k562,GM12878,HepG2,K562,MCF-7,GM12878--female-B-cells-,GM12878--female-B-cells-,HEK293--embryonic-kidney-,HepG2--hepatoblastoma-,K562--myelogenous-leukemia-,GM12878--female-B-cells-,HepG2--hepatoblastoma-,IMR90--lung-fibroblasts-,GM12878--female-B-cells-,MCF7--Invasive-ductal-breast-carcinoma-,GM12878--female-B-cells-lymphoblastoid-cell-line-,GM12878--female-B-cells-lymphoblastoid-cell-line-,l1236,H1-hESC,H1-hESC,K562,HEK293--embryonic-kidney-,HUES64--embryonic-stem-cells-,HUES64--embryonic-stem-cells-,P493-6--B-cell-lymphoma-,HeLa-S3,K562,HeLa-S3--cervical-adenocarcinoma-,HepG2,HepG2,HepG2--hepatoblastoma-,K562,K562--myelogenous-leukemia-,MCF7--Invasive-ductal-breast-carcinoma-,namalwa,t47d-haegin2,HepG2--hepatoblastoma-,HepG2--hepatoblastoma-,MCF7--Invasive-ductal-breast-carcinoma-,MDA-MB-134--invasive-lobular-breast-carcinoma-,HepG2--hepatoblastoma-,subcutaneous-white-adipose-tissue,IMR90--lung-fibroblasts-,Ishikawa,JMSU-1--Bladder-carcinoma-,K562,K562,K562--myelogenous-leukemia-,K562,htc116-camp,K562,ovcar8,K562--myelogenous-leukemia-,Kasumi-1--acute-myeloblastic-leukemia-,SKH1--chronic-myelogenous-leukemia--BCR-ABL1-positive-,Kelly--neuroblastoma-,L428--Hodgkin-lymphoma-,LNCaP--prostate-carcinoma-,LNCaP--prostate-carcinoma-,MCF7--Invasive-ductal-breast-carcinoma-,OCI-LY1--diffuse-large-B-cell-lymphoma-,LNCaP--prostate-carcinoma-,Raji--Burkitt-lymphoma-,mesenchymal,MCF7--Invasive-ductal-breast-carcinoma-,MCF7-WS8-cells,MDA-MB-231--breast-adenocarcinoma-,MDA-MB-468--breast-adenocarcinoma-,NCI-H358--human-nnon-small-cell-lung-cancer-cell-line-,ME-1--acute-myeloid-leukemia--,cord-blood-CD34-cells,MM1.S--plasma-cell-myeloma-,MM1.S--plasma-cell-myeloma-,U87--glioblastoma-,PHA-simulated-human-T-lynphocytes,R3-R4-erythroid-cells,SK-N-SH,SK-N-SH--neuroblastoma-,THP-1--acute-monocytic-leukemia-,cd34,UPR9--hematopoietic-stem-cells-,VCaP--prostate-carcinoma-,bj-induced,keratinocyte-diff,gbm1a,h128,hMADS-3--adipose-derived-stem-cells-,k562,liver,lymphoblastoid-cells,mcf7,mcf7-e2,monocyte-derived-macrophages,subcutaneous-white-adipose-tissue\t124\t79\n",
      " chr1\t817170\t817370\tFAM87B\t247\t+\tENSG00000177757.2\tlincRNA\t54\t1.92,0.871,1.25,1.252,0.98,1.871,0.834,0.232,0.219,0.241,1.266,1.635,0.239,0.227,0.211,0.333,0.278,0.22,0.286,0.214,0.951,0.513,0.927,0.89,0.833,0.615,0.512,0.668,0.321,0.49,0.959,0.369,0.195,0.264,0.191,0.138,0.566,0.595,0.245,1.243,0.784,0.149,0.725,0.715,0.723,0.955,0.496,0.315,0.389,1.527,0.897,0.819,0.721,0.075,\tJUN,XBP1,RUNX1,RELA,FLI1,PPARG,SPI1,E2F1,CREB1,CREM,PRDM1,AR,CEBPB,SOX2,RARA\t817362,817359,817337,817335,817332,817331,817327,817310,817309,817308,817296,817282,817279,817245,817323\t817377,817373,817348,817345,817342,817346,817354,817322,817322,817324,817307,817299,817289,817256,817340\t-,+,-,-,+,+,+,-,+,-,+,+,+,+,+\tGM12878,K562,HEK293--embryonic-kidney-,K562,K562,K562--myelogenous-leukemia-,MDA-MB-231p27CK-DD--breast-cancer-cells--phosphimimetic-p27-cell-line-,K562--myelogenous-leukemia-,SKH1--chronic-myelogenous-leukemia--BCR-ABL1-positive-,THP-1--acute-monocytic-leukemia-,hmsc-dmi-low,monocyte-derived-macrophages,UPR9--hematopoietic-stem-cells-,hnsc,hs578t-hypo-gludep,macrophages-il4,macrophages-tpp,monocyte-derived-macrophages,monocyte-derived-macrophages,prostate-cancer,subcutaneous-white-adipose-tissue,uae-zinc\t15\t15\n",
      " chr1\t827522\t827722\tLINC00115\t386\t-\tENSG00000225880.5\tlincRNA\t54\t4.49,3.425,2.752,6.226,5.935,7.817,7.573,1.454,1.423,2.043,11.1,10.96,2.051,1.739,1.866,1.99,2.046,1.525,3.332,1.85,4.099,3.921,3.334,9.637,10.475,5.755,4.147,4.791,3.824,4.378,5.094,2.752,1.464,3.572,5.979,2.851,6.654,4.872,1.817,11.39,12.04,0.979,9.092,12.84,4.155,4.325,4.028,5.879,2.775,7.369,9.106,9.471,9.455,1.251,\tESR1,KLF1,KLF1,SP1,SP1,SP2,KLF12,SP4,ARNT,HIF1A,MNT,BHLHE40,NRF1,MAX,HIF1A,AR,EGR3,EGR1,GLIS1,EGR2,E2F1,E2F1,MYC,MYC,NRF1,E2F6,MYCN,MYC,MYC,MAX,MAX,E2F1,KLF11,RXRA,NR2F6,NR2C2,RFX3,NR2F1,STAT5A,STAT3,NR2F2,NR2C1,RXRA,NR2F1,AR,FOXP1,FOXA3,FOXA2,SOX13,KLF15,SP3,SP1,SP2,KLF9,TFE3,MNT,MLX,KLF5,MYCN,E2F1,E2F6,CREM,FOXA1\t827626,827541,827602,827600,827579,827578,827577,827577,827554,827553,827552,827552,827550,827548,827547,827542,827641,827641,827642,827643,827652,827652,827652,827652,827653,827690,827693,827693,827693,827693,827694,827531,827540,827506,827508,827508,827509,827509,827511,827512,827514,827515,827516,827516,827517,827517,827517,827517,827521,827540,827539,827539,827538,827537,827532,827532,827532,827541,827531,827531,827530,827524,827517\t827643,827552,827613,827615,827594,827595,827592,827594,827560,827563,827562,827562,827561,827558,827557,827559,827656,827655,827658,827654,827664,827664,827664,827664,827664,827703,827705,827705,827704,827704,827704,827543,827551,827531,827523,827536,827523,827527,827524,827523,827525,827524,827531,827531,827534,827528,827528,827528,827532,827551,827552,827554,827555,827553,827540,827542,827542,827551,827543,827543,827543,827540,827529\t+,-,-,-,-,-,-,-,+,+,+,+,-,-,-,-,+,+,+,+,+,-,+,-,-,-,-,-,+,+,-,-,-,+,+,+,+,+,-,-,+,+,-,-,+,+,+,+,+,-,-,-,-,-,-,-,-,-,+,+,-,-,+\t22RV1--prostate-carcinoma-,LNCaP--prostate-carcinoma-,T47D--invasive-ductal-carcinoma-,mdamb453-dht,primary-prostate-cancer,A375--malignant-melanoma-,HEK293--embryonic-kidney-,A549--lung-carcinoma-,HUES64--embryonic-stem-cells-,HepG2,HepG2--hepatoblastoma-,BICR31-Tongue-squamous-cell-carcinoma-cell-,HCC95--squamous-cell-lung-carcinoma-,HEK293T--embryonic-kidney-,CD4--CD25--CD45RA--T-cells,CWR22--prostate-carcinoma-,VCaP--prostate-carcinoma-,GEN2.2--blastic-plasmacytoid-dendritic-cell-neoplasm-,HCT-116--colon-carcinoma-,HEK293T--embryonic-kidney-,HUVEC-C--HUVEC--umbilical-vein-endothelial-cells-,K562--myelogenous-leukemia-,LNCaP--prostate-carcinoma-,MCF7--Invasive-ductal-breast-carcinoma-,U2OS--osteosarcoma-,GEN2.2--blastic-plasmacytoid-dendritic-cell-neoplasm-,HEK293T--embryonic-kidney-,HUVEC-C--HUVEC--umbilical-vein-endothelial-cells-,K562--myelogenous-leukemia-,LNCaP--prostate-carcinoma-,MCF7--Invasive-ductal-breast-carcinoma-,U2OS--osteosarcoma-,GM12878--female-B-cells-,GM12878--female-B-cells-,K562--myelogenous-leukemia-,H9-derived-neural-crest-cells,HCC70--ductal-breast-carcinoma-,JB6--Human-anaplastic-large-cell-lymphoma-,MDA-MB-231--breast-adenocarcinoma-,HCT-116--colon-carcinoma-,HCT-116--colon-carcinoma-,HUES64--embryonic-stem-cells-,HCT-116--colon-carcinoma-,HUES64--embryonic-stem-cells-,MCF10A--breast-epithelial-cells-,P493-6--B-cell-lymphoma-,Raji--Burkitt-lymphoma-,HEK293--embryonic-kidney-,HEK293--embryonic-kidney-,gbm1a,HUES64--embryonic-stem-cells-,MCF10A--breast-epithelial-cells-,P493-6--B-cell-lymphoma-,Raji--Burkitt-lymphoma-,HeLa-S3,HepG2,HepG2--hepatoblastoma-,HepG2--hepatoblastoma-,HepG2--hepatoblastoma-,PC3-bone-mets-prostate-adenocarcinoma-,RCC4--kidney-cancer-cell-line-,renal-tubular-cells,IMR-5--Neuroblastoma-,IMR90--lung-fibroblasts-,K562,K562,MKL-1--Merkel-cell-carcinoma-,K562--myelogenous-leukemia-,K562--myelogenous-leukemia-,liver,LNCaP--prostate-carcinoma-,LNCaP--prostate-carcinoma-,OCI-LY1--diffuse-large-B-cell-lymphoma-,Raji--Burkitt-lymphoma-,U87--glioblastoma-,MCF7--Invasive-ductal-breast-carcinoma-,MKL-1--Merkel-cell-carcinoma-,PC3-bone-mets-prostate-adenocarcinoma-,Raji--Burkitt-lymphoma-,SH-EP-NMYCER,T47D--invasive-ductal-carcinoma-,hMADS-3--adipose-derived-stem-cells-,liver,t47d-haegin2\t63\t43\n",
      " chr1\t873091\t873291\tTUBB8P11\t129\t+\tENSG00000234711.1\tunprocessed_pseudogene\t54\t0.058,0.063,0.072,0.057,0.06,0.057,0.099,0.135,0.156,0.129,0.115,0.125,0.186,0.159,0.127,0.157,0.156,0.117,0.092,0.079,0.091,0.051,0.038,0.064,0.074,0.08,0.106,0.066,0.078,0.062,0.083,0.124,0.145,0.101,0.033,0.066,0.075,0.049,0.114,0.058,0.068,0.037,0.223,0.09,0.243,0.172,0.155,0.077,0.08,0.376,0.073,0.062,0.123,0.035,\tCTCF,USF2,USF1\t873164,873197,873197\t873183,873211,873211\t-,+,+\tGM12878--female-B-cells-,HepG2--hepatoblastoma-,GM23338,K562--myelogenous-leukemia-,MCF7--Invasive-ductal-breast-carcinoma-,WA01--H1--human-embryonic-stem-cells-,H1-hESC\t3\t3\n",
      " chr1\t876754\t876954\tFAM41C\t129\t-\tENSG00000230368.2\tlincRNA\t54\t0.064,0.056,0.053,0.045,0.053,0.055,0.058,0.091,0.124,0.099,0.476,0.557,0.158,0.138,0.09,0.116,0.118,0.087,0.072,0.068,0.075,0.037,0.031,0,0.056,0.064,0.061,0.061,0.054,0.052,0.051,0.092,0.117,0.073,0.039,0.048,0.073,0.035,0.219,0.066,0.065,0.028,0.19,0.082,0.339,0.215,0.076,0.031,0.065,0.214,0.073,0.073,0.168,0.02,\tCTCF\t876746\t876765\t-\tGM12866,GM19240,H1-hESC,HAP1--chronic-myelogenous-leukemia-,HEK293,HSMM--skeletal-muscle-myoblasts-,HT1080--fibrosarcoma-,Jurkat--T-cells-,K562--myelogenous-leukemia-,Loucy,MCF7--Invasive-ductal-breast-carcinoma-,MOLM-13-acute-monocytic-leukemia-AML---Homo-sapiens-,OCI-LY1--diffuse-large-B-cell-lymphoma-,RH4--alveolar-rhabdomyosarcoma-,SYO-1-Biphasic-synovial-sarcoma-,THP-1--acute-monocytic-leukemia-,TTC-1240--Rhabdoid-tumor-of-the-kidney-,WA01--H1--human-embryonic-stem-cells-,bcbl1,lymphoblastoid-cells\t1\t1\n",
      " "
     ]
    }
   ],
   "source": [
    "test = pybedtools.BedTool(\"/sybig/projects/GeneRegulation/data/jme/Bachelorarbeit/raw_data/Test_Script/Prom_with_TFBSs_raw.bed\")\n",
    "test.head()"
   ]
  },
  {
   "cell_type": "code",
   "execution_count": 20,
   "metadata": {},
   "outputs": [
    {
     "data": {
      "text/plain": [
       "([3, 4, 5, 13, 11, 12, 15],\n",
       " ['distinct',\n",
       "  'distinct',\n",
       "  'distinct',\n",
       "  'collapse',\n",
       "  'collapse',\n",
       "  'collapse',\n",
       "  'collapse'])"
      ]
     },
     "execution_count": 20,
     "metadata": {},
     "output_type": "execute_result"
    }
   ],
   "source": [
    "def generate_input_for_merge(prom, c_tfbs, c_prom, o_tfbs, o_prom):\n",
    "    \"\"\"\n",
    "    Generating c_for_merge and o_for_merge by considering the input columns for the tfbs BED file and the prom BED file.\n",
    "    First, the length of the promotor BED is considered to change the column index of the tfbs file to the new index position in the intersected file.\n",
    "    Second the prom lists will be appended by the tfbs lists \n",
    "    \"\"\"\n",
    "    # Changing TFBS columns to new intersect columns\n",
    "    prom_field_len = len(prom[0].fields)\n",
    "    c_tfbs_new = [ci + prom_field_len for ci in c_tfbs]\n",
    "\n",
    "    c_for_merge = c_prom + c_tfbs_new\n",
    "    o_for_merge = o_prom + o_tfbs\n",
    "    return c_for_merge, o_for_merge\n",
    "\n",
    "generate_input_for_merge(gtex_prom, [3, 1, 2, 5], [3, 4, 5], [\"collapse\",\"collapse\",\"collapse\",\"collapse\"], [\"distinct\", \"distinct\", \"distinct\"])"
   ]
  },
  {
   "cell_type": "code",
   "execution_count": 10,
   "metadata": {},
   "outputs": [],
   "source": [
    "intersect = gtex_prom.intersect(tfbs_all, wa=True, wb=True).sort()"
   ]
  },
  {
   "cell_type": "code",
   "execution_count": 29,
   "metadata": {},
   "outputs": [
    {
     "name": "stdout",
     "output_type": "stream",
     "text": [
      "chr1\t17436\t17636\tMIR6859-1\t0\t-\tENSG00000278267.1\tmiRNA\t54\t0,0,0,0,0,0,0,0,0,0,0,0,0,0,0,0,0,0,0,0,0,0,0,0,0,0,0,0,0,0,0,0,0,0,0,0,0,0,0,0,0,0,0,0,0,0,0,0,0,0,0,0,0,0,\tchr1\t17510\t17522\tMYCN\t0\t-\tEXP038397\tNGP--neuroblastoma-\tMA0104.4\t1\n",
      " chr1\t629439\t629639\tMTND2P28\t730\t+\tENSG00000225630.1\tunprocessed_pseudogene\t54\t961.4,1024,949.35,328.1,497.15,363.6,518.8,1182,1160,1568,638.6,851.2,1275,990.9,1320,1213.5,1315,1591,1228,1440,902.9,207.95,180.7,370.8,427.8,826.4,777.5,814.1,335.2,798.7,510.5,1157,1283.5,1149,864.8,754.9,447.2,484.3,760.1,602.9,385.65,320.05,541.9,772.4,604.95,573.3,748.9,342.4,887.1,562,559,441.2,394.05,53.19,\tchr1\t629638\t629650\tOTX2\t0\t-\tEXP036801\tHUES64--embryonic-stem-cells-\tMA0712.2\t1\n",
      " chr1\t634176\t634376\tMTCO3P12\t483\t+\tENSG00000198744.5\tunprocessed_pseudogene\t54\t19.46,17.82,28.275,9.633,12.73,13.52,11.34,40.195,36.9,30.34,21.63,23.05,29.58,32.36,49.13,36.375,37.295,31.25,22.06,32.93,18.46,11.145,8.255,8.538,9.101,16.43,22.555,18.51,12.34,18.61,10.82,35.74,48.98,40.82,18.575,21.435,12.21,14.485,25.13,14,10.052,6.905,14.03,17.25,18.495,19.47,20.65,10.04,19.89,19.92,19.29,10.595,11.63,4.395,\tchr1\t634195\t634206\tEGR2\t0\t+\tEXP039511\tHEK293--embryonic-kidney-\tMA0472.2\t1\n",
      " chr1\t758336\t758536\tRNU6-1199P\t0\t-\tENSG00000223181.1\tsnRNA\t54\t0,0,0,0,0,0,0,0,0,0,0,0,0,0,0,0,0,0,0,0,0,0,0,0,0,0,0,0,0,0,0,0,0,0,0,0,0,0,0,0,0,0,0,0,0,0,0,0,0,0,0,0,0,0,\tchr1\t758332\t758348\tJUN\t0\t-\tEXP038043\tHAEC--human-aortic-endothelial-cells-\tMA0462.2,MA0488.1,MA0489.1,MA1127.1,MA1128.1,MA1132.1\t6\n",
      " chr1\t758336\t758536\tRNU6-1199P\t0\t-\tENSG00000223181.1\tsnRNA\t54\t0,0,0,0,0,0,0,0,0,0,0,0,0,0,0,0,0,0,0,0,0,0,0,0,0,0,0,0,0,0,0,0,0,0,0,0,0,0,0,0,0,0,0,0,0,0,0,0,0,0,0,0,0,0,\tchr1\t758332\t758344\tJUN\t0\t+\tEXP038043\tHAEC--human-aortic-endothelial-cells-\tMA0099.3,MA1130.1\t2\n",
      " chr1\t758336\t758536\tRNU6-1199P\t0\t-\tENSG00000223181.1\tsnRNA\t54\t0,0,0,0,0,0,0,0,0,0,0,0,0,0,0,0,0,0,0,0,0,0,0,0,0,0,0,0,0,0,0,0,0,0,0,0,0,0,0,0,0,0,0,0,0,0,0,0,0,0,0,0,0,0,\tchr1\t758509\t758526\tAR\t0\t+\tEXP049391,EXP049392\t22RV1--prostate-carcinoma-\tMA0007.3\t2\n",
      " chr1\t778569\t778769\tRP11-206L10.9\t262\t+\tENSG00000237491.8\tlincRNA\t54\t0.593,0.395,0.359,0.759,0.754,0.771,0.642,0.372,0.428,0.501,2.547,2.607,0.573,0.572,0.429,0.534,0.594,0.434,0.487,0.34,0.576,1.097,0.527,0.856,1.466,0.7,0.766,0.568,0.496,0.54,0.823,0.287,0.243,0.347,0.761,0.389,0.687,0.782,0.263,1.511,1.05,0.265,2.336,0.918,0.812,0.936,0.764,0.885,0.5,4.036,1.173,1.148,0.793,0.109,\tchr1\t778679\t778700\tREST\t0\t-\tEXP036864\tA549--lung-carcinoma-\tMA0138.2\t2\n",
      " chr1\t778569\t778769\tRP11-206L10.9\t262\t+\tENSG00000237491.8\tlincRNA\t54\t0.593,0.395,0.359,0.759,0.754,0.771,0.642,0.372,0.428,0.501,2.547,2.607,0.573,0.572,0.429,0.534,0.594,0.434,0.487,0.34,0.576,1.097,0.527,0.856,1.466,0.7,0.766,0.568,0.496,0.54,0.823,0.287,0.243,0.347,0.761,0.389,0.687,0.782,0.263,1.511,1.05,0.265,2.336,0.918,0.812,0.936,0.764,0.885,0.5,4.036,1.173,1.148,0.793,0.109,\tchr1\t778673\t778689\tKLF9\t0\t+\tGSE62211\tgbm1a\tMA1107.2\t2\n",
      " chr1\t778569\t778769\tRP11-206L10.9\t262\t+\tENSG00000237491.8\tlincRNA\t54\t0.593,0.395,0.359,0.759,0.754,0.771,0.642,0.372,0.428,0.501,2.547,2.607,0.573,0.572,0.429,0.534,0.594,0.434,0.487,0.34,0.576,1.097,0.527,0.856,1.466,0.7,0.766,0.568,0.496,0.54,0.823,0.287,0.243,0.347,0.761,0.389,0.687,0.782,0.263,1.511,1.05,0.265,2.336,0.918,0.812,0.936,0.764,0.885,0.5,4.036,1.173,1.148,0.793,0.109,\tchr1\t778679\t778695\tSRF\t0\t-\tENCSR000BTD\tIshikawa\tMA0083.3\t2\n",
      " chr1\t778569\t778769\tRP11-206L10.9\t262\t+\tENSG00000237491.8\tlincRNA\t54\t0.593,0.395,0.359,0.759,0.754,0.771,0.642,0.372,0.428,0.501,2.547,2.607,0.573,0.572,0.429,0.534,0.594,0.434,0.487,0.34,0.576,1.097,0.527,0.856,1.466,0.7,0.766,0.568,0.496,0.54,0.823,0.287,0.243,0.347,0.761,0.389,0.687,0.782,0.263,1.511,1.05,0.265,2.336,0.918,0.812,0.936,0.764,0.885,0.5,4.036,1.173,1.148,0.793,0.109,\tchr1\t778679\t778695\tSRF\t0\t+\tENCSR000BIV,ENCSR000BLK\tH1-hESC,K562\tMA0083.3\t4\n",
      " "
     ]
    }
   ],
   "source": [
    "intersect.head()"
   ]
  },
  {
   "cell_type": "code",
   "execution_count": 112,
   "metadata": {},
   "outputs": [
    {
     "name": "stdout",
     "output_type": "stream",
     "text": [
      "chr1\t17436\t17636\tMIR6859-1\t0\t-\tENSG00000278267.1\tmiRNA\t54\t0,0,0,0,0,0,0,0,0,0,0,0,0,0,0,0,0,0,0,0,0,0,0,0,0,0,0,0,0,0,0,0,0,0,0,0,0,0,0,0,0,0,0,0,0,0,0,0,0,0,0,0,0,0,\tchr1\t17510\t17522\tMYCN\t0\t-\tEXP038397\tNGP--neuroblastoma-\tMA0104.4\t1\n",
      "\n"
     ]
    }
   ],
   "source": [
    "# Refining Intersect file\n",
    "\n",
    "interval = intersect[0]\n",
    "print(interval)\n"
   ]
  },
  {
   "cell_type": "code",
   "execution_count": 98,
   "metadata": {},
   "outputs": [
    {
     "data": {
      "text/plain": [
       "pybedtools.cbedtools.Interval"
      ]
     },
     "execution_count": 98,
     "metadata": {},
     "output_type": "execute_result"
    }
   ],
   "source": [
    "interval.fields.insert(2, \"esdfst\")\n",
    "type(interval)"
   ]
  },
  {
   "cell_type": "code",
   "execution_count": 113,
   "metadata": {},
   "outputs": [
    {
     "name": "stdout",
     "output_type": "stream",
     "text": [
      "chr1\t17436\t17636\tENSG00000278267.1\t0\t-\tMYCN\t17510\t17522\t-\tmiRNA\t0,0,0,0,0,0,0,0,0,0,0,0,0,0,0,0,0,0,0,0,0,0,0,0,0,0,0,0,0,0,0,0,0,0,0,0,0,0,0,0,0,0,0,0,0,0,0,0,0,0,0,0,0,0,\t54\tMIR6859-1\t0\t0,0,0,0,0,0,0,0,0,0,0,0,0,0,0,0,0,0,0,0,0,0,0,0,0,0,0,0,0,0,0,0,0,0,0,0,0,0,0,0,0,0,0,0,0,0,0,0,0,0,0,0,0,0,\tEXP038397\tNGP--neuroblastoma-\tMA0104.4\t1\n",
      "\n"
     ]
    }
   ],
   "source": [
    "prom_len = len(gtex_prom[0].fields)\n",
    "gen_id_idx = 6\n",
    "\n",
    "# changing gene_ID to 3rd column (only in gtex necessary)\n",
    "interval[gen_id_idx], interval[3] = interval[3], interval[gen_id_idx]\n",
    "interval[7], interval[10] = interval[10], interval[7]\n",
    "exp = interval[9]\n",
    "# changing tfbs to 6th\n",
    "interval[prom_len+3], interval[6] = interval[6], interval[prom_len+3]\n",
    "# changing tfbs start and stop and strand to 7th, 8th, 9th\n",
    "interval[prom_len+1], interval[7] = interval[7], interval[prom_len+1]\n",
    "interval[prom_len+2], interval[8] = interval[8], interval[prom_len+2]\n",
    "interval[prom_len+5], interval[9] = interval[9], interval[prom_len+5]\n",
    "\n",
    "interval[11] = exp\n",
    "\n",
    "print(interval)"
   ]
  },
  {
   "cell_type": "code",
   "execution_count": 114,
   "metadata": {},
   "outputs": [
    {
     "name": "stdout",
     "output_type": "stream",
     "text": [
      "chr1\t17436\t17636\tENSG00000278267.1\t0\t-\tMYCN\t74\t86\t-\tmiRNA\t0,0,0,0,0,0,0,0,0,0,0,0,0,0,0,0,0,0,0,0,0,0,0,0,0,0,0,0,0,0,0,0,0,0,0,0,0,0,0,0,0,0,0,0,0,0,0,0,0,0,0,0,0,0,\t54\tMIR6859-1\t0\t0,0,0,0,0,0,0,0,0,0,0,0,0,0,0,0,0,0,0,0,0,0,0,0,0,0,0,0,0,0,0,0,0,0,0,0,0,0,0,0,0,0,0,0,0,0,0,0,0,0,0,0,0,0,\tEXP038397\tNGP--neuroblastoma-\tMA0104.4\t1\n",
      "\n"
     ]
    }
   ],
   "source": [
    "if interval.strand == \"-\":\n",
    "    TSS = interval.start\n",
    "    close = int(interval[7]) - TSS\n",
    "    dist = int(interval[8]) - TSS\n",
    "elif interval.strand == \"+\":\n",
    "    TSS = interval.end\n",
    "    close =  TSS - int(interval[8])\n",
    "    dist = TSS - int(interval[7])\n",
    "interval[7] = close\n",
    "interval[8] = dist\n",
    "print(interval)\n",
    "   "
   ]
  },
  {
   "cell_type": "code",
   "execution_count": 14,
   "metadata": {},
   "outputs": [
    {
     "data": {
      "text/plain": [
       "20"
      ]
     },
     "execution_count": 14,
     "metadata": {},
     "output_type": "execute_result"
    }
   ],
   "source": [
    "len(gtex_prom[0].fields)\n",
    "len(tfbs_all[0].fields)\n",
    "len(intersect[0].fields)"
   ]
  },
  {
   "cell_type": "code",
   "execution_count": 11,
   "metadata": {},
   "outputs": [
    {
     "name": "stderr",
     "output_type": "stream",
     "text": [
      "/sybig/home/jme/Bachelorarbeit/.venv/lib/python3.8/site-packages/pybedtools/bedtool.py:3691: UserWarning: Default names for filetype bed are:\n",
      "['chrom', 'start', 'end', 'name', 'score', 'strand', 'thickStart', 'thickEnd', 'itemRgb', 'blockCount', 'blockSizes', 'blockStarts']\n",
      "but file has 20 fields; you can supply custom names with the `names` kwarg\n",
      "  warn(\n"
     ]
    }
   ],
   "source": [
    "intersect_df = intersect.to_dataframe()"
   ]
  },
  {
   "cell_type": "code",
   "execution_count": 24,
   "metadata": {},
   "outputs": [],
   "source": [
    "prom_with_tfbs_02 = pybedtools.BedTool(\"/sybig/projects/GeneRegulation/data/jme/Bachelorarbeit/data/Promotor_with_TFBS/prom_with_tfbs_02.bed\")"
   ]
  },
  {
   "cell_type": "code",
   "execution_count": 25,
   "metadata": {},
   "outputs": [
    {
     "name": "stdout",
     "output_type": "stream",
     "text": [
      "chr1\t17436\t17636\tMIR6859-1\t0\t-\tENSG00000278267.1\tmiRNA\t54\t0,0,0,0,0,0,0,0,0,0,0,0,0,0,0,0,0,0,0,0,0,0,0,0,0,0,0,0,0,0,0,0,0,0,0,0,0,0,0,0,0,0,0,0,0,0,0,0,0,0,0,0,0,0,\tMYCN\t17510\t17522\t-\tNGP--neuroblastoma-\t1\t1\n",
      " chr1\t629439\t629639\tMTND2P28\t730\t+\tENSG00000225630.1\tunprocessed_pseudogene\t54\t961.4,1024,949.35,328.1,497.15,363.6,518.8,1182,1160,1568,638.6,851.2,1275,990.9,1320,1213.5,1315,1591,1228,1440,902.9,207.95,180.7,370.8,427.8,826.4,777.5,814.1,335.2,798.7,510.5,1157,1283.5,1149,864.8,754.9,447.2,484.3,760.1,602.9,385.65,320.05,541.9,772.4,604.95,573.3,748.9,342.4,887.1,562,559,441.2,394.05,53.19,\tOTX2\t629638\t629650\t-\tHUES64--embryonic-stem-cells-\t1\t1\n",
      " chr1\t634176\t634376\tMTCO3P12\t483\t+\tENSG00000198744.5\tunprocessed_pseudogene\t54\t19.46,17.82,28.275,9.633,12.73,13.52,11.34,40.195,36.9,30.34,21.63,23.05,29.58,32.36,49.13,36.375,37.295,31.25,22.06,32.93,18.46,11.145,8.255,8.538,9.101,16.43,22.555,18.51,12.34,18.61,10.82,35.74,48.98,40.82,18.575,21.435,12.21,14.485,25.13,14,10.052,6.905,14.03,17.25,18.495,19.47,20.65,10.04,19.89,19.92,19.29,10.595,11.63,4.395,\tEGR2\t634195\t634206\t+\tHEK293--embryonic-kidney-\t1\t1\n",
      " chr1\t758336\t758536\tRNU6-1199P\t0\t-\tENSG00000223181.1\tsnRNA\t54\t0,0,0,0,0,0,0,0,0,0,0,0,0,0,0,0,0,0,0,0,0,0,0,0,0,0,0,0,0,0,0,0,0,0,0,0,0,0,0,0,0,0,0,0,0,0,0,0,0,0,0,0,0,0,\tJUN,JUN,AR\t758332,758332,758509\t758348,758344,758526\t-,+,+\t22RV1--prostate-carcinoma-,HAEC--human-aortic-endothelial-cells-\t3\t2\n",
      " chr1\t778569\t778769\tRP11-206L10.9\t262\t+\tENSG00000237491.8\tlincRNA\t54\t0.593,0.395,0.359,0.759,0.754,0.771,0.642,0.372,0.428,0.501,2.547,2.607,0.573,0.572,0.429,0.534,0.594,0.434,0.487,0.34,0.576,1.097,0.527,0.856,1.466,0.7,0.766,0.568,0.496,0.54,0.823,0.287,0.243,0.347,0.761,0.389,0.687,0.782,0.263,1.511,1.05,0.265,2.336,0.918,0.812,0.936,0.764,0.885,0.5,4.036,1.173,1.148,0.793,0.109,\tREST,KLF9,SRF,SRF,USF2,KLF11,KLF15,KLF5,KLF1,E2F1,KLF4,KLF12,SP3,RXRA,USF1,JUN,JUND,TFE3,CREM,ATF7,ATF2,JUND,CREB1,NFE2L2,ATF3,JUN,PAX5,CREM,TCF7L2,TFAP2C,TFAP2C,PPARG,YY1,YY2,E2F1,NFE2L2,JUN,EGR1,TCF3,EGR2,BHLHE40,GRHL2,RFX3,PPARG,RFX5,RXRB,NEUROD1,MYB,MAFF,NFKB2,SP2,RELA,SP1,SP4,NFYC,THAP11,PKNOX1,RXRA,PBX2,EGR3,EGR1,EGR2,MLX,POU5F1,IRF3,NFYB,FOS,TP53,FOS,ELF1,NFYA,MYC,MYC,MNT,MAX,MAX,GLIS1,RUNX1,RUNX2,ZNF143,OSR2,HAND2,RUNX1,RELA,GABPA,SP1,TEAD3,THAP11,RELA,CTCF,CTCFL,JUND,CREM,NFIL3,ATF7,CREB1,CEBPA,ATF3,REL,RELB,NFKB1,RFX5,ESR1,ESR1,RXRA,JUN,JUND,ATF3,E2F1,E2F1,CREB1\t778679,778673,778679,778679,778679,778675,778675,778675,778674,778674,778674,778674,778674,778689,778679,778681,778682,778683,778683,778684,778684,778684,778685,778685,778685,778685,778688,778633,778564,778585,778587,778595,778596,778598,778599,778607,778608,778622,778623,778624,778625,778673,778639,778640,778640,778641,778642,778644,778664,778668,778671,778671,778672,778672,778742,778723,778724,778725,778726,778728,778728,778730,778733,778734,778737,778740,778741,778742,778742,778691,778742,778751,778751,778752,778752,778752,778753,778753,778755,778761,778764,778765,778765,778722,778691,778695,778695,778695,778696,778699,778701,778707,778708,778709,778709,778709,778709,778710,778722,778721,778721,778715,778713,778713,778712,778711,778710,778710,778710,778710,778710\t778700,778689,778695,778695,778693,778686,778686,778685,778685,778686,778686,778689,778687,778706,778693,778700,778697,778691,778699,778698,778697,778697,778698,778700,778697,778697,778700,778649,778578,778600,778599,778615,778608,778609,778611,778622,778621,778636,778634,778635,778635,778685,778653,778660,778656,778655,778655,778654,778680,778681,778688,778681,778687,778689,778753,778742,778739,778742,778739,778743,778742,778741,778743,778745,778758,778752,778754,778760,778753,778705,778753,778762,778763,778762,778762,778763,778769,778764,778764,778777,778776,778775,778777,778732,778705,778710,778703,778714,778706,778718,778713,778722,778724,778722,778723,778722,778724,778722,778732,778732,778734,778731,778730,778730,778729,778724,778723,778722,778722,778722,778723\t-,+,-,+,+,+,+,+,+,+,+,+,+,+,+,+,+,+,+,-,+,-,-,-,+,-,-,-,-,-,+,+,+,+,+,+,+,+,+,+,+,-,+,+,+,+,-,+,+,-,+,-,+,+,+,+,-,-,+,+,+,+,+,+,+,-,+,-,-,+,+,+,-,+,+,-,-,+,-,-,-,-,+,+,-,+,-,+,-,-,-,+,+,-,+,+,+,+,+,-,+,+,+,-,+,-,-,-,-,+,-\t786-O--renal-carcinoma-,786-O--renal-carcinoma-,A549--lung-carcinoma-,HAEC--human-aortic-endothelial-cells-,HUVEC-C--HUVEC--umbilical-vein-endothelial-cells-,HepG2,K562,K562--myelogenous-leukemia-,Kasumi-1--acute-myeloblastic-leukemia-,MCF7--Invasive-ductal-breast-carcinoma-,MDA-MB-231p27CK-DD--breast-cancer-cells--phosphimimetic-p27-cell-line-,definitive-endoderm-from-HUES8,A375--malignant-melanoma-,HCT-116--colon-carcinoma-,HUES64--embryonic-stem-cells-,K562,A549,A549,GM12878,GM12891,GM12892,H1-hESC,HCT116,HepG2,Ishikawa,K562,NT2,SK-N-SH,lymphoblastoid-cells,A549,GM12878,H1-hESC,HepG2,Ishikawa,MDA-MB-134--invasive-lobular-breast-carcinoma-,lncap,lncap-abl,A549,K562,kg1-xx65023,A549--lung-carcinoma-,A549--lung-carcinoma-,Kasumi-1--acute-myeloblastic-leukemia-,AML--monocytes-and-acute-myeloid-leukemia-,PF-382--childhood-T-acute-lymphoblastic-leukemia-,cd4-th1,BICR31-Tongue-squamous-cell-carcinoma-cell-,HEK293T--embryonic-kidney-,katoiii,BT168--glioblastoma-stem-cells-,G401--rhabdoid-tumor-of-the-kidney-,GEN2.2--blastic-plasmacytoid-dendritic-cell-neoplasm-,GM12878,GM12878--female-B-cells-,HCT-116--colon-carcinoma-,K562,Raji--Burkitt-lymphoma-,U2OS--osteosarcoma-,mm1s-dmso,BT168--glioblastoma-stem-cells-,G401--rhabdoid-tumor-of-the-kidney-,GM12878--female-B-cells-,HCT-116--colon-carcinoma-,MCF10A--breast-epithelial-cells-,P493-6--B-cell-lymphoma-,Raji--Burkitt-lymphoma-,U2OS--osteosarcoma-,CD34-CD133--hematopoietic-progenitors,vcap-r1881,D341-Med--medulloblastoma-,DND-41,HEK293,IMR-90,MCF-7,bcbl1,hepatocytes,pancreas,Detroit-562--Pharyngeal-squamous-cell-carcinoma-,MCF7--Invasive-ductal-breast-carcinoma-,GM12878,GM12878,H1-hESC,HepG2,K562,K562--myelogenous-leukemia-,GM12878,HeLa-S3,GM12878,HeLa-S3,K562,k562,GM12878,HepG2,K562,MCF-7,GM12878--female-B-cells-,GM12878--female-B-cells-,HEK293--embryonic-kidney-,HepG2--hepatoblastoma-,K562--myelogenous-leukemia-,GM12878--female-B-cells-,HepG2--hepatoblastoma-,IMR90--lung-fibroblasts-,GM12878--female-B-cells-,MCF7--Invasive-ductal-breast-carcinoma-,GM12878--female-B-cells-lymphoblastoid-cell-line-,GM12878--female-B-cells-lymphoblastoid-cell-line-,l1236,H1-hESC,H1-hESC,K562,HEK293--embryonic-kidney-,HUES64--embryonic-stem-cells-,HeLa--cervical-adenocarcinoma-,HeLa-S3,K562,HeLa-S3--cervical-adenocarcinoma-,HepG2,HepG2--hepatoblastoma-,HepG2--hepatoblastoma-,MCF7--Invasive-ductal-breast-carcinoma-,MDA-MB-134--invasive-lobular-breast-carcinoma-,HepG2--hepatoblastoma-,subcutaneous-white-adipose-tissue,IMR90--lung-fibroblasts-,Ishikawa,JMSU-1--Bladder-carcinoma-,K562,K562,K562--myelogenous-leukemia-,K562,htc116-camp,K562,ovcar8,K562--myelogenous-leukemia-,Kasumi-1--acute-myeloblastic-leukemia-,SKH1--chronic-myelogenous-leukemia--BCR-ABL1-positive-,Kelly--neuroblastoma-,L428--Hodgkin-lymphoma-,LNCaP--prostate-carcinoma-,LNCaP--prostate-carcinoma-,MCF7--Invasive-ductal-breast-carcinoma-,MCF7--Invasive-ductal-breast-carcinoma-,MCF7-WS8-cells,MDA-MB-231--breast-adenocarcinoma-,ME-1--acute-myeloid-leukemia--,cord-blood-CD34-cells,Panc1,SK-N-SH,SK-N-SH--neuroblastoma-,THP-1--acute-monocytic-leukemia-,cd34,UCLA1-hESCs,UCLA1-hESCs,bt474,mdamb453,skbr3,UPR9--hematopoietic-stem-cells-,bj-induced,keratinocyte-diff,gbm1a,hMADS-3--adipose-derived-stem-cells-,liver,lymphoblastoid-cells,mcf7,mcf7-e2,monocyte-derived-macrophages,subcutaneous-white-adipose-tissue\t111\t77\n",
      " chr1\t778626\t778826\tRP11-206L10.2\t327\t-\tENSG00000228327.3\ttranscribed_unprocessed_pseudogene\t54\t2.838,1.902,1.766,1.978,2.034,2.061,2.813,0.451,0.453,0.574,1.785,2.215,0.767,0.622,0.535,0.683,0.597,0.464,0.867,0.581,2.704,2.644,1.834,2.159,3.04,2.482,1.816,2.261,1.759,2.216,2.4,0.964,0.547,1.211,1.818,1.115,2.465,2.029,0.697,3.899,4.093,1.06,3.589,3.447,2.907,3.243,2.346,2.805,1.718,11.98,4.274,3.127,2.489,1.939,\tEGR1,GABPA,TFDP1,AR,ESR1,RXRA,REST,USF1,JUN,JUND,TFE3,CREM,ATF7,ATF2,JUND,CREB1,NFE2L2,ATF3,JUN,PAX5,SRF,GABPA,ELF1,SP1,TEAD3,THAP11,RELA,CTCF,CTCFL,JUND,CREM,NFIL3,ATF7,CREB1,CEBPA,RELA,E2F1,TCF3,EGR2,BHLHE40,CREM,RFX3,PPARG,RFX5,RXRB,NEUROD1,MYB,MAFF,NFKB2,SP2,E2F6,SP1,SP4,GRHL2,KLF9,SP3,KLF12,KLF4,E2F1,KLF1,KLF5,KLF15,KLF11,USF2,SRF,E2F1,MYC,MYC,MNT,MAX,MAX,GLIS1,RUNX1,RUNX2,ZNF143,OSR2,HAND2,RUNX1,STAT3,PPARG,ATF3,MYC,E2F1,MYC,MAX,MAX,NRF1,TP53,GABPA,AR,NR3C1,CTCF,CTCFL,USF2,CREB1,NFYC,NFYA,E2F1,E2F1,ATF3,JUND,JUN,RXRA,ESR1,ESR1,RFX5,NFKB1,RELB,RELA,REL,PKNOX1,FOS,TP53,FOS,NFYB,IRF3,POU5F1,MLX,EGR2,EGR1,EGR3,PBX2,RXRA,THAP11\t778622,778818,778818,778816,778816,778689,778679,778679,778681,778682,778683,778683,778684,778684,778684,778685,778685,778685,778685,778688,778679,778691,778691,778695,778695,778695,778696,778699,778701,778707,778708,778709,778709,778709,778709,778671,778816,778623,778624,778625,778633,778639,778640,778640,778641,778642,778644,778664,778668,778671,778816,778672,778672,778673,778673,778674,778674,778674,778674,778674,778675,778675,778675,778679,778679,778781,778751,778751,778752,778752,778752,778753,778753,778755,778761,778764,778765,778765,778776,778777,778710,778781,778781,778782,778782,778782,778786,778788,778792,778795,778795,778797,778799,778799,778710,778742,778742,778710,778710,778710,778710,778711,778712,778713,778713,778715,778721,778721,778722,778722,778724,778742,778742,778741,778740,778737,778734,778733,778730,778728,778728,778726,778725,778723\t778636,778832,778829,778833,778833,778706,778700,778693,778700,778697,778691,778699,778698,778697,778697,778698,778700,778697,778697,778700,778695,778705,778705,778710,778703,778714,778706,778718,778713,778722,778724,778722,778723,778722,778724,778681,778828,778634,778635,778635,778649,778653,778660,778656,778655,778655,778654,778680,778681,778688,778829,778687,778689,778685,778689,778687,778689,778686,778686,778685,778685,778686,778686,778693,778695,778793,778762,778763,778762,778762,778763,778769,778764,778764,778777,778776,778775,778777,778787,778792,778722,778793,778793,778795,778792,778792,778797,778806,778806,778812,778812,778819,778811,778813,778723,778753,778753,778722,778722,778722,778723,778724,778729,778730,778730,778731,778734,778732,778732,778732,778739,778753,778760,778754,778752,778758,778745,778743,778741,778742,778743,778739,778742,778742\t+,-,+,+,-,+,-,+,+,+,+,+,-,+,-,-,-,+,-,-,-,-,+,+,-,+,-,-,-,+,+,-,+,+,+,-,-,+,+,+,-,+,+,+,+,-,+,+,-,+,+,+,+,-,+,+,+,+,+,+,+,+,+,+,+,+,+,-,+,+,-,-,+,-,-,-,-,+,-,+,+,+,-,-,+,-,-,-,-,+,-,-,-,-,-,+,+,+,-,-,-,-,+,-,+,+,+,-,+,+,-,-,-,+,-,+,+,+,+,+,+,+,-,+\t22RV1--prostate-carcinoma-,786o-normoxia,A549--lung-carcinoma-,A673--Ewing-sarcoma-,BEAS-2B--bronchial-epithelium-,BJ,CD20-,CD34--stem-cells-derived-erythroblasts,COLO-829--melanoma-,DND41--acute-lymphoblastic-leukemia-,DOHH2,DOHH2--diffuse-large-B-cell-lymphoma-,E14-retina,E16-retina,E18-retina,E23-retina,FB8470--fibroblasts-,GM06990,GM10847--female-B-cells-Lymphoblastoid-Cell-Lines-,GM12864,GM12865,GM12866,GM12869,GM12873,GM12874,GM12875,GM12878--female-B-cells-,GM12878--female-B-cells-lymphoblastoid-cell-line-,GM12892,GM17942--lymphoblastoid-cell-,GM18486--Lymphoblastoid-Cell-Lines-,GM18505--female-B-cells-Lymphoblastoid-Cell-Lines-,GM18526--B-–-cells-Lymphoblastoid-Cell-Lines-,GM19099--female-B-cells-Lymphoblastoid-Cell-Lines-,GM19193--female-B-cells-Lymphoblastoid-Cell-Lines-,GM19238,GM19239,GM19240,H1-hESC,HAP1--chronic-myelogenous-leukemia-,HCT-116--colon-carcinoma-,HEK293--embryonic-kidney-,HEK293T--embryonic-kidney-,HL-60,HMEC--human-mammary-epithelial-cells-,HNEK--epidermal-keratinocytes-,HSMM--skeletal-muscle-myoblasts-,HSMM-dirived-skeletal-muscle-myotubes,HT1080--fibrosarcoma-,HUES64--embryonic-stem-cells-,HUVEC-C--HUVEC--umbilical-vein-endothelial-cells-,HeLa-Kyoto--cervical-adenocarcinoma-,HeLa-S3,HeLa-S3--cervical-adenocarcinoma-,HepG2,HepG2--hepatoblastoma-,ID00014--lymphoblastoid-cell--DiGeorge-syndrome-,ID00015--lymphoblastoid-cell-,IPSC-derived-bipolar-neuron,Jurkat--T-cells-,K562,K562--myelogenous-leukemia-,Karpas-422,LNCaP--prostate-carcinoma-,LUHMES--lund-human-mesencephalic-cells-,Loucy,MCF-7,MCF10A--breast-epithelial-cells-,MCF10AT1--breast-premetastatic-epithelial-cells-,MCF7--Invasive-ductal-breast-carcinoma-,MCF7L-P-immortalized-breast-epithelial-cell-line-,MCF7L-TamR-immortalized-breast-epithelial--tamoxifen-resistant-cell-line-,MDA-MB-157--triple-negative-breast-carcinoma-,MDM-monocyte-derived-macrophages-,MIA-PaCa-2--pancreatic-ductal-adenocarcinoma-,MM1.S--plasma-cell-myeloma-,MOLM-13-acute-monocytic-leukemia-AML---Homo-sapiens-,NA-A--astrocytes-,NHDF-Ad--adult-dermal-fibroblasts-,NHLF--lung-fibroblasts-,OCI-LY1--diffuse-large-B-cell-lymphoma-,OCI-LY7,OCI-LY7--diffuse-large-B-cell-lymphoma-,PANC1--pancreatic-ductal-adenocarcinoma-,PC3-bone-mets-prostate-adenocarcinoma-,PC9--lung-adenocarcinoma-,Peyer-s-patch,PrEC--prostate-cells-,RH4--alveolar-rhabdomyosarcoma-,RO01746--CD14--monocytes-,RWPE1--prostate-epithelial-cells-,RWPE2,SK-N-SH,SK-N-SH--neuroblastoma-,SUDHL6,SYO-1-Biphasic-synovial-sarcoma-,T47D--invasive-ductal-carcinoma-,THP-1--acute-monocytic-leukemia-,TTC-1240--Rhabdoid-tumor-of-the-kidney-,VCaP--prostate-carcinoma-,WA01--H1--human-embryonic-stem-cells-,WA09--embryonic-stem-cells-,adrenal-gland,ascending-aorta,bipolar-neuron,breast-epithelial-cells,coronary-artery,embryonic-stem-cells,epidermal-keratinocytes,esc-naive,esc-primed,esophagus-muscularis-mucosa,esophagus-squamous-epithelium,foreskin-keratinocyte,gastrocnemius-medialis,gastroesophageal-sphincter,h1-emb,h1-mesen,h1-mesen-stem,h1-neur,h1-trop,heart-left-ventricle,hepatocytes,hepg2,human-cardiac-myocytes,imr90,islet,k562,keratinocyte,lower-leg-skin,lymphoblastoid-cells,mammary-epithelial-cells,mcf7-e2,mcf7-hypoxia,mcf7-normoxia,mm1s,myotube,neural-progenitors,neutrophils,normal-epidermal-keratinocytes,normal-lung-fibroblasts,osteoblast,osteoblasts,ovary,ovcar8,pancreas,prostate-gland,retinoblastoma-xenograft,right-atrium-auricular-region,right-lobe-of-liver,sigmoid-colon,skeletal-muscles-and-myoblasts,sknsh,smooth-muscle-cell,spleen,stomach,testis,thoracic-aorta,thyroid-gland,tibial-artery,tibial-nerve,transverse-colon,upper-lobe-of-left-lung,uterus,vagina,22RV1--prostate-carcinoma-,VCS2--prostate-carcinoma-,786-O--renal-carcinoma-,786-O--renal-carcinoma-,A549--lung-carcinoma-,HAEC--human-aortic-endothelial-cells-,HUVEC-C--HUVEC--umbilical-vein-endothelial-cells-,HepG2,K562,K562--myelogenous-leukemia-,Kasumi-1--acute-myeloblastic-leukemia-,MCF7--Invasive-ductal-breast-carcinoma-,MDA-MB-231p27CK-DD--breast-cancer-cells--phosphimimetic-p27-cell-line-,definitive-endoderm-from-HUES8,A375--malignant-melanoma-,HCT-116--colon-carcinoma-,HUES64--embryonic-stem-cells-,K562,A549,A549,GM12878,H1-hESC,HepG2,Ishikawa,MDA-MB-134--invasive-lobular-breast-carcinoma-,lncap,lncap-abl,A549,K562,kg1-xx65023,A549--lung-carcinoma-,A549--lung-carcinoma-,Kasumi-1--acute-myeloblastic-leukemia-,AML--monocytes-and-acute-myeloid-leukemia-,PF-382--childhood-T-acute-lymphoblastic-leukemia-,cd4-th1,BEAS-2B--bronchial-epithelium-,BICR31-Tongue-squamous-cell-carcinoma-cell-,HEK293T--embryonic-kidney-,katoiii,BT168--glioblastoma-stem-cells-,G401--rhabdoid-tumor-of-the-kidney-,GEN2.2--blastic-plasmacytoid-dendritic-cell-neoplasm-,GM12878,GM12878--female-B-cells-,HCT-116--colon-carcinoma-,K562,Raji--Burkitt-lymphoma-,U2OS--osteosarcoma-,mm1s-dmso,BT168--glioblastoma-stem-cells-,G401--rhabdoid-tumor-of-the-kidney-,GM12878--female-B-cells-,HCT-116--colon-carcinoma-,MCF10A--breast-epithelial-cells-,P493-6--B-cell-lymphoma-,Raji--Burkitt-lymphoma-,U2OS--osteosarcoma-,CD34-CD133--hematopoietic-progenitors,vcap-r1881,CUTLL1--T-cell-lymphoblastic-lymphoma-1-,D341-Med--medulloblastoma-,DND-41,HEK293,IMR-90,MCF-7,bcbl1,hepatocytes,pancreas,Detroit-562--Pharyngeal-squamous-cell-carcinoma-,MCF7--Invasive-ductal-breast-carcinoma-,GM12878,GM12878,H1-hESC,HepG2,K562,K562--myelogenous-leukemia-,GM12878,HeLa-S3,GM12878,HeLa-S3,K562,k562,GM12878,HepG2,K562,MCF-7,GM12878--female-B-cells-,GM12878--female-B-cells-,HEK293--embryonic-kidney-,HepG2--hepatoblastoma-,K562--myelogenous-leukemia-,GM12878--female-B-cells-,HepG2--hepatoblastoma-,IMR90--lung-fibroblasts-,GM12878--female-B-cells-,MCF7--Invasive-ductal-breast-carcinoma-,GM12878--female-B-cells-lymphoblastoid-cell-line-,GM12878--female-B-cells-lymphoblastoid-cell-line-,l1236,H1-hESC,H1-hESC,K562,HEK293--embryonic-kidney-,HUES64--embryonic-stem-cells-,HUES64--embryonic-stem-cells-,P493-6--B-cell-lymphoma-,HeLa-S3,K562,HeLa-S3--cervical-adenocarcinoma-,HepG2,HepG2,HepG2--hepatoblastoma-,K562,K562--myelogenous-leukemia-,MCF7--Invasive-ductal-breast-carcinoma-,namalwa,t47d-haegin2,HepG2--hepatoblastoma-,HepG2--hepatoblastoma-,MCF7--Invasive-ductal-breast-carcinoma-,MDA-MB-134--invasive-lobular-breast-carcinoma-,HepG2--hepatoblastoma-,subcutaneous-white-adipose-tissue,IMR90--lung-fibroblasts-,Ishikawa,JMSU-1--Bladder-carcinoma-,K562,K562,K562--myelogenous-leukemia-,K562,htc116-camp,K562,ovcar8,K562--myelogenous-leukemia-,Kasumi-1--acute-myeloblastic-leukemia-,SKH1--chronic-myelogenous-leukemia--BCR-ABL1-positive-,Kelly--neuroblastoma-,L428--Hodgkin-lymphoma-,LNCaP--prostate-carcinoma-,LNCaP--prostate-carcinoma-,MCF7--Invasive-ductal-breast-carcinoma-,OCI-LY1--diffuse-large-B-cell-lymphoma-,LNCaP--prostate-carcinoma-,Raji--Burkitt-lymphoma-,mesenchymal,MCF7--Invasive-ductal-breast-carcinoma-,MCF7-WS8-cells,MDA-MB-231--breast-adenocarcinoma-,MDA-MB-468--breast-adenocarcinoma-,NCI-H358--human-nnon-small-cell-lung-cancer-cell-line-,ME-1--acute-myeloid-leukemia--,cord-blood-CD34-cells,MM1.S--plasma-cell-myeloma-,MM1.S--plasma-cell-myeloma-,U87--glioblastoma-,PHA-simulated-human-T-lynphocytes,R3-R4-erythroid-cells,SK-N-SH,SK-N-SH--neuroblastoma-,THP-1--acute-monocytic-leukemia-,cd34,UPR9--hematopoietic-stem-cells-,VCaP--prostate-carcinoma-,bj-induced,keratinocyte-diff,gbm1a,h128,hMADS-3--adipose-derived-stem-cells-,k562,liver,lymphoblastoid-cells,mcf7,mcf7-e2,monocyte-derived-macrophages,subcutaneous-white-adipose-tissue\t124\t79\n",
      " chr1\t817170\t817370\tFAM87B\t247\t+\tENSG00000177757.2\tlincRNA\t54\t1.92,0.871,1.25,1.252,0.98,1.871,0.834,0.232,0.219,0.241,1.266,1.635,0.239,0.227,0.211,0.333,0.278,0.22,0.286,0.214,0.951,0.513,0.927,0.89,0.833,0.615,0.512,0.668,0.321,0.49,0.959,0.369,0.195,0.264,0.191,0.138,0.566,0.595,0.245,1.243,0.784,0.149,0.725,0.715,0.723,0.955,0.496,0.315,0.389,1.527,0.897,0.819,0.721,0.075,\tJUN,XBP1,RUNX1,RELA,FLI1,PPARG,SPI1,E2F1,CREB1,CREM,PRDM1,AR,CEBPB,SOX2,RARA\t817362,817359,817337,817335,817332,817331,817327,817310,817309,817308,817296,817282,817279,817245,817323\t817377,817373,817348,817345,817342,817346,817354,817322,817322,817324,817307,817299,817289,817256,817340\t-,+,-,-,+,+,+,-,+,-,+,+,+,+,+\tGM12878,K562,HEK293--embryonic-kidney-,K562,K562,K562--myelogenous-leukemia-,MDA-MB-231p27CK-DD--breast-cancer-cells--phosphimimetic-p27-cell-line-,K562--myelogenous-leukemia-,SKH1--chronic-myelogenous-leukemia--BCR-ABL1-positive-,THP-1--acute-monocytic-leukemia-,hmsc-dmi-low,monocyte-derived-macrophages,UPR9--hematopoietic-stem-cells-,hnsc,hs578t-hypo-gludep,macrophages-il4,macrophages-tpp,monocyte-derived-macrophages,monocyte-derived-macrophages,prostate-cancer,subcutaneous-white-adipose-tissue,uae-zinc\t15\t15\n",
      " chr1\t827522\t827722\tLINC00115\t386\t-\tENSG00000225880.5\tlincRNA\t54\t4.49,3.425,2.752,6.226,5.935,7.817,7.573,1.454,1.423,2.043,11.1,10.96,2.051,1.739,1.866,1.99,2.046,1.525,3.332,1.85,4.099,3.921,3.334,9.637,10.475,5.755,4.147,4.791,3.824,4.378,5.094,2.752,1.464,3.572,5.979,2.851,6.654,4.872,1.817,11.39,12.04,0.979,9.092,12.84,4.155,4.325,4.028,5.879,2.775,7.369,9.106,9.471,9.455,1.251,\tESR1,KLF1,KLF1,SP1,SP1,SP2,KLF12,SP4,ARNT,HIF1A,MNT,BHLHE40,NRF1,MAX,HIF1A,AR,EGR3,EGR1,GLIS1,EGR2,E2F1,E2F1,MYC,MYC,NRF1,E2F6,MYCN,MYC,MYC,MAX,MAX,E2F1,KLF11,RXRA,NR2F6,NR2C2,RFX3,NR2F1,STAT5A,STAT3,NR2F2,NR2C1,RXRA,NR2F1,AR,FOXP1,FOXA3,FOXA2,SOX13,KLF15,SP3,SP1,SP2,KLF9,TFE3,MNT,MLX,KLF5,MYCN,E2F1,E2F6,CREM,FOXA1\t827626,827541,827602,827600,827579,827578,827577,827577,827554,827553,827552,827552,827550,827548,827547,827542,827641,827641,827642,827643,827652,827652,827652,827652,827653,827690,827693,827693,827693,827693,827694,827531,827540,827506,827508,827508,827509,827509,827511,827512,827514,827515,827516,827516,827517,827517,827517,827517,827521,827540,827539,827539,827538,827537,827532,827532,827532,827541,827531,827531,827530,827524,827517\t827643,827552,827613,827615,827594,827595,827592,827594,827560,827563,827562,827562,827561,827558,827557,827559,827656,827655,827658,827654,827664,827664,827664,827664,827664,827703,827705,827705,827704,827704,827704,827543,827551,827531,827523,827536,827523,827527,827524,827523,827525,827524,827531,827531,827534,827528,827528,827528,827532,827551,827552,827554,827555,827553,827540,827542,827542,827551,827543,827543,827543,827540,827529\t+,-,-,-,-,-,-,-,+,+,+,+,-,-,-,-,+,+,+,+,+,-,+,-,-,-,-,-,+,+,-,-,-,+,+,+,+,+,-,-,+,+,-,-,+,+,+,+,+,-,-,-,-,-,-,-,-,-,+,+,-,-,+\t22RV1--prostate-carcinoma-,LNCaP--prostate-carcinoma-,T47D--invasive-ductal-carcinoma-,mdamb453-dht,primary-prostate-cancer,A375--malignant-melanoma-,HEK293--embryonic-kidney-,A549--lung-carcinoma-,HUES64--embryonic-stem-cells-,HepG2,HepG2--hepatoblastoma-,BICR31-Tongue-squamous-cell-carcinoma-cell-,HCC95--squamous-cell-lung-carcinoma-,HEK293T--embryonic-kidney-,CD4--CD25--CD45RA--T-cells,CWR22--prostate-carcinoma-,VCaP--prostate-carcinoma-,GEN2.2--blastic-plasmacytoid-dendritic-cell-neoplasm-,HCT-116--colon-carcinoma-,HEK293T--embryonic-kidney-,HUVEC-C--HUVEC--umbilical-vein-endothelial-cells-,K562--myelogenous-leukemia-,LNCaP--prostate-carcinoma-,MCF7--Invasive-ductal-breast-carcinoma-,U2OS--osteosarcoma-,GEN2.2--blastic-plasmacytoid-dendritic-cell-neoplasm-,HEK293T--embryonic-kidney-,HUVEC-C--HUVEC--umbilical-vein-endothelial-cells-,K562--myelogenous-leukemia-,LNCaP--prostate-carcinoma-,MCF7--Invasive-ductal-breast-carcinoma-,U2OS--osteosarcoma-,GM12878--female-B-cells-,GM12878--female-B-cells-,K562--myelogenous-leukemia-,H9-derived-neural-crest-cells,HCC70--ductal-breast-carcinoma-,JB6--Human-anaplastic-large-cell-lymphoma-,MDA-MB-231--breast-adenocarcinoma-,HCT-116--colon-carcinoma-,HCT-116--colon-carcinoma-,HUES64--embryonic-stem-cells-,HCT-116--colon-carcinoma-,HUES64--embryonic-stem-cells-,MCF10A--breast-epithelial-cells-,P493-6--B-cell-lymphoma-,Raji--Burkitt-lymphoma-,HEK293--embryonic-kidney-,HEK293--embryonic-kidney-,gbm1a,HUES64--embryonic-stem-cells-,MCF10A--breast-epithelial-cells-,P493-6--B-cell-lymphoma-,Raji--Burkitt-lymphoma-,HeLa-S3,HepG2,HepG2--hepatoblastoma-,HepG2--hepatoblastoma-,HepG2--hepatoblastoma-,PC3-bone-mets-prostate-adenocarcinoma-,RCC4--kidney-cancer-cell-line-,renal-tubular-cells,IMR-5--Neuroblastoma-,IMR90--lung-fibroblasts-,K562,K562,MKL-1--Merkel-cell-carcinoma-,K562--myelogenous-leukemia-,K562--myelogenous-leukemia-,liver,LNCaP--prostate-carcinoma-,LNCaP--prostate-carcinoma-,OCI-LY1--diffuse-large-B-cell-lymphoma-,Raji--Burkitt-lymphoma-,U87--glioblastoma-,MCF7--Invasive-ductal-breast-carcinoma-,MKL-1--Merkel-cell-carcinoma-,PC3-bone-mets-prostate-adenocarcinoma-,Raji--Burkitt-lymphoma-,SH-EP-NMYCER,T47D--invasive-ductal-carcinoma-,hMADS-3--adipose-derived-stem-cells-,liver,t47d-haegin2\t63\t43\n",
      " chr1\t873091\t873291\tTUBB8P11\t129\t+\tENSG00000234711.1\tunprocessed_pseudogene\t54\t0.058,0.063,0.072,0.057,0.06,0.057,0.099,0.135,0.156,0.129,0.115,0.125,0.186,0.159,0.127,0.157,0.156,0.117,0.092,0.079,0.091,0.051,0.038,0.064,0.074,0.08,0.106,0.066,0.078,0.062,0.083,0.124,0.145,0.101,0.033,0.066,0.075,0.049,0.114,0.058,0.068,0.037,0.223,0.09,0.243,0.172,0.155,0.077,0.08,0.376,0.073,0.062,0.123,0.035,\tCTCF,USF2,USF1\t873164,873197,873197\t873183,873211,873211\t-,+,+\tGM12878--female-B-cells-,HepG2--hepatoblastoma-,GM23338,K562--myelogenous-leukemia-,MCF7--Invasive-ductal-breast-carcinoma-,WA01--H1--human-embryonic-stem-cells-,H1-hESC\t3\t3\n",
      " chr1\t876754\t876954\tFAM41C\t129\t-\tENSG00000230368.2\tlincRNA\t54\t0.064,0.056,0.053,0.045,0.053,0.055,0.058,0.091,0.124,0.099,0.476,0.557,0.158,0.138,0.09,0.116,0.118,0.087,0.072,0.068,0.075,0.037,0.031,0,0.056,0.064,0.061,0.061,0.054,0.052,0.051,0.092,0.117,0.073,0.039,0.048,0.073,0.035,0.219,0.066,0.065,0.028,0.19,0.082,0.339,0.215,0.076,0.031,0.065,0.214,0.073,0.073,0.168,0.02,\tCTCF\t876746\t876765\t-\tGM12866,GM19240,H1-hESC,HAP1--chronic-myelogenous-leukemia-,HEK293,HSMM--skeletal-muscle-myoblasts-,HT1080--fibrosarcoma-,Jurkat--T-cells-,K562--myelogenous-leukemia-,Loucy,MCF7--Invasive-ductal-breast-carcinoma-,MOLM-13-acute-monocytic-leukemia-AML---Homo-sapiens-,OCI-LY1--diffuse-large-B-cell-lymphoma-,RH4--alveolar-rhabdomyosarcoma-,SYO-1-Biphasic-synovial-sarcoma-,THP-1--acute-monocytic-leukemia-,TTC-1240--Rhabdoid-tumor-of-the-kidney-,WA01--H1--human-embryonic-stem-cells-,bcbl1,lymphoblastoid-cells\t1\t1\n",
      " "
     ]
    }
   ],
   "source": [
    "prom_with_tfbs_02.head()\n",
    "Gene_ID_column = 7"
   ]
  },
  {
   "cell_type": "code",
   "execution_count": null,
   "metadata": {},
   "outputs": [],
   "source": []
  },
  {
   "cell_type": "code",
   "execution_count": 5,
   "metadata": {},
   "outputs": [],
   "source": [
    "df_prom_all = prom_with_tfbs_02.to_dataframe(names = [\"chrom\", \"start\", 'end', 'name_gene', 'score_gene', 'strand_gene', \"geneID\", \"geneType\", \"expCount\", \"expScores\", \"tfbs\", \"start_tfbs\", \"end_tfbs\", \"strand_tfbs\",\"unibin_cell_lines\", \"tfbs_count\", \"tfbs_count_unique\"])"
   ]
  },
  {
   "cell_type": "code",
   "execution_count": 6,
   "metadata": {},
   "outputs": [
    {
     "data": {
      "text/plain": [
       "array(['miRNA', 'unprocessed_pseudogene', 'snRNA', 'lincRNA',\n",
       "       'transcribed_unprocessed_pseudogene', 'protein_coding',\n",
       "       'antisense', 'sense_intronic', 'processed_pseudogene',\n",
       "       'processed_transcript', 'transcribed_processed_pseudogene', 'TEC',\n",
       "       'transcribed_unitary_pseudogene', 'misc_RNA', 'snoRNA', 'scaRNA',\n",
       "       'rRNA', 'unitary_pseudogene', '3prime_overlapping_ncRNA',\n",
       "       'polymorphic_pseudogene', 'bidirectional_promoter_lncRNA',\n",
       "       'sense_overlapping', 'pseudogene', 'IG_V_pseudogene', 'ribozyme',\n",
       "       'sRNA', 'TR_V_gene', 'TR_V_pseudogene', 'TR_D_gene', 'TR_J_gene',\n",
       "       'TR_C_gene', 'TR_J_pseudogene', 'IG_C_gene', 'IG_C_pseudogene',\n",
       "       'IG_J_gene', 'IG_J_pseudogene', 'IG_D_gene', 'IG_V_gene', 'scRNA',\n",
       "       'vaultRNA', 'non_coding', 'Mt_tRNA', 'Mt_rRNA'], dtype=object)"
      ]
     },
     "execution_count": 6,
     "metadata": {},
     "output_type": "execute_result"
    }
   ],
   "source": [
    "df_prom_all.geneType.unique()\n"
   ]
  },
  {
   "cell_type": "code",
   "execution_count": 8,
   "metadata": {},
   "outputs": [
    {
     "data": {
      "text/plain": [
       "24"
      ]
     },
     "execution_count": 8,
     "metadata": {},
     "output_type": "execute_result"
    }
   ],
   "source": [
    "len(df_prom_all[df_prom_all.end - df_prom_all.start  != 200])"
   ]
  },
  {
   "cell_type": "markdown",
   "metadata": {},
   "source": [
    "## Filtering protein_coding genes and merging afterwards"
   ]
  },
  {
   "cell_type": "code",
   "execution_count": 33,
   "metadata": {},
   "outputs": [],
   "source": [
    "protein_coding = intersect.filter(lambda x: x.fields[7] == \"protein_coding\").saveas()\n"
   ]
  },
  {
   "cell_type": "code",
   "execution_count": 35,
   "metadata": {},
   "outputs": [
    {
     "data": {
      "text/plain": [
       "<BedTool(/sybig/projects/GeneRegulation/data/jme/Bachelorarbeit/data/Promotor_with_TFBS/tfbs_in_protein_prom.bed)>"
      ]
     },
     "execution_count": 35,
     "metadata": {},
     "output_type": "execute_result"
    }
   ],
   "source": [
    "tfbs_in_protein_prom = protein_coding.merge(s=True, c=[4,5,6,7,8,9,10,  14,12,13,16, 18, 14, 14], o=[\"distinct\",\"distinct\",\"distinct\",\"distinct\",\"distinct\",\"distinct\",\"distinct\",  \"collapse\",\"collapse\",\"collapse\",\"collapse\", \"distinct\", \"count\", \"count_distinct\"])\n",
    "\n",
    "#tfbs_in_protein_prom.saveas(\"/sybig/projects/GeneRegulation/data/jme/Bachelorarbeit/data/Promotor_with_TFBS/tfbs_in_protein_prom.bed\")"
   ]
  },
  {
   "cell_type": "code",
   "execution_count": 36,
   "metadata": {},
   "outputs": [],
   "source": [
    "tfbs_in_protein_prom = pybedtools.BedTool(\"/sybig/projects/GeneRegulation/data/jme/Bachelorarbeit/data/Promotor_with_TFBS/tfbs_in_protein_prom.bed\")"
   ]
  },
  {
   "cell_type": "code",
   "execution_count": 39,
   "metadata": {},
   "outputs": [],
   "source": [
    "df_prom = tfbs_in_protein_prom.to_dataframe(names = [\"chrom\", \"start\", 'end', 'name_gene', 'score_gene', 'strand_gene', \"geneID\", \"geneType\", \"expCount\", \"expScores\", \"tfbs\", \"start_tfbs\", \"end_tfbs\", \"strand_tfbs\",\"unibin_cell_lines\", \"tfbs_count\", \"tfbs_count_unique\"])"
   ]
  },
  {
   "cell_type": "code",
   "execution_count": 48,
   "metadata": {},
   "outputs": [
    {
     "data": {
      "text/html": [
       "<div>\n",
       "<style scoped>\n",
       "    .dataframe tbody tr th:only-of-type {\n",
       "        vertical-align: middle;\n",
       "    }\n",
       "\n",
       "    .dataframe tbody tr th {\n",
       "        vertical-align: top;\n",
       "    }\n",
       "\n",
       "    .dataframe thead th {\n",
       "        text-align: right;\n",
       "    }\n",
       "</style>\n",
       "<table border=\"1\" class=\"dataframe\">\n",
       "  <thead>\n",
       "    <tr style=\"text-align: right;\">\n",
       "      <th></th>\n",
       "      <th>chrom</th>\n",
       "      <th>start</th>\n",
       "      <th>end</th>\n",
       "      <th>name_gene</th>\n",
       "      <th>score_gene</th>\n",
       "      <th>strand_gene</th>\n",
       "      <th>geneID</th>\n",
       "      <th>geneType</th>\n",
       "      <th>expCount</th>\n",
       "      <th>expScores</th>\n",
       "      <th>tfbs</th>\n",
       "      <th>start_tfbs</th>\n",
       "      <th>end_tfbs</th>\n",
       "      <th>strand_tfbs</th>\n",
       "      <th>unibin_cell_lines</th>\n",
       "      <th>tfbs_count</th>\n",
       "      <th>tfbs_count_unique</th>\n",
       "    </tr>\n",
       "  </thead>\n",
       "  <tbody>\n",
       "    <tr>\n",
       "      <th>1523</th>\n",
       "      <td>chr1</td>\n",
       "      <td>203795453</td>\n",
       "      <td>203795794</td>\n",
       "      <td>ZBED6,ZC3H11A</td>\n",
       "      <td>298,312</td>\n",
       "      <td>+</td>\n",
       "      <td>ENSG00000058673.16,ENSG00000257315.2</td>\n",
       "      <td>protein_coding</td>\n",
       "      <td>54</td>\n",
       "      <td>1.806,1.846,1.143,1.939,1.786,1.806,1.575,0.28...</td>\n",
       "      <td>SRF,SRF,CREM,JUN,THAP11,SP1,JUN,CTCF,CTCF,SPI1...</td>\n",
       "      <td>203795531,203795531,203795537,203795538,203795...</td>\n",
       "      <td>203795547,203795547,203795553,203795552,203795...</td>\n",
       "      <td>-,+,-,-,+,+,+,-,+,+,+,-,-,+,-,-,+,+,+,-,-,+,+,...</td>\n",
       "      <td>501mel,K562,K562--myelogenous-leukemia-,melano...</td>\n",
       "      <td>162</td>\n",
       "      <td>83</td>\n",
       "    </tr>\n",
       "    <tr>\n",
       "      <th>2875</th>\n",
       "      <td>chr11</td>\n",
       "      <td>61429841</td>\n",
       "      <td>61430182</td>\n",
       "      <td>RP11-286N22.8,SDHAF2</td>\n",
       "      <td>165,490</td>\n",
       "      <td>+</td>\n",
       "      <td>ENSG00000167985.6,ENSG00000256591.5</td>\n",
       "      <td>protein_coding</td>\n",
       "      <td>54</td>\n",
       "      <td>0.092,0.129,0.135,0.242,0.193,0.129,0.166,0.11...</td>\n",
       "      <td>KLF15,NR3C1,AR,TFDP1,GRHL2,ESR1,TFAP2C,TFAP2A,...</td>\n",
       "      <td>61429982,61429957,61429957,61429957,61429962,6...</td>\n",
       "      <td>61429993,61429974,61429974,61429968,61429974,6...</td>\n",
       "      <td>+,+,+,+,+,+,-,+,+,+,-,+,+,+,+,+,+,+,-,+,-,-,-,...</td>\n",
       "      <td>786-O--renal-carcinoma-,786-O--renal-carcinoma...</td>\n",
       "      <td>266</td>\n",
       "      <td>99</td>\n",
       "    </tr>\n",
       "    <tr>\n",
       "      <th>14834</th>\n",
       "      <td>chr7</td>\n",
       "      <td>55951592</td>\n",
       "      <td>55951962</td>\n",
       "      <td>GBAS,MRPS17</td>\n",
       "      <td>460,549</td>\n",
       "      <td>+</td>\n",
       "      <td>ENSG00000146729.9,ENSG00000239789.5</td>\n",
       "      <td>protein_coding</td>\n",
       "      <td>54</td>\n",
       "      <td>13.07,13.09,17.185,13.37,15.315,13.57,17.47,10...</td>\n",
       "      <td>VDR,PAX5,USF2,EGR3,EGR1,EGR2,SP4,KLF9,SP2,SP1,...</td>\n",
       "      <td>55951740,55951750,55951751,55951771,55951772,5...</td>\n",
       "      <td>55951748,55951762,55951765,55951786,55951786,5...</td>\n",
       "      <td>-,-,+,-,-,-,-,-,-,-,-,-,-,-,-,+,-,-,+,+,-,-,+,...</td>\n",
       "      <td>22RV1--prostate-carcinoma-,A375--malignant-mel...</td>\n",
       "      <td>148</td>\n",
       "      <td>89</td>\n",
       "    </tr>\n",
       "  </tbody>\n",
       "</table>\n",
       "</div>"
      ],
      "text/plain": [
       "       chrom      start        end             name_gene score_gene  \\\n",
       "1523    chr1  203795453  203795794         ZBED6,ZC3H11A    298,312   \n",
       "2875   chr11   61429841   61430182  RP11-286N22.8,SDHAF2    165,490   \n",
       "14834   chr7   55951592   55951962           GBAS,MRPS17    460,549   \n",
       "\n",
       "      strand_gene                                geneID        geneType  \\\n",
       "1523            +  ENSG00000058673.16,ENSG00000257315.2  protein_coding   \n",
       "2875            +   ENSG00000167985.6,ENSG00000256591.5  protein_coding   \n",
       "14834           +   ENSG00000146729.9,ENSG00000239789.5  protein_coding   \n",
       "\n",
       "       expCount                                          expScores  \\\n",
       "1523         54  1.806,1.846,1.143,1.939,1.786,1.806,1.575,0.28...   \n",
       "2875         54  0.092,0.129,0.135,0.242,0.193,0.129,0.166,0.11...   \n",
       "14834        54  13.07,13.09,17.185,13.37,15.315,13.57,17.47,10...   \n",
       "\n",
       "                                                    tfbs  \\\n",
       "1523   SRF,SRF,CREM,JUN,THAP11,SP1,JUN,CTCF,CTCF,SPI1...   \n",
       "2875   KLF15,NR3C1,AR,TFDP1,GRHL2,ESR1,TFAP2C,TFAP2A,...   \n",
       "14834  VDR,PAX5,USF2,EGR3,EGR1,EGR2,SP4,KLF9,SP2,SP1,...   \n",
       "\n",
       "                                              start_tfbs  \\\n",
       "1523   203795531,203795531,203795537,203795538,203795...   \n",
       "2875   61429982,61429957,61429957,61429957,61429962,6...   \n",
       "14834  55951740,55951750,55951751,55951771,55951772,5...   \n",
       "\n",
       "                                                end_tfbs  \\\n",
       "1523   203795547,203795547,203795553,203795552,203795...   \n",
       "2875   61429993,61429974,61429974,61429968,61429974,6...   \n",
       "14834  55951748,55951762,55951765,55951786,55951786,5...   \n",
       "\n",
       "                                             strand_tfbs  \\\n",
       "1523   -,+,-,-,+,+,+,-,+,+,+,-,-,+,-,-,+,+,+,-,-,+,+,...   \n",
       "2875   +,+,+,+,+,+,-,+,+,+,-,+,+,+,+,+,+,+,-,+,-,-,-,...   \n",
       "14834  -,-,+,-,-,-,-,-,-,-,-,-,-,-,-,+,-,-,+,+,-,-,+,...   \n",
       "\n",
       "                                       unibin_cell_lines  tfbs_count  \\\n",
       "1523   501mel,K562,K562--myelogenous-leukemia-,melano...         162   \n",
       "2875   786-O--renal-carcinoma-,786-O--renal-carcinoma...         266   \n",
       "14834  22RV1--prostate-carcinoma-,A375--malignant-mel...         148   \n",
       "\n",
       "       tfbs_count_unique  \n",
       "1523                  83  \n",
       "2875                  99  \n",
       "14834                 89  "
      ]
     },
     "execution_count": 48,
     "metadata": {},
     "output_type": "execute_result"
    }
   ],
   "source": [
    "df_prom[df_prom.end - df_prom.start  != 200]"
   ]
  },
  {
   "cell_type": "markdown",
   "metadata": {},
   "source": [
    "## Visualisation of TFBS in Promotor regions"
   ]
  },
  {
   "cell_type": "code",
   "execution_count": null,
   "metadata": {},
   "outputs": [],
   "source": [
    "# HILFE!\n",
    "\n",
    "\n",
    "# Default\n",
    "    else:\n",
    "        c_for_merge, o_for_merge = generate_input_for_merge(prom, args.column_in_tfbs, args.column_in_prom, args.operation_for_tfbs, args.operation_for_prom)\n",
    "\n",
    "        # Considering a column in the Promotor file to merge only Promotors with same content.\n",
    "        if args.consider_field_in_prom != 0:\n",
    "            merged_BedTool = merge_bed_considering_field(BedTool=intersect, field_number=args.consider_field_in_prom, c_for_merge=c_for_merge, o_for_merge=o_for_merge)\n",
    "\n",
    "        else:\n",
    "            merged_BedTool = merge_bed(BedTool=intersect, c_for_merge=c_for_merge, o_for_merge=o_for_merge)\n",
    "\n",
    "    # Saving the intermediate BED Tool\n",
    "    merged_BedTool.saveas(f\"{args.output}/Prom_with_TFBSs_raw.bed\")\n",
    "    \n",
    "\n",
    "\n",
    "\n",
    "\n",
    "\n",
    "\n",
    "\n",
    "if __name__ == \"__main__\":\n",
    "    parser = argparse.ArgumentParser(\n",
    "                    prog = 'This Script assigns all TFBS in a BED file to genomic locations of another BED file. Specific conditions for merging can be specified.',\n",
    "                    description = \"\"\"All TFBS in first file will be intersected with region in second file. The regions will be merged under user-defined conditions. \n",
    "                     By default specific columns of the tfbs and promotor remain intact. \"\"\"   )\n",
    "    # Required\n",
    "    # Input and Output of the files:\n",
    "    parser.add_argument('-f', '--tfbs_file', required=True,\n",
    "            help='give TFBS BED file path')\n",
    "    parser.add_argument('-fb', '--intersect_file', required=True,\n",
    "            help='give BED file for intersection. Containing genomic regions e.g. promotors')\n",
    "    parser.add_argument('-out', '--output', required=True,\n",
    "            help='give output path')\n",
    "    \n",
    "    # Optional\n",
    "    # Define if known GTEx file\n",
    "    parser.add_argument('-gtex', '--gtex_as_input_file', required=False, action=\"store_true\",\n",
    "            help='If -gtex, then the -fb file will be considered as GTEx File and the input (see below) is not necessary to process it correctly.')  \n",
    "\n",
    "    # Define if it should be merged by a specific column in Prom BED file\n",
    "    parser.add_argument('-consider_field', '--consider_field_in_prom', required=False, default=0,\n",
    "                help='Specify columns from the input prom file, where the content must be the same for the promoter to be merged. Caution: RunTime, The unique values in the column may not be too many. By default (0), no column will be considerd. ')\n",
    "\n",
    "    # Input for specific columns and operation for input files, during merging.\n",
    "    parser.add_argument('-c_tfbs', '--column_in_tfbs', required=False, default=[4, 2, 3, 6],\n",
    "            help='Specify columns from the input tfbs file to operate upon (see -o_tfbs option, below). (1-based) Multiple columns can be specified in a comma-delimited list. (see bedtool merge arguments)')   \n",
    "    parser.add_argument('-o_tfbs', '--operation_for_tfbs', required=False, default=[\"collapse\",\"collapse\",\"collapse\",\"collapse\"],\n",
    "            help='Specify the operation that should be applied to -c. Multiple operations can be specified in a comma-delimited list. (see bedtool merge arguments)')\n",
    "    \n",
    "    parser.add_argument('-c_prom', '--column_in_prom', required=False, default=[4, 5, 6],\n",
    "            help='Specify columns from the input prom file to operate upon (see -o_prom option, below). (1-based) Multiple columns can be specified in a comma-delimited list. (see bedtool merge arguments)')   \n",
    "    parser.add_argument('-o_prom', '--operation_for_prom', required=False, default=[\"distinct\", \"distinct\", \"distinct\"],\n",
    "            help='Specify the operation that should be applied to -c_prom. Multiple operations can be specified in a comma-delimited list. (see bedtool merge arguments)')\n",
    "    \n",
    "\n",
    "\n",
    "    \n",
    "    args = parser.parse_args()\n",
    "    \n",
    "    main()\n"
   ]
  }
 ],
 "metadata": {
  "kernelspec": {
   "display_name": ".venv",
   "language": "python",
   "name": "python3"
  },
  "language_info": {
   "codemirror_mode": {
    "name": "ipython",
    "version": 3
   },
   "file_extension": ".py",
   "mimetype": "text/x-python",
   "name": "python",
   "nbconvert_exporter": "python",
   "pygments_lexer": "ipython3",
   "version": "3.8.10"
  }
 },
 "nbformat": 4,
 "nbformat_minor": 2
}
